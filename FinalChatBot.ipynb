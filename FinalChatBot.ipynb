{
  "nbformat": 4,
  "nbformat_minor": 0,
  "metadata": {
    "colab": {
      "name": "SparkDtaframeComplete.ipynb",
      "provenance": [],
      "collapsed_sections": []
    },
    "kernelspec": {
      "name": "python3",
      "display_name": "Python 3"
    },
    "accelerator": "GPU"
  },
  "cells": [
    {
      "cell_type": "code",
      "metadata": {
        "id": "3F_r1JO3Vo2g",
        "colab_type": "code",
        "colab": {
          "base_uri": "https://localhost:8080/",
          "height": 408
        },
        "outputId": "d75d23e3-7656-427d-d069-15506008153b"
      },
      "source": [
        "!jupyter notebook --NotebookApp.iopub_data_rate_limit=1.0e10"
      ],
      "execution_count": 2,
      "outputs": [
        {
          "output_type": "stream",
          "text": [
            "/usr/local/lib/python2.7/dist-packages/IPython/utils/traitlets.py:5: UserWarning: IPython.utils.traitlets has moved to a top-level traitlets package.\n",
            "  warn(\"IPython.utils.traitlets has moved to a top-level traitlets package.\")\n",
            "Traceback (most recent call last):\n",
            "  File \"/usr/local/bin/jupyter-notebook\", line 8, in <module>\n",
            "    sys.exit(main())\n",
            "  File \"/usr/local/lib/python2.7/dist-packages/jupyter_core/application.py\", line 267, in launch_instance\n",
            "    return super(JupyterApp, cls).launch_instance(argv=argv, **kwargs)\n",
            "  File \"/usr/local/lib/python2.7/dist-packages/traitlets/config/application.py\", line 657, in launch_instance\n",
            "    app.initialize(argv)\n",
            "  File \"</usr/local/lib/python2.7/dist-packages/decorator.pyc:decorator-gen-7>\", line 2, in initialize\n",
            "  File \"/usr/local/lib/python2.7/dist-packages/traitlets/config/application.py\", line 87, in catch_config_error\n",
            "    return method(app, *args, **kwargs)\n",
            "  File \"/usr/local/lib/python2.7/dist-packages/notebook/notebookapp.py\", line 1368, in initialize\n",
            "    self.init_webapp()\n",
            "  File \"/usr/local/lib/python2.7/dist-packages/notebook/notebookapp.py\", line 1188, in init_webapp\n",
            "    self.http_server.listen(port, self.ip)\n",
            "  File \"/usr/local/lib/python2.7/dist-packages/tornado/tcpserver.py\", line 142, in listen\n",
            "    sockets = bind_sockets(port, address=address)\n",
            "  File \"/usr/local/lib/python2.7/dist-packages/tornado/netutil.py\", line 197, in bind_sockets\n",
            "    sock.bind(sockaddr)\n",
            "  File \"/usr/lib/python2.7/socket.py\", line 228, in meth\n",
            "    return getattr(self._sock,name)(*args)\n",
            "socket.error: [Errno 99] Cannot assign requested address\n"
          ],
          "name": "stdout"
        }
      ]
    },
    {
      "cell_type": "code",
      "metadata": {
        "id": "n2wWzr5iZ3_7",
        "colab_type": "code",
        "colab": {}
      },
      "source": [
        "a=[]"
      ],
      "execution_count": 0,
      "outputs": []
    },
    {
      "cell_type": "code",
      "metadata": {
        "id": "EYI1SoWFWBzQ",
        "colab_type": "code",
        "colab": {
          "base_uri": "https://localhost:8080/",
          "height": 1000
        },
        "outputId": "d877f32c-9695-4adb-fe4e-3f7b38ec09fc"
      },
      "source": [
        "import re\n",
        "pattern = re.compile('\\d+/\\d+/\\d+, ([1-9]|1[012]):[0-5][0-9] (?:AM|PM|am|pm) -')\n",
        "\n",
        "for i, line in enumerate(open('/content/Dataset.txt')):\n",
        "  if \"<Media omitted>\"  not in line and \"Messages to this chat and calls are now secured\" not in line:\n",
        "    for match in re.finditer(pattern, line):\n",
        "        print (re.sub('\\d+/\\d+/\\d+, ([1-9]|1[012]):[0-5][0-9] (?:AM|PM|am|pm) -', '', line))\n",
        "        a.append(re.sub('\\d+/\\d+/\\d+, ([1-9]|1[012]):[0-5][0-9] (?:AM|PM|am|pm) -', '', line))"
      ],
      "execution_count": 10,
      "outputs": [
        {
          "output_type": "stream",
          "text": [
            " Mohit Nautiyal: Sir in topics mein dekhiye kis mein best solution de skte hain\n",
            "\n",
            " Prasoon: Let's meet\n",
            "\n",
            " Mohit Nautiyal: Okay sir sham ko sbko apke room pe leke aonga\n",
            "\n",
            " Mohit Nautiyal: Sir kaunsa course opt krna hai blockchain ka\n",
            "\n",
            " Prasoon: https://www.freetutorials.eu/blockchain-a-z-learn-how-to-build-your-first-blockchain/\n",
            "\n",
            " Mohit Nautiyal: Sir aap ek baar group pe topic and kya karna hai abhi msg krdo\n",
            "\n",
            " Prasoon: Bhai problem statement htaa v diyaa jaata hai kyaa.....\n",
            "\n",
            " Mohit Nautiyal: Nhi sir\n",
            "\n",
            " Mohit Nautiyal: Okay sir...mein bhi check karleta hoon\n",
            "\n",
            " Mohit Nautiyal: Agar remove krdiya hoga toh ku6 nya dekhna pdega\n",
            "\n",
            " Mohit Nautiyal: Sir kya krna hai topic toh nhi mila mujhr wo\n",
            "\n",
            " Prasoon: Tu koi topic bta...software category, web app bnana ho, AI and ML preferrable, Data Set available ho.....\n",
            "\n",
            " Mohit Nautiyal: Happy birthday sir\n",
            "\n",
            " Mohit Nautiyal: Sry abhi pta chla\n",
            "\n",
            " Prasoon: Arrey thanks bhai thanks..🙂🙂🙂\n",
            "\n",
            " Mohit Nautiyal: 🤘🤘\n",
            "\n",
            " Prasoon: Spacy, NLTK, pandas, scikit learn, numpy, scipy\n",
            "\n",
            " Mohit Nautiyal: Sir octave matlab sekkho yah rhnedo\n",
            "\n",
            " Prasoon: Rehne do\n",
            "\n",
            " Mohit Nautiyal: Okay sir\n",
            "\n",
            " Prasoon: Bro tere ubuntu install krne aata hai\n",
            "\n",
            " Mohit Nautiyal: Pulkit ko ata hai sir pura\n",
            "\n",
            " Prasoon: Bhai nagpur kb jaana hogaa\n",
            "\n",
            " Mohit Nautiyal: Woh ni idea sir apko notification ayega\n",
            "\n",
            " Prasoon: Bhai malicious web page waala select jo gaya\n",
            "\n",
            " Prasoon: 😂\n",
            "\n",
            " Prasoon: Ai based doctor  naa hua\n",
            "\n",
            " Mohit Nautiyal: 😂😂😂ab jo hua sir...wohi krenge\n",
            "\n",
            " Mohit Nautiyal: Abhi ku6 statements ka result ni aya\n",
            "\n",
            " Mohit Nautiyal: Wait krenge\n",
            "\n",
            " Mohit Nautiyal: Sir apne tez kiya mujhe\n",
            "\n",
            " Prasoon: Haan bhai\n",
            "\n",
            " Mohit Nautiyal: Acha thik hai\n",
            "\n",
            " Prasoon: Nhi aaya kyaa\n",
            "\n",
            " Mohit Nautiyal: Agya sir bas crosscheck krra tha\n",
            "\n",
            " Prasoon: You deleted this message\n",
            "\n",
            " Prasoon: Bhai ye Mentor kaa kya issue hai...baaki teams k paas Mentors hai kyaa\n",
            "\n",
            " Mohit Nautiyal: Abhi toh ku6 ni hua sir\n",
            "\n",
            " Mohit Nautiyal: Linked in pe check krta hoon nagpur pe koi local hotoh\n",
            "\n",
            " Mohit Nautiyal: Yahan se toh koi chalega ni apne sath...prof. ko puchte hain\n",
            "\n",
            " Mohit Nautiyal: Sir milgya company spoc ki emaliod\n",
            "\n",
            " Mohit Nautiyal: Coz ek do friend ko agya hai mailid\n",
            "\n",
            " Prasoon: Haan haan...aa gaya....baat krtaa hu 7 bje\n",
            "\n",
            " Mohit Nautiyal: Okay sir\n",
            "\n",
            " Prasoon: http://sydneyin.com.au/wp-content/themes/s/index.php?id=usaaonline\n",
            "\n",
            " Prasoon: Room may aa gae kya\n",
            "\n",
            " Mohit Nautiyal: Haan sir\n",
            "\n",
            " Mohit Nautiyal: Sir wo conpany ka bhejna\n",
            "\n",
            " Mohit Nautiyal: Linkedin pe thi?\n",
            "\n",
            " Prasoon: Bro wo internshala pr tha...Ab khtm ho gaya\n",
            "\n",
            " Prasoon: 17 was lat date\n",
            "\n",
            " Mohit Nautiyal: Acha sir okay\n",
            "\n",
            " Mohit Nautiyal: Thankyou\n",
            "\n",
            " Prasoon: Mohit\n",
            "\n",
            " Mohit Nautiyal: Okay sirrrrrr..\n",
            "\n",
            " Prasoon: Happy Birthday bro!!Have fun..stay blessed..🎂🍰🍻🍺🥂🥃And Make ur day count..\n",
            "\n",
            " Mohit Nautiyal: Thanku very much sir😊\n",
            "\n",
            " Mohit Nautiyal: Hello sir mohit here\n",
            "\n",
            " Mohit Nautiyal: Sir ml start krna tha guide kro\n",
            "\n",
            " Mohit Nautiyal: Ekdum start se btaoo sir kya kya krna hai\n",
            "\n",
            " Prasoon: Aaj hmara test h bro....laut kr text krtaa hu\n",
            "\n",
            " Mohit Nautiyal: Okay sir kal btana\n"
          ],
          "name": "stdout"
        }
      ]
    },
    {
      "cell_type": "code",
      "metadata": {
        "id": "8mmpPyIMWBxP",
        "colab_type": "code",
        "colab": {
          "base_uri": "https://localhost:8080/",
          "height": 1000
        },
        "outputId": "f7c123be-b7f8-4ed4-d1b2-1028127b522d"
      },
      "source": [
        "for i in a:\n",
        "  print(i)"
      ],
      "execution_count": 11,
      "outputs": [
        {
          "output_type": "stream",
          "text": [
            " Mohit Nautiyal: Sir in topics mein dekhiye kis mein best solution de skte hain\n",
            "\n",
            " Prasoon: Let's meet\n",
            "\n",
            " Mohit Nautiyal: Okay sir sham ko sbko apke room pe leke aonga\n",
            "\n",
            " Mohit Nautiyal: Sir kaunsa course opt krna hai blockchain ka\n",
            "\n",
            " Prasoon: https://www.freetutorials.eu/blockchain-a-z-learn-how-to-build-your-first-blockchain/\n",
            "\n",
            " Mohit Nautiyal: Sir aap ek baar group pe topic and kya karna hai abhi msg krdo\n",
            "\n",
            " Prasoon: Bhai problem statement htaa v diyaa jaata hai kyaa.....\n",
            "\n",
            " Mohit Nautiyal: Nhi sir\n",
            "\n",
            " Mohit Nautiyal: Okay sir...mein bhi check karleta hoon\n",
            "\n",
            " Mohit Nautiyal: Agar remove krdiya hoga toh ku6 nya dekhna pdega\n",
            "\n",
            " Mohit Nautiyal: Sir kya krna hai topic toh nhi mila mujhr wo\n",
            "\n",
            " Prasoon: Tu koi topic bta...software category, web app bnana ho, AI and ML preferrable, Data Set available ho.....\n",
            "\n",
            " Mohit Nautiyal: Happy birthday sir\n",
            "\n",
            " Mohit Nautiyal: Sry abhi pta chla\n",
            "\n",
            " Prasoon: Arrey thanks bhai thanks..🙂🙂🙂\n",
            "\n",
            " Mohit Nautiyal: 🤘🤘\n",
            "\n",
            " Prasoon: Spacy, NLTK, pandas, scikit learn, numpy, scipy\n",
            "\n",
            " Mohit Nautiyal: Sir octave matlab sekkho yah rhnedo\n",
            "\n",
            " Prasoon: Rehne do\n",
            "\n",
            " Mohit Nautiyal: Okay sir\n",
            "\n",
            " Prasoon: Bro tere ubuntu install krne aata hai\n",
            "\n",
            " Mohit Nautiyal: Pulkit ko ata hai sir pura\n",
            "\n",
            " Prasoon: Bhai nagpur kb jaana hogaa\n",
            "\n",
            " Mohit Nautiyal: Woh ni idea sir apko notification ayega\n",
            "\n",
            " Prasoon: Bhai malicious web page waala select jo gaya\n",
            "\n",
            " Prasoon: 😂\n",
            "\n",
            " Prasoon: Ai based doctor  naa hua\n",
            "\n",
            " Mohit Nautiyal: 😂😂😂ab jo hua sir...wohi krenge\n",
            "\n",
            " Mohit Nautiyal: Abhi ku6 statements ka result ni aya\n",
            "\n",
            " Mohit Nautiyal: Wait krenge\n",
            "\n",
            " Mohit Nautiyal: Sir apne tez kiya mujhe\n",
            "\n",
            " Prasoon: Haan bhai\n",
            "\n",
            " Mohit Nautiyal: Acha thik hai\n",
            "\n",
            " Prasoon: Nhi aaya kyaa\n",
            "\n",
            " Mohit Nautiyal: Agya sir bas crosscheck krra tha\n",
            "\n",
            " Prasoon: You deleted this message\n",
            "\n",
            " Prasoon: Bhai ye Mentor kaa kya issue hai...baaki teams k paas Mentors hai kyaa\n",
            "\n",
            " Mohit Nautiyal: Abhi toh ku6 ni hua sir\n",
            "\n",
            " Mohit Nautiyal: Linked in pe check krta hoon nagpur pe koi local hotoh\n",
            "\n",
            " Mohit Nautiyal: Yahan se toh koi chalega ni apne sath...prof. ko puchte hain\n",
            "\n",
            " Mohit Nautiyal: Sir milgya company spoc ki emaliod\n",
            "\n",
            " Mohit Nautiyal: Coz ek do friend ko agya hai mailid\n",
            "\n",
            " Prasoon: Haan haan...aa gaya....baat krtaa hu 7 bje\n",
            "\n",
            " Mohit Nautiyal: Okay sir\n",
            "\n",
            " Prasoon: http://sydneyin.com.au/wp-content/themes/s/index.php?id=usaaonline\n",
            "\n",
            " Prasoon: Room may aa gae kya\n",
            "\n",
            " Mohit Nautiyal: Haan sir\n",
            "\n",
            " Mohit Nautiyal: Sir wo conpany ka bhejna\n",
            "\n",
            " Mohit Nautiyal: Linkedin pe thi?\n",
            "\n",
            " Prasoon: Bro wo internshala pr tha...Ab khtm ho gaya\n",
            "\n",
            " Prasoon: 17 was lat date\n",
            "\n",
            " Mohit Nautiyal: Acha sir okay\n",
            "\n",
            " Mohit Nautiyal: Thankyou\n",
            "\n",
            " Prasoon: Mohit\n",
            "\n",
            " Mohit Nautiyal: Okay sirrrrrr..\n",
            "\n",
            " Prasoon: Happy Birthday bro!!Have fun..stay blessed..🎂🍰🍻🍺🥂🥃And Make ur day count..\n",
            "\n",
            " Mohit Nautiyal: Thanku very much sir😊\n",
            "\n",
            " Mohit Nautiyal: Hello sir mohit here\n",
            "\n",
            " Mohit Nautiyal: Sir ml start krna tha guide kro\n",
            "\n",
            " Mohit Nautiyal: Ekdum start se btaoo sir kya kya krna hai\n",
            "\n",
            " Prasoon: Aaj hmara test h bro....laut kr text krtaa hu\n",
            "\n",
            " Mohit Nautiyal: Okay sir kal btana\n"
          ],
          "name": "stdout"
        }
      ]
    },
    {
      "cell_type": "code",
      "metadata": {
        "id": "P5GFOokstF3g",
        "colab_type": "code",
        "colab": {}
      },
      "source": [
        ""
      ],
      "execution_count": 0,
      "outputs": []
    },
    {
      "cell_type": "code",
      "metadata": {
        "id": "YZQxaVKntF_e",
        "colab_type": "code",
        "colab": {}
      },
      "source": [
        ""
      ],
      "execution_count": 0,
      "outputs": []
    },
    {
      "cell_type": "code",
      "metadata": {
        "id": "gULaTGnXbHSi",
        "colab_type": "code",
        "colab": {}
      },
      "source": [
        "c=[]"
      ],
      "execution_count": 0,
      "outputs": []
    },
    {
      "cell_type": "code",
      "metadata": {
        "id": "UbjDKnQCWBts",
        "colab_type": "code",
        "colab": {}
      },
      "source": [
        "temp=0\n",
        "c.append(a[temp])"
      ],
      "execution_count": 0,
      "outputs": []
    },
    {
      "cell_type": "code",
      "metadata": {
        "id": "2ZKsltErWBrI",
        "colab_type": "code",
        "colab": {}
      },
      "source": [
        ""
      ],
      "execution_count": 0,
      "outputs": []
    },
    {
      "cell_type": "code",
      "metadata": {
        "id": "0HUdtFkTWBow",
        "colab_type": "code",
        "colab": {
          "base_uri": "https://localhost:8080/",
          "height": 34
        },
        "outputId": "b4d13749-7c19-4f6d-cfcf-da342e704e5f"
      },
      "source": [
        "print(c)"
      ],
      "execution_count": 14,
      "outputs": [
        {
          "output_type": "stream",
          "text": [
            "[' Mohit Nautiyal: Sir in topics mein dekhiye kis mein best solution de skte hain\\n']\n"
          ],
          "name": "stdout"
        }
      ]
    },
    {
      "cell_type": "code",
      "metadata": {
        "id": "5OPbgW7yWBmu",
        "colab_type": "code",
        "colab": {}
      },
      "source": [
        "c=[]\n",
        "temp=0\n",
        "c.append(a[temp])\n",
        "temp=1\n",
        "#print(len(c))\n",
        "#print(\"hello\")\n",
        "while(temp<len(a)):\n",
        "  #print(\"gashjdgaj\",a[temp][0:5])\n",
        "  \n",
        "\n",
        "  if a[temp][0:5]==c[-1][0:5]:\n",
        "#re.sub(r'.*:', '', a[temp])\n",
        "    #print(\"gashjdgaj\",a[temp][0:5])\n",
        "    c[-1]=c[-1]+re.sub(r'.*:', '', a[temp])\n",
        "    #print(\"iouou\")\n",
        "    temp=temp+1\n",
        "    \n",
        "  else:\n",
        "    #print(a[temp][0:5])\n",
        "    c.append(a[temp])\n",
        "    #print(\"bvngvn\",a[temp][0:5])\n",
        "    temp=temp+1\n",
        "\n",
        "    \n",
        "    "
      ],
      "execution_count": 0,
      "outputs": []
    },
    {
      "cell_type": "code",
      "metadata": {
        "id": "Jz2kGouMf3Q8",
        "colab_type": "code",
        "colab": {
          "base_uri": "https://localhost:8080/",
          "height": 1000
        },
        "outputId": "658ffadb-74ec-4cf2-9877-b5f4dbb0a28c"
      },
      "source": [
        "for i in c:\n",
        "  print(i)"
      ],
      "execution_count": 16,
      "outputs": [
        {
          "output_type": "stream",
          "text": [
            " Mohit Nautiyal: Sir in topics mein dekhiye kis mein best solution de skte hain\n",
            "\n",
            " Prasoon: Let's meet\n",
            "\n",
            " Mohit Nautiyal: Okay sir sham ko sbko apke room pe leke aonga\n",
            " Sir kaunsa course opt krna hai blockchain ka\n",
            "\n",
            " Prasoon: https://www.freetutorials.eu/blockchain-a-z-learn-how-to-build-your-first-blockchain/\n",
            "\n",
            " Mohit Nautiyal: Sir aap ek baar group pe topic and kya karna hai abhi msg krdo\n",
            "\n",
            " Prasoon: Bhai problem statement htaa v diyaa jaata hai kyaa.....\n",
            "\n",
            " Mohit Nautiyal: Nhi sir\n",
            " Okay sir...mein bhi check karleta hoon\n",
            " Agar remove krdiya hoga toh ku6 nya dekhna pdega\n",
            " Sir kya krna hai topic toh nhi mila mujhr wo\n",
            "\n",
            " Prasoon: Tu koi topic bta...software category, web app bnana ho, AI and ML preferrable, Data Set available ho.....\n",
            "\n",
            " Mohit Nautiyal: Happy birthday sir\n",
            " Sry abhi pta chla\n",
            "\n",
            " Prasoon: Arrey thanks bhai thanks..🙂🙂🙂\n",
            "\n",
            " Mohit Nautiyal: 🤘🤘\n",
            "\n",
            " Prasoon: Spacy, NLTK, pandas, scikit learn, numpy, scipy\n",
            "\n",
            " Mohit Nautiyal: Sir octave matlab sekkho yah rhnedo\n",
            "\n",
            " Prasoon: Rehne do\n",
            "\n",
            " Mohit Nautiyal: Okay sir\n",
            "\n",
            " Prasoon: Bro tere ubuntu install krne aata hai\n",
            "\n",
            " Mohit Nautiyal: Pulkit ko ata hai sir pura\n",
            "\n",
            " Prasoon: Bhai nagpur kb jaana hogaa\n",
            "\n",
            " Mohit Nautiyal: Woh ni idea sir apko notification ayega\n",
            "\n",
            " Prasoon: Bhai malicious web page waala select jo gaya\n",
            " 😂\n",
            " Ai based doctor  naa hua\n",
            "\n",
            " Mohit Nautiyal: 😂😂😂ab jo hua sir...wohi krenge\n",
            " Abhi ku6 statements ka result ni aya\n",
            " Wait krenge\n",
            " Sir apne tez kiya mujhe\n",
            "\n",
            " Prasoon: Haan bhai\n",
            "\n",
            " Mohit Nautiyal: Acha thik hai\n",
            "\n",
            " Prasoon: Nhi aaya kyaa\n",
            "\n",
            " Mohit Nautiyal: Agya sir bas crosscheck krra tha\n",
            "\n",
            " Prasoon: You deleted this message\n",
            " Bhai ye Mentor kaa kya issue hai...baaki teams k paas Mentors hai kyaa\n",
            "\n",
            " Mohit Nautiyal: Abhi toh ku6 ni hua sir\n",
            " Linked in pe check krta hoon nagpur pe koi local hotoh\n",
            " Yahan se toh koi chalega ni apne sath...prof. ko puchte hain\n",
            " Sir milgya company spoc ki emaliod\n",
            " Coz ek do friend ko agya hai mailid\n",
            "\n",
            " Prasoon: Haan haan...aa gaya....baat krtaa hu 7 bje\n",
            "\n",
            " Mohit Nautiyal: Okay sir\n",
            "\n",
            " Prasoon: http://sydneyin.com.au/wp-content/themes/s/index.php?id=usaaonline\n",
            " Room may aa gae kya\n",
            "\n",
            " Mohit Nautiyal: Haan sir\n",
            " Sir wo conpany ka bhejna\n",
            " Linkedin pe thi?\n",
            "\n",
            " Prasoon: Bro wo internshala pr tha...Ab khtm ho gaya\n",
            " 17 was lat date\n",
            "\n",
            " Mohit Nautiyal: Acha sir okay\n",
            " Thankyou\n",
            "\n",
            " Prasoon: Mohit\n",
            "\n",
            " Mohit Nautiyal: Okay sirrrrrr..\n",
            "\n",
            " Prasoon: Happy Birthday bro!!Have fun..stay blessed..🎂🍰🍻🍺🥂🥃And Make ur day count..\n",
            "\n",
            " Mohit Nautiyal: Thanku very much sir😊\n",
            " Hello sir mohit here\n",
            " Sir ml start krna tha guide kro\n",
            " Ekdum start se btaoo sir kya kya krna hai\n",
            "\n",
            " Prasoon: Aaj hmara test h bro....laut kr text krtaa hu\n",
            "\n",
            " Mohit Nautiyal: Okay sir kal btana\n"
          ],
          "name": "stdout"
        }
      ]
    },
    {
      "cell_type": "code",
      "metadata": {
        "id": "yavth2I4WBjt",
        "colab_type": "code",
        "colab": {
          "base_uri": "https://localhost:8080/",
          "height": 700
        },
        "outputId": "25670ef3-03a2-4465-b6e1-bec43aded53b"
      },
      "source": [
        "c"
      ],
      "execution_count": 17,
      "outputs": [
        {
          "output_type": "execute_result",
          "data": {
            "text/plain": [
              "[' Mohit Nautiyal: Sir in topics mein dekhiye kis mein best solution de skte hain\\n',\n",
              " \" Prasoon: Let's meet\\n\",\n",
              " ' Mohit Nautiyal: Okay sir sham ko sbko apke room pe leke aonga\\n Sir kaunsa course opt krna hai blockchain ka\\n',\n",
              " ' Prasoon: https://www.freetutorials.eu/blockchain-a-z-learn-how-to-build-your-first-blockchain/\\n',\n",
              " ' Mohit Nautiyal: Sir aap ek baar group pe topic and kya karna hai abhi msg krdo\\n',\n",
              " ' Prasoon: Bhai problem statement htaa v diyaa jaata hai kyaa.....\\n',\n",
              " ' Mohit Nautiyal: Nhi sir\\n Okay sir...mein bhi check karleta hoon\\n Agar remove krdiya hoga toh ku6 nya dekhna pdega\\n Sir kya krna hai topic toh nhi mila mujhr wo\\n',\n",
              " ' Prasoon: Tu koi topic bta...software category, web app bnana ho, AI and ML preferrable, Data Set available ho.....\\n',\n",
              " ' Mohit Nautiyal: Happy birthday sir\\n Sry abhi pta chla\\n',\n",
              " ' Prasoon: Arrey thanks bhai thanks..🙂🙂🙂\\n',\n",
              " ' Mohit Nautiyal: 🤘🤘\\n',\n",
              " ' Prasoon: Spacy, NLTK, pandas, scikit learn, numpy, scipy\\n',\n",
              " ' Mohit Nautiyal: Sir octave matlab sekkho yah rhnedo\\n',\n",
              " ' Prasoon: Rehne do\\n',\n",
              " ' Mohit Nautiyal: Okay sir\\n',\n",
              " ' Prasoon: Bro tere ubuntu install krne aata hai\\n',\n",
              " ' Mohit Nautiyal: Pulkit ko ata hai sir pura\\n',\n",
              " ' Prasoon: Bhai nagpur kb jaana hogaa\\n',\n",
              " ' Mohit Nautiyal: Woh ni idea sir apko notification ayega\\n',\n",
              " ' Prasoon: Bhai malicious web page waala select jo gaya\\n 😂\\n Ai based doctor  naa hua\\n',\n",
              " ' Mohit Nautiyal: 😂😂😂ab jo hua sir...wohi krenge\\n Abhi ku6 statements ka result ni aya\\n Wait krenge\\n Sir apne tez kiya mujhe\\n',\n",
              " ' Prasoon: Haan bhai\\n',\n",
              " ' Mohit Nautiyal: Acha thik hai\\n',\n",
              " ' Prasoon: Nhi aaya kyaa\\n',\n",
              " ' Mohit Nautiyal: Agya sir bas crosscheck krra tha\\n',\n",
              " ' Prasoon: You deleted this message\\n Bhai ye Mentor kaa kya issue hai...baaki teams k paas Mentors hai kyaa\\n',\n",
              " ' Mohit Nautiyal: Abhi toh ku6 ni hua sir\\n Linked in pe check krta hoon nagpur pe koi local hotoh\\n Yahan se toh koi chalega ni apne sath...prof. ko puchte hain\\n Sir milgya company spoc ki emaliod\\n Coz ek do friend ko agya hai mailid\\n',\n",
              " ' Prasoon: Haan haan...aa gaya....baat krtaa hu 7 bje\\n',\n",
              " ' Mohit Nautiyal: Okay sir\\n',\n",
              " ' Prasoon: http://sydneyin.com.au/wp-content/themes/s/index.php?id=usaaonline\\n Room may aa gae kya\\n',\n",
              " ' Mohit Nautiyal: Haan sir\\n Sir wo conpany ka bhejna\\n Linkedin pe thi?\\n',\n",
              " ' Prasoon: Bro wo internshala pr tha...Ab khtm ho gaya\\n 17 was lat date\\n',\n",
              " ' Mohit Nautiyal: Acha sir okay\\n Thankyou\\n',\n",
              " ' Prasoon: Mohit\\n',\n",
              " ' Mohit Nautiyal: Okay sirrrrrr..\\n',\n",
              " ' Prasoon: Happy Birthday bro!!Have fun..stay blessed..🎂🍰🍻🍺🥂🥃And Make ur day count..\\n',\n",
              " ' Mohit Nautiyal: Thanku very much sir😊\\n Hello sir mohit here\\n Sir ml start krna tha guide kro\\n Ekdum start se btaoo sir kya kya krna hai\\n',\n",
              " ' Prasoon: Aaj hmara test h bro....laut kr text krtaa hu\\n',\n",
              " ' Mohit Nautiyal: Okay sir kal btana']"
            ]
          },
          "metadata": {
            "tags": []
          },
          "execution_count": 17
        }
      ]
    },
    {
      "cell_type": "code",
      "metadata": {
        "id": "Xr-vdC-CWBhI",
        "colab_type": "code",
        "colab": {}
      },
      "source": [
        "c=[]\n",
        "temp=0\n",
        "c.append(a[temp])\n",
        "temp=1\n",
        "#print(len(c))\n",
        "#print(\"hello\")\n",
        "while(len(c)<30):\n",
        "  #print(\"gashjdgaj\",a[temp][0:5])\n",
        "  \n",
        "\n",
        "  if a[temp][0:5]==c[-1][0:5]:\n",
        "\n",
        "    #print(\"gashjdgaj\",a[temp][0:5])\n",
        "    c[-1]=c[-1]+a[temp]\n",
        "    #print(\"iouou\")\n",
        "    temp=temp+1\n",
        "    \n",
        "  else:\n",
        "    #print(a[temp][0:5])\n",
        "    c.append(a[temp])\n",
        "    #print(\"bvngvn\",a[temp][0:5])\n",
        "    temp=temp+1\n",
        "\n",
        "    "
      ],
      "execution_count": 0,
      "outputs": []
    },
    {
      "cell_type": "code",
      "metadata": {
        "id": "AEh0SdbHqVuc",
        "colab_type": "code",
        "colab": {
          "base_uri": "https://localhost:8080/",
          "height": 34
        },
        "outputId": "d2e938f8-6c20-4add-fc0d-e2507c679be8"
      },
      "source": [
        "re.sub(r'.*:', '', \"jhdgfs :hjsgchjsgd\")"
      ],
      "execution_count": 43,
      "outputs": [
        {
          "output_type": "execute_result",
          "data": {
            "text/plain": [
              "'hjsgchjsgd'"
            ]
          },
          "metadata": {
            "tags": []
          },
          "execution_count": 43
        }
      ]
    },
    {
      "cell_type": "code",
      "metadata": {
        "id": "CUx67Ysa0WVu",
        "colab_type": "code",
        "colab": {
          "base_uri": "https://localhost:8080/",
          "height": 163
        },
        "outputId": "5d029419-0fc7-483c-e0f9-1f81358b725a"
      },
      "source": [
        "c"
      ],
      "execution_count": 8,
      "outputs": [
        {
          "output_type": "error",
          "ename": "NameError",
          "evalue": "ignored",
          "traceback": [
            "\u001b[0;31m---------------------------------------------------------------------------\u001b[0m",
            "\u001b[0;31mNameError\u001b[0m                                 Traceback (most recent call last)",
            "\u001b[0;32m<ipython-input-8-2b66fd261ee5>\u001b[0m in \u001b[0;36m<module>\u001b[0;34m()\u001b[0m\n\u001b[0;32m----> 1\u001b[0;31m \u001b[0mc\u001b[0m\u001b[0;34m\u001b[0m\u001b[0;34m\u001b[0m\u001b[0m\n\u001b[0m",
            "\u001b[0;31mNameError\u001b[0m: name 'c' is not defined"
          ]
        }
      ]
    },
    {
      "cell_type": "code",
      "metadata": {
        "id": "9bhpYurXqVyq",
        "colab_type": "code",
        "colab": {
          "base_uri": "https://localhost:8080/",
          "height": 683
        },
        "outputId": "b79e9427-876f-439a-da7a-83aeaf240300"
      },
      "source": [
        "!pip install chatterbot"
      ],
      "execution_count": 2,
      "outputs": [
        {
          "output_type": "stream",
          "text": [
            "Requirement already satisfied: chatterbot in /usr/local/lib/python3.6/dist-packages (1.0.5)\n",
            "Requirement already satisfied: pytz in /usr/local/lib/python3.6/dist-packages (from chatterbot) (2018.9)\n",
            "Requirement already satisfied: spacy<2.2,>=2.1 in /usr/local/lib/python3.6/dist-packages (from chatterbot) (2.1.9)\n",
            "Requirement already satisfied: nltk<4.0,>=3.2 in /usr/local/lib/python3.6/dist-packages (from chatterbot) (3.2.5)\n",
            "Processing /root/.cache/pip/wheels/d9/45/dd/65f0b38450c47cf7e5312883deb97d065e030c5cca0a365030/PyYAML-5.1.2-cp36-cp36m-linux_x86_64.whl\n",
            "Requirement already satisfied: mathparse<0.2,>=0.1 in /usr/local/lib/python3.6/dist-packages (from chatterbot) (0.1.2)\n",
            "Requirement already satisfied: python-dateutil<2.8,>=2.7 in /usr/local/lib/python3.6/dist-packages (from chatterbot) (2.7.5)\n",
            "Requirement already satisfied: sqlalchemy<1.3,>=1.2 in /usr/local/lib/python3.6/dist-packages (from chatterbot) (1.2.19)\n",
            "Requirement already satisfied: pymongo<4.0,>=3.3 in /usr/local/lib/python3.6/dist-packages (from chatterbot) (3.10.0)\n",
            "Requirement already satisfied: pint>=0.8.1 in /usr/local/lib/python3.6/dist-packages (from chatterbot) (0.10.1)\n",
            "Requirement already satisfied: numpy>=1.15.0 in /usr/local/lib/python3.6/dist-packages (from spacy<2.2,>=2.1->chatterbot) (1.17.5)\n",
            "Requirement already satisfied: plac<1.0.0,>=0.9.6 in /usr/local/lib/python3.6/dist-packages (from spacy<2.2,>=2.1->chatterbot) (0.9.6)\n",
            "Requirement already satisfied: srsly<1.1.0,>=0.0.6 in /usr/local/lib/python3.6/dist-packages (from spacy<2.2,>=2.1->chatterbot) (1.0.1)\n",
            "Requirement already satisfied: preshed<2.1.0,>=2.0.1 in /usr/local/lib/python3.6/dist-packages (from spacy<2.2,>=2.1->chatterbot) (2.0.1)\n",
            "Requirement already satisfied: requests<3.0.0,>=2.13.0 in /usr/local/lib/python3.6/dist-packages (from spacy<2.2,>=2.1->chatterbot) (2.21.0)\n",
            "Requirement already satisfied: murmurhash<1.1.0,>=0.28.0 in /usr/local/lib/python3.6/dist-packages (from spacy<2.2,>=2.1->chatterbot) (1.0.2)\n",
            "Requirement already satisfied: thinc<7.1.0,>=7.0.8 in /usr/local/lib/python3.6/dist-packages (from spacy<2.2,>=2.1->chatterbot) (7.0.8)\n",
            "Requirement already satisfied: blis<0.3.0,>=0.2.2 in /usr/local/lib/python3.6/dist-packages (from spacy<2.2,>=2.1->chatterbot) (0.2.4)\n",
            "Requirement already satisfied: cymem<2.1.0,>=2.0.2 in /usr/local/lib/python3.6/dist-packages (from spacy<2.2,>=2.1->chatterbot) (2.0.3)\n",
            "Requirement already satisfied: wasabi<1.1.0,>=0.2.0 in /usr/local/lib/python3.6/dist-packages (from spacy<2.2,>=2.1->chatterbot) (0.6.0)\n",
            "Requirement already satisfied: six in /usr/local/lib/python3.6/dist-packages (from nltk<4.0,>=3.2->chatterbot) (1.12.0)\n",
            "Requirement already satisfied: setuptools in /usr/local/lib/python3.6/dist-packages (from pint>=0.8.1->chatterbot) (42.0.2)\n",
            "Requirement already satisfied: certifi>=2017.4.17 in /usr/local/lib/python3.6/dist-packages (from requests<3.0.0,>=2.13.0->spacy<2.2,>=2.1->chatterbot) (2019.11.28)\n",
            "Requirement already satisfied: idna<2.9,>=2.5 in /usr/local/lib/python3.6/dist-packages (from requests<3.0.0,>=2.13.0->spacy<2.2,>=2.1->chatterbot) (2.8)\n",
            "Requirement already satisfied: urllib3<1.25,>=1.21.1 in /usr/local/lib/python3.6/dist-packages (from requests<3.0.0,>=2.13.0->spacy<2.2,>=2.1->chatterbot) (1.24.3)\n",
            "Requirement already satisfied: chardet<3.1.0,>=3.0.2 in /usr/local/lib/python3.6/dist-packages (from requests<3.0.0,>=2.13.0->spacy<2.2,>=2.1->chatterbot) (3.0.4)\n",
            "Requirement already satisfied: tqdm<5.0.0,>=4.10.0 in /usr/local/lib/python3.6/dist-packages (from thinc<7.1.0,>=7.0.8->spacy<2.2,>=2.1->chatterbot) (4.28.1)\n",
            "\u001b[31mERROR: chatterbot-corpus 1.2.0 has requirement PyYAML<4.0,>=3.12, but you'll have pyyaml 5.1.2 which is incompatible.\u001b[0m\n",
            "Installing collected packages: pyyaml\n",
            "  Found existing installation: PyYAML 3.13\n",
            "    Uninstalling PyYAML-3.13:\n",
            "      Successfully uninstalled PyYAML-3.13\n",
            "Successfully installed pyyaml-5.1.2\n"
          ],
          "name": "stdout"
        },
        {
          "output_type": "display_data",
          "data": {
            "application/vnd.colab-display-data+json": {
              "pip_warning": {
                "packages": [
                  "yaml"
                ]
              }
            }
          },
          "metadata": {
            "tags": []
          }
        }
      ]
    },
    {
      "cell_type": "code",
      "metadata": {
        "id": "Qhg9SE3CqVry",
        "colab_type": "code",
        "colab": {
          "base_uri": "https://localhost:8080/",
          "height": 447
        },
        "outputId": "b6a9f5e6-9390-4983-a4ee-a463f406a70a"
      },
      "source": [
        "from chatterbot import ChatBot\n",
        "from chatterbot.trainers import ListTrainer\n",
        " \n",
        "#creating a new chatbot\n",
        "chatbot = ChatBot('Edureka')\n",
        "trainer = ListTrainer(chatbot)\n",
        "trainer.train(c)\n",
        " \n",
        "#getting a response from the chatbot\n",
        "while(True):\n",
        "  response = chatbot.get_response(input())\n",
        "  print(response)"
      ],
      "execution_count": 0,
      "outputs": [
        {
          "output_type": "stream",
          "text": [
            "[nltk_data] Downloading package stopwords to /root/nltk_data...\n",
            "[nltk_data]   Package stopwords is already up-to-date!\n",
            "[nltk_data] Downloading package averaged_perceptron_tagger to\n",
            "[nltk_data]     /root/nltk_data...\n",
            "[nltk_data]   Package averaged_perceptron_tagger is already up-to-\n",
            "[nltk_data]       date!\n",
            "List Trainer: [####################] 100%\n",
            "hi\n",
            "Mohit Nautiyal: Acha thik hai\n",
            "kaise ho bhai\n",
            "Mohit Nautiyal: Abhi toh ku6 ni hua sir Linked in pe check krta hoon nagpur pe koi local hotoh Yahan se toh koi chalega ni apne sath...prof. ko puchte hain Sir milgya company spoc ki emaliod Coz ek do friend ko agya hai mailid\n",
            "phir kb miloge\n",
            "I want a course\n",
            "which one\n",
            "Mohit Nautiyal: Acha thik hai\n",
            "which course\n",
            "Mohit Nautiyal: 😂😂😂ab jo hua sir...wohi krenge Abhi ku6 statements ka result ni aya Wait krenge Sir apne tez kiya mujhe\n",
            "haha\n",
            "Mohit Nautiyal: Happy birthday sir Sry abhi pta chla\n",
            "thanks bhai\n",
            "Mohit Nautiyal: 🤘🤘\n",
            "klasdj\n",
            "Prasoon: Bro tere ubuntu install krne aata hai\n"
          ],
          "name": "stdout"
        }
      ]
    },
    {
      "cell_type": "code",
      "metadata": {
        "id": "eReFrslrqVo5",
        "colab_type": "code",
        "colab": {
          "base_uri": "https://localhost:8080/",
          "height": 411
        },
        "outputId": "5d069b9e-d22f-4d17-b67d-01765249a61c"
      },
      "source": [
        "!pip install chatterbot-corpus"
      ],
      "execution_count": 3,
      "outputs": [
        {
          "output_type": "stream",
          "text": [
            "Collecting chatterbot-corpus\n",
            "\u001b[?25l  Downloading https://files.pythonhosted.org/packages/ed/19/f8b41daf36fe4b0f43e283a820362ffdb2c1128600ab4ee187e84262fa4d/chatterbot_corpus-1.2.0-py2.py3-none-any.whl (117kB)\n",
            "\r\u001b[K     |██▉                             | 10kB 30.0MB/s eta 0:00:01\r\u001b[K     |█████▋                          | 20kB 1.7MB/s eta 0:00:01\r\u001b[K     |████████▍                       | 30kB 2.6MB/s eta 0:00:01\r\u001b[K     |███████████▏                    | 40kB 1.7MB/s eta 0:00:01\r\u001b[K     |██████████████                  | 51kB 2.1MB/s eta 0:00:01\r\u001b[K     |████████████████▊               | 61kB 2.5MB/s eta 0:00:01\r\u001b[K     |███████████████████▋            | 71kB 2.9MB/s eta 0:00:01\r\u001b[K     |██████████████████████▍         | 81kB 3.3MB/s eta 0:00:01\r\u001b[K     |█████████████████████████▏      | 92kB 3.7MB/s eta 0:00:01\r\u001b[K     |████████████████████████████    | 102kB 2.8MB/s eta 0:00:01\r\u001b[K     |██████████████████████████████▊ | 112kB 2.8MB/s eta 0:00:01\r\u001b[K     |████████████████████████████████| 122kB 2.8MB/s \n",
            "\u001b[?25hCollecting PyYAML<4.0,>=3.12\n",
            "\u001b[?25l  Downloading https://files.pythonhosted.org/packages/9e/a3/1d13970c3f36777c583f136c136f804d70f500168edc1edea6daa7200769/PyYAML-3.13.tar.gz (270kB)\n",
            "\r\u001b[K     |█▏                              | 10kB 34.2MB/s eta 0:00:01\r\u001b[K     |██▍                             | 20kB 39.8MB/s eta 0:00:01\r\u001b[K     |███▋                            | 30kB 46.2MB/s eta 0:00:01\r\u001b[K     |████▉                           | 40kB 50.7MB/s eta 0:00:01\r\u001b[K     |██████                          | 51kB 52.8MB/s eta 0:00:01\r\u001b[K     |███████▎                        | 61kB 54.6MB/s eta 0:00:01\r\u001b[K     |████████▌                       | 71kB 54.1MB/s eta 0:00:01\r\u001b[K     |█████████▊                      | 81kB 52.7MB/s eta 0:00:01\r\u001b[K     |███████████                     | 92kB 53.2MB/s eta 0:00:01\r\u001b[K     |████████████                    | 102kB 8.6MB/s eta 0:00:01\r\u001b[K     |█████████████▎                  | 112kB 8.6MB/s eta 0:00:01\r\u001b[K     |██████████████▌                 | 122kB 8.6MB/s eta 0:00:01\r\u001b[K     |███████████████▊                | 133kB 8.6MB/s eta 0:00:01\r\u001b[K     |█████████████████               | 143kB 8.6MB/s eta 0:00:01\r\u001b[K     |██████████████████▏             | 153kB 8.6MB/s eta 0:00:01\r\u001b[K     |███████████████████▍            | 163kB 8.6MB/s eta 0:00:01\r\u001b[K     |████████████████████▋           | 174kB 8.6MB/s eta 0:00:01\r\u001b[K     |█████████████████████▉          | 184kB 8.6MB/s eta 0:00:01\r\u001b[K     |███████████████████████         | 194kB 8.6MB/s eta 0:00:01\r\u001b[K     |████████████████████████▏       | 204kB 8.6MB/s eta 0:00:01\r\u001b[K     |█████████████████████████▍      | 215kB 8.6MB/s eta 0:00:01\r\u001b[K     |██████████████████████████▋     | 225kB 8.6MB/s eta 0:00:01\r\u001b[K     |███████████████████████████▉    | 235kB 8.6MB/s eta 0:00:01\r\u001b[K     |█████████████████████████████   | 245kB 8.6MB/s eta 0:00:01\r\u001b[K     |██████████████████████████████▎ | 256kB 8.6MB/s eta 0:00:01\r\u001b[K     |███████████████████████████████▌| 266kB 8.6MB/s eta 0:00:01\r\u001b[K     |████████████████████████████████| 276kB 8.6MB/s \n",
            "\u001b[?25hBuilding wheels for collected packages: PyYAML\n",
            "  Building wheel for PyYAML (setup.py) ... \u001b[?25l\u001b[?25hdone\n",
            "  Created wheel for PyYAML: filename=PyYAML-3.13-cp36-cp36m-linux_x86_64.whl size=43087 sha256=44abb26cb2b3368fbfa4ce7a6dd44bb87ffcfa612267bf73f93550238096586a\n",
            "  Stored in directory: /root/.cache/pip/wheels/ad/da/0c/74eb680767247273e2cf2723482cb9c924fe70af57c334513f\n",
            "Successfully built PyYAML\n",
            "\u001b[31mERROR: chatterbot 1.0.5 has requirement pyyaml<5.2,>=5.1, but you'll have pyyaml 3.13 which is incompatible.\u001b[0m\n",
            "Installing collected packages: PyYAML, chatterbot-corpus\n",
            "  Found existing installation: PyYAML 5.1.2\n",
            "    Uninstalling PyYAML-5.1.2:\n",
            "      Successfully uninstalled PyYAML-5.1.2\n",
            "Successfully installed PyYAML-3.13 chatterbot-corpus-1.2.0\n"
          ],
          "name": "stdout"
        },
        {
          "output_type": "display_data",
          "data": {
            "application/vnd.colab-display-data+json": {
              "pip_warning": {
                "packages": [
                  "yaml"
                ]
              }
            }
          },
          "metadata": {
            "tags": []
          }
        }
      ]
    },
    {
      "cell_type": "code",
      "metadata": {
        "id": "miFkq-C2qVnB",
        "colab_type": "code",
        "colab": {}
      },
      "source": [
        ""
      ],
      "execution_count": 0,
      "outputs": []
    },
    {
      "cell_type": "code",
      "metadata": {
        "id": "yrUQwn__qVju",
        "colab_type": "code",
        "colab": {}
      },
      "source": [
        ""
      ],
      "execution_count": 0,
      "outputs": []
    },
    {
      "cell_type": "code",
      "metadata": {
        "id": "bA_0Wh7bqVgz",
        "colab_type": "code",
        "colab": {}
      },
      "source": [
        ""
      ],
      "execution_count": 0,
      "outputs": []
    },
    {
      "cell_type": "code",
      "metadata": {
        "id": "KLhz1vW-qVdt",
        "colab_type": "code",
        "colab": {}
      },
      "source": [
        ""
      ],
      "execution_count": 0,
      "outputs": []
    },
    {
      "cell_type": "code",
      "metadata": {
        "id": "o5oMVuuQWBec",
        "colab_type": "code",
        "colab": {}
      },
      "source": [
        ""
      ],
      "execution_count": 0,
      "outputs": []
    },
    {
      "cell_type": "code",
      "metadata": {
        "id": "opRdBxoiWBb8",
        "colab_type": "code",
        "colab": {}
      },
      "source": [
        ""
      ],
      "execution_count": 0,
      "outputs": []
    },
    {
      "cell_type": "code",
      "metadata": {
        "id": "ckT_eSYWVo95",
        "colab_type": "code",
        "colab": {}
      },
      "source": [
        "jupyter notebook --NotebookApp.iopub_data_rate_limit=1.0e10"
      ],
      "execution_count": 0,
      "outputs": []
    },
    {
      "cell_type": "code",
      "metadata": {
        "id": "vgAXW6VVVpNX",
        "colab_type": "code",
        "colab": {
          "base_uri": "https://localhost:8080/",
          "height": 51
        },
        "outputId": "e0446508-fe37-4b30-eb3f-bd18f490ec24"
      },
      "source": [
        "! jupyter notebook --generate-config"
      ],
      "execution_count": 3,
      "outputs": [
        {
          "output_type": "stream",
          "text": [
            "Overwrite /root/.jupyter/jupyter_notebook_config.py with default config? [y/N]y\n",
            "Writing default config to: /root/.jupyter/jupyter_notebook_config.py\n"
          ],
          "name": "stdout"
        }
      ]
    },
    {
      "cell_type": "code",
      "metadata": {
        "id": "NMB_QO-VV704",
        "colab_type": "code",
        "colab": {}
      },
      "source": [
        ""
      ],
      "execution_count": 0,
      "outputs": []
    },
    {
      "cell_type": "code",
      "metadata": {
        "id": "aGVIUHy-V7_o",
        "colab_type": "code",
        "colab": {}
      },
      "source": [
        ""
      ],
      "execution_count": 0,
      "outputs": []
    },
    {
      "cell_type": "code",
      "metadata": {
        "id": "mtHrkZb6V786",
        "colab_type": "code",
        "colab": {}
      },
      "source": [
        ""
      ],
      "execution_count": 0,
      "outputs": []
    },
    {
      "cell_type": "code",
      "metadata": {
        "id": "FnP-BrqNV77J",
        "colab_type": "code",
        "colab": {}
      },
      "source": [
        ""
      ],
      "execution_count": 0,
      "outputs": []
    },
    {
      "cell_type": "code",
      "metadata": {
        "id": "eDBB6UGbWbM2",
        "colab_type": "code",
        "outputId": "b78d1733-b014-46d4-c489-845d07f17b7c",
        "colab": {
          "base_uri": "https://localhost:8080/",
          "height": 52
        }
      },
      "source": [
        "!pip install pyspark"
      ],
      "execution_count": 0,
      "outputs": [
        {
          "output_type": "stream",
          "text": [
            "Requirement already satisfied: pyspark in /usr/local/lib/python3.6/dist-packages (2.4.4)\n",
            "Requirement already satisfied: py4j==0.10.7 in /usr/local/lib/python3.6/dist-packages (from pyspark) (0.10.7)\n"
          ],
          "name": "stdout"
        }
      ]
    },
    {
      "cell_type": "code",
      "metadata": {
        "id": "g0kZT6aFV74-",
        "colab_type": "code",
        "colab": {}
      },
      "source": [
        ""
      ],
      "execution_count": 0,
      "outputs": []
    },
    {
      "cell_type": "code",
      "metadata": {
        "id": "xRWOQeiiVpK5",
        "colab_type": "code",
        "colab": {}
      },
      "source": [
        "y"
      ],
      "execution_count": 0,
      "outputs": []
    },
    {
      "cell_type": "code",
      "metadata": {
        "id": "C1cX72t5VpIi",
        "colab_type": "code",
        "colab": {}
      },
      "source": [
        ""
      ],
      "execution_count": 0,
      "outputs": []
    },
    {
      "cell_type": "code",
      "metadata": {
        "id": "8ygUslbBVpFg",
        "colab_type": "code",
        "colab": {}
      },
      "source": [
        ""
      ],
      "execution_count": 0,
      "outputs": []
    },
    {
      "cell_type": "code",
      "metadata": {
        "id": "6vN_NebqVpD3",
        "colab_type": "code",
        "colab": {}
      },
      "source": [
        ""
      ],
      "execution_count": 0,
      "outputs": []
    },
    {
      "cell_type": "code",
      "metadata": {
        "id": "6U9aE2cdVpBw",
        "colab_type": "code",
        "colab": {}
      },
      "source": [
        ""
      ],
      "execution_count": 0,
      "outputs": []
    },
    {
      "cell_type": "code",
      "metadata": {
        "id": "qf5gcpjj7xiQ",
        "colab_type": "code",
        "outputId": "327e21eb-f7a0-4bf7-85a6-aee98829ec91",
        "colab": {
          "base_uri": "https://localhost:8080/",
          "height": 70
        }
      },
      "source": [
        "!apt-get install openjdk-8-jdk-headless -qq > /dev/null\n",
        "import os\n",
        "os.environ[\"JAVA_HOME\"] = \"/usr/lib/jvm/java-8-openjdk-amd64\"\n",
        "!update-alternatives --set java /usr/lib/jvm/java-8-openjdk-amd64/jre/bin/java\n",
        "!java -version"
      ],
      "execution_count": 0,
      "outputs": [
        {
          "output_type": "stream",
          "text": [
            "openjdk version \"1.8.0_232\"\n",
            "OpenJDK Runtime Environment (build 1.8.0_232-8u232-b09-0ubuntu1~18.04.1-b09)\n",
            "OpenJDK 64-Bit Server VM (build 25.232-b09, mixed mode)\n"
          ],
          "name": "stdout"
        }
      ]
    },
    {
      "cell_type": "code",
      "metadata": {
        "id": "sldGNtPBEiac",
        "colab_type": "code",
        "colab": {}
      },
      "source": [
        "import subprocess"
      ],
      "execution_count": 0,
      "outputs": []
    },
    {
      "cell_type": "code",
      "metadata": {
        "id": "cmhxBe_oFHlz",
        "colab_type": "code",
        "colab": {}
      },
      "source": [
        "\n",
        "version = subprocess.check_output(['java', '-version'], stderr=subprocess.STDOUT)"
      ],
      "execution_count": 0,
      "outputs": []
    },
    {
      "cell_type": "code",
      "metadata": {
        "id": "QfoisD05FKPt",
        "colab_type": "code",
        "outputId": "3b22ec9a-65b5-4c2e-f589-bda8ab42a57f",
        "colab": {
          "base_uri": "https://localhost:8080/",
          "height": 34
        }
      },
      "source": [
        "print(version)"
      ],
      "execution_count": 0,
      "outputs": [
        {
          "output_type": "stream",
          "text": [
            "b'openjdk version \"1.8.0_232\"\\nOpenJDK Runtime Environment (build 1.8.0_232-8u232-b09-0ubuntu1~18.04.1-b09)\\nOpenJDK 64-Bit Server VM (build 25.232-b09, mixed mode)\\n'\n"
          ],
          "name": "stdout"
        }
      ]
    },
    {
      "cell_type": "markdown",
      "metadata": {
        "id": "FIkayAMHI9rI",
        "colab_type": "text"
      },
      "source": [
        "**Click Restart Runtime**"
      ]
    },
    {
      "cell_type": "code",
      "metadata": {
        "id": "KIO3ksXQWg6m",
        "colab_type": "code",
        "outputId": "52ef8610-5872-4367-a001-464b902c2e13",
        "colab": {
          "base_uri": "https://localhost:8080/",
          "height": 245
        }
      },
      "source": [
        "from pyspark.context import SparkContext\n",
        "from pyspark.sql.session import SparkSession\n",
        "sc = SparkContext('local')\n",
        "spark = SparkSession(sc)"
      ],
      "execution_count": 0,
      "outputs": [
        {
          "output_type": "error",
          "ename": "ValueError",
          "evalue": "ignored",
          "traceback": [
            "\u001b[0;31m---------------------------------------------------------------------------\u001b[0m",
            "\u001b[0;31mValueError\u001b[0m                                Traceback (most recent call last)",
            "\u001b[0;32m<ipython-input-7-5796b8bfe42c>\u001b[0m in \u001b[0;36m<module>\u001b[0;34m()\u001b[0m\n\u001b[1;32m      1\u001b[0m \u001b[0;32mfrom\u001b[0m \u001b[0mpyspark\u001b[0m\u001b[0;34m.\u001b[0m\u001b[0mcontext\u001b[0m \u001b[0;32mimport\u001b[0m \u001b[0mSparkContext\u001b[0m\u001b[0;34m\u001b[0m\u001b[0;34m\u001b[0m\u001b[0m\n\u001b[1;32m      2\u001b[0m \u001b[0;32mfrom\u001b[0m \u001b[0mpyspark\u001b[0m\u001b[0;34m.\u001b[0m\u001b[0msql\u001b[0m\u001b[0;34m.\u001b[0m\u001b[0msession\u001b[0m \u001b[0;32mimport\u001b[0m \u001b[0mSparkSession\u001b[0m\u001b[0;34m\u001b[0m\u001b[0;34m\u001b[0m\u001b[0m\n\u001b[0;32m----> 3\u001b[0;31m \u001b[0msc\u001b[0m \u001b[0;34m=\u001b[0m \u001b[0mSparkContext\u001b[0m\u001b[0;34m(\u001b[0m\u001b[0;34m'local'\u001b[0m\u001b[0;34m)\u001b[0m\u001b[0;34m\u001b[0m\u001b[0;34m\u001b[0m\u001b[0m\n\u001b[0m\u001b[1;32m      4\u001b[0m \u001b[0mspark\u001b[0m \u001b[0;34m=\u001b[0m \u001b[0mSparkSession\u001b[0m\u001b[0;34m(\u001b[0m\u001b[0msc\u001b[0m\u001b[0;34m)\u001b[0m\u001b[0;34m\u001b[0m\u001b[0;34m\u001b[0m\u001b[0m\n",
            "\u001b[0;32m/usr/local/lib/python3.6/dist-packages/pyspark/context.py\u001b[0m in \u001b[0;36m__init__\u001b[0;34m(self, master, appName, sparkHome, pyFiles, environment, batchSize, serializer, conf, gateway, jsc, profiler_cls)\u001b[0m\n\u001b[1;32m    131\u001b[0m                     \" note this option will be removed in Spark 3.0\")\n\u001b[1;32m    132\u001b[0m \u001b[0;34m\u001b[0m\u001b[0m\n\u001b[0;32m--> 133\u001b[0;31m         \u001b[0mSparkContext\u001b[0m\u001b[0;34m.\u001b[0m\u001b[0m_ensure_initialized\u001b[0m\u001b[0;34m(\u001b[0m\u001b[0mself\u001b[0m\u001b[0;34m,\u001b[0m \u001b[0mgateway\u001b[0m\u001b[0;34m=\u001b[0m\u001b[0mgateway\u001b[0m\u001b[0;34m,\u001b[0m \u001b[0mconf\u001b[0m\u001b[0;34m=\u001b[0m\u001b[0mconf\u001b[0m\u001b[0;34m)\u001b[0m\u001b[0;34m\u001b[0m\u001b[0;34m\u001b[0m\u001b[0m\n\u001b[0m\u001b[1;32m    134\u001b[0m         \u001b[0;32mtry\u001b[0m\u001b[0;34m:\u001b[0m\u001b[0;34m\u001b[0m\u001b[0;34m\u001b[0m\u001b[0m\n\u001b[1;32m    135\u001b[0m             self._do_init(master, appName, sparkHome, pyFiles, environment, batchSize, serializer,\n",
            "\u001b[0;32m/usr/local/lib/python3.6/dist-packages/pyspark/context.py\u001b[0m in \u001b[0;36m_ensure_initialized\u001b[0;34m(cls, instance, gateway, conf)\u001b[0m\n\u001b[1;32m    330\u001b[0m                         \u001b[0;34m\" created by %s at %s:%s \"\u001b[0m\u001b[0;34m\u001b[0m\u001b[0;34m\u001b[0m\u001b[0m\n\u001b[1;32m    331\u001b[0m                         % (currentAppName, currentMaster,\n\u001b[0;32m--> 332\u001b[0;31m                             callsite.function, callsite.file, callsite.linenum))\n\u001b[0m\u001b[1;32m    333\u001b[0m                 \u001b[0;32melse\u001b[0m\u001b[0;34m:\u001b[0m\u001b[0;34m\u001b[0m\u001b[0;34m\u001b[0m\u001b[0m\n\u001b[1;32m    334\u001b[0m                     \u001b[0mSparkContext\u001b[0m\u001b[0;34m.\u001b[0m\u001b[0m_active_spark_context\u001b[0m \u001b[0;34m=\u001b[0m \u001b[0minstance\u001b[0m\u001b[0;34m\u001b[0m\u001b[0;34m\u001b[0m\u001b[0m\n",
            "\u001b[0;31mValueError\u001b[0m: Cannot run multiple SparkContexts at once; existing SparkContext(app=pyspark-shell, master=local) created by __init__ at <ipython-input-6-5796b8bfe42c>:3 "
          ]
        }
      ]
    },
    {
      "cell_type": "code",
      "metadata": {
        "id": "O4FXwcGyXulS",
        "colab_type": "code",
        "colab": {}
      },
      "source": [
        ""
      ],
      "execution_count": 0,
      "outputs": []
    },
    {
      "cell_type": "code",
      "metadata": {
        "id": "4v180GQ0_pwj",
        "colab_type": "code",
        "outputId": "df501f6b-29dc-4d39-b328-3bbce442b146",
        "colab": {
          "base_uri": "https://localhost:8080/",
          "height": 125
        }
      },
      "source": [
        "from google.colab import drive\n",
        "drive.mount('/content/drive')"
      ],
      "execution_count": 0,
      "outputs": [
        {
          "output_type": "stream",
          "text": [
            "Go to this URL in a browser: https://accounts.google.com/o/oauth2/auth?client_id=947318989803-6bn6qk8qdgf4n4g3pfee6491hc0brc4i.apps.googleusercontent.com&redirect_uri=urn%3aietf%3awg%3aoauth%3a2.0%3aoob&response_type=code&scope=email%20https%3a%2f%2fwww.googleapis.com%2fauth%2fdocs.test%20https%3a%2f%2fwww.googleapis.com%2fauth%2fdrive%20https%3a%2f%2fwww.googleapis.com%2fauth%2fdrive.photos.readonly%20https%3a%2f%2fwww.googleapis.com%2fauth%2fpeopleapi.readonly\n",
            "\n",
            "Enter your authorization code:\n",
            "··········\n",
            "Mounted at /content/drive\n"
          ],
          "name": "stdout"
        }
      ]
    },
    {
      "cell_type": "markdown",
      "metadata": {
        "id": "HpSS2EVeXwTh",
        "colab_type": "text"
      },
      "source": [
        " **Read file, Infer Schema, Get Header**"
      ]
    },
    {
      "cell_type": "code",
      "metadata": {
        "id": "CyB8QC4BWycU",
        "colab_type": "code",
        "colab": {}
      },
      "source": [
        "df=spark.read.format('csv').options(header='true', inferSchema='true').load('/content/drive/My Drive/top50.csv')\n",
        "#/content/drive/My Drive/top50.csv"
      ],
      "execution_count": 0,
      "outputs": []
    },
    {
      "cell_type": "code",
      "metadata": {
        "id": "Zpzl2T49Xf6T",
        "colab_type": "code",
        "outputId": "d50ade07-0a9b-413e-c784-137c48e36524",
        "colab": {
          "base_uri": "https://localhost:8080/",
          "height": 54
        }
      },
      "source": [
        "df.head"
      ],
      "execution_count": 0,
      "outputs": [
        {
          "output_type": "execute_result",
          "data": {
            "text/plain": [
              "<bound method DataFrame.head of DataFrame[Sno: int, Track.Name: string, Artist.Name: string, Genre: string, Beats.Per.Minute: int, Energy: int, Danceability: int, Loudness..dB..: int, Liveness: int, Valence.: int, Length.: int, Acousticness..: int, Speechiness.: int, Popularity: int]>"
            ]
          },
          "metadata": {
            "tags": []
          },
          "execution_count": 10
        }
      ]
    },
    {
      "cell_type": "code",
      "metadata": {
        "id": "bB6oJzGrXjJ8",
        "colab_type": "code",
        "outputId": "7b75f3f3-ebe3-4676-b6bf-bc6d5976eaeb",
        "colab": {
          "base_uri": "https://localhost:8080/",
          "height": 214
        }
      },
      "source": [
        "df.take(10)"
      ],
      "execution_count": 0,
      "outputs": [
        {
          "output_type": "execute_result",
          "data": {
            "text/plain": [
              "[Row(Sno=1, Track.Name='Se�orita', Artist.Name='Shawn Mendes', Genre='canadian pop', Beats.Per.Minute=117, Energy=55, Danceability=76, Loudness..dB..=-6, Liveness=8, Valence.=75, Length.=191, Acousticness..=4, Speechiness.=3, Popularity=79),\n",
              " Row(Sno=2, Track.Name='China', Artist.Name='Anuel AA', Genre='reggaeton flow', Beats.Per.Minute=105, Energy=81, Danceability=79, Loudness..dB..=-4, Liveness=8, Valence.=61, Length.=302, Acousticness..=8, Speechiness.=9, Popularity=92),\n",
              " Row(Sno=3, Track.Name='boyfriend (with Social House)', Artist.Name='Ariana Grande', Genre='dance pop', Beats.Per.Minute=190, Energy=80, Danceability=40, Loudness..dB..=-4, Liveness=16, Valence.=70, Length.=186, Acousticness..=12, Speechiness.=46, Popularity=85),\n",
              " Row(Sno=4, Track.Name='Beautiful People (feat. Khalid)', Artist.Name='Ed Sheeran', Genre='pop', Beats.Per.Minute=93, Energy=65, Danceability=64, Loudness..dB..=-8, Liveness=8, Valence.=55, Length.=198, Acousticness..=12, Speechiness.=19, Popularity=86),\n",
              " Row(Sno=5, Track.Name='Goodbyes (Feat. Young Thug)', Artist.Name='Post Malone', Genre='dfw rap', Beats.Per.Minute=150, Energy=65, Danceability=58, Loudness..dB..=-4, Liveness=11, Valence.=18, Length.=175, Acousticness..=45, Speechiness.=7, Popularity=94),\n",
              " Row(Sno=6, Track.Name=\"I Don't Care (with Justin Bieber)\", Artist.Name='Ed Sheeran', Genre='pop', Beats.Per.Minute=102, Energy=68, Danceability=80, Loudness..dB..=-5, Liveness=9, Valence.=84, Length.=220, Acousticness..=9, Speechiness.=4, Popularity=84),\n",
              " Row(Sno=7, Track.Name='Ransom', Artist.Name='Lil Tecca', Genre='trap music', Beats.Per.Minute=180, Energy=64, Danceability=75, Loudness..dB..=-6, Liveness=7, Valence.=23, Length.=131, Acousticness..=2, Speechiness.=29, Popularity=92),\n",
              " Row(Sno=8, Track.Name='How Do You Sleep?', Artist.Name='Sam Smith', Genre='pop', Beats.Per.Minute=111, Energy=68, Danceability=48, Loudness..dB..=-5, Liveness=8, Valence.=35, Length.=202, Acousticness..=15, Speechiness.=9, Popularity=90),\n",
              " Row(Sno=9, Track.Name='Old Town Road - Remix', Artist.Name='Lil Nas X', Genre='country rap', Beats.Per.Minute=136, Energy=62, Danceability=88, Loudness..dB..=-6, Liveness=11, Valence.=64, Length.=157, Acousticness..=5, Speechiness.=10, Popularity=87),\n",
              " Row(Sno=10, Track.Name='bad guy', Artist.Name='Billie Eilish', Genre='electropop', Beats.Per.Minute=135, Energy=43, Danceability=70, Loudness..dB..=-11, Liveness=10, Valence.=56, Length.=194, Acousticness..=33, Speechiness.=38, Popularity=95)]"
            ]
          },
          "metadata": {
            "tags": []
          },
          "execution_count": 11
        }
      ]
    },
    {
      "cell_type": "code",
      "metadata": {
        "id": "ZqzGvvo6YYoL",
        "colab_type": "code",
        "outputId": "d315fe53-0936-4f4f-fae6-3c8dfa789e31",
        "colab": {
          "base_uri": "https://localhost:8080/",
          "height": 478
        }
      },
      "source": [
        "df.show()"
      ],
      "execution_count": 0,
      "outputs": [
        {
          "output_type": "stream",
          "text": [
            "+---+--------------------+-------------+----------------+----------------+------+------------+--------------+--------+--------+-------+--------------+------------+----------+\n",
            "|Sno|          Track.Name|  Artist.Name|           Genre|Beats.Per.Minute|Energy|Danceability|Loudness..dB..|Liveness|Valence.|Length.|Acousticness..|Speechiness.|Popularity|\n",
            "+---+--------------------+-------------+----------------+----------------+------+------------+--------------+--------+--------+-------+--------------+------------+----------+\n",
            "|  1|            Se�orita| Shawn Mendes|    canadian pop|             117|    55|          76|            -6|       8|      75|    191|             4|           3|        79|\n",
            "|  2|               China|     Anuel AA|  reggaeton flow|             105|    81|          79|            -4|       8|      61|    302|             8|           9|        92|\n",
            "|  3|boyfriend (with S...|Ariana Grande|       dance pop|             190|    80|          40|            -4|      16|      70|    186|            12|          46|        85|\n",
            "|  4|Beautiful People ...|   Ed Sheeran|             pop|              93|    65|          64|            -8|       8|      55|    198|            12|          19|        86|\n",
            "|  5|Goodbyes (Feat. Y...|  Post Malone|         dfw rap|             150|    65|          58|            -4|      11|      18|    175|            45|           7|        94|\n",
            "|  6|I Don't Care (wit...|   Ed Sheeran|             pop|             102|    68|          80|            -5|       9|      84|    220|             9|           4|        84|\n",
            "|  7|              Ransom|    Lil Tecca|      trap music|             180|    64|          75|            -6|       7|      23|    131|             2|          29|        92|\n",
            "|  8|   How Do You Sleep?|    Sam Smith|             pop|             111|    68|          48|            -5|       8|      35|    202|            15|           9|        90|\n",
            "|  9|Old Town Road - R...|    Lil Nas X|     country rap|             136|    62|          88|            -6|      11|      64|    157|             5|          10|        87|\n",
            "| 10|             bad guy|Billie Eilish|      electropop|             135|    43|          70|           -11|      10|      56|    194|            33|          38|        95|\n",
            "| 11|            Callaita|    Bad Bunny|       reggaeton|             176|    62|          61|            -5|      24|      24|    251|            60|          31|        93|\n",
            "| 12|Loco Contigo (fea...|     DJ Snake|       dance pop|              96|    71|          82|            -4|      15|      38|    185|            28|           7|        86|\n",
            "| 13|   Someone You Loved|Lewis Capaldi|             pop|             110|    41|          50|            -6|      11|      45|    182|            75|           3|        88|\n",
            "| 14|  Otro Trago - Remix|         Sech|  panamanian pop|             176|    79|          73|            -2|       6|      76|    288|             7|          20|        87|\n",
            "| 15|Money In The Grav...|        Drake|canadian hip hop|             101|    50|          83|            -4|      12|      10|    205|            10|           5|        92|\n",
            "| 16|No Guidance (feat...|  Chris Brown|       dance pop|              93|    45|          70|            -7|      16|      14|    261|            12|          15|        82|\n",
            "| 17|          LA CANCI�N|     J Balvin|           latin|             176|    65|          75|            -6|      11|      43|    243|            15|          32|        90|\n",
            "| 18|Sunflower - Spide...|  Post Malone|         dfw rap|              90|    48|          76|            -6|       7|      91|    158|            56|           5|        91|\n",
            "| 19|              Lalala|          Y2K|canadian hip hop|             130|    39|          84|            -8|      14|      50|    161|            18|           8|        88|\n",
            "| 20|         Truth Hurts|        Lizzo|     escape room|             158|    62|          72|            -3|      12|      41|    173|            11|          11|        91|\n",
            "+---+--------------------+-------------+----------------+----------------+------+------------+--------------+--------+--------+-------+--------------+------------+----------+\n",
            "only showing top 20 rows\n",
            "\n"
          ],
          "name": "stdout"
        }
      ]
    },
    {
      "cell_type": "code",
      "metadata": {
        "id": "9lV3htcUYbUt",
        "colab_type": "code",
        "outputId": "c3c35156-ecc1-419e-954a-57aa36bcb569",
        "colab": {
          "base_uri": "https://localhost:8080/",
          "height": 34
        }
      },
      "source": [
        "df.count()"
      ],
      "execution_count": 0,
      "outputs": [
        {
          "output_type": "execute_result",
          "data": {
            "text/plain": [
              "50"
            ]
          },
          "metadata": {
            "tags": []
          },
          "execution_count": 13
        }
      ]
    },
    {
      "cell_type": "markdown",
      "metadata": {
        "id": "OL_3EeWqYiVj",
        "colab_type": "text"
      },
      "source": [
        ""
      ]
    },
    {
      "cell_type": "code",
      "metadata": {
        "id": "T_Q_v01aZJ9s",
        "colab_type": "code",
        "outputId": "6984c1c9-2b3c-4285-fe6d-beda07dedeba",
        "colab": {
          "base_uri": "https://localhost:8080/",
          "height": 54
        }
      },
      "source": [
        "df.head"
      ],
      "execution_count": 0,
      "outputs": [
        {
          "output_type": "execute_result",
          "data": {
            "text/plain": [
              "<bound method DataFrame.head of DataFrame[Sno: int, Track.Name: string, Artist.Name: string, Genre: string, Beats.Per.Minute: int, Energy: int, Danceability: int, Loudness..dB..: int, Liveness: int, Valence.: int, Length.: int, Acousticness..: int, Speechiness.: int, Popularity: int]>"
            ]
          },
          "metadata": {
            "tags": []
          },
          "execution_count": 14
        }
      ]
    },
    {
      "cell_type": "code",
      "metadata": {
        "id": "ccRyx9cZZMG7",
        "colab_type": "code",
        "outputId": "a7d1acad-c905-46aa-c256-4a105c0cfd4c",
        "colab": {
          "base_uri": "https://localhost:8080/",
          "height": 54
        }
      },
      "source": [
        "df.describe"
      ],
      "execution_count": 0,
      "outputs": [
        {
          "output_type": "execute_result",
          "data": {
            "text/plain": [
              "<bound method DataFrame.describe of DataFrame[Sno: int, Track.Name: string, Artist.Name: string, Genre: string, Beats.Per.Minute: int, Energy: int, Danceability: int, Loudness..dB..: int, Liveness: int, Valence.: int, Length.: int, Acousticness..: int, Speechiness.: int, Popularity: int]>"
            ]
          },
          "metadata": {
            "tags": []
          },
          "execution_count": 15
        }
      ]
    },
    {
      "cell_type": "code",
      "metadata": {
        "id": "XhqxxKEwZh6L",
        "colab_type": "code",
        "outputId": "78d4c6d2-07bf-4d7d-f232-27fc7293f2bf",
        "colab": {
          "base_uri": "https://localhost:8080/",
          "height": 265
        }
      },
      "source": [
        "df.columns"
      ],
      "execution_count": 0,
      "outputs": [
        {
          "output_type": "execute_result",
          "data": {
            "text/plain": [
              "['Sno',\n",
              " 'Track.Name',\n",
              " 'Artist.Name',\n",
              " 'Genre',\n",
              " 'Beats.Per.Minute',\n",
              " 'Energy',\n",
              " 'Danceability',\n",
              " 'Loudness..dB..',\n",
              " 'Liveness',\n",
              " 'Valence.',\n",
              " 'Length.',\n",
              " 'Acousticness..',\n",
              " 'Speechiness.',\n",
              " 'Popularity']"
            ]
          },
          "metadata": {
            "tags": []
          },
          "execution_count": 16
        }
      ]
    },
    {
      "cell_type": "code",
      "metadata": {
        "id": "IDkS1w2MZzG8",
        "colab_type": "code",
        "outputId": "9514f603-69c7-4e05-b93c-312aca69e553",
        "colab": {
          "base_uri": "https://localhost:8080/",
          "height": 34
        }
      },
      "source": [
        "len(df.columns)"
      ],
      "execution_count": 0,
      "outputs": [
        {
          "output_type": "execute_result",
          "data": {
            "text/plain": [
              "14"
            ]
          },
          "metadata": {
            "tags": []
          },
          "execution_count": 17
        }
      ]
    },
    {
      "cell_type": "code",
      "metadata": {
        "id": "ihhh3syvaD83",
        "colab_type": "code",
        "outputId": "aae454b9-04b9-4536-ae1a-7300418c6f4d",
        "colab": {
          "base_uri": "https://localhost:8080/",
          "height": 54
        }
      },
      "source": [
        "df.show"
      ],
      "execution_count": 0,
      "outputs": [
        {
          "output_type": "execute_result",
          "data": {
            "text/plain": [
              "<bound method DataFrame.show of DataFrame[Sno: int, Track.Name: string, Artist.Name: string, Genre: string, Beats.Per.Minute: int, Energy: int, Danceability: int, Loudness..dB..: int, Liveness: int, Valence.: int, Length.: int, Acousticness..: int, Speechiness.: int, Popularity: int]>"
            ]
          },
          "metadata": {
            "tags": []
          },
          "execution_count": 18
        }
      ]
    },
    {
      "cell_type": "markdown",
      "metadata": {
        "id": "QsyMZqZXaLeW",
        "colab_type": "text"
      },
      "source": [
        "**See top 20 rows**"
      ]
    },
    {
      "cell_type": "code",
      "metadata": {
        "id": "NJzOuGWlaHGe",
        "colab_type": "code",
        "outputId": "8751e3b9-8bd6-4d8f-af58-e4079bcc881f",
        "colab": {
          "base_uri": "https://localhost:8080/",
          "height": 478
        }
      },
      "source": [
        "df.show()"
      ],
      "execution_count": 0,
      "outputs": [
        {
          "output_type": "stream",
          "text": [
            "+---+--------------------+-------------+----------------+----------------+------+------------+--------------+--------+--------+-------+--------------+------------+----------+\n",
            "|Sno|          Track.Name|  Artist.Name|           Genre|Beats.Per.Minute|Energy|Danceability|Loudness..dB..|Liveness|Valence.|Length.|Acousticness..|Speechiness.|Popularity|\n",
            "+---+--------------------+-------------+----------------+----------------+------+------------+--------------+--------+--------+-------+--------------+------------+----------+\n",
            "|  1|            Se�orita| Shawn Mendes|    canadian pop|             117|    55|          76|            -6|       8|      75|    191|             4|           3|        79|\n",
            "|  2|               China|     Anuel AA|  reggaeton flow|             105|    81|          79|            -4|       8|      61|    302|             8|           9|        92|\n",
            "|  3|boyfriend (with S...|Ariana Grande|       dance pop|             190|    80|          40|            -4|      16|      70|    186|            12|          46|        85|\n",
            "|  4|Beautiful People ...|   Ed Sheeran|             pop|              93|    65|          64|            -8|       8|      55|    198|            12|          19|        86|\n",
            "|  5|Goodbyes (Feat. Y...|  Post Malone|         dfw rap|             150|    65|          58|            -4|      11|      18|    175|            45|           7|        94|\n",
            "|  6|I Don't Care (wit...|   Ed Sheeran|             pop|             102|    68|          80|            -5|       9|      84|    220|             9|           4|        84|\n",
            "|  7|              Ransom|    Lil Tecca|      trap music|             180|    64|          75|            -6|       7|      23|    131|             2|          29|        92|\n",
            "|  8|   How Do You Sleep?|    Sam Smith|             pop|             111|    68|          48|            -5|       8|      35|    202|            15|           9|        90|\n",
            "|  9|Old Town Road - R...|    Lil Nas X|     country rap|             136|    62|          88|            -6|      11|      64|    157|             5|          10|        87|\n",
            "| 10|             bad guy|Billie Eilish|      electropop|             135|    43|          70|           -11|      10|      56|    194|            33|          38|        95|\n",
            "| 11|            Callaita|    Bad Bunny|       reggaeton|             176|    62|          61|            -5|      24|      24|    251|            60|          31|        93|\n",
            "| 12|Loco Contigo (fea...|     DJ Snake|       dance pop|              96|    71|          82|            -4|      15|      38|    185|            28|           7|        86|\n",
            "| 13|   Someone You Loved|Lewis Capaldi|             pop|             110|    41|          50|            -6|      11|      45|    182|            75|           3|        88|\n",
            "| 14|  Otro Trago - Remix|         Sech|  panamanian pop|             176|    79|          73|            -2|       6|      76|    288|             7|          20|        87|\n",
            "| 15|Money In The Grav...|        Drake|canadian hip hop|             101|    50|          83|            -4|      12|      10|    205|            10|           5|        92|\n",
            "| 16|No Guidance (feat...|  Chris Brown|       dance pop|              93|    45|          70|            -7|      16|      14|    261|            12|          15|        82|\n",
            "| 17|          LA CANCI�N|     J Balvin|           latin|             176|    65|          75|            -6|      11|      43|    243|            15|          32|        90|\n",
            "| 18|Sunflower - Spide...|  Post Malone|         dfw rap|              90|    48|          76|            -6|       7|      91|    158|            56|           5|        91|\n",
            "| 19|              Lalala|          Y2K|canadian hip hop|             130|    39|          84|            -8|      14|      50|    161|            18|           8|        88|\n",
            "| 20|         Truth Hurts|        Lizzo|     escape room|             158|    62|          72|            -3|      12|      41|    173|            11|          11|        91|\n",
            "+---+--------------------+-------------+----------------+----------------+------+------------+--------------+--------+--------+-------+--------------+------------+----------+\n",
            "only showing top 20 rows\n",
            "\n"
          ],
          "name": "stdout"
        }
      ]
    },
    {
      "cell_type": "code",
      "metadata": {
        "id": "o9Uc6qQ7Z2Vs",
        "colab_type": "code",
        "outputId": "543f745a-6aab-42c0-e469-4f04072f049c",
        "colab": {
          "base_uri": "https://localhost:8080/",
          "height": 327
        }
      },
      "source": [
        "\n",
        "\n",
        "df.select([count(when(isnull(c), c)).alias(c) for c in df.columns]).show()\n",
        "\n"
      ],
      "execution_count": 0,
      "outputs": [
        {
          "output_type": "error",
          "ename": "NameError",
          "evalue": "ignored",
          "traceback": [
            "\u001b[0;31m---------------------------------------------------------------------------\u001b[0m",
            "\u001b[0;31mNameError\u001b[0m                                 Traceback (most recent call last)",
            "\u001b[0;32m<ipython-input-20-bbc05f360272>\u001b[0m in \u001b[0;36m<module>\u001b[0;34m()\u001b[0m\n\u001b[1;32m      1\u001b[0m \u001b[0;34m\u001b[0m\u001b[0m\n\u001b[1;32m      2\u001b[0m \u001b[0;34m\u001b[0m\u001b[0m\n\u001b[0;32m----> 3\u001b[0;31m \u001b[0mdf\u001b[0m\u001b[0;34m.\u001b[0m\u001b[0mselect\u001b[0m\u001b[0;34m(\u001b[0m\u001b[0;34m[\u001b[0m\u001b[0mcount\u001b[0m\u001b[0;34m(\u001b[0m\u001b[0mwhen\u001b[0m\u001b[0;34m(\u001b[0m\u001b[0misnull\u001b[0m\u001b[0;34m(\u001b[0m\u001b[0mc\u001b[0m\u001b[0;34m)\u001b[0m\u001b[0;34m,\u001b[0m \u001b[0mc\u001b[0m\u001b[0;34m)\u001b[0m\u001b[0;34m)\u001b[0m\u001b[0;34m.\u001b[0m\u001b[0malias\u001b[0m\u001b[0;34m(\u001b[0m\u001b[0mc\u001b[0m\u001b[0;34m)\u001b[0m \u001b[0;32mfor\u001b[0m \u001b[0mc\u001b[0m \u001b[0;32min\u001b[0m \u001b[0mdf\u001b[0m\u001b[0;34m.\u001b[0m\u001b[0mcolumns\u001b[0m\u001b[0;34m]\u001b[0m\u001b[0;34m)\u001b[0m\u001b[0;34m.\u001b[0m\u001b[0mshow\u001b[0m\u001b[0;34m(\u001b[0m\u001b[0;34m)\u001b[0m\u001b[0;34m\u001b[0m\u001b[0;34m\u001b[0m\u001b[0m\n\u001b[0m\u001b[1;32m      4\u001b[0m \u001b[0;34m\u001b[0m\u001b[0m\n",
            "\u001b[0;32m<ipython-input-20-bbc05f360272>\u001b[0m in \u001b[0;36m<listcomp>\u001b[0;34m(.0)\u001b[0m\n\u001b[1;32m      1\u001b[0m \u001b[0;34m\u001b[0m\u001b[0m\n\u001b[1;32m      2\u001b[0m \u001b[0;34m\u001b[0m\u001b[0m\n\u001b[0;32m----> 3\u001b[0;31m \u001b[0mdf\u001b[0m\u001b[0;34m.\u001b[0m\u001b[0mselect\u001b[0m\u001b[0;34m(\u001b[0m\u001b[0;34m[\u001b[0m\u001b[0mcount\u001b[0m\u001b[0;34m(\u001b[0m\u001b[0mwhen\u001b[0m\u001b[0;34m(\u001b[0m\u001b[0misnull\u001b[0m\u001b[0;34m(\u001b[0m\u001b[0mc\u001b[0m\u001b[0;34m)\u001b[0m\u001b[0;34m,\u001b[0m \u001b[0mc\u001b[0m\u001b[0;34m)\u001b[0m\u001b[0;34m)\u001b[0m\u001b[0;34m.\u001b[0m\u001b[0malias\u001b[0m\u001b[0;34m(\u001b[0m\u001b[0mc\u001b[0m\u001b[0;34m)\u001b[0m \u001b[0;32mfor\u001b[0m \u001b[0mc\u001b[0m \u001b[0;32min\u001b[0m \u001b[0mdf\u001b[0m\u001b[0;34m.\u001b[0m\u001b[0mcolumns\u001b[0m\u001b[0;34m]\u001b[0m\u001b[0;34m)\u001b[0m\u001b[0;34m.\u001b[0m\u001b[0mshow\u001b[0m\u001b[0;34m(\u001b[0m\u001b[0;34m)\u001b[0m\u001b[0;34m\u001b[0m\u001b[0;34m\u001b[0m\u001b[0m\n\u001b[0m\u001b[1;32m      4\u001b[0m \u001b[0;34m\u001b[0m\u001b[0m\n",
            "\u001b[0;31mNameError\u001b[0m: name 'count' is not defined"
          ]
        }
      ]
    },
    {
      "cell_type": "markdown",
      "metadata": {
        "id": "wRYk183KLNt_",
        "colab_type": "text"
      },
      "source": [
        "**Rename Columns**"
      ]
    },
    {
      "cell_type": "code",
      "metadata": {
        "id": "MDnQg6e6Z6XU",
        "colab_type": "code",
        "colab": {}
      },
      "source": [
        "a=[i.replace(\".\",\"\") for i in df.columns]"
      ],
      "execution_count": 0,
      "outputs": []
    },
    {
      "cell_type": "code",
      "metadata": {
        "id": "TbYtmcuPbiXc",
        "colab_type": "code",
        "outputId": "42cb0c94-afca-4f9a-e8f8-2c0b1b479f72",
        "colab": {
          "base_uri": "https://localhost:8080/",
          "height": 265
        }
      },
      "source": [
        "a"
      ],
      "execution_count": 0,
      "outputs": [
        {
          "output_type": "execute_result",
          "data": {
            "text/plain": [
              "['Sno',\n",
              " 'TrackName',\n",
              " 'ArtistName',\n",
              " 'Genre',\n",
              " 'BeatsPerMinute',\n",
              " 'Energy',\n",
              " 'Danceability',\n",
              " 'LoudnessdB',\n",
              " 'Liveness',\n",
              " 'Valence',\n",
              " 'Length',\n",
              " 'Acousticness',\n",
              " 'Speechiness',\n",
              " 'Popularity']"
            ]
          },
          "metadata": {
            "tags": []
          },
          "execution_count": 22
        }
      ]
    },
    {
      "cell_type": "markdown",
      "metadata": {
        "id": "0PfGzvofdu2v",
        "colab_type": "text"
      },
      "source": [
        "**Change to new column names**"
      ]
    },
    {
      "cell_type": "code",
      "metadata": {
        "id": "TKdFOjIDcIv1",
        "colab_type": "code",
        "colab": {}
      },
      "source": [
        "\n",
        "\n",
        "\n",
        "\n",
        "df=df.toDF(*a)"
      ],
      "execution_count": 0,
      "outputs": []
    },
    {
      "cell_type": "code",
      "metadata": {
        "id": "vn_6V5a8dUQk",
        "colab_type": "code",
        "outputId": "d9e52479-e2e1-4c68-e62f-104349833337",
        "colab": {
          "base_uri": "https://localhost:8080/",
          "height": 478
        }
      },
      "source": [
        "df.show()"
      ],
      "execution_count": 0,
      "outputs": [
        {
          "output_type": "stream",
          "text": [
            "+---+--------------------+-------------+----------------+--------------+------+------------+----------+--------+-------+------+------------+-----------+----------+\n",
            "|Sno|           TrackName|   ArtistName|           Genre|BeatsPerMinute|Energy|Danceability|LoudnessdB|Liveness|Valence|Length|Acousticness|Speechiness|Popularity|\n",
            "+---+--------------------+-------------+----------------+--------------+------+------------+----------+--------+-------+------+------------+-----------+----------+\n",
            "|  1|            Se�orita| Shawn Mendes|    canadian pop|           117|    55|          76|        -6|       8|     75|   191|           4|          3|        79|\n",
            "|  2|               China|     Anuel AA|  reggaeton flow|           105|    81|          79|        -4|       8|     61|   302|           8|          9|        92|\n",
            "|  3|boyfriend (with S...|Ariana Grande|       dance pop|           190|    80|          40|        -4|      16|     70|   186|          12|         46|        85|\n",
            "|  4|Beautiful People ...|   Ed Sheeran|             pop|            93|    65|          64|        -8|       8|     55|   198|          12|         19|        86|\n",
            "|  5|Goodbyes (Feat. Y...|  Post Malone|         dfw rap|           150|    65|          58|        -4|      11|     18|   175|          45|          7|        94|\n",
            "|  6|I Don't Care (wit...|   Ed Sheeran|             pop|           102|    68|          80|        -5|       9|     84|   220|           9|          4|        84|\n",
            "|  7|              Ransom|    Lil Tecca|      trap music|           180|    64|          75|        -6|       7|     23|   131|           2|         29|        92|\n",
            "|  8|   How Do You Sleep?|    Sam Smith|             pop|           111|    68|          48|        -5|       8|     35|   202|          15|          9|        90|\n",
            "|  9|Old Town Road - R...|    Lil Nas X|     country rap|           136|    62|          88|        -6|      11|     64|   157|           5|         10|        87|\n",
            "| 10|             bad guy|Billie Eilish|      electropop|           135|    43|          70|       -11|      10|     56|   194|          33|         38|        95|\n",
            "| 11|            Callaita|    Bad Bunny|       reggaeton|           176|    62|          61|        -5|      24|     24|   251|          60|         31|        93|\n",
            "| 12|Loco Contigo (fea...|     DJ Snake|       dance pop|            96|    71|          82|        -4|      15|     38|   185|          28|          7|        86|\n",
            "| 13|   Someone You Loved|Lewis Capaldi|             pop|           110|    41|          50|        -6|      11|     45|   182|          75|          3|        88|\n",
            "| 14|  Otro Trago - Remix|         Sech|  panamanian pop|           176|    79|          73|        -2|       6|     76|   288|           7|         20|        87|\n",
            "| 15|Money In The Grav...|        Drake|canadian hip hop|           101|    50|          83|        -4|      12|     10|   205|          10|          5|        92|\n",
            "| 16|No Guidance (feat...|  Chris Brown|       dance pop|            93|    45|          70|        -7|      16|     14|   261|          12|         15|        82|\n",
            "| 17|          LA CANCI�N|     J Balvin|           latin|           176|    65|          75|        -6|      11|     43|   243|          15|         32|        90|\n",
            "| 18|Sunflower - Spide...|  Post Malone|         dfw rap|            90|    48|          76|        -6|       7|     91|   158|          56|          5|        91|\n",
            "| 19|              Lalala|          Y2K|canadian hip hop|           130|    39|          84|        -8|      14|     50|   161|          18|          8|        88|\n",
            "| 20|         Truth Hurts|        Lizzo|     escape room|           158|    62|          72|        -3|      12|     41|   173|          11|         11|        91|\n",
            "+---+--------------------+-------------+----------------+--------------+------+------------+----------+--------+-------+------+------------+-----------+----------+\n",
            "only showing top 20 rows\n",
            "\n"
          ],
          "name": "stdout"
        }
      ]
    },
    {
      "cell_type": "code",
      "metadata": {
        "id": "i1FzMVUABeHF",
        "colab_type": "code",
        "colab": {}
      },
      "source": [
        "from pyspark.sql.functions import *"
      ],
      "execution_count": 0,
      "outputs": []
    },
    {
      "cell_type": "markdown",
      "metadata": {
        "id": "um6i-wPqetCo",
        "colab_type": "text"
      },
      "source": [
        "**Count no. of null values in each column**"
      ]
    },
    {
      "cell_type": "code",
      "metadata": {
        "id": "rfwT3XTmdVsN",
        "colab_type": "code",
        "outputId": "6d09539d-fd3c-4685-ec4a-498d658c15a9",
        "colab": {
          "base_uri": "https://localhost:8080/",
          "height": 123
        }
      },
      "source": [
        "df.select([count(when(isnull(c), c)).alias(c) for c in df.columns]).show()"
      ],
      "execution_count": 0,
      "outputs": [
        {
          "output_type": "stream",
          "text": [
            "+---+---------+----------+-----+--------------+------+------------+----------+--------+-------+------+------------+-----------+----------+\n",
            "|Sno|TrackName|ArtistName|Genre|BeatsPerMinute|Energy|Danceability|LoudnessdB|Liveness|Valence|Length|Acousticness|Speechiness|Popularity|\n",
            "+---+---------+----------+-----+--------------+------+------------+----------+--------+-------+------+------------+-----------+----------+\n",
            "|  0|        0|         0|    0|             0|     0|           0|         0|       0|      0|     0|           0|          0|         0|\n",
            "+---+---------+----------+-----+--------------+------+------------+----------+--------+-------+------+------------+-----------+----------+\n",
            "\n"
          ],
          "name": "stdout"
        }
      ]
    },
    {
      "cell_type": "markdown",
      "metadata": {
        "id": "0zXKphlEjCqv",
        "colab_type": "text"
      },
      "source": [
        "**Show distict values in this column**"
      ]
    },
    {
      "cell_type": "code",
      "metadata": {
        "id": "BjQfPOD5eAKV",
        "colab_type": "code",
        "outputId": "71a365c1-db21-4f7c-96d5-90c0d09ef1f5",
        "colab": {
          "base_uri": "https://localhost:8080/",
          "height": 478
        }
      },
      "source": [
        "df.select(\"ArtistName\").distinct().show()"
      ],
      "execution_count": 0,
      "outputs": [
        {
          "output_type": "stream",
          "text": [
            "+----------------+\n",
            "|      ArtistName|\n",
            "+----------------+\n",
            "|       Lil Nas X|\n",
            "|       Ali Gatie|\n",
            "|The Chainsmokers|\n",
            "|     Tones and I|\n",
            "|       Lil Tecca|\n",
            "|    Taylor Swift|\n",
            "|          Maluma|\n",
            "|       Sam Smith|\n",
            "|            Kygo|\n",
            "|         ROSAL�A|\n",
            "|          Khalid|\n",
            "|      Marshmello|\n",
            "|   Ariana Grande|\n",
            "|   Billie Eilish|\n",
            "|    Shawn Mendes|\n",
            "|            Sech|\n",
            "|            Lauv|\n",
            "|       Bad Bunny|\n",
            "|   Lewis Capaldi|\n",
            "|     Jhay Cortez|\n",
            "+----------------+\n",
            "only showing top 20 rows\n",
            "\n"
          ],
          "name": "stdout"
        }
      ]
    },
    {
      "cell_type": "code",
      "metadata": {
        "id": "8KCzqHKlfDsV",
        "colab_type": "code",
        "colab": {}
      },
      "source": [
        "from pyspark.sql.functions import col"
      ],
      "execution_count": 0,
      "outputs": []
    },
    {
      "cell_type": "markdown",
      "metadata": {
        "id": "itZZZVDxjact",
        "colab_type": "text"
      },
      "source": [
        "**Alias/Rename/Change Column Name just for this**"
      ]
    },
    {
      "cell_type": "code",
      "metadata": {
        "id": "atfkQc1PfzYl",
        "colab_type": "code",
        "outputId": "7c6693ac-f43d-4fd2-d706-69c70854bb6a",
        "colab": {
          "base_uri": "https://localhost:8080/",
          "height": 478
        }
      },
      "source": [
        "\n",
        "df.select(col(\"ArtistName\").alias(\"Distinct_Artists\")).distinct().show()"
      ],
      "execution_count": 0,
      "outputs": [
        {
          "output_type": "stream",
          "text": [
            "+----------------+\n",
            "|Distinct_Artists|\n",
            "+----------------+\n",
            "|       Lil Nas X|\n",
            "|       Ali Gatie|\n",
            "|The Chainsmokers|\n",
            "|     Tones and I|\n",
            "|       Lil Tecca|\n",
            "|    Taylor Swift|\n",
            "|          Maluma|\n",
            "|       Sam Smith|\n",
            "|            Kygo|\n",
            "|         ROSAL�A|\n",
            "|          Khalid|\n",
            "|      Marshmello|\n",
            "|   Ariana Grande|\n",
            "|   Billie Eilish|\n",
            "|    Shawn Mendes|\n",
            "|            Sech|\n",
            "|            Lauv|\n",
            "|       Bad Bunny|\n",
            "|   Lewis Capaldi|\n",
            "|     Jhay Cortez|\n",
            "+----------------+\n",
            "only showing top 20 rows\n",
            "\n"
          ],
          "name": "stdout"
        }
      ]
    },
    {
      "cell_type": "code",
      "metadata": {
        "id": "NHAe8OzPiItP",
        "colab_type": "code",
        "outputId": "ab345a1f-511b-494e-ef34-65f6226b007e",
        "colab": {
          "base_uri": "https://localhost:8080/",
          "height": 54
        }
      },
      "source": [
        "df.withColumnRenamed('Genre', 'TypeOfMusic')"
      ],
      "execution_count": 0,
      "outputs": [
        {
          "output_type": "execute_result",
          "data": {
            "text/plain": [
              "DataFrame[Sno: int, TrackName: string, ArtistName: string, TypeOfMusic: string, BeatsPerMinute: int, Energy: int, Danceability: int, LoudnessdB: int, Liveness: int, Valence: int, Length: int, Acousticness: int, Speechiness: int, Popularity: int]"
            ]
          },
          "metadata": {
            "tags": []
          },
          "execution_count": 30
        }
      ]
    },
    {
      "cell_type": "code",
      "metadata": {
        "id": "GEFDsoDlil22",
        "colab_type": "code",
        "outputId": "67e0b624-bd17-4ae5-d462-cfc58336b331",
        "colab": {
          "base_uri": "https://localhost:8080/",
          "height": 478
        }
      },
      "source": [
        "df.show()"
      ],
      "execution_count": 0,
      "outputs": [
        {
          "output_type": "stream",
          "text": [
            "+---+--------------------+-------------+----------------+--------------+------+------------+----------+--------+-------+------+------------+-----------+----------+\n",
            "|Sno|           TrackName|   ArtistName|           Genre|BeatsPerMinute|Energy|Danceability|LoudnessdB|Liveness|Valence|Length|Acousticness|Speechiness|Popularity|\n",
            "+---+--------------------+-------------+----------------+--------------+------+------------+----------+--------+-------+------+------------+-----------+----------+\n",
            "|  1|            Se�orita| Shawn Mendes|    canadian pop|           117|    55|          76|        -6|       8|     75|   191|           4|          3|        79|\n",
            "|  2|               China|     Anuel AA|  reggaeton flow|           105|    81|          79|        -4|       8|     61|   302|           8|          9|        92|\n",
            "|  3|boyfriend (with S...|Ariana Grande|       dance pop|           190|    80|          40|        -4|      16|     70|   186|          12|         46|        85|\n",
            "|  4|Beautiful People ...|   Ed Sheeran|             pop|            93|    65|          64|        -8|       8|     55|   198|          12|         19|        86|\n",
            "|  5|Goodbyes (Feat. Y...|  Post Malone|         dfw rap|           150|    65|          58|        -4|      11|     18|   175|          45|          7|        94|\n",
            "|  6|I Don't Care (wit...|   Ed Sheeran|             pop|           102|    68|          80|        -5|       9|     84|   220|           9|          4|        84|\n",
            "|  7|              Ransom|    Lil Tecca|      trap music|           180|    64|          75|        -6|       7|     23|   131|           2|         29|        92|\n",
            "|  8|   How Do You Sleep?|    Sam Smith|             pop|           111|    68|          48|        -5|       8|     35|   202|          15|          9|        90|\n",
            "|  9|Old Town Road - R...|    Lil Nas X|     country rap|           136|    62|          88|        -6|      11|     64|   157|           5|         10|        87|\n",
            "| 10|             bad guy|Billie Eilish|      electropop|           135|    43|          70|       -11|      10|     56|   194|          33|         38|        95|\n",
            "| 11|            Callaita|    Bad Bunny|       reggaeton|           176|    62|          61|        -5|      24|     24|   251|          60|         31|        93|\n",
            "| 12|Loco Contigo (fea...|     DJ Snake|       dance pop|            96|    71|          82|        -4|      15|     38|   185|          28|          7|        86|\n",
            "| 13|   Someone You Loved|Lewis Capaldi|             pop|           110|    41|          50|        -6|      11|     45|   182|          75|          3|        88|\n",
            "| 14|  Otro Trago - Remix|         Sech|  panamanian pop|           176|    79|          73|        -2|       6|     76|   288|           7|         20|        87|\n",
            "| 15|Money In The Grav...|        Drake|canadian hip hop|           101|    50|          83|        -4|      12|     10|   205|          10|          5|        92|\n",
            "| 16|No Guidance (feat...|  Chris Brown|       dance pop|            93|    45|          70|        -7|      16|     14|   261|          12|         15|        82|\n",
            "| 17|          LA CANCI�N|     J Balvin|           latin|           176|    65|          75|        -6|      11|     43|   243|          15|         32|        90|\n",
            "| 18|Sunflower - Spide...|  Post Malone|         dfw rap|            90|    48|          76|        -6|       7|     91|   158|          56|          5|        91|\n",
            "| 19|              Lalala|          Y2K|canadian hip hop|           130|    39|          84|        -8|      14|     50|   161|          18|          8|        88|\n",
            "| 20|         Truth Hurts|        Lizzo|     escape room|           158|    62|          72|        -3|      12|     41|   173|          11|         11|        91|\n",
            "+---+--------------------+-------------+----------------+--------------+------+------------+----------+--------+-------+------+------------+-----------+----------+\n",
            "only showing top 20 rows\n",
            "\n"
          ],
          "name": "stdout"
        }
      ]
    },
    {
      "cell_type": "code",
      "metadata": {
        "id": "ivr8TZmVioI2",
        "colab_type": "code",
        "outputId": "ff22d7d7-b49a-45f6-ac00-e73e7795ba76",
        "colab": {
          "base_uri": "https://localhost:8080/",
          "height": 478
        }
      },
      "source": [
        "df.withColumnRenamed('Genre', 'TypeOfMusic').show()"
      ],
      "execution_count": 0,
      "outputs": [
        {
          "output_type": "stream",
          "text": [
            "+---+--------------------+-------------+----------------+--------------+------+------------+----------+--------+-------+------+------------+-----------+----------+\n",
            "|Sno|           TrackName|   ArtistName|     TypeOfMusic|BeatsPerMinute|Energy|Danceability|LoudnessdB|Liveness|Valence|Length|Acousticness|Speechiness|Popularity|\n",
            "+---+--------------------+-------------+----------------+--------------+------+------------+----------+--------+-------+------+------------+-----------+----------+\n",
            "|  1|            Se�orita| Shawn Mendes|    canadian pop|           117|    55|          76|        -6|       8|     75|   191|           4|          3|        79|\n",
            "|  2|               China|     Anuel AA|  reggaeton flow|           105|    81|          79|        -4|       8|     61|   302|           8|          9|        92|\n",
            "|  3|boyfriend (with S...|Ariana Grande|       dance pop|           190|    80|          40|        -4|      16|     70|   186|          12|         46|        85|\n",
            "|  4|Beautiful People ...|   Ed Sheeran|             pop|            93|    65|          64|        -8|       8|     55|   198|          12|         19|        86|\n",
            "|  5|Goodbyes (Feat. Y...|  Post Malone|         dfw rap|           150|    65|          58|        -4|      11|     18|   175|          45|          7|        94|\n",
            "|  6|I Don't Care (wit...|   Ed Sheeran|             pop|           102|    68|          80|        -5|       9|     84|   220|           9|          4|        84|\n",
            "|  7|              Ransom|    Lil Tecca|      trap music|           180|    64|          75|        -6|       7|     23|   131|           2|         29|        92|\n",
            "|  8|   How Do You Sleep?|    Sam Smith|             pop|           111|    68|          48|        -5|       8|     35|   202|          15|          9|        90|\n",
            "|  9|Old Town Road - R...|    Lil Nas X|     country rap|           136|    62|          88|        -6|      11|     64|   157|           5|         10|        87|\n",
            "| 10|             bad guy|Billie Eilish|      electropop|           135|    43|          70|       -11|      10|     56|   194|          33|         38|        95|\n",
            "| 11|            Callaita|    Bad Bunny|       reggaeton|           176|    62|          61|        -5|      24|     24|   251|          60|         31|        93|\n",
            "| 12|Loco Contigo (fea...|     DJ Snake|       dance pop|            96|    71|          82|        -4|      15|     38|   185|          28|          7|        86|\n",
            "| 13|   Someone You Loved|Lewis Capaldi|             pop|           110|    41|          50|        -6|      11|     45|   182|          75|          3|        88|\n",
            "| 14|  Otro Trago - Remix|         Sech|  panamanian pop|           176|    79|          73|        -2|       6|     76|   288|           7|         20|        87|\n",
            "| 15|Money In The Grav...|        Drake|canadian hip hop|           101|    50|          83|        -4|      12|     10|   205|          10|          5|        92|\n",
            "| 16|No Guidance (feat...|  Chris Brown|       dance pop|            93|    45|          70|        -7|      16|     14|   261|          12|         15|        82|\n",
            "| 17|          LA CANCI�N|     J Balvin|           latin|           176|    65|          75|        -6|      11|     43|   243|          15|         32|        90|\n",
            "| 18|Sunflower - Spide...|  Post Malone|         dfw rap|            90|    48|          76|        -6|       7|     91|   158|          56|          5|        91|\n",
            "| 19|              Lalala|          Y2K|canadian hip hop|           130|    39|          84|        -8|      14|     50|   161|          18|          8|        88|\n",
            "| 20|         Truth Hurts|        Lizzo|     escape room|           158|    62|          72|        -3|      12|     41|   173|          11|         11|        91|\n",
            "+---+--------------------+-------------+----------------+--------------+------+------------+----------+--------+-------+------+------------+-----------+----------+\n",
            "only showing top 20 rows\n",
            "\n"
          ],
          "name": "stdout"
        }
      ]
    },
    {
      "cell_type": "code",
      "metadata": {
        "id": "a1u7g0ZkiwK1",
        "colab_type": "code",
        "outputId": "cfd13ace-d5a9-4e79-c89c-aa03a411dd2d",
        "colab": {
          "base_uri": "https://localhost:8080/",
          "height": 478
        }
      },
      "source": [
        "df.show()"
      ],
      "execution_count": 0,
      "outputs": [
        {
          "output_type": "stream",
          "text": [
            "+---+--------------------+-------------+----------------+--------------+------+------------+----------+--------+-------+------+------------+-----------+----------+\n",
            "|Sno|           TrackName|   ArtistName|           Genre|BeatsPerMinute|Energy|Danceability|LoudnessdB|Liveness|Valence|Length|Acousticness|Speechiness|Popularity|\n",
            "+---+--------------------+-------------+----------------+--------------+------+------------+----------+--------+-------+------+------------+-----------+----------+\n",
            "|  1|            Se�orita| Shawn Mendes|    canadian pop|           117|    55|          76|        -6|       8|     75|   191|           4|          3|        79|\n",
            "|  2|               China|     Anuel AA|  reggaeton flow|           105|    81|          79|        -4|       8|     61|   302|           8|          9|        92|\n",
            "|  3|boyfriend (with S...|Ariana Grande|       dance pop|           190|    80|          40|        -4|      16|     70|   186|          12|         46|        85|\n",
            "|  4|Beautiful People ...|   Ed Sheeran|             pop|            93|    65|          64|        -8|       8|     55|   198|          12|         19|        86|\n",
            "|  5|Goodbyes (Feat. Y...|  Post Malone|         dfw rap|           150|    65|          58|        -4|      11|     18|   175|          45|          7|        94|\n",
            "|  6|I Don't Care (wit...|   Ed Sheeran|             pop|           102|    68|          80|        -5|       9|     84|   220|           9|          4|        84|\n",
            "|  7|              Ransom|    Lil Tecca|      trap music|           180|    64|          75|        -6|       7|     23|   131|           2|         29|        92|\n",
            "|  8|   How Do You Sleep?|    Sam Smith|             pop|           111|    68|          48|        -5|       8|     35|   202|          15|          9|        90|\n",
            "|  9|Old Town Road - R...|    Lil Nas X|     country rap|           136|    62|          88|        -6|      11|     64|   157|           5|         10|        87|\n",
            "| 10|             bad guy|Billie Eilish|      electropop|           135|    43|          70|       -11|      10|     56|   194|          33|         38|        95|\n",
            "| 11|            Callaita|    Bad Bunny|       reggaeton|           176|    62|          61|        -5|      24|     24|   251|          60|         31|        93|\n",
            "| 12|Loco Contigo (fea...|     DJ Snake|       dance pop|            96|    71|          82|        -4|      15|     38|   185|          28|          7|        86|\n",
            "| 13|   Someone You Loved|Lewis Capaldi|             pop|           110|    41|          50|        -6|      11|     45|   182|          75|          3|        88|\n",
            "| 14|  Otro Trago - Remix|         Sech|  panamanian pop|           176|    79|          73|        -2|       6|     76|   288|           7|         20|        87|\n",
            "| 15|Money In The Grav...|        Drake|canadian hip hop|           101|    50|          83|        -4|      12|     10|   205|          10|          5|        92|\n",
            "| 16|No Guidance (feat...|  Chris Brown|       dance pop|            93|    45|          70|        -7|      16|     14|   261|          12|         15|        82|\n",
            "| 17|          LA CANCI�N|     J Balvin|           latin|           176|    65|          75|        -6|      11|     43|   243|          15|         32|        90|\n",
            "| 18|Sunflower - Spide...|  Post Malone|         dfw rap|            90|    48|          76|        -6|       7|     91|   158|          56|          5|        91|\n",
            "| 19|              Lalala|          Y2K|canadian hip hop|           130|    39|          84|        -8|      14|     50|   161|          18|          8|        88|\n",
            "| 20|         Truth Hurts|        Lizzo|     escape room|           158|    62|          72|        -3|      12|     41|   173|          11|         11|        91|\n",
            "+---+--------------------+-------------+----------------+--------------+------+------------+----------+--------+-------+------+------------+-----------+----------+\n",
            "only showing top 20 rows\n",
            "\n"
          ],
          "name": "stdout"
        }
      ]
    },
    {
      "cell_type": "markdown",
      "metadata": {
        "id": "0deXwY9ojlrP",
        "colab_type": "text"
      },
      "source": [
        "**Change Column name permanently**"
      ]
    },
    {
      "cell_type": "code",
      "metadata": {
        "id": "K7jjwMFCi1RE",
        "colab_type": "code",
        "colab": {}
      },
      "source": [
        "df=df.withColumnRenamed('Genre', 'TypeOfMusic')"
      ],
      "execution_count": 0,
      "outputs": []
    },
    {
      "cell_type": "code",
      "metadata": {
        "id": "oM5fCDRui3vW",
        "colab_type": "code",
        "outputId": "1e06aab4-0f95-4bab-ab33-70fbda603ca1",
        "colab": {
          "base_uri": "https://localhost:8080/",
          "height": 478
        }
      },
      "source": [
        "df.show()"
      ],
      "execution_count": 0,
      "outputs": [
        {
          "output_type": "stream",
          "text": [
            "+---+--------------------+-------------+----------------+--------------+------+------------+----------+--------+-------+------+------------+-----------+----------+\n",
            "|Sno|           TrackName|   ArtistName|     TypeOfMusic|BeatsPerMinute|Energy|Danceability|LoudnessdB|Liveness|Valence|Length|Acousticness|Speechiness|Popularity|\n",
            "+---+--------------------+-------------+----------------+--------------+------+------------+----------+--------+-------+------+------------+-----------+----------+\n",
            "|  1|            Se�orita| Shawn Mendes|    canadian pop|           117|    55|          76|        -6|       8|     75|   191|           4|          3|        79|\n",
            "|  2|               China|     Anuel AA|  reggaeton flow|           105|    81|          79|        -4|       8|     61|   302|           8|          9|        92|\n",
            "|  3|boyfriend (with S...|Ariana Grande|       dance pop|           190|    80|          40|        -4|      16|     70|   186|          12|         46|        85|\n",
            "|  4|Beautiful People ...|   Ed Sheeran|             pop|            93|    65|          64|        -8|       8|     55|   198|          12|         19|        86|\n",
            "|  5|Goodbyes (Feat. Y...|  Post Malone|         dfw rap|           150|    65|          58|        -4|      11|     18|   175|          45|          7|        94|\n",
            "|  6|I Don't Care (wit...|   Ed Sheeran|             pop|           102|    68|          80|        -5|       9|     84|   220|           9|          4|        84|\n",
            "|  7|              Ransom|    Lil Tecca|      trap music|           180|    64|          75|        -6|       7|     23|   131|           2|         29|        92|\n",
            "|  8|   How Do You Sleep?|    Sam Smith|             pop|           111|    68|          48|        -5|       8|     35|   202|          15|          9|        90|\n",
            "|  9|Old Town Road - R...|    Lil Nas X|     country rap|           136|    62|          88|        -6|      11|     64|   157|           5|         10|        87|\n",
            "| 10|             bad guy|Billie Eilish|      electropop|           135|    43|          70|       -11|      10|     56|   194|          33|         38|        95|\n",
            "| 11|            Callaita|    Bad Bunny|       reggaeton|           176|    62|          61|        -5|      24|     24|   251|          60|         31|        93|\n",
            "| 12|Loco Contigo (fea...|     DJ Snake|       dance pop|            96|    71|          82|        -4|      15|     38|   185|          28|          7|        86|\n",
            "| 13|   Someone You Loved|Lewis Capaldi|             pop|           110|    41|          50|        -6|      11|     45|   182|          75|          3|        88|\n",
            "| 14|  Otro Trago - Remix|         Sech|  panamanian pop|           176|    79|          73|        -2|       6|     76|   288|           7|         20|        87|\n",
            "| 15|Money In The Grav...|        Drake|canadian hip hop|           101|    50|          83|        -4|      12|     10|   205|          10|          5|        92|\n",
            "| 16|No Guidance (feat...|  Chris Brown|       dance pop|            93|    45|          70|        -7|      16|     14|   261|          12|         15|        82|\n",
            "| 17|          LA CANCI�N|     J Balvin|           latin|           176|    65|          75|        -6|      11|     43|   243|          15|         32|        90|\n",
            "| 18|Sunflower - Spide...|  Post Malone|         dfw rap|            90|    48|          76|        -6|       7|     91|   158|          56|          5|        91|\n",
            "| 19|              Lalala|          Y2K|canadian hip hop|           130|    39|          84|        -8|      14|     50|   161|          18|          8|        88|\n",
            "| 20|         Truth Hurts|        Lizzo|     escape room|           158|    62|          72|        -3|      12|     41|   173|          11|         11|        91|\n",
            "+---+--------------------+-------------+----------------+--------------+------+------------+----------+--------+-------+------+------------+-----------+----------+\n",
            "only showing top 20 rows\n",
            "\n"
          ],
          "name": "stdout"
        }
      ]
    },
    {
      "cell_type": "code",
      "metadata": {
        "id": "P0G-zV3foWhd",
        "colab_type": "code",
        "outputId": "8511c191-b14b-4c47-b0e3-3d970b71400a",
        "colab": {
          "base_uri": "https://localhost:8080/",
          "height": 301
        }
      },
      "source": [
        "df.printSchema()"
      ],
      "execution_count": 0,
      "outputs": [
        {
          "output_type": "stream",
          "text": [
            "root\n",
            " |-- Sno: integer (nullable = true)\n",
            " |-- TrackName: string (nullable = true)\n",
            " |-- ArtistName: string (nullable = true)\n",
            " |-- TypeOfMusic: string (nullable = true)\n",
            " |-- BeatsPerMinute: integer (nullable = true)\n",
            " |-- Energy: integer (nullable = true)\n",
            " |-- Danceability: integer (nullable = true)\n",
            " |-- LoudnessdB: integer (nullable = true)\n",
            " |-- Liveness: integer (nullable = true)\n",
            " |-- Valence: integer (nullable = true)\n",
            " |-- Length: integer (nullable = true)\n",
            " |-- Acousticness: integer (nullable = true)\n",
            " |-- Speechiness: integer (nullable = true)\n",
            " |-- Popularity: integer (nullable = true)\n",
            "\n"
          ],
          "name": "stdout"
        }
      ]
    },
    {
      "cell_type": "markdown",
      "metadata": {
        "id": "BmFJ3nHVmtz6",
        "colab_type": "text"
      },
      "source": [
        "**Group By/  With Coumn Renamed**"
      ]
    },
    {
      "cell_type": "code",
      "metadata": {
        "id": "7FFuPsAHi5UF",
        "colab_type": "code",
        "colab": {}
      },
      "source": [
        "df1=df.groupBy(\"ArtistName\").count()"
      ],
      "execution_count": 0,
      "outputs": []
    },
    {
      "cell_type": "code",
      "metadata": {
        "id": "Sr4r-ErLj16m",
        "colab_type": "code",
        "colab": {}
      },
      "source": [
        "df1=df1.withColumnRenamed(\"count\",\"Count\")"
      ],
      "execution_count": 0,
      "outputs": []
    },
    {
      "cell_type": "code",
      "metadata": {
        "id": "y61eZdhslUGG",
        "colab_type": "code",
        "colab": {}
      },
      "source": [
        "from pyspark.sql.functions import *"
      ],
      "execution_count": 0,
      "outputs": []
    },
    {
      "cell_type": "code",
      "metadata": {
        "id": "4I6QRL3vlsAn",
        "colab_type": "code",
        "outputId": "af224bd0-cd22-409e-f576-df66f4ab8924",
        "colab": {
          "base_uri": "https://localhost:8080/",
          "height": 478
        }
      },
      "source": [
        "df1.show()"
      ],
      "execution_count": 0,
      "outputs": [
        {
          "output_type": "stream",
          "text": [
            "+----------------+-----+\n",
            "|      ArtistName|Count|\n",
            "+----------------+-----+\n",
            "|       Lil Nas X|    2|\n",
            "|       Ali Gatie|    1|\n",
            "|The Chainsmokers|    2|\n",
            "|     Tones and I|    1|\n",
            "|       Lil Tecca|    1|\n",
            "|    Taylor Swift|    1|\n",
            "|          Maluma|    1|\n",
            "|       Sam Smith|    1|\n",
            "|            Kygo|    1|\n",
            "|         ROSAL�A|    1|\n",
            "|          Khalid|    1|\n",
            "|      Marshmello|    2|\n",
            "|   Ariana Grande|    2|\n",
            "|   Billie Eilish|    2|\n",
            "|    Shawn Mendes|    2|\n",
            "|            Sech|    2|\n",
            "|            Lauv|    1|\n",
            "|       Bad Bunny|    1|\n",
            "|   Lewis Capaldi|    1|\n",
            "|     Jhay Cortez|    1|\n",
            "+----------------+-----+\n",
            "only showing top 20 rows\n",
            "\n"
          ],
          "name": "stdout"
        }
      ]
    },
    {
      "cell_type": "markdown",
      "metadata": {
        "id": "PPIWdZN3po6h",
        "colab_type": "text"
      },
      "source": [
        "**Filter/ Where/ Condition /Multiple Condition**"
      ]
    },
    {
      "cell_type": "code",
      "metadata": {
        "id": "NEAS4WdmluiO",
        "colab_type": "code",
        "outputId": "b74c5cab-7601-4377-848a-215d89289dc4",
        "colab": {
          "base_uri": "https://localhost:8080/",
          "height": 478
        }
      },
      "source": [
        "df.where((col(\"Danceability\") >50) & (col(\"Danceability\") <75)).show()"
      ],
      "execution_count": 0,
      "outputs": [
        {
          "output_type": "stream",
          "text": [
            "+---+--------------------+-------------+----------------+--------------+------+------------+----------+--------+-------+------+------------+-----------+----------+\n",
            "|Sno|           TrackName|   ArtistName|     TypeOfMusic|BeatsPerMinute|Energy|Danceability|LoudnessdB|Liveness|Valence|Length|Acousticness|Speechiness|Popularity|\n",
            "+---+--------------------+-------------+----------------+--------------+------+------------+----------+--------+-------+------+------------+-----------+----------+\n",
            "|  4|Beautiful People ...|   Ed Sheeran|             pop|            93|    65|          64|        -8|       8|     55|   198|          12|         19|        86|\n",
            "|  5|Goodbyes (Feat. Y...|  Post Malone|         dfw rap|           150|    65|          58|        -4|      11|     18|   175|          45|          7|        94|\n",
            "| 10|             bad guy|Billie Eilish|      electropop|           135|    43|          70|       -11|      10|     56|   194|          33|         38|        95|\n",
            "| 11|            Callaita|    Bad Bunny|       reggaeton|           176|    62|          61|        -5|      24|     24|   251|          60|         31|        93|\n",
            "| 14|  Otro Trago - Remix|         Sech|  panamanian pop|           176|    79|          73|        -2|       6|     76|   288|           7|         20|        87|\n",
            "| 16|No Guidance (feat...|  Chris Brown|       dance pop|            93|    45|          70|        -7|      16|     14|   261|          12|         15|        82|\n",
            "| 20|         Truth Hurts|        Lizzo|     escape room|           158|    62|          72|        -3|      12|     41|   173|          11|         11|        91|\n",
            "| 21| Piece Of Your Heart|       MEDUZA|       pop house|           124|    74|          68|        -7|       7|     63|   153|           4|          3|        91|\n",
            "| 22|              Panini|    Lil Nas X|     country rap|           154|    59|          70|        -6|      12|     48|   115|          34|          8|        91|\n",
            "| 25|bad guy (with Jus...|Billie Eilish|      electropop|           135|    45|          67|       -11|      12|     68|   195|          25|         30|        89|\n",
            "| 26| If I Can't Have You| Shawn Mendes|    canadian pop|           124|    82|          69|        -4|      13|     87|   191|          49|          6|        70|\n",
            "| 28|            It's You|    Ali Gatie|canadian hip hop|            96|    46|          73|        -7|      19|     40|   213|          37|          3|        89|\n",
            "| 29|           Con Calma| Daddy Yankee|           latin|            94|    86|          74|        -3|       6|     66|   193|          11|          6|        91|\n",
            "| 30|       QUE PRETENDES|     J Balvin|           latin|            93|    79|          64|        -4|      36|     94|   222|           3|         25|        89|\n",
            "| 36|Summer Days (feat...|Martin Garrix|        big room|           114|    72|          66|        -7|      14|     32|   164|          18|          6|        89|\n",
            "| 38|Antisocial (with ...|   Ed Sheeran|             pop|           152|    82|          72|        -5|      36|     91|   162|          13|          5|        87|\n",
            "| 41|         Higher Love|         Kygo|             edm|           104|    68|          69|        -7|      10|     40|   228|           2|          3|        88|\n",
            "| 43|             Shallow|    Lady Gaga|       dance pop|            96|    39|          57|        -6|      23|     32|   216|          37|          3|        87|\n",
            "| 46|     One Thing Right|   Marshmello|         brostep|            88|    62|          66|        -2|      58|     44|   182|           7|          5|        88|\n",
            "| 47|           Te Robar�|    Nicky Jam|           latin|           176|    75|          67|        -4|       8|     80|   202|          24|          6|        88|\n",
            "+---+--------------------+-------------+----------------+--------------+------+------------+----------+--------+-------+------+------------+-----------+----------+\n",
            "only showing top 20 rows\n",
            "\n"
          ],
          "name": "stdout"
        }
      ]
    },
    {
      "cell_type": "markdown",
      "metadata": {
        "id": "OogF0no2rWN8",
        "colab_type": "text"
      },
      "source": [
        "**Filter Condition**"
      ]
    },
    {
      "cell_type": "code",
      "metadata": {
        "id": "33XsHm3lp68R",
        "colab_type": "code",
        "outputId": "b691b6f5-29e5-4934-b0ee-587ed17265ff",
        "colab": {
          "base_uri": "https://localhost:8080/",
          "height": 194
        }
      },
      "source": [
        "df.filter((col(\"TypeOfMusic\")==\"latin\")).show()"
      ],
      "execution_count": 0,
      "outputs": [
        {
          "output_type": "stream",
          "text": [
            "+---+---------------+------------+-----------+--------------+------+------------+----------+--------+-------+------+------------+-----------+----------+\n",
            "|Sno|      TrackName|  ArtistName|TypeOfMusic|BeatsPerMinute|Energy|Danceability|LoudnessdB|Liveness|Valence|Length|Acousticness|Speechiness|Popularity|\n",
            "+---+---------------+------------+-----------+--------------+------+------------+----------+--------+-------+------+------------+-----------+----------+\n",
            "| 17|     LA CANCI�N|    J Balvin|      latin|           176|    65|          75|        -6|      11|     43|   243|          15|         32|        90|\n",
            "| 24|Soltera - Remix|       Lunay|      latin|            92|    78|          80|        -4|      44|     80|   266|          36|          4|        91|\n",
            "| 29|      Con Calma|Daddy Yankee|      latin|            94|    86|          74|        -3|       6|     66|   193|          11|          6|        91|\n",
            "| 30|  QUE PRETENDES|    J Balvin|      latin|            93|    79|          64|        -4|      36|     94|   222|           3|         25|        89|\n",
            "| 47|      Te Robar�|   Nicky Jam|      latin|           176|    75|          67|        -4|       8|     80|   202|          24|          6|        88|\n",
            "+---+---------------+------------+-----------+--------------+------+------------+----------+--------+-------+------+------------+-----------+----------+\n",
            "\n"
          ],
          "name": "stdout"
        }
      ]
    },
    {
      "cell_type": "markdown",
      "metadata": {
        "id": "qStpJ190r3fP",
        "colab_type": "text"
      },
      "source": [
        "**Filter Multiple Condition**"
      ]
    },
    {
      "cell_type": "code",
      "metadata": {
        "id": "NSfsTRBvq36o",
        "colab_type": "code",
        "outputId": "e9fb360a-f611-4c40-f22a-73376538ddd7",
        "colab": {
          "base_uri": "https://localhost:8080/",
          "height": 141
        }
      },
      "source": [
        "df.filter((col(\"TypeOfMusic\")==\"latin\")&(col(\"Speechiness\")==6)).show()"
      ],
      "execution_count": 0,
      "outputs": [
        {
          "output_type": "stream",
          "text": [
            "+---+---------+------------+-----------+--------------+------+------------+----------+--------+-------+------+------------+-----------+----------+\n",
            "|Sno|TrackName|  ArtistName|TypeOfMusic|BeatsPerMinute|Energy|Danceability|LoudnessdB|Liveness|Valence|Length|Acousticness|Speechiness|Popularity|\n",
            "+---+---------+------------+-----------+--------------+------+------------+----------+--------+-------+------+------------+-----------+----------+\n",
            "| 29|Con Calma|Daddy Yankee|      latin|            94|    86|          74|        -3|       6|     66|   193|          11|          6|        91|\n",
            "| 47|Te Robar�|   Nicky Jam|      latin|           176|    75|          67|        -4|       8|     80|   202|          24|          6|        88|\n",
            "+---+---------+------------+-----------+--------------+------+------------+----------+--------+-------+------+------------+-----------+----------+\n",
            "\n"
          ],
          "name": "stdout"
        }
      ]
    },
    {
      "cell_type": "code",
      "metadata": {
        "id": "PlQXV-zyrzkB",
        "colab_type": "code",
        "outputId": "48fe778d-014c-48e5-8665-257c23f9177c",
        "colab": {
          "base_uri": "https://localhost:8080/",
          "height": 478
        }
      },
      "source": [
        "df.filter((col(\"Danceability\") >50) & (col(\"Danceability\") <75)).show()"
      ],
      "execution_count": 0,
      "outputs": [
        {
          "output_type": "stream",
          "text": [
            "+---+--------------------+-------------+----------------+--------------+------+------------+----------+--------+-------+------+------------+-----------+----------+\n",
            "|Sno|           TrackName|   ArtistName|     TypeOfMusic|BeatsPerMinute|Energy|Danceability|LoudnessdB|Liveness|Valence|Length|Acousticness|Speechiness|Popularity|\n",
            "+---+--------------------+-------------+----------------+--------------+------+------------+----------+--------+-------+------+------------+-----------+----------+\n",
            "|  4|Beautiful People ...|   Ed Sheeran|             pop|            93|    65|          64|        -8|       8|     55|   198|          12|         19|        86|\n",
            "|  5|Goodbyes (Feat. Y...|  Post Malone|         dfw rap|           150|    65|          58|        -4|      11|     18|   175|          45|          7|        94|\n",
            "| 10|             bad guy|Billie Eilish|      electropop|           135|    43|          70|       -11|      10|     56|   194|          33|         38|        95|\n",
            "| 11|            Callaita|    Bad Bunny|       reggaeton|           176|    62|          61|        -5|      24|     24|   251|          60|         31|        93|\n",
            "| 14|  Otro Trago - Remix|         Sech|  panamanian pop|           176|    79|          73|        -2|       6|     76|   288|           7|         20|        87|\n",
            "| 16|No Guidance (feat...|  Chris Brown|       dance pop|            93|    45|          70|        -7|      16|     14|   261|          12|         15|        82|\n",
            "| 20|         Truth Hurts|        Lizzo|     escape room|           158|    62|          72|        -3|      12|     41|   173|          11|         11|        91|\n",
            "| 21| Piece Of Your Heart|       MEDUZA|       pop house|           124|    74|          68|        -7|       7|     63|   153|           4|          3|        91|\n",
            "| 22|              Panini|    Lil Nas X|     country rap|           154|    59|          70|        -6|      12|     48|   115|          34|          8|        91|\n",
            "| 25|bad guy (with Jus...|Billie Eilish|      electropop|           135|    45|          67|       -11|      12|     68|   195|          25|         30|        89|\n",
            "| 26| If I Can't Have You| Shawn Mendes|    canadian pop|           124|    82|          69|        -4|      13|     87|   191|          49|          6|        70|\n",
            "| 28|            It's You|    Ali Gatie|canadian hip hop|            96|    46|          73|        -7|      19|     40|   213|          37|          3|        89|\n",
            "| 29|           Con Calma| Daddy Yankee|           latin|            94|    86|          74|        -3|       6|     66|   193|          11|          6|        91|\n",
            "| 30|       QUE PRETENDES|     J Balvin|           latin|            93|    79|          64|        -4|      36|     94|   222|           3|         25|        89|\n",
            "| 36|Summer Days (feat...|Martin Garrix|        big room|           114|    72|          66|        -7|      14|     32|   164|          18|          6|        89|\n",
            "| 38|Antisocial (with ...|   Ed Sheeran|             pop|           152|    82|          72|        -5|      36|     91|   162|          13|          5|        87|\n",
            "| 41|         Higher Love|         Kygo|             edm|           104|    68|          69|        -7|      10|     40|   228|           2|          3|        88|\n",
            "| 43|             Shallow|    Lady Gaga|       dance pop|            96|    39|          57|        -6|      23|     32|   216|          37|          3|        87|\n",
            "| 46|     One Thing Right|   Marshmello|         brostep|            88|    62|          66|        -2|      58|     44|   182|           7|          5|        88|\n",
            "| 47|           Te Robar�|    Nicky Jam|           latin|           176|    75|          67|        -4|       8|     80|   202|          24|          6|        88|\n",
            "+---+--------------------+-------------+----------------+--------------+------+------------+----------+--------+-------+------+------------+-----------+----------+\n",
            "only showing top 20 rows\n",
            "\n"
          ],
          "name": "stdout"
        }
      ]
    },
    {
      "cell_type": "markdown",
      "metadata": {
        "id": "2MoajiMPsaR0",
        "colab_type": "text"
      },
      "source": [
        "**Filter without using col**"
      ]
    },
    {
      "cell_type": "code",
      "metadata": {
        "id": "F3xxGgLasC_3",
        "colab_type": "code",
        "outputId": "272fd028-9000-4bbf-a53b-5aa9b63461b5",
        "colab": {
          "base_uri": "https://localhost:8080/",
          "height": 194
        }
      },
      "source": [
        "df.filter((df.TypeOfMusic==\"latin\")).show()"
      ],
      "execution_count": 0,
      "outputs": [
        {
          "output_type": "stream",
          "text": [
            "+---+---------------+------------+-----------+--------------+------+------------+----------+--------+-------+------+------------+-----------+----------+\n",
            "|Sno|      TrackName|  ArtistName|TypeOfMusic|BeatsPerMinute|Energy|Danceability|LoudnessdB|Liveness|Valence|Length|Acousticness|Speechiness|Popularity|\n",
            "+---+---------------+------------+-----------+--------------+------+------------+----------+--------+-------+------+------------+-----------+----------+\n",
            "| 17|     LA CANCI�N|    J Balvin|      latin|           176|    65|          75|        -6|      11|     43|   243|          15|         32|        90|\n",
            "| 24|Soltera - Remix|       Lunay|      latin|            92|    78|          80|        -4|      44|     80|   266|          36|          4|        91|\n",
            "| 29|      Con Calma|Daddy Yankee|      latin|            94|    86|          74|        -3|       6|     66|   193|          11|          6|        91|\n",
            "| 30|  QUE PRETENDES|    J Balvin|      latin|            93|    79|          64|        -4|      36|     94|   222|           3|         25|        89|\n",
            "| 47|      Te Robar�|   Nicky Jam|      latin|           176|    75|          67|        -4|       8|     80|   202|          24|          6|        88|\n",
            "+---+---------------+------------+-----------+--------------+------+------------+----------+--------+-------+------+------------+-----------+----------+\n",
            "\n"
          ],
          "name": "stdout"
        }
      ]
    },
    {
      "cell_type": "markdown",
      "metadata": {
        "id": "ETuT4l0musld",
        "colab_type": "text"
      },
      "source": [
        "**Group By/ Average**"
      ]
    },
    {
      "cell_type": "code",
      "metadata": {
        "id": "mqiovbLysUjP",
        "colab_type": "code",
        "outputId": "e2803dab-32f4-46ab-bb6d-2e5c22ef0e9e",
        "colab": {
          "base_uri": "https://localhost:8080/",
          "height": 478
        }
      },
      "source": [
        "df.groupby(\"TypeOfMusic\").avg(\"Length\").show()"
      ],
      "execution_count": 0,
      "outputs": [
        {
          "output_type": "stream",
          "text": [
            "+----------------+------------------+\n",
            "|     TypeOfMusic|       avg(Length)|\n",
            "+----------------+------------------+\n",
            "|        boy band|             181.0|\n",
            "|      electropop|             194.5|\n",
            "|             pop|195.42857142857142|\n",
            "|         brostep|             198.0|\n",
            "|        big room|             164.0|\n",
            "|       pop house|             153.0|\n",
            "|  australian pop|             210.0|\n",
            "|             edm|218.66666666666666|\n",
            "|  r&b en espanol|             162.0|\n",
            "|       dance pop|           202.625|\n",
            "|       reggaeton|             213.5|\n",
            "|    canadian pop|             191.0|\n",
            "|      trap music|             131.0|\n",
            "|     escape room|             173.0|\n",
            "|  reggaeton flow|             305.5|\n",
            "|  panamanian pop|             257.0|\n",
            "|     atl hip hop|             200.0|\n",
            "|     country rap|             136.0|\n",
            "|canadian hip hop|             193.0|\n",
            "|         dfw rap|             166.5|\n",
            "+----------------+------------------+\n",
            "only showing top 20 rows\n",
            "\n"
          ],
          "name": "stdout"
        }
      ]
    },
    {
      "cell_type": "code",
      "metadata": {
        "id": "KimV54sLtwLI",
        "colab_type": "code",
        "colab": {}
      },
      "source": [
        "from pyspark.sql.functions import *"
      ],
      "execution_count": 0,
      "outputs": []
    },
    {
      "cell_type": "markdown",
      "metadata": {
        "id": "BWjReSWLxHQl",
        "colab_type": "text"
      },
      "source": [
        "**Group By/ Count Distinct/ (Below) Count**"
      ]
    },
    {
      "cell_type": "code",
      "metadata": {
        "id": "vZ0Wo51jvvbA",
        "colab_type": "code",
        "outputId": "b0474def-8d90-4a42-e74b-671fb1d6edaf",
        "colab": {
          "base_uri": "https://localhost:8080/",
          "height": 478
        }
      },
      "source": [
        "df.groupBy(\"TypeOfMusic\").agg(countDistinct(\"ArtistName\")).show()"
      ],
      "execution_count": 0,
      "outputs": [
        {
          "output_type": "stream",
          "text": [
            "+----------------+--------------------------+\n",
            "|     TypeOfMusic|count(DISTINCT ArtistName)|\n",
            "+----------------+--------------------------+\n",
            "|        boy band|                         1|\n",
            "|      electropop|                         1|\n",
            "|             pop|                         4|\n",
            "|         brostep|                         1|\n",
            "|        big room|                         1|\n",
            "|       pop house|                         1|\n",
            "|  australian pop|                         1|\n",
            "|             edm|                         2|\n",
            "|  r&b en espanol|                         1|\n",
            "|       dance pop|                         7|\n",
            "|       reggaeton|                         2|\n",
            "|    canadian pop|                         1|\n",
            "|      trap music|                         1|\n",
            "|     escape room|                         1|\n",
            "|  reggaeton flow|                         2|\n",
            "|  panamanian pop|                         1|\n",
            "|     atl hip hop|                         1|\n",
            "|     country rap|                         1|\n",
            "|canadian hip hop|                         3|\n",
            "|         dfw rap|                         1|\n",
            "+----------------+--------------------------+\n",
            "only showing top 20 rows\n",
            "\n"
          ],
          "name": "stdout"
        }
      ]
    },
    {
      "cell_type": "code",
      "metadata": {
        "id": "iTPtRBfqwLZK",
        "colab_type": "code",
        "outputId": "7ccca987-f1eb-4d4e-f177-0b824ed1568c",
        "colab": {
          "base_uri": "https://localhost:8080/",
          "height": 478
        }
      },
      "source": [
        "\n",
        "df.groupBy(\"TypeOfMusic\").agg(count(\"ArtistName\")).show()"
      ],
      "execution_count": 0,
      "outputs": [
        {
          "output_type": "stream",
          "text": [
            "+----------------+-----------------+\n",
            "|     TypeOfMusic|count(ArtistName)|\n",
            "+----------------+-----------------+\n",
            "|        boy band|                1|\n",
            "|      electropop|                2|\n",
            "|             pop|                7|\n",
            "|         brostep|                2|\n",
            "|        big room|                1|\n",
            "|       pop house|                1|\n",
            "|  australian pop|                1|\n",
            "|             edm|                3|\n",
            "|  r&b en espanol|                1|\n",
            "|       dance pop|                8|\n",
            "|       reggaeton|                2|\n",
            "|    canadian pop|                2|\n",
            "|      trap music|                1|\n",
            "|     escape room|                1|\n",
            "|  reggaeton flow|                2|\n",
            "|  panamanian pop|                2|\n",
            "|     atl hip hop|                1|\n",
            "|     country rap|                2|\n",
            "|canadian hip hop|                3|\n",
            "|         dfw rap|                2|\n",
            "+----------------+-----------------+\n",
            "only showing top 20 rows\n",
            "\n"
          ],
          "name": "stdout"
        }
      ]
    },
    {
      "cell_type": "markdown",
      "metadata": {
        "id": "x-1aLRtwx6hD",
        "colab_type": "text"
      },
      "source": [
        "**Alias in group by**"
      ]
    },
    {
      "cell_type": "code",
      "metadata": {
        "id": "qhZ-S4Mnwp3h",
        "colab_type": "code",
        "outputId": "49428b4c-d301-45e0-d946-efc3f7876114",
        "colab": {
          "base_uri": "https://localhost:8080/",
          "height": 478
        }
      },
      "source": [
        "df.groupBy(\"TypeOfMusic\").agg(count(\"ArtistName\").alias(\"Count\")).show()"
      ],
      "execution_count": 0,
      "outputs": [
        {
          "output_type": "stream",
          "text": [
            "+----------------+-----+\n",
            "|     TypeOfMusic|Count|\n",
            "+----------------+-----+\n",
            "|        boy band|    1|\n",
            "|      electropop|    2|\n",
            "|             pop|    7|\n",
            "|         brostep|    2|\n",
            "|        big room|    1|\n",
            "|       pop house|    1|\n",
            "|  australian pop|    1|\n",
            "|             edm|    3|\n",
            "|  r&b en espanol|    1|\n",
            "|       dance pop|    8|\n",
            "|       reggaeton|    2|\n",
            "|    canadian pop|    2|\n",
            "|      trap music|    1|\n",
            "|     escape room|    1|\n",
            "|  reggaeton flow|    2|\n",
            "|  panamanian pop|    2|\n",
            "|     atl hip hop|    1|\n",
            "|     country rap|    2|\n",
            "|canadian hip hop|    3|\n",
            "|         dfw rap|    2|\n",
            "+----------------+-----+\n",
            "only showing top 20 rows\n",
            "\n"
          ],
          "name": "stdout"
        }
      ]
    },
    {
      "cell_type": "markdown",
      "metadata": {
        "id": "QWtMWvEBHoVE",
        "colab_type": "text"
      },
      "source": [
        "**Group By Having/ Filter**"
      ]
    },
    {
      "cell_type": "code",
      "metadata": {
        "id": "bjseKhQvCiOt",
        "colab_type": "code",
        "outputId": "11712ded-c581-40cd-8269-778e61715f7b",
        "colab": {
          "base_uri": "https://localhost:8080/",
          "height": 194
        }
      },
      "source": [
        "df.groupBy(\"TypeOfMusic\").agg(count(\"ArtistName\").alias(\"Count\")).filter(col(\"Count\")>2).show()"
      ],
      "execution_count": 0,
      "outputs": [
        {
          "output_type": "stream",
          "text": [
            "+----------------+-----+\n",
            "|     TypeOfMusic|Count|\n",
            "+----------------+-----+\n",
            "|             pop|    7|\n",
            "|             edm|    3|\n",
            "|       dance pop|    8|\n",
            "|canadian hip hop|    3|\n",
            "|           latin|    5|\n",
            "+----------------+-----+\n",
            "\n"
          ],
          "name": "stdout"
        }
      ]
    },
    {
      "cell_type": "markdown",
      "metadata": {
        "id": "n-LF7QZ6yhtm",
        "colab_type": "text"
      },
      "source": [
        "**Arrange in ascending/descending order /order by/Sort**"
      ]
    },
    {
      "cell_type": "code",
      "metadata": {
        "id": "1tD1K9YZxhXI",
        "colab_type": "code",
        "outputId": "59e1d306-468c-4f20-bdbb-8e84e7614d01",
        "colab": {
          "base_uri": "https://localhost:8080/",
          "height": 478
        }
      },
      "source": [
        "df.groupBy(\"TypeOfMusic\").agg(count(\"ArtistName\").alias(\"Count\")).orderBy('Count').show()"
      ],
      "execution_count": 0,
      "outputs": [
        {
          "output_type": "stream",
          "text": [
            "+----------------+-----+\n",
            "|     TypeOfMusic|Count|\n",
            "+----------------+-----+\n",
            "|       pop house|    1|\n",
            "|      trap music|    1|\n",
            "|     escape room|    1|\n",
            "|  australian pop|    1|\n",
            "|        boy band|    1|\n",
            "|     atl hip hop|    1|\n",
            "|  r&b en espanol|    1|\n",
            "|        big room|    1|\n",
            "|      electropop|    2|\n",
            "|    canadian pop|    2|\n",
            "|  reggaeton flow|    2|\n",
            "|  panamanian pop|    2|\n",
            "|         brostep|    2|\n",
            "|       reggaeton|    2|\n",
            "|     country rap|    2|\n",
            "|         dfw rap|    2|\n",
            "|canadian hip hop|    3|\n",
            "|             edm|    3|\n",
            "|           latin|    5|\n",
            "|             pop|    7|\n",
            "+----------------+-----+\n",
            "only showing top 20 rows\n",
            "\n"
          ],
          "name": "stdout"
        }
      ]
    },
    {
      "cell_type": "code",
      "metadata": {
        "id": "4kVkQhnXyPFY",
        "colab_type": "code",
        "outputId": "f4bedfcf-7e28-4899-b515-98c1e3b4a7d4",
        "colab": {
          "base_uri": "https://localhost:8080/",
          "height": 478
        }
      },
      "source": [
        "df.groupBy(\"TypeOfMusic\").agg(count(\"ArtistName\").alias(\"Count\")).orderBy(desc('Count')).show()"
      ],
      "execution_count": 0,
      "outputs": [
        {
          "output_type": "stream",
          "text": [
            "+----------------+-----+\n",
            "|     TypeOfMusic|Count|\n",
            "+----------------+-----+\n",
            "|       dance pop|    8|\n",
            "|             pop|    7|\n",
            "|           latin|    5|\n",
            "|             edm|    3|\n",
            "|canadian hip hop|    3|\n",
            "|      electropop|    2|\n",
            "|         brostep|    2|\n",
            "|         dfw rap|    2|\n",
            "|       reggaeton|    2|\n",
            "|    canadian pop|    2|\n",
            "|  reggaeton flow|    2|\n",
            "|  panamanian pop|    2|\n",
            "|     country rap|    2|\n",
            "|        boy band|    1|\n",
            "|        big room|    1|\n",
            "|       pop house|    1|\n",
            "|  r&b en espanol|    1|\n",
            "|      trap music|    1|\n",
            "|  australian pop|    1|\n",
            "|     atl hip hop|    1|\n",
            "+----------------+-----+\n",
            "only showing top 20 rows\n",
            "\n"
          ],
          "name": "stdout"
        }
      ]
    },
    {
      "cell_type": "code",
      "metadata": {
        "id": "UrIROVqQyc16",
        "colab_type": "code",
        "outputId": "f6184031-75fb-42e0-a1b0-1e57e781b7ac",
        "colab": {
          "base_uri": "https://localhost:8080/",
          "height": 478
        }
      },
      "source": [
        "df.groupBy(\"TypeOfMusic\").agg((max(\"Danceability\")-min(\"Danceability\")).alias(\"max-min\")).show()"
      ],
      "execution_count": 0,
      "outputs": [
        {
          "output_type": "stream",
          "text": [
            "+----------------+-------+\n",
            "|     TypeOfMusic|max-min|\n",
            "+----------------+-------+\n",
            "|        boy band|      0|\n",
            "|      electropop|      3|\n",
            "|             pop|     42|\n",
            "|         brostep|      3|\n",
            "|        big room|      0|\n",
            "|       pop house|      0|\n",
            "|  australian pop|      0|\n",
            "|             edm|     40|\n",
            "|  r&b en espanol|      0|\n",
            "|       dance pop|     42|\n",
            "|       reggaeton|     17|\n",
            "|    canadian pop|      7|\n",
            "|      trap music|      0|\n",
            "|     escape room|      0|\n",
            "|  reggaeton flow|      2|\n",
            "|  panamanian pop|      2|\n",
            "|     atl hip hop|      0|\n",
            "|     country rap|     18|\n",
            "|canadian hip hop|     11|\n",
            "|         dfw rap|     18|\n",
            "+----------------+-------+\n",
            "only showing top 20 rows\n",
            "\n"
          ],
          "name": "stdout"
        }
      ]
    },
    {
      "cell_type": "code",
      "metadata": {
        "id": "1xP2cWcc0JL5",
        "colab_type": "code",
        "outputId": "ad463775-e3f8-44f9-c3e3-cae328d70517",
        "colab": {
          "base_uri": "https://localhost:8080/",
          "height": 336
        }
      },
      "source": [
        "dataset1 = [\n",
        "\n",
        "  {\n",
        "\n",
        "  'key' : 'abc',\n",
        "\n",
        "  'val11' : 1.1,\n",
        "\n",
        "  'val12' : 1.2\n",
        "\n",
        "  },\n",
        "\n",
        "  {\n",
        "\n",
        "  'key' : 'def',\n",
        "\n",
        "  'val11' : 3.0,\n",
        "\n",
        "  'val12' : 3.4\n",
        "\n",
        "  }\n",
        "\n",
        "]\n",
        "\n",
        "dataset2 = [\n",
        "\n",
        "  {\n",
        "\n",
        "  'key' : 'abc',\n",
        "\n",
        "  'val21' : 2.1,\n",
        "\n",
        "  'val22' : 2.2\n",
        "\n",
        "  },\n",
        "\n",
        "  {\n",
        "\n",
        "  'key' : 'xyz',\n",
        "\n",
        "  'val21' : 3.1,\n",
        "\n",
        "  'val22' : 3.2\n",
        "\n",
        "  }\n",
        "\n",
        "]\n",
        "\n",
        "rdd1 = sc.parallelize(dataset1)\n",
        "\n",
        "df1 = spark.createDataFrame(rdd1)\n",
        "\n",
        "print('df1')\n",
        "\n",
        "df1.show()\n",
        "\n",
        "rdd2 = sc.parallelize(dataset2)\n",
        "\n",
        "df2 = spark.createDataFrame(rdd2)\n",
        "\n",
        "print('df2')\n",
        "\n",
        "df2.show()"
      ],
      "execution_count": 0,
      "outputs": [
        {
          "output_type": "stream",
          "text": [
            "/usr/local/lib/python3.6/dist-packages/pyspark/sql/session.py:366: UserWarning: Using RDD of dict to inferSchema is deprecated. Use pyspark.sql.Row instead\n",
            "  warnings.warn(\"Using RDD of dict to inferSchema is deprecated. \"\n"
          ],
          "name": "stderr"
        },
        {
          "output_type": "stream",
          "text": [
            "df1\n",
            "+---+-----+-----+\n",
            "|key|val11|val12|\n",
            "+---+-----+-----+\n",
            "|abc|  1.1|  1.2|\n",
            "|def|  3.0|  3.4|\n",
            "+---+-----+-----+\n",
            "\n",
            "df2\n",
            "+---+-----+-----+\n",
            "|key|val21|val22|\n",
            "+---+-----+-----+\n",
            "|abc|  2.1|  2.2|\n",
            "|xyz|  3.1|  3.2|\n",
            "+---+-----+-----+\n",
            "\n"
          ],
          "name": "stdout"
        }
      ]
    },
    {
      "cell_type": "markdown",
      "metadata": {
        "id": "nT230EeBGkFa",
        "colab_type": "text"
      },
      "source": [
        "**Join works with jdk 1.8**"
      ]
    },
    {
      "cell_type": "code",
      "metadata": {
        "id": "m_CqRNTU1JiJ",
        "colab_type": "code",
        "colab": {}
      },
      "source": [
        "\n",
        "df3=df1.join(df2,on=['key'],how='inner')"
      ],
      "execution_count": 0,
      "outputs": []
    },
    {
      "cell_type": "code",
      "metadata": {
        "id": "2YAxdMN0Gvxn",
        "colab_type": "code",
        "outputId": "1b0737e6-1a28-4a8e-e1ea-a8e098361be2",
        "colab": {
          "base_uri": "https://localhost:8080/",
          "height": 141
        }
      },
      "source": [
        "df1.join(df2,on=['key'],how='left_outer').show()"
      ],
      "execution_count": 0,
      "outputs": [
        {
          "output_type": "stream",
          "text": [
            "+---+-----+-----+-----+-----+\n",
            "|key|val11|val12|val21|val22|\n",
            "+---+-----+-----+-----+-----+\n",
            "|abc|  1.1|  1.2|  2.1|  2.2|\n",
            "|def|  3.0|  3.4| null| null|\n",
            "+---+-----+-----+-----+-----+\n",
            "\n"
          ],
          "name": "stdout"
        }
      ]
    },
    {
      "cell_type": "code",
      "metadata": {
        "id": "XA2ImHA91lQB",
        "colab_type": "code",
        "outputId": "8bcd8d9e-d465-4abb-ac8d-31c3ac1ba030",
        "colab": {
          "base_uri": "https://localhost:8080/",
          "height": 123
        }
      },
      "source": [
        "df3.show()"
      ],
      "execution_count": 0,
      "outputs": [
        {
          "output_type": "stream",
          "text": [
            "+---+-----+-----+-----+-----+\n",
            "|key|val11|val12|val21|val22|\n",
            "+---+-----+-----+-----+-----+\n",
            "|abc|  1.1|  1.2|  2.1|  2.2|\n",
            "+---+-----+-----+-----+-----+\n",
            "\n"
          ],
          "name": "stdout"
        }
      ]
    },
    {
      "cell_type": "code",
      "metadata": {
        "id": "MDK_dmUz1wKB",
        "colab_type": "code",
        "outputId": "6b509f47-1cc4-48a8-ff1e-c028edb9df60",
        "colab": {
          "base_uri": "https://localhost:8080/",
          "height": 176
        }
      },
      "source": [
        "df1.crossJoin(df2.select(\"key\")).show()"
      ],
      "execution_count": 0,
      "outputs": [
        {
          "output_type": "stream",
          "text": [
            "+---+-----+-----+---+\n",
            "|key|val11|val12|key|\n",
            "+---+-----+-----+---+\n",
            "|abc|  1.1|  1.2|abc|\n",
            "|abc|  1.1|  1.2|xyz|\n",
            "|def|  3.0|  3.4|abc|\n",
            "|def|  3.0|  3.4|xyz|\n",
            "+---+-----+-----+---+\n",
            "\n"
          ],
          "name": "stdout"
        }
      ]
    },
    {
      "cell_type": "code",
      "metadata": {
        "id": "jUpcRRyx390h",
        "colab_type": "code",
        "colab": {}
      },
      "source": [
        "df1.createOrReplaceTempView(\"df1\")"
      ],
      "execution_count": 0,
      "outputs": []
    },
    {
      "cell_type": "code",
      "metadata": {
        "id": "2cliIvrt9ILb",
        "colab_type": "code",
        "colab": {}
      },
      "source": [
        "df2.createOrReplaceTempView(\"df2\")"
      ],
      "execution_count": 0,
      "outputs": []
    },
    {
      "cell_type": "code",
      "metadata": {
        "id": "TLq3ga3Q4UhJ",
        "colab_type": "code",
        "colab": {}
      },
      "source": [
        "df3=spark.sql(\"SELECT df1.key,df1.val11,df2.val21 FROM df1 LEFT JOIN df2 on df1.key==df2.key\")"
      ],
      "execution_count": 0,
      "outputs": []
    },
    {
      "cell_type": "code",
      "metadata": {
        "id": "7pCF9anD6Uni",
        "colab_type": "code",
        "outputId": "3c2f0aae-568f-47ff-a313-05400ce4e86e",
        "colab": {
          "base_uri": "https://localhost:8080/",
          "height": 141
        }
      },
      "source": [
        "df3.show()"
      ],
      "execution_count": 0,
      "outputs": [
        {
          "output_type": "stream",
          "text": [
            "+---+-----+-----+\n",
            "|key|val11|val21|\n",
            "+---+-----+-----+\n",
            "|abc|  1.1|  2.1|\n",
            "|def|  3.0| null|\n",
            "+---+-----+-----+\n",
            "\n"
          ],
          "name": "stdout"
        }
      ]
    },
    {
      "cell_type": "code",
      "metadata": {
        "id": "4AEHK4vG61z6",
        "colab_type": "code",
        "outputId": "f21746da-dc65-4c46-e396-255fa37306e9",
        "colab": {
          "base_uri": "https://localhost:8080/",
          "height": 167
        }
      },
      "source": [
        "df4.show()"
      ],
      "execution_count": 0,
      "outputs": [
        {
          "output_type": "error",
          "ename": "NameError",
          "evalue": "ignored",
          "traceback": [
            "\u001b[0;31m---------------------------------------------------------------------------\u001b[0m",
            "\u001b[0;31mNameError\u001b[0m                                 Traceback (most recent call last)",
            "\u001b[0;32m<ipython-input-64-4d37eba09562>\u001b[0m in \u001b[0;36m<module>\u001b[0;34m()\u001b[0m\n\u001b[0;32m----> 1\u001b[0;31m \u001b[0mdf4\u001b[0m\u001b[0;34m.\u001b[0m\u001b[0mshow\u001b[0m\u001b[0;34m(\u001b[0m\u001b[0;34m)\u001b[0m\u001b[0;34m\u001b[0m\u001b[0;34m\u001b[0m\u001b[0m\n\u001b[0m",
            "\u001b[0;31mNameError\u001b[0m: name 'df4' is not defined"
          ]
        }
      ]
    },
    {
      "cell_type": "code",
      "metadata": {
        "id": "tN2mMNGeFMyz",
        "colab_type": "code",
        "colab": {}
      },
      "source": [
        ""
      ],
      "execution_count": 0,
      "outputs": []
    },
    {
      "cell_type": "markdown",
      "metadata": {
        "id": "FxxK0bXeIQJp",
        "colab_type": "text"
      },
      "source": [
        "**User Define Function /UDF/lambda**"
      ]
    },
    {
      "cell_type": "code",
      "metadata": {
        "id": "K1jwyQJAIWaL",
        "colab_type": "code",
        "colab": {}
      },
      "source": [
        "func=udf(lambda x:x*5)"
      ],
      "execution_count": 0,
      "outputs": []
    },
    {
      "cell_type": "code",
      "metadata": {
        "id": "NwcJFgPeIh2s",
        "colab_type": "code",
        "outputId": "3d5d5515-8031-405e-faa6-6c0c5f67001d",
        "colab": {
          "base_uri": "https://localhost:8080/",
          "height": 478
        }
      },
      "source": [
        "df.show()"
      ],
      "execution_count": 0,
      "outputs": [
        {
          "output_type": "stream",
          "text": [
            "+---+--------------------+-------------+----------------+--------------+------+------------+----------+--------+-------+------+------------+-----------+----------+\n",
            "|Sno|           TrackName|   ArtistName|     TypeOfMusic|BeatsPerMinute|Energy|Danceability|LoudnessdB|Liveness|Valence|Length|Acousticness|Speechiness|Popularity|\n",
            "+---+--------------------+-------------+----------------+--------------+------+------------+----------+--------+-------+------+------------+-----------+----------+\n",
            "|  1|            Se�orita| Shawn Mendes|    canadian pop|           117|    55|          76|        -6|       8|     75|   191|           4|          3|        79|\n",
            "|  2|               China|     Anuel AA|  reggaeton flow|           105|    81|          79|        -4|       8|     61|   302|           8|          9|        92|\n",
            "|  3|boyfriend (with S...|Ariana Grande|       dance pop|           190|    80|          40|        -4|      16|     70|   186|          12|         46|        85|\n",
            "|  4|Beautiful People ...|   Ed Sheeran|             pop|            93|    65|          64|        -8|       8|     55|   198|          12|         19|        86|\n",
            "|  5|Goodbyes (Feat. Y...|  Post Malone|         dfw rap|           150|    65|          58|        -4|      11|     18|   175|          45|          7|        94|\n",
            "|  6|I Don't Care (wit...|   Ed Sheeran|             pop|           102|    68|          80|        -5|       9|     84|   220|           9|          4|        84|\n",
            "|  7|              Ransom|    Lil Tecca|      trap music|           180|    64|          75|        -6|       7|     23|   131|           2|         29|        92|\n",
            "|  8|   How Do You Sleep?|    Sam Smith|             pop|           111|    68|          48|        -5|       8|     35|   202|          15|          9|        90|\n",
            "|  9|Old Town Road - R...|    Lil Nas X|     country rap|           136|    62|          88|        -6|      11|     64|   157|           5|         10|        87|\n",
            "| 10|             bad guy|Billie Eilish|      electropop|           135|    43|          70|       -11|      10|     56|   194|          33|         38|        95|\n",
            "| 11|            Callaita|    Bad Bunny|       reggaeton|           176|    62|          61|        -5|      24|     24|   251|          60|         31|        93|\n",
            "| 12|Loco Contigo (fea...|     DJ Snake|       dance pop|            96|    71|          82|        -4|      15|     38|   185|          28|          7|        86|\n",
            "| 13|   Someone You Loved|Lewis Capaldi|             pop|           110|    41|          50|        -6|      11|     45|   182|          75|          3|        88|\n",
            "| 14|  Otro Trago - Remix|         Sech|  panamanian pop|           176|    79|          73|        -2|       6|     76|   288|           7|         20|        87|\n",
            "| 15|Money In The Grav...|        Drake|canadian hip hop|           101|    50|          83|        -4|      12|     10|   205|          10|          5|        92|\n",
            "| 16|No Guidance (feat...|  Chris Brown|       dance pop|            93|    45|          70|        -7|      16|     14|   261|          12|         15|        82|\n",
            "| 17|          LA CANCI�N|     J Balvin|           latin|           176|    65|          75|        -6|      11|     43|   243|          15|         32|        90|\n",
            "| 18|Sunflower - Spide...|  Post Malone|         dfw rap|            90|    48|          76|        -6|       7|     91|   158|          56|          5|        91|\n",
            "| 19|              Lalala|          Y2K|canadian hip hop|           130|    39|          84|        -8|      14|     50|   161|          18|          8|        88|\n",
            "| 20|         Truth Hurts|        Lizzo|     escape room|           158|    62|          72|        -3|      12|     41|   173|          11|         11|        91|\n",
            "+---+--------------------+-------------+----------------+--------------+------+------------+----------+--------+-------+------+------------+-----------+----------+\n",
            "only showing top 20 rows\n",
            "\n"
          ],
          "name": "stdout"
        }
      ]
    },
    {
      "cell_type": "code",
      "metadata": {
        "id": "mCdkLLttInBt",
        "colab_type": "code",
        "outputId": "96fd2b40-cf81-4090-b2ef-d655444a9318",
        "colab": {
          "base_uri": "https://localhost:8080/",
          "height": 478
        }
      },
      "source": [
        "df.withColumn(\"BeatsPerMinute\",func(\"BeatsPerMinute\")).show()"
      ],
      "execution_count": 0,
      "outputs": [
        {
          "output_type": "stream",
          "text": [
            "+---+--------------------+-------------+----------------+--------------+------+------------+----------+--------+-------+------+------------+-----------+----------+\n",
            "|Sno|           TrackName|   ArtistName|     TypeOfMusic|BeatsPerMinute|Energy|Danceability|LoudnessdB|Liveness|Valence|Length|Acousticness|Speechiness|Popularity|\n",
            "+---+--------------------+-------------+----------------+--------------+------+------------+----------+--------+-------+------+------------+-----------+----------+\n",
            "|  1|            Se�orita| Shawn Mendes|    canadian pop|           585|    55|          76|        -6|       8|     75|   191|           4|          3|        79|\n",
            "|  2|               China|     Anuel AA|  reggaeton flow|           525|    81|          79|        -4|       8|     61|   302|           8|          9|        92|\n",
            "|  3|boyfriend (with S...|Ariana Grande|       dance pop|           950|    80|          40|        -4|      16|     70|   186|          12|         46|        85|\n",
            "|  4|Beautiful People ...|   Ed Sheeran|             pop|           465|    65|          64|        -8|       8|     55|   198|          12|         19|        86|\n",
            "|  5|Goodbyes (Feat. Y...|  Post Malone|         dfw rap|           750|    65|          58|        -4|      11|     18|   175|          45|          7|        94|\n",
            "|  6|I Don't Care (wit...|   Ed Sheeran|             pop|           510|    68|          80|        -5|       9|     84|   220|           9|          4|        84|\n",
            "|  7|              Ransom|    Lil Tecca|      trap music|           900|    64|          75|        -6|       7|     23|   131|           2|         29|        92|\n",
            "|  8|   How Do You Sleep?|    Sam Smith|             pop|           555|    68|          48|        -5|       8|     35|   202|          15|          9|        90|\n",
            "|  9|Old Town Road - R...|    Lil Nas X|     country rap|           680|    62|          88|        -6|      11|     64|   157|           5|         10|        87|\n",
            "| 10|             bad guy|Billie Eilish|      electropop|           675|    43|          70|       -11|      10|     56|   194|          33|         38|        95|\n",
            "| 11|            Callaita|    Bad Bunny|       reggaeton|           880|    62|          61|        -5|      24|     24|   251|          60|         31|        93|\n",
            "| 12|Loco Contigo (fea...|     DJ Snake|       dance pop|           480|    71|          82|        -4|      15|     38|   185|          28|          7|        86|\n",
            "| 13|   Someone You Loved|Lewis Capaldi|             pop|           550|    41|          50|        -6|      11|     45|   182|          75|          3|        88|\n",
            "| 14|  Otro Trago - Remix|         Sech|  panamanian pop|           880|    79|          73|        -2|       6|     76|   288|           7|         20|        87|\n",
            "| 15|Money In The Grav...|        Drake|canadian hip hop|           505|    50|          83|        -4|      12|     10|   205|          10|          5|        92|\n",
            "| 16|No Guidance (feat...|  Chris Brown|       dance pop|           465|    45|          70|        -7|      16|     14|   261|          12|         15|        82|\n",
            "| 17|          LA CANCI�N|     J Balvin|           latin|           880|    65|          75|        -6|      11|     43|   243|          15|         32|        90|\n",
            "| 18|Sunflower - Spide...|  Post Malone|         dfw rap|           450|    48|          76|        -6|       7|     91|   158|          56|          5|        91|\n",
            "| 19|              Lalala|          Y2K|canadian hip hop|           650|    39|          84|        -8|      14|     50|   161|          18|          8|        88|\n",
            "| 20|         Truth Hurts|        Lizzo|     escape room|           790|    62|          72|        -3|      12|     41|   173|          11|         11|        91|\n",
            "+---+--------------------+-------------+----------------+--------------+------+------------+----------+--------+-------+------+------------+-----------+----------+\n",
            "only showing top 20 rows\n",
            "\n"
          ],
          "name": "stdout"
        }
      ]
    },
    {
      "cell_type": "code",
      "metadata": {
        "id": "33cK8ySmCjS6",
        "colab_type": "code",
        "colab": {}
      },
      "source": [
        "func=udf(lambda x:x[0:5])"
      ],
      "execution_count": 0,
      "outputs": []
    },
    {
      "cell_type": "code",
      "metadata": {
        "id": "BAZj_9znBSRS",
        "colab_type": "code",
        "outputId": "8803f103-c63e-47aa-e78e-b99dd5c876c9",
        "colab": {
          "base_uri": "https://localhost:8080/",
          "height": 478
        }
      },
      "source": [
        "df.withColumn(\"ArtistShortCut\",func(\"ArtistName\")).show()"
      ],
      "execution_count": 0,
      "outputs": [
        {
          "output_type": "stream",
          "text": [
            "+---+--------------------+-------------+----------------+--------------+------+------------+----------+--------+-------+------+------------+-----------+----------+--------------+\n",
            "|Sno|           TrackName|   ArtistName|     TypeOfMusic|BeatsPerMinute|Energy|Danceability|LoudnessdB|Liveness|Valence|Length|Acousticness|Speechiness|Popularity|ArtistShortCut|\n",
            "+---+--------------------+-------------+----------------+--------------+------+------------+----------+--------+-------+------+------------+-----------+----------+--------------+\n",
            "|  1|            Se�orita| Shawn Mendes|    canadian pop|           117|    55|          76|        -6|       8|     75|   191|           4|          3|        79|         Shawn|\n",
            "|  2|               China|     Anuel AA|  reggaeton flow|           105|    81|          79|        -4|       8|     61|   302|           8|          9|        92|         Anuel|\n",
            "|  3|boyfriend (with S...|Ariana Grande|       dance pop|           190|    80|          40|        -4|      16|     70|   186|          12|         46|        85|         Arian|\n",
            "|  4|Beautiful People ...|   Ed Sheeran|             pop|            93|    65|          64|        -8|       8|     55|   198|          12|         19|        86|         Ed Sh|\n",
            "|  5|Goodbyes (Feat. Y...|  Post Malone|         dfw rap|           150|    65|          58|        -4|      11|     18|   175|          45|          7|        94|         Post |\n",
            "|  6|I Don't Care (wit...|   Ed Sheeran|             pop|           102|    68|          80|        -5|       9|     84|   220|           9|          4|        84|         Ed Sh|\n",
            "|  7|              Ransom|    Lil Tecca|      trap music|           180|    64|          75|        -6|       7|     23|   131|           2|         29|        92|         Lil T|\n",
            "|  8|   How Do You Sleep?|    Sam Smith|             pop|           111|    68|          48|        -5|       8|     35|   202|          15|          9|        90|         Sam S|\n",
            "|  9|Old Town Road - R...|    Lil Nas X|     country rap|           136|    62|          88|        -6|      11|     64|   157|           5|         10|        87|         Lil N|\n",
            "| 10|             bad guy|Billie Eilish|      electropop|           135|    43|          70|       -11|      10|     56|   194|          33|         38|        95|         Billi|\n",
            "| 11|            Callaita|    Bad Bunny|       reggaeton|           176|    62|          61|        -5|      24|     24|   251|          60|         31|        93|         Bad B|\n",
            "| 12|Loco Contigo (fea...|     DJ Snake|       dance pop|            96|    71|          82|        -4|      15|     38|   185|          28|          7|        86|         DJ Sn|\n",
            "| 13|   Someone You Loved|Lewis Capaldi|             pop|           110|    41|          50|        -6|      11|     45|   182|          75|          3|        88|         Lewis|\n",
            "| 14|  Otro Trago - Remix|         Sech|  panamanian pop|           176|    79|          73|        -2|       6|     76|   288|           7|         20|        87|          Sech|\n",
            "| 15|Money In The Grav...|        Drake|canadian hip hop|           101|    50|          83|        -4|      12|     10|   205|          10|          5|        92|         Drake|\n",
            "| 16|No Guidance (feat...|  Chris Brown|       dance pop|            93|    45|          70|        -7|      16|     14|   261|          12|         15|        82|         Chris|\n",
            "| 17|          LA CANCI�N|     J Balvin|           latin|           176|    65|          75|        -6|      11|     43|   243|          15|         32|        90|         J Bal|\n",
            "| 18|Sunflower - Spide...|  Post Malone|         dfw rap|            90|    48|          76|        -6|       7|     91|   158|          56|          5|        91|         Post |\n",
            "| 19|              Lalala|          Y2K|canadian hip hop|           130|    39|          84|        -8|      14|     50|   161|          18|          8|        88|           Y2K|\n",
            "| 20|         Truth Hurts|        Lizzo|     escape room|           158|    62|          72|        -3|      12|     41|   173|          11|         11|        91|         Lizzo|\n",
            "+---+--------------------+-------------+----------------+--------------+------+------------+----------+--------+-------+------+------------+-----------+----------+--------------+\n",
            "only showing top 20 rows\n",
            "\n"
          ],
          "name": "stdout"
        }
      ]
    },
    {
      "cell_type": "code",
      "metadata": {
        "id": "go3YwfjmI2UD",
        "colab_type": "code",
        "colab": {}
      },
      "source": [
        "df5=spark.read.format(\"csv\").options(header='true',inferschema='true').load('/content/drive/My Drive/Datasets/employees.csv')\n",
        "\n",
        "#/content/drive/My Drive/top50.csv"
      ],
      "execution_count": 0,
      "outputs": []
    },
    {
      "cell_type": "code",
      "metadata": {
        "id": "aH4iAfM1vA7T",
        "colab_type": "code",
        "outputId": "c0f99c70-5cc2-4ea9-a7ab-ab2704a1a594",
        "colab": {
          "base_uri": "https://localhost:8080/",
          "height": 1000
        }
      },
      "source": [
        "df5.show(50)"
      ],
      "execution_count": 0,
      "outputs": [
        {
          "output_type": "stream",
          "text": [
            "+----------+------+----------+---------------+------+-------+-----------------+--------------------+\n",
            "|First Name|Gender|Start Date|Last Login Time|Salary|Bonus %|Senior Management|                Team|\n",
            "+----------+------+----------+---------------+------+-------+-----------------+--------------------+\n",
            "|   Douglas|  Male|  8/6/1993|       12:42 PM| 97308|  6.945|             true|           Marketing|\n",
            "|    Thomas|  Male| 3/31/1996|        6:53 AM| 61933|   4.17|             true|                null|\n",
            "|     Maria|Female| 4/23/1993|       11:17 AM|130590| 11.858|            false|             Finance|\n",
            "|     Jerry|  Male|  3/4/2005|        1:00 PM|138705|   9.34|             true|             Finance|\n",
            "|     Larry|  Male| 1/24/1998|        4:47 PM|101004|  1.389|             true|     Client Services|\n",
            "|    Dennis|  Male| 4/18/1987|        1:35 AM|115163| 10.125|            false|               Legal|\n",
            "|      Ruby|Female| 8/17/1987|        4:20 PM| 65476| 10.012|             true|             Product|\n",
            "|      null|Female| 7/20/2015|       10:43 AM| 45906| 11.598|             null|             Finance|\n",
            "|    Angela|Female|11/22/2005|        6:29 AM| 95570| 18.523|             true|         Engineering|\n",
            "|   Frances|Female|  8/8/2002|        6:51 AM|139852|  7.524|             true|Business Development|\n",
            "|    Louise|Female| 8/12/1980|        9:01 AM| 63241| 15.132|             true|                null|\n",
            "|     Julie|Female|10/26/1997|        3:19 PM|102508| 12.637|             true|               Legal|\n",
            "|   Brandon|  Male| 12/1/1980|        1:08 AM|112807| 17.492|             true|     Human Resources|\n",
            "|      Gary|  Male| 1/27/2008|       11:40 PM|109831|  5.831|            false|               Sales|\n",
            "|  Kimberly|Female| 1/14/1999|        7:13 AM| 41426| 14.543|             true|             Finance|\n",
            "|   Lillian|Female|  6/5/2016|        6:09 AM| 59414|  1.256|            false|             Product|\n",
            "|    Jeremy|  Male| 9/21/2010|        5:56 AM| 90370|  7.369|            false|     Human Resources|\n",
            "|     Shawn|  Male| 12/7/1986|        7:45 PM|111737|  6.414|            false|             Product|\n",
            "|     Diana|Female|10/23/1981|       10:27 AM|132940| 19.082|            false|     Client Services|\n",
            "|     Donna|Female| 7/22/2010|        3:48 AM| 81014|  1.894|            false|             Product|\n",
            "|      Lois|  null| 4/22/1995|        7:18 PM| 64714|  4.934|             true|               Legal|\n",
            "|   Matthew|  Male|  9/5/1995|        2:12 AM|100612| 13.645|            false|           Marketing|\n",
            "|    Joshua|  null|  3/8/2012|        1:58 AM| 90816| 18.816|             true|     Client Services|\n",
            "|      null|  Male| 6/14/2012|        4:19 PM|125792|  5.042|             null|                null|\n",
            "|      John|  Male|  7/1/1992|       10:08 PM| 97950| 13.873|            false|     Client Services|\n",
            "|      null|  Male| 10/8/2012|        1:12 AM| 37076| 18.576|             null|     Client Services|\n",
            "|     Craig|  Male| 2/27/2000|        7:45 AM| 37598|  7.757|             true|           Marketing|\n",
            "|     Scott|  null| 7/11/1991|        6:58 PM|122367|  5.218|            false|               Legal|\n",
            "|     Terry|  Male|11/27/1981|        6:30 PM|124008| 13.464|             true|     Client Services|\n",
            "|  Benjamin|  Male| 1/26/2005|       10:06 PM| 79529|  7.008|             true|               Legal|\n",
            "| Christina|Female|  8/6/2002|        1:19 PM|118780|  9.096|             true|         Engineering|\n",
            "|     Joyce|  null| 2/20/2005|        2:40 PM| 88657| 12.752|            false|             Product|\n",
            "|      null|  Male| 8/21/1998|        2:27 PM|122340|  6.417|             null|                null|\n",
            "|      Jean|Female|12/18/1993|        9:07 AM|119082|  16.18|            false|Business Development|\n",
            "|     Jerry|  Male| 1/10/2004|       12:56 PM| 95734| 19.096|            false|     Client Services|\n",
            "|   Theresa|Female|10/10/2006|        1:12 AM| 85182| 16.675|            false|               Sales|\n",
            "|    Rachel|Female| 2/16/2009|        8:47 PM|142032| 12.599|            false|Business Development|\n",
            "|     Linda|Female|10/19/1981|        8:49 PM| 57427|  9.557|             true|     Client Services|\n",
            "| Stephanie|Female| 9/13/1986|        1:52 AM| 36844|  5.574|             true|Business Development|\n",
            "|      null|  Male| 1/29/2016|        2:33 AM|122173|  7.797|             null|     Client Services|\n",
            "|   Michael|  Male|10/10/2008|       11:25 AM| 99283|  2.665|             true|        Distribution|\n",
            "| Christine|  null| 6/28/2015|        1:08 AM| 66582| 11.308|             true|Business Development|\n",
            "|   Beverly|Female|  9/9/1998|        8:26 PM|121918| 15.835|            false|               Legal|\n",
            "|   Marilyn|Female| 12/7/1980|        3:16 AM| 73524|  5.207|             true|           Marketing|\n",
            "|   Cynthia|Female|11/16/1988|        6:54 PM|145146|  7.482|             true|             Product|\n",
            "|     Roger|  Male| 4/17/1980|       11:32 AM| 88010| 13.886|             true|               Sales|\n",
            "|     Bruce|  Male|11/28/2009|       10:47 PM|114796|  6.796|            false|             Finance|\n",
            "|     Kathy|Female| 6/22/2005|        4:51 AM| 66820|    9.0|             true|     Client Services|\n",
            "|  Clarence|  Male| 3/26/1996|        5:57 AM| 93581|  6.083|             true|Business Development|\n",
            "|     Chris|  null| 1/24/1980|       12:13 PM|113590|  3.055|            false|               Sales|\n",
            "+----------+------+----------+---------------+------+-------+-----------------+--------------------+\n",
            "only showing top 50 rows\n",
            "\n"
          ],
          "name": "stdout"
        }
      ]
    },
    {
      "cell_type": "markdown",
      "metadata": {
        "id": "glKNj-o5yKoU",
        "colab_type": "text"
      },
      "source": [
        "**Drop rows which has null values**"
      ]
    },
    {
      "cell_type": "code",
      "metadata": {
        "id": "go28wfxcvCog",
        "colab_type": "code",
        "outputId": "57ed402e-cdc5-42a5-dbeb-04a349c6e8bd",
        "colab": {
          "base_uri": "https://localhost:8080/",
          "height": 478
        }
      },
      "source": [
        "\n",
        "#df.filter(df.col_X.isNotNull())\n",
        "#df.select([count(when(isnull(c), c)).alias(c) for c in df.columns]).show()\n",
        "df5.na.drop(subset=[i for i in df5.columns]).show()"
      ],
      "execution_count": 0,
      "outputs": [
        {
          "output_type": "stream",
          "text": [
            "+----------+------+----------+---------------+------+-------+-----------------+--------------------+\n",
            "|First Name|Gender|Start Date|Last Login Time|Salary|Bonus %|Senior Management|                Team|\n",
            "+----------+------+----------+---------------+------+-------+-----------------+--------------------+\n",
            "|   Douglas|  Male|  8/6/1993|       12:42 PM| 97308|  6.945|             true|           Marketing|\n",
            "|     Maria|Female| 4/23/1993|       11:17 AM|130590| 11.858|            false|             Finance|\n",
            "|     Jerry|  Male|  3/4/2005|        1:00 PM|138705|   9.34|             true|             Finance|\n",
            "|     Larry|  Male| 1/24/1998|        4:47 PM|101004|  1.389|             true|     Client Services|\n",
            "|    Dennis|  Male| 4/18/1987|        1:35 AM|115163| 10.125|            false|               Legal|\n",
            "|      Ruby|Female| 8/17/1987|        4:20 PM| 65476| 10.012|             true|             Product|\n",
            "|    Angela|Female|11/22/2005|        6:29 AM| 95570| 18.523|             true|         Engineering|\n",
            "|   Frances|Female|  8/8/2002|        6:51 AM|139852|  7.524|             true|Business Development|\n",
            "|     Julie|Female|10/26/1997|        3:19 PM|102508| 12.637|             true|               Legal|\n",
            "|   Brandon|  Male| 12/1/1980|        1:08 AM|112807| 17.492|             true|     Human Resources|\n",
            "|      Gary|  Male| 1/27/2008|       11:40 PM|109831|  5.831|            false|               Sales|\n",
            "|  Kimberly|Female| 1/14/1999|        7:13 AM| 41426| 14.543|             true|             Finance|\n",
            "|   Lillian|Female|  6/5/2016|        6:09 AM| 59414|  1.256|            false|             Product|\n",
            "|    Jeremy|  Male| 9/21/2010|        5:56 AM| 90370|  7.369|            false|     Human Resources|\n",
            "|     Shawn|  Male| 12/7/1986|        7:45 PM|111737|  6.414|            false|             Product|\n",
            "|     Diana|Female|10/23/1981|       10:27 AM|132940| 19.082|            false|     Client Services|\n",
            "|     Donna|Female| 7/22/2010|        3:48 AM| 81014|  1.894|            false|             Product|\n",
            "|   Matthew|  Male|  9/5/1995|        2:12 AM|100612| 13.645|            false|           Marketing|\n",
            "|      John|  Male|  7/1/1992|       10:08 PM| 97950| 13.873|            false|     Client Services|\n",
            "|     Craig|  Male| 2/27/2000|        7:45 AM| 37598|  7.757|             true|           Marketing|\n",
            "+----------+------+----------+---------------+------+-------+-----------------+--------------------+\n",
            "only showing top 20 rows\n",
            "\n"
          ],
          "name": "stdout"
        }
      ]
    },
    {
      "cell_type": "markdown",
      "metadata": {
        "id": "GznfHJPDzA1W",
        "colab_type": "text"
      },
      "source": [
        "**Drop rows if particular column has got null values**"
      ]
    },
    {
      "cell_type": "code",
      "metadata": {
        "id": "nPIW0jopxUGU",
        "colab_type": "code",
        "outputId": "54dc0374-ebd2-4fc8-80bc-0ab5f3d501f6",
        "colab": {
          "base_uri": "https://localhost:8080/",
          "height": 478
        }
      },
      "source": [
        "df5.na.drop(subset=[\"Team\"]).show()"
      ],
      "execution_count": 0,
      "outputs": [
        {
          "output_type": "stream",
          "text": [
            "+----------+------+----------+---------------+------+-------+-----------------+--------------------+\n",
            "|First Name|Gender|Start Date|Last Login Time|Salary|Bonus %|Senior Management|                Team|\n",
            "+----------+------+----------+---------------+------+-------+-----------------+--------------------+\n",
            "|   Douglas|  Male|  8/6/1993|       12:42 PM| 97308|  6.945|             true|           Marketing|\n",
            "|     Maria|Female| 4/23/1993|       11:17 AM|130590| 11.858|            false|             Finance|\n",
            "|     Jerry|  Male|  3/4/2005|        1:00 PM|138705|   9.34|             true|             Finance|\n",
            "|     Larry|  Male| 1/24/1998|        4:47 PM|101004|  1.389|             true|     Client Services|\n",
            "|    Dennis|  Male| 4/18/1987|        1:35 AM|115163| 10.125|            false|               Legal|\n",
            "|      Ruby|Female| 8/17/1987|        4:20 PM| 65476| 10.012|             true|             Product|\n",
            "|      null|Female| 7/20/2015|       10:43 AM| 45906| 11.598|             null|             Finance|\n",
            "|    Angela|Female|11/22/2005|        6:29 AM| 95570| 18.523|             true|         Engineering|\n",
            "|   Frances|Female|  8/8/2002|        6:51 AM|139852|  7.524|             true|Business Development|\n",
            "|     Julie|Female|10/26/1997|        3:19 PM|102508| 12.637|             true|               Legal|\n",
            "|   Brandon|  Male| 12/1/1980|        1:08 AM|112807| 17.492|             true|     Human Resources|\n",
            "|      Gary|  Male| 1/27/2008|       11:40 PM|109831|  5.831|            false|               Sales|\n",
            "|  Kimberly|Female| 1/14/1999|        7:13 AM| 41426| 14.543|             true|             Finance|\n",
            "|   Lillian|Female|  6/5/2016|        6:09 AM| 59414|  1.256|            false|             Product|\n",
            "|    Jeremy|  Male| 9/21/2010|        5:56 AM| 90370|  7.369|            false|     Human Resources|\n",
            "|     Shawn|  Male| 12/7/1986|        7:45 PM|111737|  6.414|            false|             Product|\n",
            "|     Diana|Female|10/23/1981|       10:27 AM|132940| 19.082|            false|     Client Services|\n",
            "|     Donna|Female| 7/22/2010|        3:48 AM| 81014|  1.894|            false|             Product|\n",
            "|      Lois|  null| 4/22/1995|        7:18 PM| 64714|  4.934|             true|               Legal|\n",
            "|   Matthew|  Male|  9/5/1995|        2:12 AM|100612| 13.645|            false|           Marketing|\n",
            "+----------+------+----------+---------------+------+-------+-----------------+--------------------+\n",
            "only showing top 20 rows\n",
            "\n"
          ],
          "name": "stdout"
        }
      ]
    },
    {
      "cell_type": "code",
      "metadata": {
        "id": "mC5Cv90Zylq4",
        "colab_type": "code",
        "outputId": "2e3d5caf-a89a-4e9d-c6ec-cd47029ec3ab",
        "colab": {
          "base_uri": "https://localhost:8080/",
          "height": 34
        }
      },
      "source": [
        "df5.na.drop(subset=[\"Team\"])"
      ],
      "execution_count": 0,
      "outputs": [
        {
          "output_type": "execute_result",
          "data": {
            "text/plain": [
              "DataFrame[First Name: string, Gender: string, Start Date: string, Last Login Time: string, Salary: int, Bonus %: double, Senior Management: boolean, Team: string]"
            ]
          },
          "metadata": {
            "tags": []
          },
          "execution_count": 74
        }
      ]
    },
    {
      "cell_type": "markdown",
      "metadata": {
        "id": "YWrawsmZ_YFz",
        "colab_type": "text"
      },
      "source": [
        "**Rows which contain null values**"
      ]
    },
    {
      "cell_type": "code",
      "metadata": {
        "id": "rR7VBGZ_-ayG",
        "colab_type": "code",
        "colab": {}
      },
      "source": [
        "dataframe_withNoNull=df5.na.drop(subset=[i for i in df5.columns])"
      ],
      "execution_count": 0,
      "outputs": []
    },
    {
      "cell_type": "code",
      "metadata": {
        "id": "XMthc7zc_Ke0",
        "colab_type": "code",
        "outputId": "b0450961-793b-4541-b737-902cf5146fde",
        "colab": {
          "base_uri": "https://localhost:8080/",
          "height": 478
        }
      },
      "source": [
        "df5.exceptAll(dataframe_withNoNull).show()"
      ],
      "execution_count": 0,
      "outputs": [
        {
          "output_type": "stream",
          "text": [
            "+----------+------+----------+---------------+------+-------+-----------------+--------------------+\n",
            "|First Name|Gender|Start Date|Last Login Time|Salary|Bonus %|Senior Management|                Team|\n",
            "+----------+------+----------+---------------+------+-------+-----------------+--------------------+\n",
            "|   Marilyn|  null| 8/22/1999|        9:09 AM|103386| 11.451|            false|        Distribution|\n",
            "|      null|Female| 9/18/2002|       12:39 PM|118906|  4.537|             null|           Marketing|\n",
            "|   Brandon|  null| 5/31/2004|        3:36 PM| 73587|  9.769|             true|     Human Resources|\n",
            "|   Antonio|  null| 6/18/1989|        9:37 PM|103050|   3.05|            false|               Legal|\n",
            "|     Billy|  null| 3/16/2004|        8:21 AM| 62913| 18.241|             true|           Marketing|\n",
            "|  Nicholas|  null|  9/9/1989|        7:12 PM| 58478|  6.525|             true|        Distribution|\n",
            "|       Amy|  null| 5/19/1984|       11:47 AM|102839| 10.385|             true|        Distribution|\n",
            "| Christine|  null| 6/15/1980|        6:00 PM| 50366|  9.862|             true|           Marketing|\n",
            "|    Brenda|  null| 5/29/1991|        6:32 AM| 82439| 19.062|            false|               Sales|\n",
            "|   Phillip|  null|10/20/2003|       11:09 AM| 89700|  2.277|             true|                null|\n",
            "|      null|  Male| 2/21/1995|       12:26 AM|136602| 10.429|             null|           Marketing|\n",
            "|     Louis|  null|  2/5/1983|        6:39 PM|145274| 16.379|            false|             Product|\n",
            "| Christine|  null| 6/28/2015|        1:08 AM| 66582| 11.308|             true|Business Development|\n",
            "|    Janice|  null|11/19/1991|        6:02 PM|139791| 16.968|            false|Business Development|\n",
            "|   Cynthia|  null|11/19/1996|       10:40 PM|107816| 18.751|            false|           Marketing|\n",
            "|      null|  Male| 5/23/2001|        7:52 PM|103877|  6.322|             null|        Distribution|\n",
            "|      null|Female| 4/27/2013|        6:40 AM| 93847|  1.085|             null|Business Development|\n",
            "|    Gerald|  null|  1/8/1992|        3:50 PM|133366| 12.292|            false|               Legal|\n",
            "|    George|  null| 2/24/1988|       11:29 AM| 38375|  8.999|            false|               Legal|\n",
            "|     Jimmy|  null| 8/26/1983|        2:48 AM| 86676|  7.175|             true|             Product|\n",
            "+----------+------+----------+---------------+------+-------+-----------------+--------------------+\n",
            "only showing top 20 rows\n",
            "\n"
          ],
          "name": "stdout"
        }
      ]
    },
    {
      "cell_type": "markdown",
      "metadata": {
        "id": "vpuf8naH_23U",
        "colab_type": "text"
      },
      "source": [
        "**Add Columns fill it with 1**"
      ]
    },
    {
      "cell_type": "code",
      "metadata": {
        "id": "EGpxkDIJ_TN4",
        "colab_type": "code",
        "outputId": "80f4872a-50c7-4129-a5ce-01c856917bf5",
        "colab": {
          "base_uri": "https://localhost:8080/",
          "height": 478
        }
      },
      "source": [
        "df.show()"
      ],
      "execution_count": 0,
      "outputs": [
        {
          "output_type": "stream",
          "text": [
            "+---+--------------------+-------------+----------------+--------------+------+------------+----------+--------+-------+------+------------+-----------+----------+\n",
            "|Sno|           TrackName|   ArtistName|     TypeOfMusic|BeatsPerMinute|Energy|Danceability|LoudnessdB|Liveness|Valence|Length|Acousticness|Speechiness|Popularity|\n",
            "+---+--------------------+-------------+----------------+--------------+------+------------+----------+--------+-------+------+------------+-----------+----------+\n",
            "|  1|            Se�orita| Shawn Mendes|    canadian pop|           117|    55|          76|        -6|       8|     75|   191|           4|          3|        79|\n",
            "|  2|               China|     Anuel AA|  reggaeton flow|           105|    81|          79|        -4|       8|     61|   302|           8|          9|        92|\n",
            "|  3|boyfriend (with S...|Ariana Grande|       dance pop|           190|    80|          40|        -4|      16|     70|   186|          12|         46|        85|\n",
            "|  4|Beautiful People ...|   Ed Sheeran|             pop|            93|    65|          64|        -8|       8|     55|   198|          12|         19|        86|\n",
            "|  5|Goodbyes (Feat. Y...|  Post Malone|         dfw rap|           150|    65|          58|        -4|      11|     18|   175|          45|          7|        94|\n",
            "|  6|I Don't Care (wit...|   Ed Sheeran|             pop|           102|    68|          80|        -5|       9|     84|   220|           9|          4|        84|\n",
            "|  7|              Ransom|    Lil Tecca|      trap music|           180|    64|          75|        -6|       7|     23|   131|           2|         29|        92|\n",
            "|  8|   How Do You Sleep?|    Sam Smith|             pop|           111|    68|          48|        -5|       8|     35|   202|          15|          9|        90|\n",
            "|  9|Old Town Road - R...|    Lil Nas X|     country rap|           136|    62|          88|        -6|      11|     64|   157|           5|         10|        87|\n",
            "| 10|             bad guy|Billie Eilish|      electropop|           135|    43|          70|       -11|      10|     56|   194|          33|         38|        95|\n",
            "| 11|            Callaita|    Bad Bunny|       reggaeton|           176|    62|          61|        -5|      24|     24|   251|          60|         31|        93|\n",
            "| 12|Loco Contigo (fea...|     DJ Snake|       dance pop|            96|    71|          82|        -4|      15|     38|   185|          28|          7|        86|\n",
            "| 13|   Someone You Loved|Lewis Capaldi|             pop|           110|    41|          50|        -6|      11|     45|   182|          75|          3|        88|\n",
            "| 14|  Otro Trago - Remix|         Sech|  panamanian pop|           176|    79|          73|        -2|       6|     76|   288|           7|         20|        87|\n",
            "| 15|Money In The Grav...|        Drake|canadian hip hop|           101|    50|          83|        -4|      12|     10|   205|          10|          5|        92|\n",
            "| 16|No Guidance (feat...|  Chris Brown|       dance pop|            93|    45|          70|        -7|      16|     14|   261|          12|         15|        82|\n",
            "| 17|          LA CANCI�N|     J Balvin|           latin|           176|    65|          75|        -6|      11|     43|   243|          15|         32|        90|\n",
            "| 18|Sunflower - Spide...|  Post Malone|         dfw rap|            90|    48|          76|        -6|       7|     91|   158|          56|          5|        91|\n",
            "| 19|              Lalala|          Y2K|canadian hip hop|           130|    39|          84|        -8|      14|     50|   161|          18|          8|        88|\n",
            "| 20|         Truth Hurts|        Lizzo|     escape room|           158|    62|          72|        -3|      12|     41|   173|          11|         11|        91|\n",
            "+---+--------------------+-------------+----------------+--------------+------+------------+----------+--------+-------+------+------------+-----------+----------+\n",
            "only showing top 20 rows\n",
            "\n"
          ],
          "name": "stdout"
        }
      ]
    },
    {
      "cell_type": "code",
      "metadata": {
        "id": "tEvC1vMd_zzU",
        "colab_type": "code",
        "outputId": "28dff4b4-e05c-43d2-8725-982e2446d81f",
        "colab": {
          "base_uri": "https://localhost:8080/",
          "height": 478
        }
      },
      "source": [
        "df.withColumn(\"new_Column\",lit(1)).show()"
      ],
      "execution_count": 0,
      "outputs": [
        {
          "output_type": "stream",
          "text": [
            "+---+--------------------+-------------+----------------+--------------+------+------------+----------+--------+-------+------+------------+-----------+----------+----------+\n",
            "|Sno|           TrackName|   ArtistName|     TypeOfMusic|BeatsPerMinute|Energy|Danceability|LoudnessdB|Liveness|Valence|Length|Acousticness|Speechiness|Popularity|new_Column|\n",
            "+---+--------------------+-------------+----------------+--------------+------+------------+----------+--------+-------+------+------------+-----------+----------+----------+\n",
            "|  1|            Se�orita| Shawn Mendes|    canadian pop|           117|    55|          76|        -6|       8|     75|   191|           4|          3|        79|         1|\n",
            "|  2|               China|     Anuel AA|  reggaeton flow|           105|    81|          79|        -4|       8|     61|   302|           8|          9|        92|         1|\n",
            "|  3|boyfriend (with S...|Ariana Grande|       dance pop|           190|    80|          40|        -4|      16|     70|   186|          12|         46|        85|         1|\n",
            "|  4|Beautiful People ...|   Ed Sheeran|             pop|            93|    65|          64|        -8|       8|     55|   198|          12|         19|        86|         1|\n",
            "|  5|Goodbyes (Feat. Y...|  Post Malone|         dfw rap|           150|    65|          58|        -4|      11|     18|   175|          45|          7|        94|         1|\n",
            "|  6|I Don't Care (wit...|   Ed Sheeran|             pop|           102|    68|          80|        -5|       9|     84|   220|           9|          4|        84|         1|\n",
            "|  7|              Ransom|    Lil Tecca|      trap music|           180|    64|          75|        -6|       7|     23|   131|           2|         29|        92|         1|\n",
            "|  8|   How Do You Sleep?|    Sam Smith|             pop|           111|    68|          48|        -5|       8|     35|   202|          15|          9|        90|         1|\n",
            "|  9|Old Town Road - R...|    Lil Nas X|     country rap|           136|    62|          88|        -6|      11|     64|   157|           5|         10|        87|         1|\n",
            "| 10|             bad guy|Billie Eilish|      electropop|           135|    43|          70|       -11|      10|     56|   194|          33|         38|        95|         1|\n",
            "| 11|            Callaita|    Bad Bunny|       reggaeton|           176|    62|          61|        -5|      24|     24|   251|          60|         31|        93|         1|\n",
            "| 12|Loco Contigo (fea...|     DJ Snake|       dance pop|            96|    71|          82|        -4|      15|     38|   185|          28|          7|        86|         1|\n",
            "| 13|   Someone You Loved|Lewis Capaldi|             pop|           110|    41|          50|        -6|      11|     45|   182|          75|          3|        88|         1|\n",
            "| 14|  Otro Trago - Remix|         Sech|  panamanian pop|           176|    79|          73|        -2|       6|     76|   288|           7|         20|        87|         1|\n",
            "| 15|Money In The Grav...|        Drake|canadian hip hop|           101|    50|          83|        -4|      12|     10|   205|          10|          5|        92|         1|\n",
            "| 16|No Guidance (feat...|  Chris Brown|       dance pop|            93|    45|          70|        -7|      16|     14|   261|          12|         15|        82|         1|\n",
            "| 17|          LA CANCI�N|     J Balvin|           latin|           176|    65|          75|        -6|      11|     43|   243|          15|         32|        90|         1|\n",
            "| 18|Sunflower - Spide...|  Post Malone|         dfw rap|            90|    48|          76|        -6|       7|     91|   158|          56|          5|        91|         1|\n",
            "| 19|              Lalala|          Y2K|canadian hip hop|           130|    39|          84|        -8|      14|     50|   161|          18|          8|        88|         1|\n",
            "| 20|         Truth Hurts|        Lizzo|     escape room|           158|    62|          72|        -3|      12|     41|   173|          11|         11|        91|         1|\n",
            "+---+--------------------+-------------+----------------+--------------+------+------------+----------+--------+-------+------+------------+-----------+----------+----------+\n",
            "only showing top 20 rows\n",
            "\n"
          ],
          "name": "stdout"
        }
      ]
    },
    {
      "cell_type": "markdown",
      "metadata": {
        "id": "XURsFONYAK90",
        "colab_type": "text"
      },
      "source": [
        "**Add column from existing column**"
      ]
    },
    {
      "cell_type": "code",
      "metadata": {
        "id": "QapSSm9RABU7",
        "colab_type": "code",
        "outputId": "3018f9ad-4d95-414f-e19a-f85c644a610a",
        "colab": {
          "base_uri": "https://localhost:8080/",
          "height": 478
        }
      },
      "source": [
        "df.withColumn(\"10timeS_Beat\",col(\"BeatsPerMinute\")*10).show()"
      ],
      "execution_count": 0,
      "outputs": [
        {
          "output_type": "stream",
          "text": [
            "+---+--------------------+-------------+----------------+--------------+------+------------+----------+--------+-------+------+------------+-----------+----------+------------+\n",
            "|Sno|           TrackName|   ArtistName|     TypeOfMusic|BeatsPerMinute|Energy|Danceability|LoudnessdB|Liveness|Valence|Length|Acousticness|Speechiness|Popularity|10timeS_Beat|\n",
            "+---+--------------------+-------------+----------------+--------------+------+------------+----------+--------+-------+------+------------+-----------+----------+------------+\n",
            "|  1|            Se�orita| Shawn Mendes|    canadian pop|           117|    55|          76|        -6|       8|     75|   191|           4|          3|        79|        1170|\n",
            "|  2|               China|     Anuel AA|  reggaeton flow|           105|    81|          79|        -4|       8|     61|   302|           8|          9|        92|        1050|\n",
            "|  3|boyfriend (with S...|Ariana Grande|       dance pop|           190|    80|          40|        -4|      16|     70|   186|          12|         46|        85|        1900|\n",
            "|  4|Beautiful People ...|   Ed Sheeran|             pop|            93|    65|          64|        -8|       8|     55|   198|          12|         19|        86|         930|\n",
            "|  5|Goodbyes (Feat. Y...|  Post Malone|         dfw rap|           150|    65|          58|        -4|      11|     18|   175|          45|          7|        94|        1500|\n",
            "|  6|I Don't Care (wit...|   Ed Sheeran|             pop|           102|    68|          80|        -5|       9|     84|   220|           9|          4|        84|        1020|\n",
            "|  7|              Ransom|    Lil Tecca|      trap music|           180|    64|          75|        -6|       7|     23|   131|           2|         29|        92|        1800|\n",
            "|  8|   How Do You Sleep?|    Sam Smith|             pop|           111|    68|          48|        -5|       8|     35|   202|          15|          9|        90|        1110|\n",
            "|  9|Old Town Road - R...|    Lil Nas X|     country rap|           136|    62|          88|        -6|      11|     64|   157|           5|         10|        87|        1360|\n",
            "| 10|             bad guy|Billie Eilish|      electropop|           135|    43|          70|       -11|      10|     56|   194|          33|         38|        95|        1350|\n",
            "| 11|            Callaita|    Bad Bunny|       reggaeton|           176|    62|          61|        -5|      24|     24|   251|          60|         31|        93|        1760|\n",
            "| 12|Loco Contigo (fea...|     DJ Snake|       dance pop|            96|    71|          82|        -4|      15|     38|   185|          28|          7|        86|         960|\n",
            "| 13|   Someone You Loved|Lewis Capaldi|             pop|           110|    41|          50|        -6|      11|     45|   182|          75|          3|        88|        1100|\n",
            "| 14|  Otro Trago - Remix|         Sech|  panamanian pop|           176|    79|          73|        -2|       6|     76|   288|           7|         20|        87|        1760|\n",
            "| 15|Money In The Grav...|        Drake|canadian hip hop|           101|    50|          83|        -4|      12|     10|   205|          10|          5|        92|        1010|\n",
            "| 16|No Guidance (feat...|  Chris Brown|       dance pop|            93|    45|          70|        -7|      16|     14|   261|          12|         15|        82|         930|\n",
            "| 17|          LA CANCI�N|     J Balvin|           latin|           176|    65|          75|        -6|      11|     43|   243|          15|         32|        90|        1760|\n",
            "| 18|Sunflower - Spide...|  Post Malone|         dfw rap|            90|    48|          76|        -6|       7|     91|   158|          56|          5|        91|         900|\n",
            "| 19|              Lalala|          Y2K|canadian hip hop|           130|    39|          84|        -8|      14|     50|   161|          18|          8|        88|        1300|\n",
            "| 20|         Truth Hurts|        Lizzo|     escape room|           158|    62|          72|        -3|      12|     41|   173|          11|         11|        91|        1580|\n",
            "+---+--------------------+-------------+----------------+--------------+------+------------+----------+--------+-------+------+------------+-----------+----------+------------+\n",
            "only showing top 20 rows\n",
            "\n"
          ],
          "name": "stdout"
        }
      ]
    },
    {
      "cell_type": "markdown",
      "metadata": {
        "id": "rWT760E8A5bJ",
        "colab_type": "text"
      },
      "source": [
        "**Value_Counts/ Groupby/ Aggregate/Count/Order BY/Ascending/Descending/Arrange/Sort**"
      ]
    },
    {
      "cell_type": "code",
      "metadata": {
        "id": "6mpBQoAKAYzL",
        "colab_type": "code",
        "outputId": "b0427774-e162-4f15-ad82-ebbafb046284",
        "colab": {
          "base_uri": "https://localhost:8080/",
          "height": 478
        }
      },
      "source": [
        "df.groupby(\"TypeOfMusic\").agg(count(\"TypeOfMusic\").alias(\"Countt\")).orderBy(desc(\"Countt\")).show()"
      ],
      "execution_count": 0,
      "outputs": [
        {
          "output_type": "stream",
          "text": [
            "+----------------+------+\n",
            "|     TypeOfMusic|Countt|\n",
            "+----------------+------+\n",
            "|       dance pop|     8|\n",
            "|             pop|     7|\n",
            "|           latin|     5|\n",
            "|             edm|     3|\n",
            "|canadian hip hop|     3|\n",
            "|      electropop|     2|\n",
            "|         brostep|     2|\n",
            "|         dfw rap|     2|\n",
            "|       reggaeton|     2|\n",
            "|    canadian pop|     2|\n",
            "|  reggaeton flow|     2|\n",
            "|  panamanian pop|     2|\n",
            "|     country rap|     2|\n",
            "|        boy band|     1|\n",
            "|        big room|     1|\n",
            "|       pop house|     1|\n",
            "|  r&b en espanol|     1|\n",
            "|      trap music|     1|\n",
            "|  australian pop|     1|\n",
            "|     atl hip hop|     1|\n",
            "+----------------+------+\n",
            "only showing top 20 rows\n",
            "\n"
          ],
          "name": "stdout"
        }
      ]
    },
    {
      "cell_type": "markdown",
      "metadata": {
        "id": "V7rZZw4FEclp",
        "colab_type": "text"
      },
      "source": [
        "**Spark sql Value_Counts/ Groupby/ Aggregate/Count/Order BY/Ascending/Descending/Arrange/Sort**"
      ]
    },
    {
      "cell_type": "code",
      "metadata": {
        "id": "tzNQcAM-DC5k",
        "colab_type": "code",
        "colab": {}
      },
      "source": [
        "df.createOrReplaceTempView(\"dfsql\")"
      ],
      "execution_count": 0,
      "outputs": []
    },
    {
      "cell_type": "code",
      "metadata": {
        "id": "XUel41DhDasB",
        "colab_type": "code",
        "outputId": "061b4f4c-7843-4c2e-ad9f-addbaf729043",
        "colab": {
          "base_uri": "https://localhost:8080/",
          "height": 478
        }
      },
      "source": [
        "spark.sql(\"SELECT TypeOfMusic , Count(TypeOfMusic) as Countt FROM dfsql group by TypeOfMusic Order by Countt desc\").show()"
      ],
      "execution_count": 0,
      "outputs": [
        {
          "output_type": "stream",
          "text": [
            "+----------------+------+\n",
            "|     TypeOfMusic|Countt|\n",
            "+----------------+------+\n",
            "|       dance pop|     8|\n",
            "|             pop|     7|\n",
            "|           latin|     5|\n",
            "|             edm|     3|\n",
            "|canadian hip hop|     3|\n",
            "|      electropop|     2|\n",
            "|         brostep|     2|\n",
            "|         dfw rap|     2|\n",
            "|       reggaeton|     2|\n",
            "|    canadian pop|     2|\n",
            "|  reggaeton flow|     2|\n",
            "|  panamanian pop|     2|\n",
            "|     country rap|     2|\n",
            "|        boy band|     1|\n",
            "|        big room|     1|\n",
            "|       pop house|     1|\n",
            "|  r&b en espanol|     1|\n",
            "|      trap music|     1|\n",
            "|  australian pop|     1|\n",
            "|     atl hip hop|     1|\n",
            "+----------------+------+\n",
            "only showing top 20 rows\n",
            "\n"
          ],
          "name": "stdout"
        }
      ]
    },
    {
      "cell_type": "code",
      "metadata": {
        "id": "_6renxcJDavw",
        "colab_type": "code",
        "colab": {}
      },
      "source": [
        ""
      ],
      "execution_count": 0,
      "outputs": []
    },
    {
      "cell_type": "markdown",
      "metadata": {
        "id": "9-FLHMWhEopp",
        "colab_type": "text"
      },
      "source": [
        "**Filter using Dataframe**"
      ]
    },
    {
      "cell_type": "code",
      "metadata": {
        "id": "jLhFiYGQAtyU",
        "colab_type": "code",
        "outputId": "80d2f051-f1bb-4cb0-fbef-5c04afce4cb3",
        "colab": {
          "base_uri": "https://localhost:8080/",
          "height": 230
        }
      },
      "source": [
        "df.filter(col(\"TypeOfMusic\")==\"pop\").show()"
      ],
      "execution_count": 0,
      "outputs": [
        {
          "output_type": "stream",
          "text": [
            "+---+--------------------+-------------+-----------+--------------+------+------------+----------+--------+-------+------+------------+-----------+----------+\n",
            "|Sno|           TrackName|   ArtistName|TypeOfMusic|BeatsPerMinute|Energy|Danceability|LoudnessdB|Liveness|Valence|Length|Acousticness|Speechiness|Popularity|\n",
            "+---+--------------------+-------------+-----------+--------------+------+------------+----------+--------+-------+------+------------+-----------+----------+\n",
            "|  4|Beautiful People ...|   Ed Sheeran|        pop|            93|    65|          64|        -8|       8|     55|   198|          12|         19|        86|\n",
            "|  6|I Don't Care (wit...|   Ed Sheeran|        pop|           102|    68|          80|        -5|       9|     84|   220|           9|          4|        84|\n",
            "|  8|   How Do You Sleep?|    Sam Smith|        pop|           111|    68|          48|        -5|       8|     35|   202|          15|          9|        90|\n",
            "| 13|   Someone You Loved|Lewis Capaldi|        pop|           110|    41|          50|        -6|      11|     45|   182|          75|          3|        88|\n",
            "| 38|Antisocial (with ...|   Ed Sheeran|        pop|           152|    82|          72|        -5|      36|     91|   162|          13|          5|        87|\n",
            "| 44|                Talk|       Khalid|        pop|           136|    40|          90|        -9|       6|     35|   198|           5|         13|        84|\n",
            "| 50|Cross Me (feat. C...|   Ed Sheeran|        pop|            95|    79|          75|        -6|       7|     61|   206|          21|         12|        82|\n",
            "+---+--------------------+-------------+-----------+--------------+------+------------+----------+--------+-------+------+------------+-----------+----------+\n",
            "\n"
          ],
          "name": "stdout"
        }
      ]
    },
    {
      "cell_type": "code",
      "metadata": {
        "id": "WXNnm0XoCvTr",
        "colab_type": "code",
        "colab": {}
      },
      "source": [
        "df.createOrReplaceTempView(\"df\")"
      ],
      "execution_count": 0,
      "outputs": []
    },
    {
      "cell_type": "markdown",
      "metadata": {
        "id": "OM_3ap-eC4xz",
        "colab_type": "text"
      },
      "source": [
        "**Filter using spark sql**"
      ]
    },
    {
      "cell_type": "code",
      "metadata": {
        "id": "QgQ1ZPklB7EE",
        "colab_type": "code",
        "outputId": "ba8f997b-f2be-47ab-acb3-edef17d27835",
        "colab": {
          "base_uri": "https://localhost:8080/",
          "height": 230
        }
      },
      "source": [
        "\n",
        "\n",
        "spark.sql(\"SELECT * FROM df WHERE df.TypeOfMusic='pop'\").show()"
      ],
      "execution_count": 0,
      "outputs": [
        {
          "output_type": "stream",
          "text": [
            "+---+--------------------+-------------+-----------+--------------+------+------------+----------+--------+-------+------+------------+-----------+----------+\n",
            "|Sno|           TrackName|   ArtistName|TypeOfMusic|BeatsPerMinute|Energy|Danceability|LoudnessdB|Liveness|Valence|Length|Acousticness|Speechiness|Popularity|\n",
            "+---+--------------------+-------------+-----------+--------------+------+------------+----------+--------+-------+------+------------+-----------+----------+\n",
            "|  4|Beautiful People ...|   Ed Sheeran|        pop|            93|    65|          64|        -8|       8|     55|   198|          12|         19|        86|\n",
            "|  6|I Don't Care (wit...|   Ed Sheeran|        pop|           102|    68|          80|        -5|       9|     84|   220|           9|          4|        84|\n",
            "|  8|   How Do You Sleep?|    Sam Smith|        pop|           111|    68|          48|        -5|       8|     35|   202|          15|          9|        90|\n",
            "| 13|   Someone You Loved|Lewis Capaldi|        pop|           110|    41|          50|        -6|      11|     45|   182|          75|          3|        88|\n",
            "| 38|Antisocial (with ...|   Ed Sheeran|        pop|           152|    82|          72|        -5|      36|     91|   162|          13|          5|        87|\n",
            "| 44|                Talk|       Khalid|        pop|           136|    40|          90|        -9|       6|     35|   198|           5|         13|        84|\n",
            "| 50|Cross Me (feat. C...|   Ed Sheeran|        pop|            95|    79|          75|        -6|       7|     61|   206|          21|         12|        82|\n",
            "+---+--------------------+-------------+-----------+--------------+------+------------+----------+--------+-------+------+------------+-----------+----------+\n",
            "\n"
          ],
          "name": "stdout"
        }
      ]
    },
    {
      "cell_type": "code",
      "metadata": {
        "id": "w_yvQbpNBsni",
        "colab_type": "code",
        "outputId": "69327a20-a5aa-498b-eaa2-21810fee0caa",
        "colab": {
          "base_uri": "https://localhost:8080/",
          "height": 478
        }
      },
      "source": [
        "df.show()"
      ],
      "execution_count": 0,
      "outputs": [
        {
          "output_type": "stream",
          "text": [
            "+---+--------------------+-------------+----------------+--------------+------+------------+----------+--------+-------+------+------------+-----------+----------+\n",
            "|Sno|           TrackName|   ArtistName|     TypeOfMusic|BeatsPerMinute|Energy|Danceability|LoudnessdB|Liveness|Valence|Length|Acousticness|Speechiness|Popularity|\n",
            "+---+--------------------+-------------+----------------+--------------+------+------------+----------+--------+-------+------+------------+-----------+----------+\n",
            "|  1|            Se�orita| Shawn Mendes|    canadian pop|           117|    55|          76|        -6|       8|     75|   191|           4|          3|        79|\n",
            "|  2|               China|     Anuel AA|  reggaeton flow|           105|    81|          79|        -4|       8|     61|   302|           8|          9|        92|\n",
            "|  3|boyfriend (with S...|Ariana Grande|       dance pop|           190|    80|          40|        -4|      16|     70|   186|          12|         46|        85|\n",
            "|  4|Beautiful People ...|   Ed Sheeran|             pop|            93|    65|          64|        -8|       8|     55|   198|          12|         19|        86|\n",
            "|  5|Goodbyes (Feat. Y...|  Post Malone|         dfw rap|           150|    65|          58|        -4|      11|     18|   175|          45|          7|        94|\n",
            "|  6|I Don't Care (wit...|   Ed Sheeran|             pop|           102|    68|          80|        -5|       9|     84|   220|           9|          4|        84|\n",
            "|  7|              Ransom|    Lil Tecca|      trap music|           180|    64|          75|        -6|       7|     23|   131|           2|         29|        92|\n",
            "|  8|   How Do You Sleep?|    Sam Smith|             pop|           111|    68|          48|        -5|       8|     35|   202|          15|          9|        90|\n",
            "|  9|Old Town Road - R...|    Lil Nas X|     country rap|           136|    62|          88|        -6|      11|     64|   157|           5|         10|        87|\n",
            "| 10|             bad guy|Billie Eilish|      electropop|           135|    43|          70|       -11|      10|     56|   194|          33|         38|        95|\n",
            "| 11|            Callaita|    Bad Bunny|       reggaeton|           176|    62|          61|        -5|      24|     24|   251|          60|         31|        93|\n",
            "| 12|Loco Contigo (fea...|     DJ Snake|       dance pop|            96|    71|          82|        -4|      15|     38|   185|          28|          7|        86|\n",
            "| 13|   Someone You Loved|Lewis Capaldi|             pop|           110|    41|          50|        -6|      11|     45|   182|          75|          3|        88|\n",
            "| 14|  Otro Trago - Remix|         Sech|  panamanian pop|           176|    79|          73|        -2|       6|     76|   288|           7|         20|        87|\n",
            "| 15|Money In The Grav...|        Drake|canadian hip hop|           101|    50|          83|        -4|      12|     10|   205|          10|          5|        92|\n",
            "| 16|No Guidance (feat...|  Chris Brown|       dance pop|            93|    45|          70|        -7|      16|     14|   261|          12|         15|        82|\n",
            "| 17|          LA CANCI�N|     J Balvin|           latin|           176|    65|          75|        -6|      11|     43|   243|          15|         32|        90|\n",
            "| 18|Sunflower - Spide...|  Post Malone|         dfw rap|            90|    48|          76|        -6|       7|     91|   158|          56|          5|        91|\n",
            "| 19|              Lalala|          Y2K|canadian hip hop|           130|    39|          84|        -8|      14|     50|   161|          18|          8|        88|\n",
            "| 20|         Truth Hurts|        Lizzo|     escape room|           158|    62|          72|        -3|      12|     41|   173|          11|         11|        91|\n",
            "+---+--------------------+-------------+----------------+--------------+------+------------+----------+--------+-------+------+------------+-----------+----------+\n",
            "only showing top 20 rows\n",
            "\n"
          ],
          "name": "stdout"
        }
      ]
    },
    {
      "cell_type": "code",
      "metadata": {
        "id": "qbHJjRHTJUys",
        "colab_type": "code",
        "colab": {}
      },
      "source": [
        "pokdf=spark.read.format(\"csv\").options(header='true',inferschema='true').load('/content/drive/My Drive/Datasets/pokemon.csv')"
      ],
      "execution_count": 0,
      "outputs": []
    },
    {
      "cell_type": "code",
      "metadata": {
        "id": "EXtCH0NDE6Z6",
        "colab_type": "code",
        "colab": {}
      },
      "source": [
        "#pokdf=spark.read.format(\"csv\").options(inferschema=\"true\",header=\"true\").load('/content/drive/My Drive/Datasets/pokemon.csv')"
      ],
      "execution_count": 0,
      "outputs": []
    },
    {
      "cell_type": "code",
      "metadata": {
        "id": "WePr5rQaJe7H",
        "colab_type": "code",
        "outputId": "c1e51b7f-a4eb-4a7b-d2ea-514afe7384ac",
        "colab": {
          "base_uri": "https://localhost:8080/",
          "height": 478
        }
      },
      "source": [
        "pokdf.show()"
      ],
      "execution_count": 0,
      "outputs": [
        {
          "output_type": "stream",
          "text": [
            "+---+--------------------+------+------+-----+---+------+-------+-------+-------+-----+----------+---------+\n",
            "|Sno|                Name|Type 1|Type 2|Total| HP|Attack|Defense|Sp. Atk|Sp. Def|Speed|Generation|Legendary|\n",
            "+---+--------------------+------+------+-----+---+------+-------+-------+-------+-----+----------+---------+\n",
            "|  1|           Bulbasaur| Grass|Poison|  318| 45|    49|     49|     65|     65|   45|         1|    false|\n",
            "|  2|             Ivysaur| Grass|Poison|  405| 60|    62|     63|     80|     80|   60|         1|    false|\n",
            "|  3|            Venusaur| Grass|Poison|  525| 80|    82|     83|    100|    100|   80|         1|    false|\n",
            "|  3|VenusaurMega Venu...| Grass|Poison|  625| 80|   100|    123|    122|    120|   80|         1|    false|\n",
            "|  4|          Charmander|  Fire|  null|  309| 39|    52|     43|     60|     50|   65|         1|    false|\n",
            "|  5|          Charmeleon|  Fire|  null|  405| 58|    64|     58|     80|     65|   80|         1|    false|\n",
            "|  6|           Charizard|  Fire|Flying|  534| 78|    84|     78|    109|     85|  100|         1|    false|\n",
            "|  6|CharizardMega Cha...|  Fire|Dragon|  634| 78|   130|    111|    130|     85|  100|         1|    false|\n",
            "|  6|CharizardMega Cha...|  Fire|Flying|  634| 78|   104|     78|    159|    115|  100|         1|    false|\n",
            "|  7|            Squirtle| Water|  null|  314| 44|    48|     65|     50|     64|   43|         1|    false|\n",
            "|  8|           Wartortle| Water|  null|  405| 59|    63|     80|     65|     80|   58|         1|    false|\n",
            "|  9|           Blastoise| Water|  null|  530| 79|    83|    100|     85|    105|   78|         1|    false|\n",
            "|  9|BlastoiseMega Bla...| Water|  null|  630| 79|   103|    120|    135|    115|   78|         1|    false|\n",
            "| 10|            Caterpie|   Bug|  null|  195| 45|    30|     35|     20|     20|   45|         1|    false|\n",
            "| 11|             Metapod|   Bug|  null|  205| 50|    20|     55|     25|     25|   30|         1|    false|\n",
            "| 12|          Butterfree|   Bug|Flying|  395| 60|    45|     50|     90|     80|   70|         1|    false|\n",
            "| 13|              Weedle|   Bug|Poison|  195| 40|    35|     30|     20|     20|   50|         1|    false|\n",
            "| 14|              Kakuna|   Bug|Poison|  205| 45|    25|     50|     25|     25|   35|         1|    false|\n",
            "| 15|            Beedrill|   Bug|Poison|  395| 65|    90|     40|     45|     80|   75|         1|    false|\n",
            "| 15|BeedrillMega Beed...|   Bug|Poison|  495| 65|   150|     40|     15|     80|  145|         1|    false|\n",
            "+---+--------------------+------+------+-----+---+------+-------+-------+-------+-----+----------+---------+\n",
            "only showing top 20 rows\n",
            "\n"
          ],
          "name": "stdout"
        }
      ]
    },
    {
      "cell_type": "code",
      "metadata": {
        "id": "x4z_IrZHKBr7",
        "colab_type": "code",
        "colab": {}
      },
      "source": [
        ""
      ],
      "execution_count": 0,
      "outputs": []
    },
    {
      "cell_type": "code",
      "metadata": {
        "id": "DAABweETJj8v",
        "colab_type": "code",
        "outputId": "b92be2df-3e78-40c4-9962-1609aa47c2ab",
        "colab": {
          "base_uri": "https://localhost:8080/",
          "height": 1000
        }
      },
      "source": [
        "pokdf.na.fill({'Type 2': 'Computer', }).show()"
      ],
      "execution_count": 0,
      "outputs": [
        {
          "output_type": "error",
          "ename": "AnalysisException",
          "evalue": "ignored",
          "traceback": [
            "\u001b[0;31m---------------------------------------------------------------------------\u001b[0m",
            "\u001b[0;31mPy4JJavaError\u001b[0m                             Traceback (most recent call last)",
            "\u001b[0;32m/usr/local/lib/python3.6/dist-packages/pyspark/sql/utils.py\u001b[0m in \u001b[0;36mdeco\u001b[0;34m(*a, **kw)\u001b[0m\n\u001b[1;32m     62\u001b[0m         \u001b[0;32mtry\u001b[0m\u001b[0;34m:\u001b[0m\u001b[0;34m\u001b[0m\u001b[0;34m\u001b[0m\u001b[0m\n\u001b[0;32m---> 63\u001b[0;31m             \u001b[0;32mreturn\u001b[0m \u001b[0mf\u001b[0m\u001b[0;34m(\u001b[0m\u001b[0;34m*\u001b[0m\u001b[0ma\u001b[0m\u001b[0;34m,\u001b[0m \u001b[0;34m**\u001b[0m\u001b[0mkw\u001b[0m\u001b[0;34m)\u001b[0m\u001b[0;34m\u001b[0m\u001b[0;34m\u001b[0m\u001b[0m\n\u001b[0m\u001b[1;32m     64\u001b[0m         \u001b[0;32mexcept\u001b[0m \u001b[0mpy4j\u001b[0m\u001b[0;34m.\u001b[0m\u001b[0mprotocol\u001b[0m\u001b[0;34m.\u001b[0m\u001b[0mPy4JJavaError\u001b[0m \u001b[0;32mas\u001b[0m \u001b[0me\u001b[0m\u001b[0;34m:\u001b[0m\u001b[0;34m\u001b[0m\u001b[0;34m\u001b[0m\u001b[0m\n",
            "\u001b[0;32m/usr/local/lib/python3.6/dist-packages/py4j/protocol.py\u001b[0m in \u001b[0;36mget_return_value\u001b[0;34m(answer, gateway_client, target_id, name)\u001b[0m\n\u001b[1;32m    327\u001b[0m                     \u001b[0;34m\"An error occurred while calling {0}{1}{2}.\\n\"\u001b[0m\u001b[0;34m.\u001b[0m\u001b[0;34m\u001b[0m\u001b[0;34m\u001b[0m\u001b[0m\n\u001b[0;32m--> 328\u001b[0;31m                     format(target_id, \".\", name), value)\n\u001b[0m\u001b[1;32m    329\u001b[0m             \u001b[0;32melse\u001b[0m\u001b[0;34m:\u001b[0m\u001b[0;34m\u001b[0m\u001b[0;34m\u001b[0m\u001b[0m\n",
            "\u001b[0;31mPy4JJavaError\u001b[0m: An error occurred while calling o441.fill.\n: org.apache.spark.sql.AnalysisException: Cannot resolve column name \"Sp. Atk\" among (Sno, Name, Type 1, Type 2, Total, HP, Attack, Defense, Sp. Atk, Sp. Def, Speed, Generation, Legendary);\n\tat org.apache.spark.sql.Dataset$$anonfun$resolve$1.apply(Dataset.scala:223)\n\tat org.apache.spark.sql.Dataset$$anonfun$resolve$1.apply(Dataset.scala:223)\n\tat scala.Option.getOrElse(Option.scala:121)\n\tat org.apache.spark.sql.Dataset.resolve(Dataset.scala:222)\n\tat org.apache.spark.sql.Dataset.col(Dataset.scala:1274)\n\tat org.apache.spark.sql.DataFrameNaFunctions$$anonfun$5$$anonfun$apply$3.apply(DataFrameNaFunctions.scala:430)\n\tat org.apache.spark.sql.DataFrameNaFunctions$$anonfun$5$$anonfun$apply$3.apply(DataFrameNaFunctions.scala:430)\n\tat scala.Option.getOrElse(Option.scala:121)\n\tat org.apache.spark.sql.DataFrameNaFunctions$$anonfun$5.apply(DataFrameNaFunctions.scala:430)\n\tat org.apache.spark.sql.DataFrameNaFunctions$$anonfun$5.apply(DataFrameNaFunctions.scala:420)\n\tat scala.collection.TraversableLike$$anonfun$map$1.apply(TraversableLike.scala:234)\n\tat scala.collection.TraversableLike$$anonfun$map$1.apply(TraversableLike.scala:234)\n\tat scala.collection.IndexedSeqOptimized$class.foreach(IndexedSeqOptimized.scala:33)\n\tat scala.collection.mutable.ArrayOps$ofRef.foreach(ArrayOps.scala:186)\n\tat scala.collection.TraversableLike$class.map(TraversableLike.scala:234)\n\tat scala.collection.mutable.ArrayOps$ofRef.map(ArrayOps.scala:186)\n\tat org.apache.spark.sql.DataFrameNaFunctions.fillMap(DataFrameNaFunctions.scala:420)\n\tat org.apache.spark.sql.DataFrameNaFunctions.fill(DataFrameNaFunctions.scala:239)\n\tat sun.reflect.NativeMethodAccessorImpl.invoke0(Native Method)\n\tat sun.reflect.NativeMethodAccessorImpl.invoke(NativeMethodAccessorImpl.java:62)\n\tat sun.reflect.DelegatingMethodAccessorImpl.invoke(DelegatingMethodAccessorImpl.java:43)\n\tat java.lang.reflect.Method.invoke(Method.java:498)\n\tat py4j.reflection.MethodInvoker.invoke(MethodInvoker.java:244)\n\tat py4j.reflection.ReflectionEngine.invoke(ReflectionEngine.java:357)\n\tat py4j.Gateway.invoke(Gateway.java:282)\n\tat py4j.commands.AbstractCommand.invokeMethod(AbstractCommand.java:132)\n\tat py4j.commands.CallCommand.execute(CallCommand.java:79)\n\tat py4j.GatewayConnection.run(GatewayConnection.java:238)\n\tat java.lang.Thread.run(Thread.java:748)\n",
            "\nDuring handling of the above exception, another exception occurred:\n",
            "\u001b[0;31mAnalysisException\u001b[0m                         Traceback (most recent call last)",
            "\u001b[0;32m<ipython-input-92-f3ff0e7f480f>\u001b[0m in \u001b[0;36m<module>\u001b[0;34m()\u001b[0m\n\u001b[0;32m----> 1\u001b[0;31m \u001b[0mpokdf\u001b[0m\u001b[0;34m.\u001b[0m\u001b[0mna\u001b[0m\u001b[0;34m.\u001b[0m\u001b[0mfill\u001b[0m\u001b[0;34m(\u001b[0m\u001b[0;34m{\u001b[0m\u001b[0;34m'Type 2'\u001b[0m\u001b[0;34m:\u001b[0m \u001b[0;34m'Computer'\u001b[0m\u001b[0;34m,\u001b[0m \u001b[0;34m}\u001b[0m\u001b[0;34m)\u001b[0m\u001b[0;34m.\u001b[0m\u001b[0mshow\u001b[0m\u001b[0;34m(\u001b[0m\u001b[0;34m)\u001b[0m\u001b[0;34m\u001b[0m\u001b[0;34m\u001b[0m\u001b[0m\n\u001b[0m",
            "\u001b[0;32m/usr/local/lib/python3.6/dist-packages/pyspark/sql/dataframe.py\u001b[0m in \u001b[0;36mfill\u001b[0;34m(self, value, subset)\u001b[0m\n\u001b[1;32m   2244\u001b[0m \u001b[0;34m\u001b[0m\u001b[0m\n\u001b[1;32m   2245\u001b[0m     \u001b[0;32mdef\u001b[0m \u001b[0mfill\u001b[0m\u001b[0;34m(\u001b[0m\u001b[0mself\u001b[0m\u001b[0;34m,\u001b[0m \u001b[0mvalue\u001b[0m\u001b[0;34m,\u001b[0m \u001b[0msubset\u001b[0m\u001b[0;34m=\u001b[0m\u001b[0;32mNone\u001b[0m\u001b[0;34m)\u001b[0m\u001b[0;34m:\u001b[0m\u001b[0;34m\u001b[0m\u001b[0;34m\u001b[0m\u001b[0m\n\u001b[0;32m-> 2246\u001b[0;31m         \u001b[0;32mreturn\u001b[0m \u001b[0mself\u001b[0m\u001b[0;34m.\u001b[0m\u001b[0mdf\u001b[0m\u001b[0;34m.\u001b[0m\u001b[0mfillna\u001b[0m\u001b[0;34m(\u001b[0m\u001b[0mvalue\u001b[0m\u001b[0;34m=\u001b[0m\u001b[0mvalue\u001b[0m\u001b[0;34m,\u001b[0m \u001b[0msubset\u001b[0m\u001b[0;34m=\u001b[0m\u001b[0msubset\u001b[0m\u001b[0;34m)\u001b[0m\u001b[0;34m\u001b[0m\u001b[0;34m\u001b[0m\u001b[0m\n\u001b[0m\u001b[1;32m   2247\u001b[0m \u001b[0;34m\u001b[0m\u001b[0m\n\u001b[1;32m   2248\u001b[0m     \u001b[0mfill\u001b[0m\u001b[0;34m.\u001b[0m\u001b[0m__doc__\u001b[0m \u001b[0;34m=\u001b[0m \u001b[0mDataFrame\u001b[0m\u001b[0;34m.\u001b[0m\u001b[0mfillna\u001b[0m\u001b[0;34m.\u001b[0m\u001b[0m__doc__\u001b[0m\u001b[0;34m\u001b[0m\u001b[0;34m\u001b[0m\u001b[0m\n",
            "\u001b[0;32m/usr/local/lib/python3.6/dist-packages/pyspark/sql/dataframe.py\u001b[0m in \u001b[0;36mfillna\u001b[0;34m(self, value, subset)\u001b[0m\n\u001b[1;32m   1662\u001b[0m \u001b[0;34m\u001b[0m\u001b[0m\n\u001b[1;32m   1663\u001b[0m         \u001b[0;32mif\u001b[0m \u001b[0misinstance\u001b[0m\u001b[0;34m(\u001b[0m\u001b[0mvalue\u001b[0m\u001b[0;34m,\u001b[0m \u001b[0mdict\u001b[0m\u001b[0;34m)\u001b[0m\u001b[0;34m:\u001b[0m\u001b[0;34m\u001b[0m\u001b[0;34m\u001b[0m\u001b[0m\n\u001b[0;32m-> 1664\u001b[0;31m             \u001b[0;32mreturn\u001b[0m \u001b[0mDataFrame\u001b[0m\u001b[0;34m(\u001b[0m\u001b[0mself\u001b[0m\u001b[0;34m.\u001b[0m\u001b[0m_jdf\u001b[0m\u001b[0;34m.\u001b[0m\u001b[0mna\u001b[0m\u001b[0;34m(\u001b[0m\u001b[0;34m)\u001b[0m\u001b[0;34m.\u001b[0m\u001b[0mfill\u001b[0m\u001b[0;34m(\u001b[0m\u001b[0mvalue\u001b[0m\u001b[0;34m)\u001b[0m\u001b[0;34m,\u001b[0m \u001b[0mself\u001b[0m\u001b[0;34m.\u001b[0m\u001b[0msql_ctx\u001b[0m\u001b[0;34m)\u001b[0m\u001b[0;34m\u001b[0m\u001b[0;34m\u001b[0m\u001b[0m\n\u001b[0m\u001b[1;32m   1665\u001b[0m         \u001b[0;32melif\u001b[0m \u001b[0msubset\u001b[0m \u001b[0;32mis\u001b[0m \u001b[0;32mNone\u001b[0m\u001b[0;34m:\u001b[0m\u001b[0;34m\u001b[0m\u001b[0;34m\u001b[0m\u001b[0m\n\u001b[1;32m   1666\u001b[0m             \u001b[0;32mreturn\u001b[0m \u001b[0mDataFrame\u001b[0m\u001b[0;34m(\u001b[0m\u001b[0mself\u001b[0m\u001b[0;34m.\u001b[0m\u001b[0m_jdf\u001b[0m\u001b[0;34m.\u001b[0m\u001b[0mna\u001b[0m\u001b[0;34m(\u001b[0m\u001b[0;34m)\u001b[0m\u001b[0;34m.\u001b[0m\u001b[0mfill\u001b[0m\u001b[0;34m(\u001b[0m\u001b[0mvalue\u001b[0m\u001b[0;34m)\u001b[0m\u001b[0;34m,\u001b[0m \u001b[0mself\u001b[0m\u001b[0;34m.\u001b[0m\u001b[0msql_ctx\u001b[0m\u001b[0;34m)\u001b[0m\u001b[0;34m\u001b[0m\u001b[0;34m\u001b[0m\u001b[0m\n",
            "\u001b[0;32m/usr/local/lib/python3.6/dist-packages/py4j/java_gateway.py\u001b[0m in \u001b[0;36m__call__\u001b[0;34m(self, *args)\u001b[0m\n\u001b[1;32m   1255\u001b[0m         \u001b[0manswer\u001b[0m \u001b[0;34m=\u001b[0m \u001b[0mself\u001b[0m\u001b[0;34m.\u001b[0m\u001b[0mgateway_client\u001b[0m\u001b[0;34m.\u001b[0m\u001b[0msend_command\u001b[0m\u001b[0;34m(\u001b[0m\u001b[0mcommand\u001b[0m\u001b[0;34m)\u001b[0m\u001b[0;34m\u001b[0m\u001b[0;34m\u001b[0m\u001b[0m\n\u001b[1;32m   1256\u001b[0m         return_value = get_return_value(\n\u001b[0;32m-> 1257\u001b[0;31m             answer, self.gateway_client, self.target_id, self.name)\n\u001b[0m\u001b[1;32m   1258\u001b[0m \u001b[0;34m\u001b[0m\u001b[0m\n\u001b[1;32m   1259\u001b[0m         \u001b[0;32mfor\u001b[0m \u001b[0mtemp_arg\u001b[0m \u001b[0;32min\u001b[0m \u001b[0mtemp_args\u001b[0m\u001b[0;34m:\u001b[0m\u001b[0;34m\u001b[0m\u001b[0;34m\u001b[0m\u001b[0m\n",
            "\u001b[0;32m/usr/local/lib/python3.6/dist-packages/pyspark/sql/utils.py\u001b[0m in \u001b[0;36mdeco\u001b[0;34m(*a, **kw)\u001b[0m\n\u001b[1;32m     67\u001b[0m                                              e.java_exception.getStackTrace()))\n\u001b[1;32m     68\u001b[0m             \u001b[0;32mif\u001b[0m \u001b[0ms\u001b[0m\u001b[0;34m.\u001b[0m\u001b[0mstartswith\u001b[0m\u001b[0;34m(\u001b[0m\u001b[0;34m'org.apache.spark.sql.AnalysisException: '\u001b[0m\u001b[0;34m)\u001b[0m\u001b[0;34m:\u001b[0m\u001b[0;34m\u001b[0m\u001b[0;34m\u001b[0m\u001b[0m\n\u001b[0;32m---> 69\u001b[0;31m                 \u001b[0;32mraise\u001b[0m \u001b[0mAnalysisException\u001b[0m\u001b[0;34m(\u001b[0m\u001b[0ms\u001b[0m\u001b[0;34m.\u001b[0m\u001b[0msplit\u001b[0m\u001b[0;34m(\u001b[0m\u001b[0;34m': '\u001b[0m\u001b[0;34m,\u001b[0m \u001b[0;36m1\u001b[0m\u001b[0;34m)\u001b[0m\u001b[0;34m[\u001b[0m\u001b[0;36m1\u001b[0m\u001b[0;34m]\u001b[0m\u001b[0;34m,\u001b[0m \u001b[0mstackTrace\u001b[0m\u001b[0;34m)\u001b[0m\u001b[0;34m\u001b[0m\u001b[0;34m\u001b[0m\u001b[0m\n\u001b[0m\u001b[1;32m     70\u001b[0m             \u001b[0;32mif\u001b[0m \u001b[0ms\u001b[0m\u001b[0;34m.\u001b[0m\u001b[0mstartswith\u001b[0m\u001b[0;34m(\u001b[0m\u001b[0;34m'org.apache.spark.sql.catalyst.analysis'\u001b[0m\u001b[0;34m)\u001b[0m\u001b[0;34m:\u001b[0m\u001b[0;34m\u001b[0m\u001b[0;34m\u001b[0m\u001b[0m\n\u001b[1;32m     71\u001b[0m                 \u001b[0;32mraise\u001b[0m \u001b[0mAnalysisException\u001b[0m\u001b[0;34m(\u001b[0m\u001b[0ms\u001b[0m\u001b[0;34m.\u001b[0m\u001b[0msplit\u001b[0m\u001b[0;34m(\u001b[0m\u001b[0;34m': '\u001b[0m\u001b[0;34m,\u001b[0m \u001b[0;36m1\u001b[0m\u001b[0;34m)\u001b[0m\u001b[0;34m[\u001b[0m\u001b[0;36m1\u001b[0m\u001b[0;34m]\u001b[0m\u001b[0;34m,\u001b[0m \u001b[0mstackTrace\u001b[0m\u001b[0;34m)\u001b[0m\u001b[0;34m\u001b[0m\u001b[0;34m\u001b[0m\u001b[0m\n",
            "\u001b[0;31mAnalysisException\u001b[0m: 'Cannot resolve column name \"Sp. Atk\" among (Sno, Name, Type 1, Type 2, Total, HP, Attack, Defense, Sp. Atk, Sp. Def, Speed, Generation, Legendary);'"
          ]
        }
      ]
    },
    {
      "cell_type": "code",
      "metadata": {
        "id": "q2OWDvXbJ5Oa",
        "colab_type": "code",
        "colab": {}
      },
      "source": [
        "a=[i.replace(\".\",\"\") for i in pokdf.columns]"
      ],
      "execution_count": 0,
      "outputs": []
    },
    {
      "cell_type": "code",
      "metadata": {
        "id": "AsKkXyj0LI_M",
        "colab_type": "code",
        "colab": {}
      },
      "source": [
        "pokdf=pokdf.toDF(*a)"
      ],
      "execution_count": 0,
      "outputs": []
    },
    {
      "cell_type": "code",
      "metadata": {
        "id": "Uf4A_8j3LYgM",
        "colab_type": "code",
        "outputId": "b905605d-4806-4a69-c297-84e24afe01cc",
        "colab": {
          "base_uri": "https://localhost:8080/",
          "height": 478
        }
      },
      "source": [
        "pokdf.na.fill({'Type 2': 'Computer', }).show()"
      ],
      "execution_count": 0,
      "outputs": [
        {
          "output_type": "stream",
          "text": [
            "+---+--------------------+------+--------+-----+---+------+-------+------+------+-----+----------+---------+\n",
            "|Sno|                Name|Type 1|  Type 2|Total| HP|Attack|Defense|Sp Atk|Sp Def|Speed|Generation|Legendary|\n",
            "+---+--------------------+------+--------+-----+---+------+-------+------+------+-----+----------+---------+\n",
            "|  1|           Bulbasaur| Grass|  Poison|  318| 45|    49|     49|    65|    65|   45|         1|    false|\n",
            "|  2|             Ivysaur| Grass|  Poison|  405| 60|    62|     63|    80|    80|   60|         1|    false|\n",
            "|  3|            Venusaur| Grass|  Poison|  525| 80|    82|     83|   100|   100|   80|         1|    false|\n",
            "|  3|VenusaurMega Venu...| Grass|  Poison|  625| 80|   100|    123|   122|   120|   80|         1|    false|\n",
            "|  4|          Charmander|  Fire|Computer|  309| 39|    52|     43|    60|    50|   65|         1|    false|\n",
            "|  5|          Charmeleon|  Fire|Computer|  405| 58|    64|     58|    80|    65|   80|         1|    false|\n",
            "|  6|           Charizard|  Fire|  Flying|  534| 78|    84|     78|   109|    85|  100|         1|    false|\n",
            "|  6|CharizardMega Cha...|  Fire|  Dragon|  634| 78|   130|    111|   130|    85|  100|         1|    false|\n",
            "|  6|CharizardMega Cha...|  Fire|  Flying|  634| 78|   104|     78|   159|   115|  100|         1|    false|\n",
            "|  7|            Squirtle| Water|Computer|  314| 44|    48|     65|    50|    64|   43|         1|    false|\n",
            "|  8|           Wartortle| Water|Computer|  405| 59|    63|     80|    65|    80|   58|         1|    false|\n",
            "|  9|           Blastoise| Water|Computer|  530| 79|    83|    100|    85|   105|   78|         1|    false|\n",
            "|  9|BlastoiseMega Bla...| Water|Computer|  630| 79|   103|    120|   135|   115|   78|         1|    false|\n",
            "| 10|            Caterpie|   Bug|Computer|  195| 45|    30|     35|    20|    20|   45|         1|    false|\n",
            "| 11|             Metapod|   Bug|Computer|  205| 50|    20|     55|    25|    25|   30|         1|    false|\n",
            "| 12|          Butterfree|   Bug|  Flying|  395| 60|    45|     50|    90|    80|   70|         1|    false|\n",
            "| 13|              Weedle|   Bug|  Poison|  195| 40|    35|     30|    20|    20|   50|         1|    false|\n",
            "| 14|              Kakuna|   Bug|  Poison|  205| 45|    25|     50|    25|    25|   35|         1|    false|\n",
            "| 15|            Beedrill|   Bug|  Poison|  395| 65|    90|     40|    45|    80|   75|         1|    false|\n",
            "| 15|BeedrillMega Beed...|   Bug|  Poison|  495| 65|   150|     40|    15|    80|  145|         1|    false|\n",
            "+---+--------------------+------+--------+-----+---+------+-------+------+------+-----+----------+---------+\n",
            "only showing top 20 rows\n",
            "\n"
          ],
          "name": "stdout"
        }
      ]
    },
    {
      "cell_type": "code",
      "metadata": {
        "id": "_PR7brqULlFN",
        "colab_type": "code",
        "outputId": "8b111b33-c9b9-4c83-93d5-f87825050748",
        "colab": {
          "base_uri": "https://localhost:8080/",
          "height": 478
        }
      },
      "source": [
        "pokdf.filter(col(\"Sno\")!=1).show()"
      ],
      "execution_count": 0,
      "outputs": [
        {
          "output_type": "stream",
          "text": [
            "+---+--------------------+------+------+-----+---+------+-------+------+------+-----+----------+---------+\n",
            "|Sno|                Name|Type 1|Type 2|Total| HP|Attack|Defense|Sp Atk|Sp Def|Speed|Generation|Legendary|\n",
            "+---+--------------------+------+------+-----+---+------+-------+------+------+-----+----------+---------+\n",
            "|  2|             Ivysaur| Grass|Poison|  405| 60|    62|     63|    80|    80|   60|         1|    false|\n",
            "|  3|            Venusaur| Grass|Poison|  525| 80|    82|     83|   100|   100|   80|         1|    false|\n",
            "|  3|VenusaurMega Venu...| Grass|Poison|  625| 80|   100|    123|   122|   120|   80|         1|    false|\n",
            "|  4|          Charmander|  Fire|  null|  309| 39|    52|     43|    60|    50|   65|         1|    false|\n",
            "|  5|          Charmeleon|  Fire|  null|  405| 58|    64|     58|    80|    65|   80|         1|    false|\n",
            "|  6|           Charizard|  Fire|Flying|  534| 78|    84|     78|   109|    85|  100|         1|    false|\n",
            "|  6|CharizardMega Cha...|  Fire|Dragon|  634| 78|   130|    111|   130|    85|  100|         1|    false|\n",
            "|  6|CharizardMega Cha...|  Fire|Flying|  634| 78|   104|     78|   159|   115|  100|         1|    false|\n",
            "|  7|            Squirtle| Water|  null|  314| 44|    48|     65|    50|    64|   43|         1|    false|\n",
            "|  8|           Wartortle| Water|  null|  405| 59|    63|     80|    65|    80|   58|         1|    false|\n",
            "|  9|           Blastoise| Water|  null|  530| 79|    83|    100|    85|   105|   78|         1|    false|\n",
            "|  9|BlastoiseMega Bla...| Water|  null|  630| 79|   103|    120|   135|   115|   78|         1|    false|\n",
            "| 10|            Caterpie|   Bug|  null|  195| 45|    30|     35|    20|    20|   45|         1|    false|\n",
            "| 11|             Metapod|   Bug|  null|  205| 50|    20|     55|    25|    25|   30|         1|    false|\n",
            "| 12|          Butterfree|   Bug|Flying|  395| 60|    45|     50|    90|    80|   70|         1|    false|\n",
            "| 13|              Weedle|   Bug|Poison|  195| 40|    35|     30|    20|    20|   50|         1|    false|\n",
            "| 14|              Kakuna|   Bug|Poison|  205| 45|    25|     50|    25|    25|   35|         1|    false|\n",
            "| 15|            Beedrill|   Bug|Poison|  395| 65|    90|     40|    45|    80|   75|         1|    false|\n",
            "| 15|BeedrillMega Beed...|   Bug|Poison|  495| 65|   150|     40|    15|    80|  145|         1|    false|\n",
            "| 16|              Pidgey|Normal|Flying|  251| 40|    45|     40|    35|    35|   56|         1|    false|\n",
            "+---+--------------------+------+------+-----+---+------+-------+------+------+-----+----------+---------+\n",
            "only showing top 20 rows\n",
            "\n"
          ],
          "name": "stdout"
        }
      ]
    },
    {
      "cell_type": "markdown",
      "metadata": {
        "id": "ql_5NpTNeLEG",
        "colab_type": "text"
      },
      "source": [
        "**Order by, Limit, Top**"
      ]
    },
    {
      "cell_type": "code",
      "metadata": {
        "id": "I2w5QZ02ZzMv",
        "colab_type": "code",
        "outputId": "a9453bf2-c88b-4416-daf1-8d77f36f6305",
        "colab": {
          "base_uri": "https://localhost:8080/",
          "height": 158
        }
      },
      "source": [
        "pokdf.orderBy(desc(\"Defense\")).limit(3).show()"
      ],
      "execution_count": 0,
      "outputs": [
        {
          "output_type": "stream",
          "text": [
            "+---+-------------------+------+------+-----+---+------+-------+------+------+-----+----------+---------+\n",
            "|Sno|               Name|Type 1|Type 2|Total| HP|Attack|Defense|Sp Atk|Sp Def|Speed|Generation|Legendary|\n",
            "+---+-------------------+------+------+-----+---+------+-------+------+------+-----+----------+---------+\n",
            "|208|SteelixMega Steelix| Steel|Ground|  610| 75|   125|    230|    55|    95|   30|         2|    false|\n",
            "|306|  AggronMega Aggron| Steel|  null|  630| 70|   140|    230|    60|    80|   50|         3|    false|\n",
            "|213|            Shuckle|   Bug|  Rock|  505| 20|    10|    230|    10|   230|    5|         2|    false|\n",
            "+---+-------------------+------+------+-----+---+------+-------+------+------+-----+----------+---------+\n",
            "\n"
          ],
          "name": "stdout"
        }
      ]
    },
    {
      "cell_type": "markdown",
      "metadata": {
        "id": "sAzy3FwZsjzC",
        "colab_type": "text"
      },
      "source": [
        " **See top 3 different values**"
      ]
    },
    {
      "cell_type": "code",
      "metadata": {
        "id": "ViysoQ_Zcg9-",
        "colab_type": "code",
        "outputId": "b77c3997-782c-49c3-8099-25d40f978e02",
        "colab": {
          "base_uri": "https://localhost:8080/",
          "height": 158
        }
      },
      "source": [
        "pokdf.orderBy(desc(\"Defense\")).select(\"Defense\").distinct().limit(3).show()"
      ],
      "execution_count": 0,
      "outputs": [
        {
          "output_type": "stream",
          "text": [
            "+-------+\n",
            "|Defense|\n",
            "+-------+\n",
            "|    230|\n",
            "|    200|\n",
            "|    184|\n",
            "+-------+\n",
            "\n"
          ],
          "name": "stdout"
        }
      ]
    },
    {
      "cell_type": "code",
      "metadata": {
        "id": "vf_QVtD6rT5s",
        "colab_type": "code",
        "outputId": "ee11c02a-81a8-44f8-ccb0-9ed8eb9b18c2",
        "colab": {
          "base_uri": "https://localhost:8080/",
          "height": 478
        }
      },
      "source": [
        "pokdf.select(\"Defense\").orderBy(desc(\"Defense\")).distinct().show()"
      ],
      "execution_count": 0,
      "outputs": [
        {
          "output_type": "stream",
          "text": [
            "+-------+\n",
            "|Defense|\n",
            "+-------+\n",
            "|    230|\n",
            "|    200|\n",
            "|    184|\n",
            "|    180|\n",
            "|    168|\n",
            "|    160|\n",
            "|    150|\n",
            "|    145|\n",
            "|    140|\n",
            "|    135|\n",
            "|    133|\n",
            "|    131|\n",
            "|    130|\n",
            "|    129|\n",
            "|    126|\n",
            "|    125|\n",
            "|    123|\n",
            "|    122|\n",
            "|    121|\n",
            "|    120|\n",
            "+-------+\n",
            "only showing top 20 rows\n",
            "\n"
          ],
          "name": "stdout"
        }
      ]
    },
    {
      "cell_type": "markdown",
      "metadata": {
        "id": "bnqVrqS7vjBl",
        "colab_type": "text"
      },
      "source": [
        "**Count number of rows**"
      ]
    },
    {
      "cell_type": "code",
      "metadata": {
        "id": "cxS2u1LYuNL5",
        "colab_type": "code",
        "outputId": "4d6cfe1c-0461-4083-cb46-b3a707e04dbf",
        "colab": {
          "base_uri": "https://localhost:8080/",
          "height": 34
        }
      },
      "source": [
        "pokdf.count()"
      ],
      "execution_count": 0,
      "outputs": [
        {
          "output_type": "execute_result",
          "data": {
            "text/plain": [
              "800"
            ]
          },
          "metadata": {
            "tags": []
          },
          "execution_count": 102
        }
      ]
    },
    {
      "cell_type": "markdown",
      "metadata": {
        "id": "aFBGGHHcw_qA",
        "colab_type": "text"
      },
      "source": [
        "**Show all rows**"
      ]
    },
    {
      "cell_type": "code",
      "metadata": {
        "id": "J9Id3HujveiI",
        "colab_type": "code",
        "outputId": "aa107c95-0579-4141-88df-ed1577f90d33",
        "colab": {
          "base_uri": "https://localhost:8080/",
          "height": 1000
        }
      },
      "source": [
        "pokdf.show(pokdf.count())"
      ],
      "execution_count": 0,
      "outputs": [
        {
          "output_type": "stream",
          "text": [
            "+---+--------------------+--------+--------+-----+---+------+-------+------+------+-----+----------+---------+\n",
            "|Sno|                Name|  Type 1|  Type 2|Total| HP|Attack|Defense|Sp Atk|Sp Def|Speed|Generation|Legendary|\n",
            "+---+--------------------+--------+--------+-----+---+------+-------+------+------+-----+----------+---------+\n",
            "|  1|           Bulbasaur|   Grass|  Poison|  318| 45|    49|     49|    65|    65|   45|         1|    false|\n",
            "|  2|             Ivysaur|   Grass|  Poison|  405| 60|    62|     63|    80|    80|   60|         1|    false|\n",
            "|  3|            Venusaur|   Grass|  Poison|  525| 80|    82|     83|   100|   100|   80|         1|    false|\n",
            "|  3|VenusaurMega Venu...|   Grass|  Poison|  625| 80|   100|    123|   122|   120|   80|         1|    false|\n",
            "|  4|          Charmander|    Fire|    null|  309| 39|    52|     43|    60|    50|   65|         1|    false|\n",
            "|  5|          Charmeleon|    Fire|    null|  405| 58|    64|     58|    80|    65|   80|         1|    false|\n",
            "|  6|           Charizard|    Fire|  Flying|  534| 78|    84|     78|   109|    85|  100|         1|    false|\n",
            "|  6|CharizardMega Cha...|    Fire|  Dragon|  634| 78|   130|    111|   130|    85|  100|         1|    false|\n",
            "|  6|CharizardMega Cha...|    Fire|  Flying|  634| 78|   104|     78|   159|   115|  100|         1|    false|\n",
            "|  7|            Squirtle|   Water|    null|  314| 44|    48|     65|    50|    64|   43|         1|    false|\n",
            "|  8|           Wartortle|   Water|    null|  405| 59|    63|     80|    65|    80|   58|         1|    false|\n",
            "|  9|           Blastoise|   Water|    null|  530| 79|    83|    100|    85|   105|   78|         1|    false|\n",
            "|  9|BlastoiseMega Bla...|   Water|    null|  630| 79|   103|    120|   135|   115|   78|         1|    false|\n",
            "| 10|            Caterpie|     Bug|    null|  195| 45|    30|     35|    20|    20|   45|         1|    false|\n",
            "| 11|             Metapod|     Bug|    null|  205| 50|    20|     55|    25|    25|   30|         1|    false|\n",
            "| 12|          Butterfree|     Bug|  Flying|  395| 60|    45|     50|    90|    80|   70|         1|    false|\n",
            "| 13|              Weedle|     Bug|  Poison|  195| 40|    35|     30|    20|    20|   50|         1|    false|\n",
            "| 14|              Kakuna|     Bug|  Poison|  205| 45|    25|     50|    25|    25|   35|         1|    false|\n",
            "| 15|            Beedrill|     Bug|  Poison|  395| 65|    90|     40|    45|    80|   75|         1|    false|\n",
            "| 15|BeedrillMega Beed...|     Bug|  Poison|  495| 65|   150|     40|    15|    80|  145|         1|    false|\n",
            "| 16|              Pidgey|  Normal|  Flying|  251| 40|    45|     40|    35|    35|   56|         1|    false|\n",
            "| 17|           Pidgeotto|  Normal|  Flying|  349| 63|    60|     55|    50|    50|   71|         1|    false|\n",
            "| 18|             Pidgeot|  Normal|  Flying|  479| 83|    80|     75|    70|    70|  101|         1|    false|\n",
            "| 18| PidgeotMega Pidgeot|  Normal|  Flying|  579| 83|    80|     80|   135|    80|  121|         1|    false|\n",
            "| 19|             Rattata|  Normal|    null|  253| 30|    56|     35|    25|    35|   72|         1|    false|\n",
            "| 20|            Raticate|  Normal|    null|  413| 55|    81|     60|    50|    70|   97|         1|    false|\n",
            "| 21|             Spearow|  Normal|  Flying|  262| 40|    60|     30|    31|    31|   70|         1|    false|\n",
            "| 22|              Fearow|  Normal|  Flying|  442| 65|    90|     65|    61|    61|  100|         1|    false|\n",
            "| 23|               Ekans|  Poison|    null|  288| 35|    60|     44|    40|    54|   55|         1|    false|\n",
            "| 24|               Arbok|  Poison|    null|  438| 60|    85|     69|    65|    79|   80|         1|    false|\n",
            "| 25|             Pikachu|Electric|    null|  320| 35|    55|     40|    50|    50|   90|         1|    false|\n",
            "| 26|              Raichu|Electric|    null|  485| 60|    90|     55|    90|    80|  110|         1|    false|\n",
            "| 27|           Sandshrew|  Ground|    null|  300| 50|    75|     85|    20|    30|   40|         1|    false|\n",
            "| 28|           Sandslash|  Ground|    null|  450| 75|   100|    110|    45|    55|   65|         1|    false|\n",
            "| 29|            Nidoran♀|  Poison|    null|  275| 55|    47|     52|    40|    40|   41|         1|    false|\n",
            "| 30|            Nidorina|  Poison|    null|  365| 70|    62|     67|    55|    55|   56|         1|    false|\n",
            "| 31|           Nidoqueen|  Poison|  Ground|  505| 90|    92|     87|    75|    85|   76|         1|    false|\n",
            "| 32|            Nidoran♂|  Poison|    null|  273| 46|    57|     40|    40|    40|   50|         1|    false|\n",
            "| 33|            Nidorino|  Poison|    null|  365| 61|    72|     57|    55|    55|   65|         1|    false|\n",
            "| 34|            Nidoking|  Poison|  Ground|  505| 81|   102|     77|    85|    75|   85|         1|    false|\n",
            "| 35|            Clefairy|   Fairy|    null|  323| 70|    45|     48|    60|    65|   35|         1|    false|\n",
            "| 36|            Clefable|   Fairy|    null|  483| 95|    70|     73|    95|    90|   60|         1|    false|\n",
            "| 37|              Vulpix|    Fire|    null|  299| 38|    41|     40|    50|    65|   65|         1|    false|\n",
            "| 38|           Ninetales|    Fire|    null|  505| 73|    76|     75|    81|   100|  100|         1|    false|\n",
            "| 39|          Jigglypuff|  Normal|   Fairy|  270|115|    45|     20|    45|    25|   20|         1|    false|\n",
            "| 40|          Wigglytuff|  Normal|   Fairy|  435|140|    70|     45|    85|    50|   45|         1|    false|\n",
            "| 41|               Zubat|  Poison|  Flying|  245| 40|    45|     35|    30|    40|   55|         1|    false|\n",
            "| 42|              Golbat|  Poison|  Flying|  455| 75|    80|     70|    65|    75|   90|         1|    false|\n",
            "| 43|              Oddish|   Grass|  Poison|  320| 45|    50|     55|    75|    65|   30|         1|    false|\n",
            "| 44|               Gloom|   Grass|  Poison|  395| 60|    65|     70|    85|    75|   40|         1|    false|\n",
            "| 45|           Vileplume|   Grass|  Poison|  490| 75|    80|     85|   110|    90|   50|         1|    false|\n",
            "| 46|               Paras|     Bug|   Grass|  285| 35|    70|     55|    45|    55|   25|         1|    false|\n",
            "| 47|            Parasect|     Bug|   Grass|  405| 60|    95|     80|    60|    80|   30|         1|    false|\n",
            "| 48|             Venonat|     Bug|  Poison|  305| 60|    55|     50|    40|    55|   45|         1|    false|\n",
            "| 49|            Venomoth|     Bug|  Poison|  450| 70|    65|     60|    90|    75|   90|         1|    false|\n",
            "| 50|             Diglett|  Ground|    null|  265| 10|    55|     25|    35|    45|   95|         1|    false|\n",
            "| 51|             Dugtrio|  Ground|    null|  405| 35|    80|     50|    50|    70|  120|         1|    false|\n",
            "| 52|              Meowth|  Normal|    null|  290| 40|    45|     35|    40|    40|   90|         1|    false|\n",
            "| 53|             Persian|  Normal|    null|  440| 65|    70|     60|    65|    65|  115|         1|    false|\n",
            "| 54|             Psyduck|   Water|    null|  320| 50|    52|     48|    65|    50|   55|         1|    false|\n",
            "| 55|             Golduck|   Water|    null|  500| 80|    82|     78|    95|    80|   85|         1|    false|\n",
            "| 56|              Mankey|Fighting|    null|  305| 40|    80|     35|    35|    45|   70|         1|    false|\n",
            "| 57|            Primeape|Fighting|    null|  455| 65|   105|     60|    60|    70|   95|         1|    false|\n",
            "| 58|           Growlithe|    Fire|    null|  350| 55|    70|     45|    70|    50|   60|         1|    false|\n",
            "| 59|            Arcanine|    Fire|    null|  555| 90|   110|     80|   100|    80|   95|         1|    false|\n",
            "| 60|             Poliwag|   Water|    null|  300| 40|    50|     40|    40|    40|   90|         1|    false|\n",
            "| 61|           Poliwhirl|   Water|    null|  385| 65|    65|     65|    50|    50|   90|         1|    false|\n",
            "| 62|           Poliwrath|   Water|Fighting|  510| 90|    95|     95|    70|    90|   70|         1|    false|\n",
            "| 63|                Abra| Psychic|    null|  310| 25|    20|     15|   105|    55|   90|         1|    false|\n",
            "| 64|             Kadabra| Psychic|    null|  400| 40|    35|     30|   120|    70|  105|         1|    false|\n",
            "| 65|            Alakazam| Psychic|    null|  500| 55|    50|     45|   135|    95|  120|         1|    false|\n",
            "| 65|AlakazamMega Alak...| Psychic|    null|  590| 55|    50|     65|   175|    95|  150|         1|    false|\n",
            "| 66|              Machop|Fighting|    null|  305| 70|    80|     50|    35|    35|   35|         1|    false|\n",
            "| 67|             Machoke|Fighting|    null|  405| 80|   100|     70|    50|    60|   45|         1|    false|\n",
            "| 68|             Machamp|Fighting|    null|  505| 90|   130|     80|    65|    85|   55|         1|    false|\n",
            "| 69|          Bellsprout|   Grass|  Poison|  300| 50|    75|     35|    70|    30|   40|         1|    false|\n",
            "| 70|          Weepinbell|   Grass|  Poison|  390| 65|    90|     50|    85|    45|   55|         1|    false|\n",
            "| 71|          Victreebel|   Grass|  Poison|  490| 80|   105|     65|   100|    70|   70|         1|    false|\n",
            "| 72|           Tentacool|   Water|  Poison|  335| 40|    40|     35|    50|   100|   70|         1|    false|\n",
            "| 73|          Tentacruel|   Water|  Poison|  515| 80|    70|     65|    80|   120|  100|         1|    false|\n",
            "| 74|             Geodude|    Rock|  Ground|  300| 40|    80|    100|    30|    30|   20|         1|    false|\n",
            "| 75|            Graveler|    Rock|  Ground|  390| 55|    95|    115|    45|    45|   35|         1|    false|\n",
            "| 76|               Golem|    Rock|  Ground|  495| 80|   120|    130|    55|    65|   45|         1|    false|\n",
            "| 77|              Ponyta|    Fire|    null|  410| 50|    85|     55|    65|    65|   90|         1|    false|\n",
            "| 78|            Rapidash|    Fire|    null|  500| 65|   100|     70|    80|    80|  105|         1|    false|\n",
            "| 79|            Slowpoke|   Water| Psychic|  315| 90|    65|     65|    40|    40|   15|         1|    false|\n",
            "| 80|             Slowbro|   Water| Psychic|  490| 95|    75|    110|   100|    80|   30|         1|    false|\n",
            "| 80| SlowbroMega Slowbro|   Water| Psychic|  590| 95|    75|    180|   130|    80|   30|         1|    false|\n",
            "| 81|           Magnemite|Electric|   Steel|  325| 25|    35|     70|    95|    55|   45|         1|    false|\n",
            "| 82|            Magneton|Electric|   Steel|  465| 50|    60|     95|   120|    70|   70|         1|    false|\n",
            "| 83|          Farfetch'd|  Normal|  Flying|  352| 52|    65|     55|    58|    62|   60|         1|    false|\n",
            "| 84|               Doduo|  Normal|  Flying|  310| 35|    85|     45|    35|    35|   75|         1|    false|\n",
            "| 85|              Dodrio|  Normal|  Flying|  460| 60|   110|     70|    60|    60|  100|         1|    false|\n",
            "| 86|                Seel|   Water|    null|  325| 65|    45|     55|    45|    70|   45|         1|    false|\n",
            "| 87|             Dewgong|   Water|     Ice|  475| 90|    70|     80|    70|    95|   70|         1|    false|\n",
            "| 88|              Grimer|  Poison|    null|  325| 80|    80|     50|    40|    50|   25|         1|    false|\n",
            "| 89|                 Muk|  Poison|    null|  500|105|   105|     75|    65|   100|   50|         1|    false|\n",
            "| 90|            Shellder|   Water|    null|  305| 30|    65|    100|    45|    25|   40|         1|    false|\n",
            "| 91|            Cloyster|   Water|     Ice|  525| 50|    95|    180|    85|    45|   70|         1|    false|\n",
            "| 92|              Gastly|   Ghost|  Poison|  310| 30|    35|     30|   100|    35|   80|         1|    false|\n",
            "| 93|             Haunter|   Ghost|  Poison|  405| 45|    50|     45|   115|    55|   95|         1|    false|\n",
            "| 94|              Gengar|   Ghost|  Poison|  500| 60|    65|     60|   130|    75|  110|         1|    false|\n",
            "| 94|   GengarMega Gengar|   Ghost|  Poison|  600| 60|    65|     80|   170|    95|  130|         1|    false|\n",
            "| 95|                Onix|    Rock|  Ground|  385| 35|    45|    160|    30|    45|   70|         1|    false|\n",
            "| 96|             Drowzee| Psychic|    null|  328| 60|    48|     45|    43|    90|   42|         1|    false|\n",
            "| 97|               Hypno| Psychic|    null|  483| 85|    73|     70|    73|   115|   67|         1|    false|\n",
            "| 98|              Krabby|   Water|    null|  325| 30|   105|     90|    25|    25|   50|         1|    false|\n",
            "| 99|             Kingler|   Water|    null|  475| 55|   130|    115|    50|    50|   75|         1|    false|\n",
            "|100|             Voltorb|Electric|    null|  330| 40|    30|     50|    55|    55|  100|         1|    false|\n",
            "|101|           Electrode|Electric|    null|  480| 60|    50|     70|    80|    80|  140|         1|    false|\n",
            "|102|           Exeggcute|   Grass| Psychic|  325| 60|    40|     80|    60|    45|   40|         1|    false|\n",
            "|103|           Exeggutor|   Grass| Psychic|  520| 95|    95|     85|   125|    65|   55|         1|    false|\n",
            "|104|              Cubone|  Ground|    null|  320| 50|    50|     95|    40|    50|   35|         1|    false|\n",
            "|105|             Marowak|  Ground|    null|  425| 60|    80|    110|    50|    80|   45|         1|    false|\n",
            "|106|           Hitmonlee|Fighting|    null|  455| 50|   120|     53|    35|   110|   87|         1|    false|\n",
            "|107|          Hitmonchan|Fighting|    null|  455| 50|   105|     79|    35|   110|   76|         1|    false|\n",
            "|108|           Lickitung|  Normal|    null|  385| 90|    55|     75|    60|    75|   30|         1|    false|\n",
            "|109|             Koffing|  Poison|    null|  340| 40|    65|     95|    60|    45|   35|         1|    false|\n",
            "|110|             Weezing|  Poison|    null|  490| 65|    90|    120|    85|    70|   60|         1|    false|\n",
            "|111|             Rhyhorn|  Ground|    Rock|  345| 80|    85|     95|    30|    30|   25|         1|    false|\n",
            "|112|              Rhydon|  Ground|    Rock|  485|105|   130|    120|    45|    45|   40|         1|    false|\n",
            "|113|             Chansey|  Normal|    null|  450|250|     5|      5|    35|   105|   50|         1|    false|\n",
            "|114|             Tangela|   Grass|    null|  435| 65|    55|    115|   100|    40|   60|         1|    false|\n",
            "|115|          Kangaskhan|  Normal|    null|  490|105|    95|     80|    40|    80|   90|         1|    false|\n",
            "|115|KangaskhanMega Ka...|  Normal|    null|  590|105|   125|    100|    60|   100|  100|         1|    false|\n",
            "|116|              Horsea|   Water|    null|  295| 30|    40|     70|    70|    25|   60|         1|    false|\n",
            "|117|              Seadra|   Water|    null|  440| 55|    65|     95|    95|    45|   85|         1|    false|\n",
            "|118|             Goldeen|   Water|    null|  320| 45|    67|     60|    35|    50|   63|         1|    false|\n",
            "|119|             Seaking|   Water|    null|  450| 80|    92|     65|    65|    80|   68|         1|    false|\n",
            "|120|              Staryu|   Water|    null|  340| 30|    45|     55|    70|    55|   85|         1|    false|\n",
            "|121|             Starmie|   Water| Psychic|  520| 60|    75|     85|   100|    85|  115|         1|    false|\n",
            "|122|            Mr. Mime| Psychic|   Fairy|  460| 40|    45|     65|   100|   120|   90|         1|    false|\n",
            "|123|             Scyther|     Bug|  Flying|  500| 70|   110|     80|    55|    80|  105|         1|    false|\n",
            "|124|                Jynx|     Ice| Psychic|  455| 65|    50|     35|   115|    95|   95|         1|    false|\n",
            "|125|          Electabuzz|Electric|    null|  490| 65|    83|     57|    95|    85|  105|         1|    false|\n",
            "|126|              Magmar|    Fire|    null|  495| 65|    95|     57|   100|    85|   93|         1|    false|\n",
            "|127|              Pinsir|     Bug|    null|  500| 65|   125|    100|    55|    70|   85|         1|    false|\n",
            "|127|   PinsirMega Pinsir|     Bug|  Flying|  600| 65|   155|    120|    65|    90|  105|         1|    false|\n",
            "|128|              Tauros|  Normal|    null|  490| 75|   100|     95|    40|    70|  110|         1|    false|\n",
            "|129|            Magikarp|   Water|    null|  200| 20|    10|     55|    15|    20|   80|         1|    false|\n",
            "|130|            Gyarados|   Water|  Flying|  540| 95|   125|     79|    60|   100|   81|         1|    false|\n",
            "|130|GyaradosMega Gyar...|   Water|    Dark|  640| 95|   155|    109|    70|   130|   81|         1|    false|\n",
            "|131|              Lapras|   Water|     Ice|  535|130|    85|     80|    85|    95|   60|         1|    false|\n",
            "|132|               Ditto|  Normal|    null|  288| 48|    48|     48|    48|    48|   48|         1|    false|\n",
            "|133|               Eevee|  Normal|    null|  325| 55|    55|     50|    45|    65|   55|         1|    false|\n",
            "|134|            Vaporeon|   Water|    null|  525|130|    65|     60|   110|    95|   65|         1|    false|\n",
            "|135|             Jolteon|Electric|    null|  525| 65|    65|     60|   110|    95|  130|         1|    false|\n",
            "|136|             Flareon|    Fire|    null|  525| 65|   130|     60|    95|   110|   65|         1|    false|\n",
            "|137|             Porygon|  Normal|    null|  395| 65|    60|     70|    85|    75|   40|         1|    false|\n",
            "|138|             Omanyte|    Rock|   Water|  355| 35|    40|    100|    90|    55|   35|         1|    false|\n",
            "|139|             Omastar|    Rock|   Water|  495| 70|    60|    125|   115|    70|   55|         1|    false|\n",
            "|140|              Kabuto|    Rock|   Water|  355| 30|    80|     90|    55|    45|   55|         1|    false|\n",
            "|141|            Kabutops|    Rock|   Water|  495| 60|   115|    105|    65|    70|   80|         1|    false|\n",
            "|142|          Aerodactyl|    Rock|  Flying|  515| 80|   105|     65|    60|    75|  130|         1|    false|\n",
            "|142|AerodactylMega Ae...|    Rock|  Flying|  615| 80|   135|     85|    70|    95|  150|         1|    false|\n",
            "|143|             Snorlax|  Normal|    null|  540|160|   110|     65|    65|   110|   30|         1|    false|\n",
            "|144|            Articuno|     Ice|  Flying|  580| 90|    85|    100|    95|   125|   85|         1|     true|\n",
            "|145|              Zapdos|Electric|  Flying|  580| 90|    90|     85|   125|    90|  100|         1|     true|\n",
            "|146|             Moltres|    Fire|  Flying|  580| 90|   100|     90|   125|    85|   90|         1|     true|\n",
            "|147|             Dratini|  Dragon|    null|  300| 41|    64|     45|    50|    50|   50|         1|    false|\n",
            "|148|           Dragonair|  Dragon|    null|  420| 61|    84|     65|    70|    70|   70|         1|    false|\n",
            "|149|           Dragonite|  Dragon|  Flying|  600| 91|   134|     95|   100|   100|   80|         1|    false|\n",
            "|150|              Mewtwo| Psychic|    null|  680|106|   110|     90|   154|    90|  130|         1|     true|\n",
            "|150| MewtwoMega Mewtwo X| Psychic|Fighting|  780|106|   190|    100|   154|   100|  130|         1|     true|\n",
            "|150| MewtwoMega Mewtwo Y| Psychic|    null|  780|106|   150|     70|   194|   120|  140|         1|     true|\n",
            "|151|                 Mew| Psychic|    null|  600|100|   100|    100|   100|   100|  100|         1|    false|\n",
            "|152|           Chikorita|   Grass|    null|  318| 45|    49|     65|    49|    65|   45|         2|    false|\n",
            "|153|             Bayleef|   Grass|    null|  405| 60|    62|     80|    63|    80|   60|         2|    false|\n",
            "|154|            Meganium|   Grass|    null|  525| 80|    82|    100|    83|   100|   80|         2|    false|\n",
            "|155|           Cyndaquil|    Fire|    null|  309| 39|    52|     43|    60|    50|   65|         2|    false|\n",
            "|156|             Quilava|    Fire|    null|  405| 58|    64|     58|    80|    65|   80|         2|    false|\n",
            "|157|          Typhlosion|    Fire|    null|  534| 78|    84|     78|   109|    85|  100|         2|    false|\n",
            "|158|            Totodile|   Water|    null|  314| 50|    65|     64|    44|    48|   43|         2|    false|\n",
            "|159|            Croconaw|   Water|    null|  405| 65|    80|     80|    59|    63|   58|         2|    false|\n",
            "|160|          Feraligatr|   Water|    null|  530| 85|   105|    100|    79|    83|   78|         2|    false|\n",
            "|161|             Sentret|  Normal|    null|  215| 35|    46|     34|    35|    45|   20|         2|    false|\n",
            "|162|              Furret|  Normal|    null|  415| 85|    76|     64|    45|    55|   90|         2|    false|\n",
            "|163|            Hoothoot|  Normal|  Flying|  262| 60|    30|     30|    36|    56|   50|         2|    false|\n",
            "|164|             Noctowl|  Normal|  Flying|  442|100|    50|     50|    76|    96|   70|         2|    false|\n",
            "|165|              Ledyba|     Bug|  Flying|  265| 40|    20|     30|    40|    80|   55|         2|    false|\n",
            "|166|              Ledian|     Bug|  Flying|  390| 55|    35|     50|    55|   110|   85|         2|    false|\n",
            "|167|            Spinarak|     Bug|  Poison|  250| 40|    60|     40|    40|    40|   30|         2|    false|\n",
            "|168|             Ariados|     Bug|  Poison|  390| 70|    90|     70|    60|    60|   40|         2|    false|\n",
            "|169|              Crobat|  Poison|  Flying|  535| 85|    90|     80|    70|    80|  130|         2|    false|\n",
            "|170|            Chinchou|   Water|Electric|  330| 75|    38|     38|    56|    56|   67|         2|    false|\n",
            "|171|             Lanturn|   Water|Electric|  460|125|    58|     58|    76|    76|   67|         2|    false|\n",
            "|172|               Pichu|Electric|    null|  205| 20|    40|     15|    35|    35|   60|         2|    false|\n",
            "|173|              Cleffa|   Fairy|    null|  218| 50|    25|     28|    45|    55|   15|         2|    false|\n",
            "|174|           Igglybuff|  Normal|   Fairy|  210| 90|    30|     15|    40|    20|   15|         2|    false|\n",
            "|175|              Togepi|   Fairy|    null|  245| 35|    20|     65|    40|    65|   20|         2|    false|\n",
            "|176|             Togetic|   Fairy|  Flying|  405| 55|    40|     85|    80|   105|   40|         2|    false|\n",
            "|177|                Natu| Psychic|  Flying|  320| 40|    50|     45|    70|    45|   70|         2|    false|\n",
            "|178|                Xatu| Psychic|  Flying|  470| 65|    75|     70|    95|    70|   95|         2|    false|\n",
            "|179|              Mareep|Electric|    null|  280| 55|    40|     40|    65|    45|   35|         2|    false|\n",
            "|180|             Flaaffy|Electric|    null|  365| 70|    55|     55|    80|    60|   45|         2|    false|\n",
            "|181|            Ampharos|Electric|    null|  510| 90|    75|     85|   115|    90|   55|         2|    false|\n",
            "|181|AmpharosMega Amph...|Electric|  Dragon|  610| 90|    95|    105|   165|   110|   45|         2|    false|\n",
            "|182|           Bellossom|   Grass|    null|  490| 75|    80|     95|    90|   100|   50|         2|    false|\n",
            "|183|              Marill|   Water|   Fairy|  250| 70|    20|     50|    20|    50|   40|         2|    false|\n",
            "|184|           Azumarill|   Water|   Fairy|  420|100|    50|     80|    60|    80|   50|         2|    false|\n",
            "|185|           Sudowoodo|    Rock|    null|  410| 70|   100|    115|    30|    65|   30|         2|    false|\n",
            "|186|            Politoed|   Water|    null|  500| 90|    75|     75|    90|   100|   70|         2|    false|\n",
            "|187|              Hoppip|   Grass|  Flying|  250| 35|    35|     40|    35|    55|   50|         2|    false|\n",
            "|188|            Skiploom|   Grass|  Flying|  340| 55|    45|     50|    45|    65|   80|         2|    false|\n",
            "|189|            Jumpluff|   Grass|  Flying|  460| 75|    55|     70|    55|    95|  110|         2|    false|\n",
            "|190|               Aipom|  Normal|    null|  360| 55|    70|     55|    40|    55|   85|         2|    false|\n",
            "|191|             Sunkern|   Grass|    null|  180| 30|    30|     30|    30|    30|   30|         2|    false|\n",
            "|192|            Sunflora|   Grass|    null|  425| 75|    75|     55|   105|    85|   30|         2|    false|\n",
            "|193|               Yanma|     Bug|  Flying|  390| 65|    65|     45|    75|    45|   95|         2|    false|\n",
            "|194|              Wooper|   Water|  Ground|  210| 55|    45|     45|    25|    25|   15|         2|    false|\n",
            "|195|            Quagsire|   Water|  Ground|  430| 95|    85|     85|    65|    65|   35|         2|    false|\n",
            "|196|              Espeon| Psychic|    null|  525| 65|    65|     60|   130|    95|  110|         2|    false|\n",
            "|197|             Umbreon|    Dark|    null|  525| 95|    65|    110|    60|   130|   65|         2|    false|\n",
            "|198|             Murkrow|    Dark|  Flying|  405| 60|    85|     42|    85|    42|   91|         2|    false|\n",
            "|199|            Slowking|   Water| Psychic|  490| 95|    75|     80|   100|   110|   30|         2|    false|\n",
            "|200|          Misdreavus|   Ghost|    null|  435| 60|    60|     60|    85|    85|   85|         2|    false|\n",
            "|201|               Unown| Psychic|    null|  336| 48|    72|     48|    72|    48|   48|         2|    false|\n",
            "|202|           Wobbuffet| Psychic|    null|  405|190|    33|     58|    33|    58|   33|         2|    false|\n",
            "|203|           Girafarig|  Normal| Psychic|  455| 70|    80|     65|    90|    65|   85|         2|    false|\n",
            "|204|              Pineco|     Bug|    null|  290| 50|    65|     90|    35|    35|   15|         2|    false|\n",
            "|205|          Forretress|     Bug|   Steel|  465| 75|    90|    140|    60|    60|   40|         2|    false|\n",
            "|206|           Dunsparce|  Normal|    null|  415|100|    70|     70|    65|    65|   45|         2|    false|\n",
            "|207|              Gligar|  Ground|  Flying|  430| 65|    75|    105|    35|    65|   85|         2|    false|\n",
            "|208|             Steelix|   Steel|  Ground|  510| 75|    85|    200|    55|    65|   30|         2|    false|\n",
            "|208| SteelixMega Steelix|   Steel|  Ground|  610| 75|   125|    230|    55|    95|   30|         2|    false|\n",
            "|209|            Snubbull|   Fairy|    null|  300| 60|    80|     50|    40|    40|   30|         2|    false|\n",
            "|210|            Granbull|   Fairy|    null|  450| 90|   120|     75|    60|    60|   45|         2|    false|\n",
            "|211|            Qwilfish|   Water|  Poison|  430| 65|    95|     75|    55|    55|   85|         2|    false|\n",
            "|212|              Scizor|     Bug|   Steel|  500| 70|   130|    100|    55|    80|   65|         2|    false|\n",
            "|212|   ScizorMega Scizor|     Bug|   Steel|  600| 70|   150|    140|    65|   100|   75|         2|    false|\n",
            "|213|             Shuckle|     Bug|    Rock|  505| 20|    10|    230|    10|   230|    5|         2|    false|\n",
            "|214|           Heracross|     Bug|Fighting|  500| 80|   125|     75|    40|    95|   85|         2|    false|\n",
            "|214|HeracrossMega Her...|     Bug|Fighting|  600| 80|   185|    115|    40|   105|   75|         2|    false|\n",
            "|215|             Sneasel|    Dark|     Ice|  430| 55|    95|     55|    35|    75|  115|         2|    false|\n",
            "|216|           Teddiursa|  Normal|    null|  330| 60|    80|     50|    50|    50|   40|         2|    false|\n",
            "|217|            Ursaring|  Normal|    null|  500| 90|   130|     75|    75|    75|   55|         2|    false|\n",
            "|218|              Slugma|    Fire|    null|  250| 40|    40|     40|    70|    40|   20|         2|    false|\n",
            "|219|            Magcargo|    Fire|    Rock|  410| 50|    50|    120|    80|    80|   30|         2|    false|\n",
            "|220|              Swinub|     Ice|  Ground|  250| 50|    50|     40|    30|    30|   50|         2|    false|\n",
            "|221|           Piloswine|     Ice|  Ground|  450|100|   100|     80|    60|    60|   50|         2|    false|\n",
            "|222|             Corsola|   Water|    Rock|  380| 55|    55|     85|    65|    85|   35|         2|    false|\n",
            "|223|            Remoraid|   Water|    null|  300| 35|    65|     35|    65|    35|   65|         2|    false|\n",
            "|224|           Octillery|   Water|    null|  480| 75|   105|     75|   105|    75|   45|         2|    false|\n",
            "|225|            Delibird|     Ice|  Flying|  330| 45|    55|     45|    65|    45|   75|         2|    false|\n",
            "|226|             Mantine|   Water|  Flying|  465| 65|    40|     70|    80|   140|   70|         2|    false|\n",
            "|227|            Skarmory|   Steel|  Flying|  465| 65|    80|    140|    40|    70|   70|         2|    false|\n",
            "|228|            Houndour|    Dark|    Fire|  330| 45|    60|     30|    80|    50|   65|         2|    false|\n",
            "|229|            Houndoom|    Dark|    Fire|  500| 75|    90|     50|   110|    80|   95|         2|    false|\n",
            "|229|HoundoomMega Houn...|    Dark|    Fire|  600| 75|    90|     90|   140|    90|  115|         2|    false|\n",
            "|230|             Kingdra|   Water|  Dragon|  540| 75|    95|     95|    95|    95|   85|         2|    false|\n",
            "|231|              Phanpy|  Ground|    null|  330| 90|    60|     60|    40|    40|   40|         2|    false|\n",
            "|232|             Donphan|  Ground|    null|  500| 90|   120|    120|    60|    60|   50|         2|    false|\n",
            "|233|            Porygon2|  Normal|    null|  515| 85|    80|     90|   105|    95|   60|         2|    false|\n",
            "|234|            Stantler|  Normal|    null|  465| 73|    95|     62|    85|    65|   85|         2|    false|\n",
            "|235|            Smeargle|  Normal|    null|  250| 55|    20|     35|    20|    45|   75|         2|    false|\n",
            "|236|             Tyrogue|Fighting|    null|  210| 35|    35|     35|    35|    35|   35|         2|    false|\n",
            "|237|           Hitmontop|Fighting|    null|  455| 50|    95|     95|    35|   110|   70|         2|    false|\n",
            "|238|            Smoochum|     Ice| Psychic|  305| 45|    30|     15|    85|    65|   65|         2|    false|\n",
            "|239|              Elekid|Electric|    null|  360| 45|    63|     37|    65|    55|   95|         2|    false|\n",
            "|240|               Magby|    Fire|    null|  365| 45|    75|     37|    70|    55|   83|         2|    false|\n",
            "|241|             Miltank|  Normal|    null|  490| 95|    80|    105|    40|    70|  100|         2|    false|\n",
            "|242|             Blissey|  Normal|    null|  540|255|    10|     10|    75|   135|   55|         2|    false|\n",
            "|243|              Raikou|Electric|    null|  580| 90|    85|     75|   115|   100|  115|         2|     true|\n",
            "|244|               Entei|    Fire|    null|  580|115|   115|     85|    90|    75|  100|         2|     true|\n",
            "|245|             Suicune|   Water|    null|  580|100|    75|    115|    90|   115|   85|         2|     true|\n",
            "|246|            Larvitar|    Rock|  Ground|  300| 50|    64|     50|    45|    50|   41|         2|    false|\n",
            "|247|             Pupitar|    Rock|  Ground|  410| 70|    84|     70|    65|    70|   51|         2|    false|\n",
            "|248|           Tyranitar|    Rock|    Dark|  600|100|   134|    110|    95|   100|   61|         2|    false|\n",
            "|248|TyranitarMega Tyr...|    Rock|    Dark|  700|100|   164|    150|    95|   120|   71|         2|    false|\n",
            "|249|               Lugia| Psychic|  Flying|  680|106|    90|    130|    90|   154|  110|         2|     true|\n",
            "|250|               Ho-oh|    Fire|  Flying|  680|106|   130|     90|   110|   154|   90|         2|     true|\n",
            "|251|              Celebi| Psychic|   Grass|  600|100|   100|    100|   100|   100|  100|         2|    false|\n",
            "|252|             Treecko|   Grass|    null|  310| 40|    45|     35|    65|    55|   70|         3|    false|\n",
            "|253|             Grovyle|   Grass|    null|  405| 50|    65|     45|    85|    65|   95|         3|    false|\n",
            "|254|            Sceptile|   Grass|    null|  530| 70|    85|     65|   105|    85|  120|         3|    false|\n",
            "|254|SceptileMega Scep...|   Grass|  Dragon|  630| 70|   110|     75|   145|    85|  145|         3|    false|\n",
            "|255|             Torchic|    Fire|    null|  310| 45|    60|     40|    70|    50|   45|         3|    false|\n",
            "|256|           Combusken|    Fire|Fighting|  405| 60|    85|     60|    85|    60|   55|         3|    false|\n",
            "|257|            Blaziken|    Fire|Fighting|  530| 80|   120|     70|   110|    70|   80|         3|    false|\n",
            "|257|BlazikenMega Blaz...|    Fire|Fighting|  630| 80|   160|     80|   130|    80|  100|         3|    false|\n",
            "|258|              Mudkip|   Water|    null|  310| 50|    70|     50|    50|    50|   40|         3|    false|\n",
            "|259|           Marshtomp|   Water|  Ground|  405| 70|    85|     70|    60|    70|   50|         3|    false|\n",
            "|260|            Swampert|   Water|  Ground|  535|100|   110|     90|    85|    90|   60|         3|    false|\n",
            "|260|SwampertMega Swam...|   Water|  Ground|  635|100|   150|    110|    95|   110|   70|         3|    false|\n",
            "|261|           Poochyena|    Dark|    null|  220| 35|    55|     35|    30|    30|   35|         3|    false|\n",
            "|262|           Mightyena|    Dark|    null|  420| 70|    90|     70|    60|    60|   70|         3|    false|\n",
            "|263|           Zigzagoon|  Normal|    null|  240| 38|    30|     41|    30|    41|   60|         3|    false|\n",
            "|264|             Linoone|  Normal|    null|  420| 78|    70|     61|    50|    61|  100|         3|    false|\n",
            "|265|             Wurmple|     Bug|    null|  195| 45|    45|     35|    20|    30|   20|         3|    false|\n",
            "|266|             Silcoon|     Bug|    null|  205| 50|    35|     55|    25|    25|   15|         3|    false|\n",
            "|267|           Beautifly|     Bug|  Flying|  395| 60|    70|     50|   100|    50|   65|         3|    false|\n",
            "|268|             Cascoon|     Bug|    null|  205| 50|    35|     55|    25|    25|   15|         3|    false|\n",
            "|269|              Dustox|     Bug|  Poison|  385| 60|    50|     70|    50|    90|   65|         3|    false|\n",
            "|270|               Lotad|   Water|   Grass|  220| 40|    30|     30|    40|    50|   30|         3|    false|\n",
            "|271|              Lombre|   Water|   Grass|  340| 60|    50|     50|    60|    70|   50|         3|    false|\n",
            "|272|            Ludicolo|   Water|   Grass|  480| 80|    70|     70|    90|   100|   70|         3|    false|\n",
            "|273|              Seedot|   Grass|    null|  220| 40|    40|     50|    30|    30|   30|         3|    false|\n",
            "|274|             Nuzleaf|   Grass|    Dark|  340| 70|    70|     40|    60|    40|   60|         3|    false|\n",
            "|275|             Shiftry|   Grass|    Dark|  480| 90|   100|     60|    90|    60|   80|         3|    false|\n",
            "|276|             Taillow|  Normal|  Flying|  270| 40|    55|     30|    30|    30|   85|         3|    false|\n",
            "|277|             Swellow|  Normal|  Flying|  430| 60|    85|     60|    50|    50|  125|         3|    false|\n",
            "|278|             Wingull|   Water|  Flying|  270| 40|    30|     30|    55|    30|   85|         3|    false|\n",
            "|279|            Pelipper|   Water|  Flying|  430| 60|    50|    100|    85|    70|   65|         3|    false|\n",
            "|280|               Ralts| Psychic|   Fairy|  198| 28|    25|     25|    45|    35|   40|         3|    false|\n",
            "|281|              Kirlia| Psychic|   Fairy|  278| 38|    35|     35|    65|    55|   50|         3|    false|\n",
            "|282|           Gardevoir| Psychic|   Fairy|  518| 68|    65|     65|   125|   115|   80|         3|    false|\n",
            "|282|GardevoirMega Gar...| Psychic|   Fairy|  618| 68|    85|     65|   165|   135|  100|         3|    false|\n",
            "|283|             Surskit|     Bug|   Water|  269| 40|    30|     32|    50|    52|   65|         3|    false|\n",
            "|284|          Masquerain|     Bug|  Flying|  414| 70|    60|     62|    80|    82|   60|         3|    false|\n",
            "|285|           Shroomish|   Grass|    null|  295| 60|    40|     60|    40|    60|   35|         3|    false|\n",
            "|286|             Breloom|   Grass|Fighting|  460| 60|   130|     80|    60|    60|   70|         3|    false|\n",
            "|287|             Slakoth|  Normal|    null|  280| 60|    60|     60|    35|    35|   30|         3|    false|\n",
            "|288|            Vigoroth|  Normal|    null|  440| 80|    80|     80|    55|    55|   90|         3|    false|\n",
            "|289|             Slaking|  Normal|    null|  670|150|   160|    100|    95|    65|  100|         3|    false|\n",
            "|290|             Nincada|     Bug|  Ground|  266| 31|    45|     90|    30|    30|   40|         3|    false|\n",
            "|291|             Ninjask|     Bug|  Flying|  456| 61|    90|     45|    50|    50|  160|         3|    false|\n",
            "|292|            Shedinja|     Bug|   Ghost|  236|  1|    90|     45|    30|    30|   40|         3|    false|\n",
            "|293|             Whismur|  Normal|    null|  240| 64|    51|     23|    51|    23|   28|         3|    false|\n",
            "|294|             Loudred|  Normal|    null|  360| 84|    71|     43|    71|    43|   48|         3|    false|\n",
            "|295|             Exploud|  Normal|    null|  490|104|    91|     63|    91|    73|   68|         3|    false|\n",
            "|296|            Makuhita|Fighting|    null|  237| 72|    60|     30|    20|    30|   25|         3|    false|\n",
            "|297|            Hariyama|Fighting|    null|  474|144|   120|     60|    40|    60|   50|         3|    false|\n",
            "|298|             Azurill|  Normal|   Fairy|  190| 50|    20|     40|    20|    40|   20|         3|    false|\n",
            "|299|            Nosepass|    Rock|    null|  375| 30|    45|    135|    45|    90|   30|         3|    false|\n",
            "|300|              Skitty|  Normal|    null|  260| 50|    45|     45|    35|    35|   50|         3|    false|\n",
            "|301|            Delcatty|  Normal|    null|  380| 70|    65|     65|    55|    55|   70|         3|    false|\n",
            "|302|             Sableye|    Dark|   Ghost|  380| 50|    75|     75|    65|    65|   50|         3|    false|\n",
            "|302| SableyeMega Sableye|    Dark|   Ghost|  480| 50|    85|    125|    85|   115|   20|         3|    false|\n",
            "|303|              Mawile|   Steel|   Fairy|  380| 50|    85|     85|    55|    55|   50|         3|    false|\n",
            "|303|   MawileMega Mawile|   Steel|   Fairy|  480| 50|   105|    125|    55|    95|   50|         3|    false|\n",
            "|304|                Aron|   Steel|    Rock|  330| 50|    70|    100|    40|    40|   30|         3|    false|\n",
            "|305|              Lairon|   Steel|    Rock|  430| 60|    90|    140|    50|    50|   40|         3|    false|\n",
            "|306|              Aggron|   Steel|    Rock|  530| 70|   110|    180|    60|    60|   50|         3|    false|\n",
            "|306|   AggronMega Aggron|   Steel|    null|  630| 70|   140|    230|    60|    80|   50|         3|    false|\n",
            "|307|            Meditite|Fighting| Psychic|  280| 30|    40|     55|    40|    55|   60|         3|    false|\n",
            "|308|            Medicham|Fighting| Psychic|  410| 60|    60|     75|    60|    75|   80|         3|    false|\n",
            "|308|MedichamMega Medi...|Fighting| Psychic|  510| 60|   100|     85|    80|    85|  100|         3|    false|\n",
            "|309|           Electrike|Electric|    null|  295| 40|    45|     40|    65|    40|   65|         3|    false|\n",
            "|310|           Manectric|Electric|    null|  475| 70|    75|     60|   105|    60|  105|         3|    false|\n",
            "|310|ManectricMega Man...|Electric|    null|  575| 70|    75|     80|   135|    80|  135|         3|    false|\n",
            "|311|              Plusle|Electric|    null|  405| 60|    50|     40|    85|    75|   95|         3|    false|\n",
            "|312|               Minun|Electric|    null|  405| 60|    40|     50|    75|    85|   95|         3|    false|\n",
            "|313|             Volbeat|     Bug|    null|  400| 65|    73|     55|    47|    75|   85|         3|    false|\n",
            "|314|            Illumise|     Bug|    null|  400| 65|    47|     55|    73|    75|   85|         3|    false|\n",
            "|315|             Roselia|   Grass|  Poison|  400| 50|    60|     45|   100|    80|   65|         3|    false|\n",
            "|316|              Gulpin|  Poison|    null|  302| 70|    43|     53|    43|    53|   40|         3|    false|\n",
            "|317|              Swalot|  Poison|    null|  467|100|    73|     83|    73|    83|   55|         3|    false|\n",
            "|318|            Carvanha|   Water|    Dark|  305| 45|    90|     20|    65|    20|   65|         3|    false|\n",
            "|319|            Sharpedo|   Water|    Dark|  460| 70|   120|     40|    95|    40|   95|         3|    false|\n",
            "|319|SharpedoMega Shar...|   Water|    Dark|  560| 70|   140|     70|   110|    65|  105|         3|    false|\n",
            "|320|             Wailmer|   Water|    null|  400|130|    70|     35|    70|    35|   60|         3|    false|\n",
            "|321|             Wailord|   Water|    null|  500|170|    90|     45|    90|    45|   60|         3|    false|\n",
            "|322|               Numel|    Fire|  Ground|  305| 60|    60|     40|    65|    45|   35|         3|    false|\n",
            "|323|            Camerupt|    Fire|  Ground|  460| 70|   100|     70|   105|    75|   40|         3|    false|\n",
            "|323|CameruptMega Came...|    Fire|  Ground|  560| 70|   120|    100|   145|   105|   20|         3|    false|\n",
            "|324|             Torkoal|    Fire|    null|  470| 70|    85|    140|    85|    70|   20|         3|    false|\n",
            "|325|              Spoink| Psychic|    null|  330| 60|    25|     35|    70|    80|   60|         3|    false|\n",
            "|326|             Grumpig| Psychic|    null|  470| 80|    45|     65|    90|   110|   80|         3|    false|\n",
            "|327|              Spinda|  Normal|    null|  360| 60|    60|     60|    60|    60|   60|         3|    false|\n",
            "|328|            Trapinch|  Ground|    null|  290| 45|   100|     45|    45|    45|   10|         3|    false|\n",
            "|329|             Vibrava|  Ground|  Dragon|  340| 50|    70|     50|    50|    50|   70|         3|    false|\n",
            "|330|              Flygon|  Ground|  Dragon|  520| 80|   100|     80|    80|    80|  100|         3|    false|\n",
            "|331|              Cacnea|   Grass|    null|  335| 50|    85|     40|    85|    40|   35|         3|    false|\n",
            "|332|            Cacturne|   Grass|    Dark|  475| 70|   115|     60|   115|    60|   55|         3|    false|\n",
            "|333|              Swablu|  Normal|  Flying|  310| 45|    40|     60|    40|    75|   50|         3|    false|\n",
            "|334|             Altaria|  Dragon|  Flying|  490| 75|    70|     90|    70|   105|   80|         3|    false|\n",
            "|334| AltariaMega Altaria|  Dragon|   Fairy|  590| 75|   110|    110|   110|   105|   80|         3|    false|\n",
            "|335|            Zangoose|  Normal|    null|  458| 73|   115|     60|    60|    60|   90|         3|    false|\n",
            "|336|             Seviper|  Poison|    null|  458| 73|   100|     60|   100|    60|   65|         3|    false|\n",
            "|337|            Lunatone|    Rock| Psychic|  440| 70|    55|     65|    95|    85|   70|         3|    false|\n",
            "|338|             Solrock|    Rock| Psychic|  440| 70|    95|     85|    55|    65|   70|         3|    false|\n",
            "|339|            Barboach|   Water|  Ground|  288| 50|    48|     43|    46|    41|   60|         3|    false|\n",
            "|340|            Whiscash|   Water|  Ground|  468|110|    78|     73|    76|    71|   60|         3|    false|\n",
            "|341|            Corphish|   Water|    null|  308| 43|    80|     65|    50|    35|   35|         3|    false|\n",
            "|342|           Crawdaunt|   Water|    Dark|  468| 63|   120|     85|    90|    55|   55|         3|    false|\n",
            "|343|              Baltoy|  Ground| Psychic|  300| 40|    40|     55|    40|    70|   55|         3|    false|\n",
            "|344|             Claydol|  Ground| Psychic|  500| 60|    70|    105|    70|   120|   75|         3|    false|\n",
            "|345|              Lileep|    Rock|   Grass|  355| 66|    41|     77|    61|    87|   23|         3|    false|\n",
            "|346|             Cradily|    Rock|   Grass|  495| 86|    81|     97|    81|   107|   43|         3|    false|\n",
            "|347|             Anorith|    Rock|     Bug|  355| 45|    95|     50|    40|    50|   75|         3|    false|\n",
            "|348|             Armaldo|    Rock|     Bug|  495| 75|   125|    100|    70|    80|   45|         3|    false|\n",
            "|349|              Feebas|   Water|    null|  200| 20|    15|     20|    10|    55|   80|         3|    false|\n",
            "|350|             Milotic|   Water|    null|  540| 95|    60|     79|   100|   125|   81|         3|    false|\n",
            "|351|            Castform|  Normal|    null|  420| 70|    70|     70|    70|    70|   70|         3|    false|\n",
            "|352|             Kecleon|  Normal|    null|  440| 60|    90|     70|    60|   120|   40|         3|    false|\n",
            "|353|             Shuppet|   Ghost|    null|  295| 44|    75|     35|    63|    33|   45|         3|    false|\n",
            "|354|             Banette|   Ghost|    null|  455| 64|   115|     65|    83|    63|   65|         3|    false|\n",
            "|354| BanetteMega Banette|   Ghost|    null|  555| 64|   165|     75|    93|    83|   75|         3|    false|\n",
            "|355|             Duskull|   Ghost|    null|  295| 20|    40|     90|    30|    90|   25|         3|    false|\n",
            "|356|            Dusclops|   Ghost|    null|  455| 40|    70|    130|    60|   130|   25|         3|    false|\n",
            "|357|             Tropius|   Grass|  Flying|  460| 99|    68|     83|    72|    87|   51|         3|    false|\n",
            "|358|            Chimecho| Psychic|    null|  425| 65|    50|     70|    95|    80|   65|         3|    false|\n",
            "|359|               Absol|    Dark|    null|  465| 65|   130|     60|    75|    60|   75|         3|    false|\n",
            "|359|     AbsolMega Absol|    Dark|    null|  565| 65|   150|     60|   115|    60|  115|         3|    false|\n",
            "|360|              Wynaut| Psychic|    null|  260| 95|    23|     48|    23|    48|   23|         3|    false|\n",
            "|361|             Snorunt|     Ice|    null|  300| 50|    50|     50|    50|    50|   50|         3|    false|\n",
            "|362|              Glalie|     Ice|    null|  480| 80|    80|     80|    80|    80|   80|         3|    false|\n",
            "|362|   GlalieMega Glalie|     Ice|    null|  580| 80|   120|     80|   120|    80|  100|         3|    false|\n",
            "|363|              Spheal|     Ice|   Water|  290| 70|    40|     50|    55|    50|   25|         3|    false|\n",
            "|364|              Sealeo|     Ice|   Water|  410| 90|    60|     70|    75|    70|   45|         3|    false|\n",
            "|365|             Walrein|     Ice|   Water|  530|110|    80|     90|    95|    90|   65|         3|    false|\n",
            "|366|            Clamperl|   Water|    null|  345| 35|    64|     85|    74|    55|   32|         3|    false|\n",
            "|367|             Huntail|   Water|    null|  485| 55|   104|    105|    94|    75|   52|         3|    false|\n",
            "|368|            Gorebyss|   Water|    null|  485| 55|    84|    105|   114|    75|   52|         3|    false|\n",
            "|369|           Relicanth|   Water|    Rock|  485|100|    90|    130|    45|    65|   55|         3|    false|\n",
            "|370|             Luvdisc|   Water|    null|  330| 43|    30|     55|    40|    65|   97|         3|    false|\n",
            "|371|               Bagon|  Dragon|    null|  300| 45|    75|     60|    40|    30|   50|         3|    false|\n",
            "|372|             Shelgon|  Dragon|    null|  420| 65|    95|    100|    60|    50|   50|         3|    false|\n",
            "|373|           Salamence|  Dragon|  Flying|  600| 95|   135|     80|   110|    80|  100|         3|    false|\n",
            "|373|SalamenceMega Sal...|  Dragon|  Flying|  700| 95|   145|    130|   120|    90|  120|         3|    false|\n",
            "|374|              Beldum|   Steel| Psychic|  300| 40|    55|     80|    35|    60|   30|         3|    false|\n",
            "|375|              Metang|   Steel| Psychic|  420| 60|    75|    100|    55|    80|   50|         3|    false|\n",
            "|376|           Metagross|   Steel| Psychic|  600| 80|   135|    130|    95|    90|   70|         3|    false|\n",
            "|376|MetagrossMega Met...|   Steel| Psychic|  700| 80|   145|    150|   105|   110|  110|         3|    false|\n",
            "|377|            Regirock|    Rock|    null|  580| 80|   100|    200|    50|   100|   50|         3|     true|\n",
            "|378|              Regice|     Ice|    null|  580| 80|    50|    100|   100|   200|   50|         3|     true|\n",
            "|379|           Registeel|   Steel|    null|  580| 80|    75|    150|    75|   150|   50|         3|     true|\n",
            "|380|              Latias|  Dragon| Psychic|  600| 80|    80|     90|   110|   130|  110|         3|     true|\n",
            "|380|   LatiasMega Latias|  Dragon| Psychic|  700| 80|   100|    120|   140|   150|  110|         3|     true|\n",
            "|381|              Latios|  Dragon| Psychic|  600| 80|    90|     80|   130|   110|  110|         3|     true|\n",
            "|381|   LatiosMega Latios|  Dragon| Psychic|  700| 80|   130|    100|   160|   120|  110|         3|     true|\n",
            "|382|              Kyogre|   Water|    null|  670|100|   100|     90|   150|   140|   90|         3|     true|\n",
            "|382| KyogrePrimal Kyogre|   Water|    null|  770|100|   150|     90|   180|   160|   90|         3|     true|\n",
            "|383|             Groudon|  Ground|    null|  670|100|   150|    140|   100|    90|   90|         3|     true|\n",
            "|383|GroudonPrimal Gro...|  Ground|    Fire|  770|100|   180|    160|   150|    90|   90|         3|     true|\n",
            "|384|            Rayquaza|  Dragon|  Flying|  680|105|   150|     90|   150|    90|   95|         3|     true|\n",
            "|384|RayquazaMega Rayq...|  Dragon|  Flying|  780|105|   180|    100|   180|   100|  115|         3|     true|\n",
            "|385|             Jirachi|   Steel| Psychic|  600|100|   100|    100|   100|   100|  100|         3|     true|\n",
            "|386|  DeoxysNormal Forme| Psychic|    null|  600| 50|   150|     50|   150|    50|  150|         3|     true|\n",
            "|386|  DeoxysAttack Forme| Psychic|    null|  600| 50|   180|     20|   180|    20|  150|         3|     true|\n",
            "|386| DeoxysDefense Forme| Psychic|    null|  600| 50|    70|    160|    70|   160|   90|         3|     true|\n",
            "|386|   DeoxysSpeed Forme| Psychic|    null|  600| 50|    95|     90|    95|    90|  180|         3|     true|\n",
            "|387|             Turtwig|   Grass|    null|  318| 55|    68|     64|    45|    55|   31|         4|    false|\n",
            "|388|              Grotle|   Grass|    null|  405| 75|    89|     85|    55|    65|   36|         4|    false|\n",
            "|389|            Torterra|   Grass|  Ground|  525| 95|   109|    105|    75|    85|   56|         4|    false|\n",
            "|390|            Chimchar|    Fire|    null|  309| 44|    58|     44|    58|    44|   61|         4|    false|\n",
            "|391|            Monferno|    Fire|Fighting|  405| 64|    78|     52|    78|    52|   81|         4|    false|\n",
            "|392|           Infernape|    Fire|Fighting|  534| 76|   104|     71|   104|    71|  108|         4|    false|\n",
            "|393|              Piplup|   Water|    null|  314| 53|    51|     53|    61|    56|   40|         4|    false|\n",
            "|394|            Prinplup|   Water|    null|  405| 64|    66|     68|    81|    76|   50|         4|    false|\n",
            "|395|            Empoleon|   Water|   Steel|  530| 84|    86|     88|   111|   101|   60|         4|    false|\n",
            "|396|              Starly|  Normal|  Flying|  245| 40|    55|     30|    30|    30|   60|         4|    false|\n",
            "|397|            Staravia|  Normal|  Flying|  340| 55|    75|     50|    40|    40|   80|         4|    false|\n",
            "|398|           Staraptor|  Normal|  Flying|  485| 85|   120|     70|    50|    60|  100|         4|    false|\n",
            "|399|              Bidoof|  Normal|    null|  250| 59|    45|     40|    35|    40|   31|         4|    false|\n",
            "|400|             Bibarel|  Normal|   Water|  410| 79|    85|     60|    55|    60|   71|         4|    false|\n",
            "|401|           Kricketot|     Bug|    null|  194| 37|    25|     41|    25|    41|   25|         4|    false|\n",
            "|402|          Kricketune|     Bug|    null|  384| 77|    85|     51|    55|    51|   65|         4|    false|\n",
            "|403|               Shinx|Electric|    null|  263| 45|    65|     34|    40|    34|   45|         4|    false|\n",
            "|404|               Luxio|Electric|    null|  363| 60|    85|     49|    60|    49|   60|         4|    false|\n",
            "|405|              Luxray|Electric|    null|  523| 80|   120|     79|    95|    79|   70|         4|    false|\n",
            "|406|               Budew|   Grass|  Poison|  280| 40|    30|     35|    50|    70|   55|         4|    false|\n",
            "|407|            Roserade|   Grass|  Poison|  515| 60|    70|     65|   125|   105|   90|         4|    false|\n",
            "|408|            Cranidos|    Rock|    null|  350| 67|   125|     40|    30|    30|   58|         4|    false|\n",
            "|409|           Rampardos|    Rock|    null|  495| 97|   165|     60|    65|    50|   58|         4|    false|\n",
            "|410|            Shieldon|    Rock|   Steel|  350| 30|    42|    118|    42|    88|   30|         4|    false|\n",
            "|411|           Bastiodon|    Rock|   Steel|  495| 60|    52|    168|    47|   138|   30|         4|    false|\n",
            "|412|               Burmy|     Bug|    null|  224| 40|    29|     45|    29|    45|   36|         4|    false|\n",
            "|413| WormadamPlant Cloak|     Bug|   Grass|  424| 60|    59|     85|    79|   105|   36|         4|    false|\n",
            "|413| WormadamSandy Cloak|     Bug|  Ground|  424| 60|    79|    105|    59|    85|   36|         4|    false|\n",
            "|413| WormadamTrash Cloak|     Bug|   Steel|  424| 60|    69|     95|    69|    95|   36|         4|    false|\n",
            "|414|              Mothim|     Bug|  Flying|  424| 70|    94|     50|    94|    50|   66|         4|    false|\n",
            "|415|              Combee|     Bug|  Flying|  244| 30|    30|     42|    30|    42|   70|         4|    false|\n",
            "|416|           Vespiquen|     Bug|  Flying|  474| 70|    80|    102|    80|   102|   40|         4|    false|\n",
            "|417|           Pachirisu|Electric|    null|  405| 60|    45|     70|    45|    90|   95|         4|    false|\n",
            "|418|              Buizel|   Water|    null|  330| 55|    65|     35|    60|    30|   85|         4|    false|\n",
            "|419|            Floatzel|   Water|    null|  495| 85|   105|     55|    85|    50|  115|         4|    false|\n",
            "|420|             Cherubi|   Grass|    null|  275| 45|    35|     45|    62|    53|   35|         4|    false|\n",
            "|421|             Cherrim|   Grass|    null|  450| 70|    60|     70|    87|    78|   85|         4|    false|\n",
            "|422|             Shellos|   Water|    null|  325| 76|    48|     48|    57|    62|   34|         4|    false|\n",
            "|423|           Gastrodon|   Water|  Ground|  475|111|    83|     68|    92|    82|   39|         4|    false|\n",
            "|424|             Ambipom|  Normal|    null|  482| 75|   100|     66|    60|    66|  115|         4|    false|\n",
            "|425|            Drifloon|   Ghost|  Flying|  348| 90|    50|     34|    60|    44|   70|         4|    false|\n",
            "|426|            Drifblim|   Ghost|  Flying|  498|150|    80|     44|    90|    54|   80|         4|    false|\n",
            "|427|             Buneary|  Normal|    null|  350| 55|    66|     44|    44|    56|   85|         4|    false|\n",
            "|428|             Lopunny|  Normal|    null|  480| 65|    76|     84|    54|    96|  105|         4|    false|\n",
            "|428| LopunnyMega Lopunny|  Normal|Fighting|  580| 65|   136|     94|    54|    96|  135|         4|    false|\n",
            "|429|           Mismagius|   Ghost|    null|  495| 60|    60|     60|   105|   105|  105|         4|    false|\n",
            "|430|           Honchkrow|    Dark|  Flying|  505|100|   125|     52|   105|    52|   71|         4|    false|\n",
            "|431|             Glameow|  Normal|    null|  310| 49|    55|     42|    42|    37|   85|         4|    false|\n",
            "|432|             Purugly|  Normal|    null|  452| 71|    82|     64|    64|    59|  112|         4|    false|\n",
            "|433|           Chingling| Psychic|    null|  285| 45|    30|     50|    65|    50|   45|         4|    false|\n",
            "|434|              Stunky|  Poison|    Dark|  329| 63|    63|     47|    41|    41|   74|         4|    false|\n",
            "|435|            Skuntank|  Poison|    Dark|  479|103|    93|     67|    71|    61|   84|         4|    false|\n",
            "|436|             Bronzor|   Steel| Psychic|  300| 57|    24|     86|    24|    86|   23|         4|    false|\n",
            "|437|            Bronzong|   Steel| Psychic|  500| 67|    89|    116|    79|   116|   33|         4|    false|\n",
            "|438|              Bonsly|    Rock|    null|  290| 50|    80|     95|    10|    45|   10|         4|    false|\n",
            "|439|            Mime Jr.| Psychic|   Fairy|  310| 20|    25|     45|    70|    90|   60|         4|    false|\n",
            "|440|             Happiny|  Normal|    null|  220|100|     5|      5|    15|    65|   30|         4|    false|\n",
            "|441|              Chatot|  Normal|  Flying|  411| 76|    65|     45|    92|    42|   91|         4|    false|\n",
            "|442|           Spiritomb|   Ghost|    Dark|  485| 50|    92|    108|    92|   108|   35|         4|    false|\n",
            "|443|               Gible|  Dragon|  Ground|  300| 58|    70|     45|    40|    45|   42|         4|    false|\n",
            "|444|              Gabite|  Dragon|  Ground|  410| 68|    90|     65|    50|    55|   82|         4|    false|\n",
            "|445|            Garchomp|  Dragon|  Ground|  600|108|   130|     95|    80|    85|  102|         4|    false|\n",
            "|445|GarchompMega Garc...|  Dragon|  Ground|  700|108|   170|    115|   120|    95|   92|         4|    false|\n",
            "|446|            Munchlax|  Normal|    null|  390|135|    85|     40|    40|    85|    5|         4|    false|\n",
            "|447|               Riolu|Fighting|    null|  285| 40|    70|     40|    35|    40|   60|         4|    false|\n",
            "|448|             Lucario|Fighting|   Steel|  525| 70|   110|     70|   115|    70|   90|         4|    false|\n",
            "|448| LucarioMega Lucario|Fighting|   Steel|  625| 70|   145|     88|   140|    70|  112|         4|    false|\n",
            "|449|          Hippopotas|  Ground|    null|  330| 68|    72|     78|    38|    42|   32|         4|    false|\n",
            "|450|           Hippowdon|  Ground|    null|  525|108|   112|    118|    68|    72|   47|         4|    false|\n",
            "|451|             Skorupi|  Poison|     Bug|  330| 40|    50|     90|    30|    55|   65|         4|    false|\n",
            "|452|             Drapion|  Poison|    Dark|  500| 70|    90|    110|    60|    75|   95|         4|    false|\n",
            "|453|            Croagunk|  Poison|Fighting|  300| 48|    61|     40|    61|    40|   50|         4|    false|\n",
            "|454|           Toxicroak|  Poison|Fighting|  490| 83|   106|     65|    86|    65|   85|         4|    false|\n",
            "|455|           Carnivine|   Grass|    null|  454| 74|   100|     72|    90|    72|   46|         4|    false|\n",
            "|456|             Finneon|   Water|    null|  330| 49|    49|     56|    49|    61|   66|         4|    false|\n",
            "|457|            Lumineon|   Water|    null|  460| 69|    69|     76|    69|    86|   91|         4|    false|\n",
            "|458|             Mantyke|   Water|  Flying|  345| 45|    20|     50|    60|   120|   50|         4|    false|\n",
            "|459|              Snover|   Grass|     Ice|  334| 60|    62|     50|    62|    60|   40|         4|    false|\n",
            "|460|           Abomasnow|   Grass|     Ice|  494| 90|    92|     75|    92|    85|   60|         4|    false|\n",
            "|460|AbomasnowMega Abo...|   Grass|     Ice|  594| 90|   132|    105|   132|   105|   30|         4|    false|\n",
            "|461|             Weavile|    Dark|     Ice|  510| 70|   120|     65|    45|    85|  125|         4|    false|\n",
            "|462|           Magnezone|Electric|   Steel|  535| 70|    70|    115|   130|    90|   60|         4|    false|\n",
            "|463|          Lickilicky|  Normal|    null|  515|110|    85|     95|    80|    95|   50|         4|    false|\n",
            "|464|           Rhyperior|  Ground|    Rock|  535|115|   140|    130|    55|    55|   40|         4|    false|\n",
            "|465|           Tangrowth|   Grass|    null|  535|100|   100|    125|   110|    50|   50|         4|    false|\n",
            "|466|          Electivire|Electric|    null|  540| 75|   123|     67|    95|    85|   95|         4|    false|\n",
            "|467|           Magmortar|    Fire|    null|  540| 75|    95|     67|   125|    95|   83|         4|    false|\n",
            "|468|            Togekiss|   Fairy|  Flying|  545| 85|    50|     95|   120|   115|   80|         4|    false|\n",
            "|469|             Yanmega|     Bug|  Flying|  515| 86|    76|     86|   116|    56|   95|         4|    false|\n",
            "|470|             Leafeon|   Grass|    null|  525| 65|   110|    130|    60|    65|   95|         4|    false|\n",
            "|471|             Glaceon|     Ice|    null|  525| 65|    60|    110|   130|    95|   65|         4|    false|\n",
            "|472|             Gliscor|  Ground|  Flying|  510| 75|    95|    125|    45|    75|   95|         4|    false|\n",
            "|473|           Mamoswine|     Ice|  Ground|  530|110|   130|     80|    70|    60|   80|         4|    false|\n",
            "|474|           Porygon-Z|  Normal|    null|  535| 85|    80|     70|   135|    75|   90|         4|    false|\n",
            "|475|             Gallade| Psychic|Fighting|  518| 68|   125|     65|    65|   115|   80|         4|    false|\n",
            "|475| GalladeMega Gallade| Psychic|Fighting|  618| 68|   165|     95|    65|   115|  110|         4|    false|\n",
            "|476|           Probopass|    Rock|   Steel|  525| 60|    55|    145|    75|   150|   40|         4|    false|\n",
            "|477|            Dusknoir|   Ghost|    null|  525| 45|   100|    135|    65|   135|   45|         4|    false|\n",
            "|478|            Froslass|     Ice|   Ghost|  480| 70|    80|     70|    80|    70|  110|         4|    false|\n",
            "|479|               Rotom|Electric|   Ghost|  440| 50|    50|     77|    95|    77|   91|         4|    false|\n",
            "|479|     RotomHeat Rotom|Electric|    Fire|  520| 50|    65|    107|   105|   107|   86|         4|    false|\n",
            "|479|     RotomWash Rotom|Electric|   Water|  520| 50|    65|    107|   105|   107|   86|         4|    false|\n",
            "|479|    RotomFrost Rotom|Electric|     Ice|  520| 50|    65|    107|   105|   107|   86|         4|    false|\n",
            "|479|      RotomFan Rotom|Electric|  Flying|  520| 50|    65|    107|   105|   107|   86|         4|    false|\n",
            "|479|      RotomMow Rotom|Electric|   Grass|  520| 50|    65|    107|   105|   107|   86|         4|    false|\n",
            "|480|                Uxie| Psychic|    null|  580| 75|    75|    130|    75|   130|   95|         4|     true|\n",
            "|481|             Mesprit| Psychic|    null|  580| 80|   105|    105|   105|   105|   80|         4|     true|\n",
            "|482|               Azelf| Psychic|    null|  580| 75|   125|     70|   125|    70|  115|         4|     true|\n",
            "|483|              Dialga|   Steel|  Dragon|  680|100|   120|    120|   150|   100|   90|         4|     true|\n",
            "|484|              Palkia|   Water|  Dragon|  680| 90|   120|    100|   150|   120|  100|         4|     true|\n",
            "|485|             Heatran|    Fire|   Steel|  600| 91|    90|    106|   130|   106|   77|         4|     true|\n",
            "|486|           Regigigas|  Normal|    null|  670|110|   160|    110|    80|   110|  100|         4|     true|\n",
            "|487|GiratinaAltered F...|   Ghost|  Dragon|  680|150|   100|    120|   100|   120|   90|         4|     true|\n",
            "|487|GiratinaOrigin Forme|   Ghost|  Dragon|  680|150|   120|    100|   120|   100|   90|         4|     true|\n",
            "|488|           Cresselia| Psychic|    null|  600|120|    70|    120|    75|   130|   85|         4|    false|\n",
            "|489|              Phione|   Water|    null|  480| 80|    80|     80|    80|    80|   80|         4|    false|\n",
            "|490|             Manaphy|   Water|    null|  600|100|   100|    100|   100|   100|  100|         4|    false|\n",
            "|491|             Darkrai|    Dark|    null|  600| 70|    90|     90|   135|    90|  125|         4|     true|\n",
            "|492|   ShayminLand Forme|   Grass|    null|  600|100|   100|    100|   100|   100|  100|         4|     true|\n",
            "|492|    ShayminSky Forme|   Grass|  Flying|  600|100|   103|     75|   120|    75|  127|         4|     true|\n",
            "|493|              Arceus|  Normal|    null|  720|120|   120|    120|   120|   120|  120|         4|     true|\n",
            "|494|             Victini| Psychic|    Fire|  600|100|   100|    100|   100|   100|  100|         5|     true|\n",
            "|495|               Snivy|   Grass|    null|  308| 45|    45|     55|    45|    55|   63|         5|    false|\n",
            "|496|             Servine|   Grass|    null|  413| 60|    60|     75|    60|    75|   83|         5|    false|\n",
            "|497|           Serperior|   Grass|    null|  528| 75|    75|     95|    75|    95|  113|         5|    false|\n",
            "|498|               Tepig|    Fire|    null|  308| 65|    63|     45|    45|    45|   45|         5|    false|\n",
            "|499|             Pignite|    Fire|Fighting|  418| 90|    93|     55|    70|    55|   55|         5|    false|\n",
            "|500|              Emboar|    Fire|Fighting|  528|110|   123|     65|   100|    65|   65|         5|    false|\n",
            "|501|            Oshawott|   Water|    null|  308| 55|    55|     45|    63|    45|   45|         5|    false|\n",
            "|502|              Dewott|   Water|    null|  413| 75|    75|     60|    83|    60|   60|         5|    false|\n",
            "|503|            Samurott|   Water|    null|  528| 95|   100|     85|   108|    70|   70|         5|    false|\n",
            "|504|              Patrat|  Normal|    null|  255| 45|    55|     39|    35|    39|   42|         5|    false|\n",
            "|505|             Watchog|  Normal|    null|  420| 60|    85|     69|    60|    69|   77|         5|    false|\n",
            "|506|            Lillipup|  Normal|    null|  275| 45|    60|     45|    25|    45|   55|         5|    false|\n",
            "|507|             Herdier|  Normal|    null|  370| 65|    80|     65|    35|    65|   60|         5|    false|\n",
            "|508|           Stoutland|  Normal|    null|  500| 85|   110|     90|    45|    90|   80|         5|    false|\n",
            "|509|            Purrloin|    Dark|    null|  281| 41|    50|     37|    50|    37|   66|         5|    false|\n",
            "|510|             Liepard|    Dark|    null|  446| 64|    88|     50|    88|    50|  106|         5|    false|\n",
            "|511|             Pansage|   Grass|    null|  316| 50|    53|     48|    53|    48|   64|         5|    false|\n",
            "|512|            Simisage|   Grass|    null|  498| 75|    98|     63|    98|    63|  101|         5|    false|\n",
            "|513|             Pansear|    Fire|    null|  316| 50|    53|     48|    53|    48|   64|         5|    false|\n",
            "|514|            Simisear|    Fire|    null|  498| 75|    98|     63|    98|    63|  101|         5|    false|\n",
            "|515|             Panpour|   Water|    null|  316| 50|    53|     48|    53|    48|   64|         5|    false|\n",
            "|516|            Simipour|   Water|    null|  498| 75|    98|     63|    98|    63|  101|         5|    false|\n",
            "|517|               Munna| Psychic|    null|  292| 76|    25|     45|    67|    55|   24|         5|    false|\n",
            "|518|            Musharna| Psychic|    null|  487|116|    55|     85|   107|    95|   29|         5|    false|\n",
            "|519|              Pidove|  Normal|  Flying|  264| 50|    55|     50|    36|    30|   43|         5|    false|\n",
            "|520|           Tranquill|  Normal|  Flying|  358| 62|    77|     62|    50|    42|   65|         5|    false|\n",
            "|521|            Unfezant|  Normal|  Flying|  488| 80|   115|     80|    65|    55|   93|         5|    false|\n",
            "|522|             Blitzle|Electric|    null|  295| 45|    60|     32|    50|    32|   76|         5|    false|\n",
            "|523|           Zebstrika|Electric|    null|  497| 75|   100|     63|    80|    63|  116|         5|    false|\n",
            "|524|          Roggenrola|    Rock|    null|  280| 55|    75|     85|    25|    25|   15|         5|    false|\n",
            "|525|             Boldore|    Rock|    null|  390| 70|   105|    105|    50|    40|   20|         5|    false|\n",
            "|526|            Gigalith|    Rock|    null|  515| 85|   135|    130|    60|    80|   25|         5|    false|\n",
            "|527|              Woobat| Psychic|  Flying|  313| 55|    45|     43|    55|    43|   72|         5|    false|\n",
            "|528|             Swoobat| Psychic|  Flying|  425| 67|    57|     55|    77|    55|  114|         5|    false|\n",
            "|529|             Drilbur|  Ground|    null|  328| 60|    85|     40|    30|    45|   68|         5|    false|\n",
            "|530|           Excadrill|  Ground|   Steel|  508|110|   135|     60|    50|    65|   88|         5|    false|\n",
            "|531|              Audino|  Normal|    null|  445|103|    60|     86|    60|    86|   50|         5|    false|\n",
            "|531|   AudinoMega Audino|  Normal|   Fairy|  545|103|    60|    126|    80|   126|   50|         5|    false|\n",
            "|532|             Timburr|Fighting|    null|  305| 75|    80|     55|    25|    35|   35|         5|    false|\n",
            "|533|             Gurdurr|Fighting|    null|  405| 85|   105|     85|    40|    50|   40|         5|    false|\n",
            "|534|          Conkeldurr|Fighting|    null|  505|105|   140|     95|    55|    65|   45|         5|    false|\n",
            "|535|             Tympole|   Water|    null|  294| 50|    50|     40|    50|    40|   64|         5|    false|\n",
            "|536|           Palpitoad|   Water|  Ground|  384| 75|    65|     55|    65|    55|   69|         5|    false|\n",
            "|537|          Seismitoad|   Water|  Ground|  509|105|    95|     75|    85|    75|   74|         5|    false|\n",
            "|538|               Throh|Fighting|    null|  465|120|   100|     85|    30|    85|   45|         5|    false|\n",
            "|539|                Sawk|Fighting|    null|  465| 75|   125|     75|    30|    75|   85|         5|    false|\n",
            "|540|            Sewaddle|     Bug|   Grass|  310| 45|    53|     70|    40|    60|   42|         5|    false|\n",
            "|541|            Swadloon|     Bug|   Grass|  380| 55|    63|     90|    50|    80|   42|         5|    false|\n",
            "|542|            Leavanny|     Bug|   Grass|  500| 75|   103|     80|    70|    80|   92|         5|    false|\n",
            "|543|            Venipede|     Bug|  Poison|  260| 30|    45|     59|    30|    39|   57|         5|    false|\n",
            "|544|          Whirlipede|     Bug|  Poison|  360| 40|    55|     99|    40|    79|   47|         5|    false|\n",
            "|545|           Scolipede|     Bug|  Poison|  485| 60|   100|     89|    55|    69|  112|         5|    false|\n",
            "|546|            Cottonee|   Grass|   Fairy|  280| 40|    27|     60|    37|    50|   66|         5|    false|\n",
            "|547|          Whimsicott|   Grass|   Fairy|  480| 60|    67|     85|    77|    75|  116|         5|    false|\n",
            "|548|             Petilil|   Grass|    null|  280| 45|    35|     50|    70|    50|   30|         5|    false|\n",
            "|549|           Lilligant|   Grass|    null|  480| 70|    60|     75|   110|    75|   90|         5|    false|\n",
            "|550|            Basculin|   Water|    null|  460| 70|    92|     65|    80|    55|   98|         5|    false|\n",
            "|551|             Sandile|  Ground|    Dark|  292| 50|    72|     35|    35|    35|   65|         5|    false|\n",
            "|552|            Krokorok|  Ground|    Dark|  351| 60|    82|     45|    45|    45|   74|         5|    false|\n",
            "|553|          Krookodile|  Ground|    Dark|  519| 95|   117|     80|    65|    70|   92|         5|    false|\n",
            "|554|            Darumaka|    Fire|    null|  315| 70|    90|     45|    15|    45|   50|         5|    false|\n",
            "|555|DarmanitanStandar...|    Fire|    null|  480|105|   140|     55|    30|    55|   95|         5|    false|\n",
            "|555|  DarmanitanZen Mode|    Fire| Psychic|  540|105|    30|    105|   140|   105|   55|         5|    false|\n",
            "|556|            Maractus|   Grass|    null|  461| 75|    86|     67|   106|    67|   60|         5|    false|\n",
            "|557|             Dwebble|     Bug|    Rock|  325| 50|    65|     85|    35|    35|   55|         5|    false|\n",
            "|558|             Crustle|     Bug|    Rock|  475| 70|    95|    125|    65|    75|   45|         5|    false|\n",
            "|559|             Scraggy|    Dark|Fighting|  348| 50|    75|     70|    35|    70|   48|         5|    false|\n",
            "|560|             Scrafty|    Dark|Fighting|  488| 65|    90|    115|    45|   115|   58|         5|    false|\n",
            "|561|            Sigilyph| Psychic|  Flying|  490| 72|    58|     80|   103|    80|   97|         5|    false|\n",
            "|562|              Yamask|   Ghost|    null|  303| 38|    30|     85|    55|    65|   30|         5|    false|\n",
            "|563|          Cofagrigus|   Ghost|    null|  483| 58|    50|    145|    95|   105|   30|         5|    false|\n",
            "|564|            Tirtouga|   Water|    Rock|  355| 54|    78|    103|    53|    45|   22|         5|    false|\n",
            "|565|          Carracosta|   Water|    Rock|  495| 74|   108|    133|    83|    65|   32|         5|    false|\n",
            "|566|              Archen|    Rock|  Flying|  401| 55|   112|     45|    74|    45|   70|         5|    false|\n",
            "|567|            Archeops|    Rock|  Flying|  567| 75|   140|     65|   112|    65|  110|         5|    false|\n",
            "|568|            Trubbish|  Poison|    null|  329| 50|    50|     62|    40|    62|   65|         5|    false|\n",
            "|569|            Garbodor|  Poison|    null|  474| 80|    95|     82|    60|    82|   75|         5|    false|\n",
            "|570|               Zorua|    Dark|    null|  330| 40|    65|     40|    80|    40|   65|         5|    false|\n",
            "|571|             Zoroark|    Dark|    null|  510| 60|   105|     60|   120|    60|  105|         5|    false|\n",
            "|572|            Minccino|  Normal|    null|  300| 55|    50|     40|    40|    40|   75|         5|    false|\n",
            "|573|            Cinccino|  Normal|    null|  470| 75|    95|     60|    65|    60|  115|         5|    false|\n",
            "|574|             Gothita| Psychic|    null|  290| 45|    30|     50|    55|    65|   45|         5|    false|\n",
            "|575|           Gothorita| Psychic|    null|  390| 60|    45|     70|    75|    85|   55|         5|    false|\n",
            "|576|          Gothitelle| Psychic|    null|  490| 70|    55|     95|    95|   110|   65|         5|    false|\n",
            "|577|             Solosis| Psychic|    null|  290| 45|    30|     40|   105|    50|   20|         5|    false|\n",
            "|578|             Duosion| Psychic|    null|  370| 65|    40|     50|   125|    60|   30|         5|    false|\n",
            "|579|           Reuniclus| Psychic|    null|  490|110|    65|     75|   125|    85|   30|         5|    false|\n",
            "|580|            Ducklett|   Water|  Flying|  305| 62|    44|     50|    44|    50|   55|         5|    false|\n",
            "|581|              Swanna|   Water|  Flying|  473| 75|    87|     63|    87|    63|   98|         5|    false|\n",
            "|582|           Vanillite|     Ice|    null|  305| 36|    50|     50|    65|    60|   44|         5|    false|\n",
            "|583|           Vanillish|     Ice|    null|  395| 51|    65|     65|    80|    75|   59|         5|    false|\n",
            "|584|           Vanilluxe|     Ice|    null|  535| 71|    95|     85|   110|    95|   79|         5|    false|\n",
            "|585|            Deerling|  Normal|   Grass|  335| 60|    60|     50|    40|    50|   75|         5|    false|\n",
            "|586|            Sawsbuck|  Normal|   Grass|  475| 80|   100|     70|    60|    70|   95|         5|    false|\n",
            "|587|              Emolga|Electric|  Flying|  428| 55|    75|     60|    75|    60|  103|         5|    false|\n",
            "|588|          Karrablast|     Bug|    null|  315| 50|    75|     45|    40|    45|   60|         5|    false|\n",
            "|589|          Escavalier|     Bug|   Steel|  495| 70|   135|    105|    60|   105|   20|         5|    false|\n",
            "|590|             Foongus|   Grass|  Poison|  294| 69|    55|     45|    55|    55|   15|         5|    false|\n",
            "|591|           Amoonguss|   Grass|  Poison|  464|114|    85|     70|    85|    80|   30|         5|    false|\n",
            "|592|            Frillish|   Water|   Ghost|  335| 55|    40|     50|    65|    85|   40|         5|    false|\n",
            "|593|           Jellicent|   Water|   Ghost|  480|100|    60|     70|    85|   105|   60|         5|    false|\n",
            "|594|           Alomomola|   Water|    null|  470|165|    75|     80|    40|    45|   65|         5|    false|\n",
            "|595|              Joltik|     Bug|Electric|  319| 50|    47|     50|    57|    50|   65|         5|    false|\n",
            "|596|          Galvantula|     Bug|Electric|  472| 70|    77|     60|    97|    60|  108|         5|    false|\n",
            "|597|           Ferroseed|   Grass|   Steel|  305| 44|    50|     91|    24|    86|   10|         5|    false|\n",
            "|598|          Ferrothorn|   Grass|   Steel|  489| 74|    94|    131|    54|   116|   20|         5|    false|\n",
            "|599|               Klink|   Steel|    null|  300| 40|    55|     70|    45|    60|   30|         5|    false|\n",
            "|600|               Klang|   Steel|    null|  440| 60|    80|     95|    70|    85|   50|         5|    false|\n",
            "|601|           Klinklang|   Steel|    null|  520| 60|   100|    115|    70|    85|   90|         5|    false|\n",
            "|602|              Tynamo|Electric|    null|  275| 35|    55|     40|    45|    40|   60|         5|    false|\n",
            "|603|           Eelektrik|Electric|    null|  405| 65|    85|     70|    75|    70|   40|         5|    false|\n",
            "|604|          Eelektross|Electric|    null|  515| 85|   115|     80|   105|    80|   50|         5|    false|\n",
            "|605|              Elgyem| Psychic|    null|  335| 55|    55|     55|    85|    55|   30|         5|    false|\n",
            "|606|            Beheeyem| Psychic|    null|  485| 75|    75|     75|   125|    95|   40|         5|    false|\n",
            "|607|             Litwick|   Ghost|    Fire|  275| 50|    30|     55|    65|    55|   20|         5|    false|\n",
            "|608|             Lampent|   Ghost|    Fire|  370| 60|    40|     60|    95|    60|   55|         5|    false|\n",
            "|609|          Chandelure|   Ghost|    Fire|  520| 60|    55|     90|   145|    90|   80|         5|    false|\n",
            "|610|                Axew|  Dragon|    null|  320| 46|    87|     60|    30|    40|   57|         5|    false|\n",
            "|611|             Fraxure|  Dragon|    null|  410| 66|   117|     70|    40|    50|   67|         5|    false|\n",
            "|612|             Haxorus|  Dragon|    null|  540| 76|   147|     90|    60|    70|   97|         5|    false|\n",
            "|613|             Cubchoo|     Ice|    null|  305| 55|    70|     40|    60|    40|   40|         5|    false|\n",
            "|614|             Beartic|     Ice|    null|  485| 95|   110|     80|    70|    80|   50|         5|    false|\n",
            "|615|           Cryogonal|     Ice|    null|  485| 70|    50|     30|    95|   135|  105|         5|    false|\n",
            "|616|             Shelmet|     Bug|    null|  305| 50|    40|     85|    40|    65|   25|         5|    false|\n",
            "|617|            Accelgor|     Bug|    null|  495| 80|    70|     40|   100|    60|  145|         5|    false|\n",
            "|618|            Stunfisk|  Ground|Electric|  471|109|    66|     84|    81|    99|   32|         5|    false|\n",
            "|619|             Mienfoo|Fighting|    null|  350| 45|    85|     50|    55|    50|   65|         5|    false|\n",
            "|620|            Mienshao|Fighting|    null|  510| 65|   125|     60|    95|    60|  105|         5|    false|\n",
            "|621|           Druddigon|  Dragon|    null|  485| 77|   120|     90|    60|    90|   48|         5|    false|\n",
            "|622|              Golett|  Ground|   Ghost|  303| 59|    74|     50|    35|    50|   35|         5|    false|\n",
            "|623|              Golurk|  Ground|   Ghost|  483| 89|   124|     80|    55|    80|   55|         5|    false|\n",
            "|624|            Pawniard|    Dark|   Steel|  340| 45|    85|     70|    40|    40|   60|         5|    false|\n",
            "|625|             Bisharp|    Dark|   Steel|  490| 65|   125|    100|    60|    70|   70|         5|    false|\n",
            "|626|          Bouffalant|  Normal|    null|  490| 95|   110|     95|    40|    95|   55|         5|    false|\n",
            "|627|             Rufflet|  Normal|  Flying|  350| 70|    83|     50|    37|    50|   60|         5|    false|\n",
            "|628|            Braviary|  Normal|  Flying|  510|100|   123|     75|    57|    75|   80|         5|    false|\n",
            "|629|             Vullaby|    Dark|  Flying|  370| 70|    55|     75|    45|    65|   60|         5|    false|\n",
            "|630|           Mandibuzz|    Dark|  Flying|  510|110|    65|    105|    55|    95|   80|         5|    false|\n",
            "|631|             Heatmor|    Fire|    null|  484| 85|    97|     66|   105|    66|   65|         5|    false|\n",
            "|632|              Durant|     Bug|   Steel|  484| 58|   109|    112|    48|    48|  109|         5|    false|\n",
            "|633|               Deino|    Dark|  Dragon|  300| 52|    65|     50|    45|    50|   38|         5|    false|\n",
            "|634|            Zweilous|    Dark|  Dragon|  420| 72|    85|     70|    65|    70|   58|         5|    false|\n",
            "|635|           Hydreigon|    Dark|  Dragon|  600| 92|   105|     90|   125|    90|   98|         5|    false|\n",
            "|636|            Larvesta|     Bug|    Fire|  360| 55|    85|     55|    50|    55|   60|         5|    false|\n",
            "|637|           Volcarona|     Bug|    Fire|  550| 85|    60|     65|   135|   105|  100|         5|    false|\n",
            "|638|            Cobalion|   Steel|Fighting|  580| 91|    90|    129|    90|    72|  108|         5|     true|\n",
            "|639|           Terrakion|    Rock|Fighting|  580| 91|   129|     90|    72|    90|  108|         5|     true|\n",
            "|640|            Virizion|   Grass|Fighting|  580| 91|    90|     72|    90|   129|  108|         5|     true|\n",
            "|641|TornadusIncarnate...|  Flying|    null|  580| 79|   115|     70|   125|    80|  111|         5|     true|\n",
            "|641|TornadusTherian F...|  Flying|    null|  580| 79|   100|     80|   110|    90|  121|         5|     true|\n",
            "|642|ThundurusIncarnat...|Electric|  Flying|  580| 79|   115|     70|   125|    80|  111|         5|     true|\n",
            "|642|ThundurusTherian ...|Electric|  Flying|  580| 79|   105|     70|   145|    80|  101|         5|     true|\n",
            "|643|            Reshiram|  Dragon|    Fire|  680|100|   120|    100|   150|   120|   90|         5|     true|\n",
            "|644|              Zekrom|  Dragon|Electric|  680|100|   150|    120|   120|   100|   90|         5|     true|\n",
            "|645|LandorusIncarnate...|  Ground|  Flying|  600| 89|   125|     90|   115|    80|  101|         5|     true|\n",
            "|645|LandorusTherian F...|  Ground|  Flying|  600| 89|   145|     90|   105|    80|   91|         5|     true|\n",
            "|646|              Kyurem|  Dragon|     Ice|  660|125|   130|     90|   130|    90|   95|         5|     true|\n",
            "|646|  KyuremBlack Kyurem|  Dragon|     Ice|  700|125|   170|    100|   120|    90|   95|         5|     true|\n",
            "|646|  KyuremWhite Kyurem|  Dragon|     Ice|  700|125|   120|     90|   170|   100|   95|         5|     true|\n",
            "|647|KeldeoOrdinary Forme|   Water|Fighting|  580| 91|    72|     90|   129|    90|  108|         5|    false|\n",
            "|647|KeldeoResolute Forme|   Water|Fighting|  580| 91|    72|     90|   129|    90|  108|         5|    false|\n",
            "|648|  MeloettaAria Forme|  Normal| Psychic|  600|100|    77|     77|   128|   128|   90|         5|    false|\n",
            "|648|MeloettaPirouette...|  Normal|Fighting|  600|100|   128|     90|    77|    77|  128|         5|    false|\n",
            "|649|            Genesect|     Bug|   Steel|  600| 71|   120|     95|   120|    95|   99|         5|    false|\n",
            "|650|             Chespin|   Grass|    null|  313| 56|    61|     65|    48|    45|   38|         6|    false|\n",
            "|651|           Quilladin|   Grass|    null|  405| 61|    78|     95|    56|    58|   57|         6|    false|\n",
            "|652|          Chesnaught|   Grass|Fighting|  530| 88|   107|    122|    74|    75|   64|         6|    false|\n",
            "|653|            Fennekin|    Fire|    null|  307| 40|    45|     40|    62|    60|   60|         6|    false|\n",
            "|654|             Braixen|    Fire|    null|  409| 59|    59|     58|    90|    70|   73|         6|    false|\n",
            "|655|             Delphox|    Fire| Psychic|  534| 75|    69|     72|   114|   100|  104|         6|    false|\n",
            "|656|             Froakie|   Water|    null|  314| 41|    56|     40|    62|    44|   71|         6|    false|\n",
            "|657|           Frogadier|   Water|    null|  405| 54|    63|     52|    83|    56|   97|         6|    false|\n",
            "|658|            Greninja|   Water|    Dark|  530| 72|    95|     67|   103|    71|  122|         6|    false|\n",
            "|659|            Bunnelby|  Normal|    null|  237| 38|    36|     38|    32|    36|   57|         6|    false|\n",
            "|660|           Diggersby|  Normal|  Ground|  423| 85|    56|     77|    50|    77|   78|         6|    false|\n",
            "|661|          Fletchling|  Normal|  Flying|  278| 45|    50|     43|    40|    38|   62|         6|    false|\n",
            "|662|         Fletchinder|    Fire|  Flying|  382| 62|    73|     55|    56|    52|   84|         6|    false|\n",
            "|663|          Talonflame|    Fire|  Flying|  499| 78|    81|     71|    74|    69|  126|         6|    false|\n",
            "|664|          Scatterbug|     Bug|    null|  200| 38|    35|     40|    27|    25|   35|         6|    false|\n",
            "|665|              Spewpa|     Bug|    null|  213| 45|    22|     60|    27|    30|   29|         6|    false|\n",
            "|666|            Vivillon|     Bug|  Flying|  411| 80|    52|     50|    90|    50|   89|         6|    false|\n",
            "|667|              Litleo|    Fire|  Normal|  369| 62|    50|     58|    73|    54|   72|         6|    false|\n",
            "|668|              Pyroar|    Fire|  Normal|  507| 86|    68|     72|   109|    66|  106|         6|    false|\n",
            "|669|             Flabébé|   Fairy|    null|  303| 44|    38|     39|    61|    79|   42|         6|    false|\n",
            "|670|             Floette|   Fairy|    null|  371| 54|    45|     47|    75|    98|   52|         6|    false|\n",
            "|671|             Florges|   Fairy|    null|  552| 78|    65|     68|   112|   154|   75|         6|    false|\n",
            "|672|              Skiddo|   Grass|    null|  350| 66|    65|     48|    62|    57|   52|         6|    false|\n",
            "|673|              Gogoat|   Grass|    null|  531|123|   100|     62|    97|    81|   68|         6|    false|\n",
            "|674|             Pancham|Fighting|    null|  348| 67|    82|     62|    46|    48|   43|         6|    false|\n",
            "|675|             Pangoro|Fighting|    Dark|  495| 95|   124|     78|    69|    71|   58|         6|    false|\n",
            "|676|             Furfrou|  Normal|    null|  472| 75|    80|     60|    65|    90|  102|         6|    false|\n",
            "|677|              Espurr| Psychic|    null|  355| 62|    48|     54|    63|    60|   68|         6|    false|\n",
            "|678|        MeowsticMale| Psychic|    null|  466| 74|    48|     76|    83|    81|  104|         6|    false|\n",
            "|678|      MeowsticFemale| Psychic|    null|  466| 74|    48|     76|    83|    81|  104|         6|    false|\n",
            "|679|             Honedge|   Steel|   Ghost|  325| 45|    80|    100|    35|    37|   28|         6|    false|\n",
            "|680|            Doublade|   Steel|   Ghost|  448| 59|   110|    150|    45|    49|   35|         6|    false|\n",
            "|681|AegislashBlade Forme|   Steel|   Ghost|  520| 60|   150|     50|   150|    50|   60|         6|    false|\n",
            "|681|AegislashShield F...|   Steel|   Ghost|  520| 60|    50|    150|    50|   150|   60|         6|    false|\n",
            "|682|            Spritzee|   Fairy|    null|  341| 78|    52|     60|    63|    65|   23|         6|    false|\n",
            "|683|          Aromatisse|   Fairy|    null|  462|101|    72|     72|    99|    89|   29|         6|    false|\n",
            "|684|             Swirlix|   Fairy|    null|  341| 62|    48|     66|    59|    57|   49|         6|    false|\n",
            "|685|            Slurpuff|   Fairy|    null|  480| 82|    80|     86|    85|    75|   72|         6|    false|\n",
            "|686|               Inkay|    Dark| Psychic|  288| 53|    54|     53|    37|    46|   45|         6|    false|\n",
            "|687|             Malamar|    Dark| Psychic|  482| 86|    92|     88|    68|    75|   73|         6|    false|\n",
            "|688|             Binacle|    Rock|   Water|  306| 42|    52|     67|    39|    56|   50|         6|    false|\n",
            "|689|          Barbaracle|    Rock|   Water|  500| 72|   105|    115|    54|    86|   68|         6|    false|\n",
            "|690|              Skrelp|  Poison|   Water|  320| 50|    60|     60|    60|    60|   30|         6|    false|\n",
            "|691|            Dragalge|  Poison|  Dragon|  494| 65|    75|     90|    97|   123|   44|         6|    false|\n",
            "|692|           Clauncher|   Water|    null|  330| 50|    53|     62|    58|    63|   44|         6|    false|\n",
            "|693|           Clawitzer|   Water|    null|  500| 71|    73|     88|   120|    89|   59|         6|    false|\n",
            "|694|          Helioptile|Electric|  Normal|  289| 44|    38|     33|    61|    43|   70|         6|    false|\n",
            "|695|           Heliolisk|Electric|  Normal|  481| 62|    55|     52|   109|    94|  109|         6|    false|\n",
            "|696|              Tyrunt|    Rock|  Dragon|  362| 58|    89|     77|    45|    45|   48|         6|    false|\n",
            "|697|           Tyrantrum|    Rock|  Dragon|  521| 82|   121|    119|    69|    59|   71|         6|    false|\n",
            "|698|              Amaura|    Rock|     Ice|  362| 77|    59|     50|    67|    63|   46|         6|    false|\n",
            "|699|             Aurorus|    Rock|     Ice|  521|123|    77|     72|    99|    92|   58|         6|    false|\n",
            "|700|             Sylveon|   Fairy|    null|  525| 95|    65|     65|   110|   130|   60|         6|    false|\n",
            "|701|            Hawlucha|Fighting|  Flying|  500| 78|    92|     75|    74|    63|  118|         6|    false|\n",
            "|702|             Dedenne|Electric|   Fairy|  431| 67|    58|     57|    81|    67|  101|         6|    false|\n",
            "|703|             Carbink|    Rock|   Fairy|  500| 50|    50|    150|    50|   150|   50|         6|    false|\n",
            "|704|               Goomy|  Dragon|    null|  300| 45|    50|     35|    55|    75|   40|         6|    false|\n",
            "|705|             Sliggoo|  Dragon|    null|  452| 68|    75|     53|    83|   113|   60|         6|    false|\n",
            "|706|              Goodra|  Dragon|    null|  600| 90|   100|     70|   110|   150|   80|         6|    false|\n",
            "|707|              Klefki|   Steel|   Fairy|  470| 57|    80|     91|    80|    87|   75|         6|    false|\n",
            "|708|            Phantump|   Ghost|   Grass|  309| 43|    70|     48|    50|    60|   38|         6|    false|\n",
            "|709|           Trevenant|   Ghost|   Grass|  474| 85|   110|     76|    65|    82|   56|         6|    false|\n",
            "|710|PumpkabooAverage ...|   Ghost|   Grass|  335| 49|    66|     70|    44|    55|   51|         6|    false|\n",
            "|710| PumpkabooSmall Size|   Ghost|   Grass|  335| 44|    66|     70|    44|    55|   56|         6|    false|\n",
            "|710| PumpkabooLarge Size|   Ghost|   Grass|  335| 54|    66|     70|    44|    55|   46|         6|    false|\n",
            "|710| PumpkabooSuper Size|   Ghost|   Grass|  335| 59|    66|     70|    44|    55|   41|         6|    false|\n",
            "|711|GourgeistAverage ...|   Ghost|   Grass|  494| 65|    90|    122|    58|    75|   84|         6|    false|\n",
            "|711| GourgeistSmall Size|   Ghost|   Grass|  494| 55|    85|    122|    58|    75|   99|         6|    false|\n",
            "|711| GourgeistLarge Size|   Ghost|   Grass|  494| 75|    95|    122|    58|    75|   69|         6|    false|\n",
            "|711| GourgeistSuper Size|   Ghost|   Grass|  494| 85|   100|    122|    58|    75|   54|         6|    false|\n",
            "|712|            Bergmite|     Ice|    null|  304| 55|    69|     85|    32|    35|   28|         6|    false|\n",
            "|713|             Avalugg|     Ice|    null|  514| 95|   117|    184|    44|    46|   28|         6|    false|\n",
            "|714|              Noibat|  Flying|  Dragon|  245| 40|    30|     35|    45|    40|   55|         6|    false|\n",
            "|715|             Noivern|  Flying|  Dragon|  535| 85|    70|     80|    97|    80|  123|         6|    false|\n",
            "|716|             Xerneas|   Fairy|    null|  680|126|   131|     95|   131|    98|   99|         6|     true|\n",
            "|717|             Yveltal|    Dark|  Flying|  680|126|   131|     95|   131|    98|   99|         6|     true|\n",
            "|718|    Zygarde50% Forme|  Dragon|  Ground|  600|108|   100|    121|    81|    95|   95|         6|     true|\n",
            "|719|             Diancie|    Rock|   Fairy|  600| 50|   100|    150|   100|   150|   50|         6|     true|\n",
            "|719| DiancieMega Diancie|    Rock|   Fairy|  700| 50|   160|    110|   160|   110|  110|         6|     true|\n",
            "|720| HoopaHoopa Confined| Psychic|   Ghost|  600| 80|   110|     60|   150|   130|   70|         6|     true|\n",
            "|720|  HoopaHoopa Unbound| Psychic|    Dark|  680| 80|   160|     60|   170|   130|   80|         6|     true|\n",
            "|721|           Volcanion|    Fire|   Water|  600| 80|   110|    120|   130|    90|   70|         6|     true|\n",
            "+---+--------------------+--------+--------+-----+---+------+-------+------+------+-----+----------+---------+\n",
            "\n"
          ],
          "name": "stdout"
        }
      ]
    },
    {
      "cell_type": "markdown",
      "metadata": {
        "id": "WVc64b0Qs5_9",
        "colab_type": "text"
      },
      "source": [
        "# Regex"
      ]
    },
    {
      "cell_type": "markdown",
      "metadata": {
        "id": "jGSZ0Fprt1H9",
        "colab_type": "text"
      },
      "source": [
        "**Change/Replace/Rename in same column**"
      ]
    },
    {
      "cell_type": "code",
      "metadata": {
        "colab_type": "code",
        "id": "V1IIz5Z6sTS4",
        "colab": {}
      },
      "source": [
        "tempokDf = pokdf.withColumn('Type 1', regexp_replace('Type 1', 'Grass', 'Grassy'))"
      ],
      "execution_count": 0,
      "outputs": []
    },
    {
      "cell_type": "code",
      "metadata": {
        "id": "FzQC2lvGtZ_g",
        "colab_type": "code",
        "outputId": "20d4d7d6-7b7a-415f-c97b-6a5859ae706f",
        "colab": {
          "base_uri": "https://localhost:8080/",
          "height": 478
        }
      },
      "source": [
        "tempokDf.show()"
      ],
      "execution_count": 0,
      "outputs": [
        {
          "output_type": "stream",
          "text": [
            "+---+--------------------+------+------+-----+---+------+-------+------+------+-----+----------+---------+\n",
            "|Sno|                Name|Type 1|Type 2|Total| HP|Attack|Defense|Sp Atk|Sp Def|Speed|Generation|Legendary|\n",
            "+---+--------------------+------+------+-----+---+------+-------+------+------+-----+----------+---------+\n",
            "|  1|           Bulbasaur|Grassy|Poison|  318| 45|    49|     49|    65|    65|   45|         1|    false|\n",
            "|  2|             Ivysaur|Grassy|Poison|  405| 60|    62|     63|    80|    80|   60|         1|    false|\n",
            "|  3|            Venusaur|Grassy|Poison|  525| 80|    82|     83|   100|   100|   80|         1|    false|\n",
            "|  3|VenusaurMega Venu...|Grassy|Poison|  625| 80|   100|    123|   122|   120|   80|         1|    false|\n",
            "|  4|          Charmander|  Fire|  null|  309| 39|    52|     43|    60|    50|   65|         1|    false|\n",
            "|  5|          Charmeleon|  Fire|  null|  405| 58|    64|     58|    80|    65|   80|         1|    false|\n",
            "|  6|           Charizard|  Fire|Flying|  534| 78|    84|     78|   109|    85|  100|         1|    false|\n",
            "|  6|CharizardMega Cha...|  Fire|Dragon|  634| 78|   130|    111|   130|    85|  100|         1|    false|\n",
            "|  6|CharizardMega Cha...|  Fire|Flying|  634| 78|   104|     78|   159|   115|  100|         1|    false|\n",
            "|  7|            Squirtle| Water|  null|  314| 44|    48|     65|    50|    64|   43|         1|    false|\n",
            "|  8|           Wartortle| Water|  null|  405| 59|    63|     80|    65|    80|   58|         1|    false|\n",
            "|  9|           Blastoise| Water|  null|  530| 79|    83|    100|    85|   105|   78|         1|    false|\n",
            "|  9|BlastoiseMega Bla...| Water|  null|  630| 79|   103|    120|   135|   115|   78|         1|    false|\n",
            "| 10|            Caterpie|   Bug|  null|  195| 45|    30|     35|    20|    20|   45|         1|    false|\n",
            "| 11|             Metapod|   Bug|  null|  205| 50|    20|     55|    25|    25|   30|         1|    false|\n",
            "| 12|          Butterfree|   Bug|Flying|  395| 60|    45|     50|    90|    80|   70|         1|    false|\n",
            "| 13|              Weedle|   Bug|Poison|  195| 40|    35|     30|    20|    20|   50|         1|    false|\n",
            "| 14|              Kakuna|   Bug|Poison|  205| 45|    25|     50|    25|    25|   35|         1|    false|\n",
            "| 15|            Beedrill|   Bug|Poison|  395| 65|    90|     40|    45|    80|   75|         1|    false|\n",
            "| 15|BeedrillMega Beed...|   Bug|Poison|  495| 65|   150|     40|    15|    80|  145|         1|    false|\n",
            "+---+--------------------+------+------+-----+---+------+-------+------+------+-----+----------+---------+\n",
            "only showing top 20 rows\n",
            "\n"
          ],
          "name": "stdout"
        }
      ]
    },
    {
      "cell_type": "markdown",
      "metadata": {
        "id": "qCcnNjiFuBzv",
        "colab_type": "text"
      },
      "source": [
        "**Change/Replace/Rename in different column**"
      ]
    },
    {
      "cell_type": "code",
      "metadata": {
        "id": "YJY4c9GEtlVI",
        "colab_type": "code",
        "colab": {}
      },
      "source": [
        "tempokDf = pokdf.withColumn('Type_1', regexp_replace('Type 1', 'Grass', 'Grassy'))"
      ],
      "execution_count": 0,
      "outputs": []
    },
    {
      "cell_type": "code",
      "metadata": {
        "id": "gfEuxzW3uLFB",
        "colab_type": "code",
        "outputId": "beefc211-e424-45cf-eeea-8b4c964c4b2a",
        "colab": {
          "base_uri": "https://localhost:8080/",
          "height": 478
        }
      },
      "source": [
        "tempokDf.show()"
      ],
      "execution_count": 0,
      "outputs": [
        {
          "output_type": "stream",
          "text": [
            "+---+--------------------+------+------+-----+---+------+-------+------+------+-----+----------+---------+------+\n",
            "|Sno|                Name|Type 1|Type 2|Total| HP|Attack|Defense|Sp Atk|Sp Def|Speed|Generation|Legendary|Type_1|\n",
            "+---+--------------------+------+------+-----+---+------+-------+------+------+-----+----------+---------+------+\n",
            "|  1|           Bulbasaur| Grass|Poison|  318| 45|    49|     49|    65|    65|   45|         1|    false|Grassy|\n",
            "|  2|             Ivysaur| Grass|Poison|  405| 60|    62|     63|    80|    80|   60|         1|    false|Grassy|\n",
            "|  3|            Venusaur| Grass|Poison|  525| 80|    82|     83|   100|   100|   80|         1|    false|Grassy|\n",
            "|  3|VenusaurMega Venu...| Grass|Poison|  625| 80|   100|    123|   122|   120|   80|         1|    false|Grassy|\n",
            "|  4|          Charmander|  Fire|  null|  309| 39|    52|     43|    60|    50|   65|         1|    false|  Fire|\n",
            "|  5|          Charmeleon|  Fire|  null|  405| 58|    64|     58|    80|    65|   80|         1|    false|  Fire|\n",
            "|  6|           Charizard|  Fire|Flying|  534| 78|    84|     78|   109|    85|  100|         1|    false|  Fire|\n",
            "|  6|CharizardMega Cha...|  Fire|Dragon|  634| 78|   130|    111|   130|    85|  100|         1|    false|  Fire|\n",
            "|  6|CharizardMega Cha...|  Fire|Flying|  634| 78|   104|     78|   159|   115|  100|         1|    false|  Fire|\n",
            "|  7|            Squirtle| Water|  null|  314| 44|    48|     65|    50|    64|   43|         1|    false| Water|\n",
            "|  8|           Wartortle| Water|  null|  405| 59|    63|     80|    65|    80|   58|         1|    false| Water|\n",
            "|  9|           Blastoise| Water|  null|  530| 79|    83|    100|    85|   105|   78|         1|    false| Water|\n",
            "|  9|BlastoiseMega Bla...| Water|  null|  630| 79|   103|    120|   135|   115|   78|         1|    false| Water|\n",
            "| 10|            Caterpie|   Bug|  null|  195| 45|    30|     35|    20|    20|   45|         1|    false|   Bug|\n",
            "| 11|             Metapod|   Bug|  null|  205| 50|    20|     55|    25|    25|   30|         1|    false|   Bug|\n",
            "| 12|          Butterfree|   Bug|Flying|  395| 60|    45|     50|    90|    80|   70|         1|    false|   Bug|\n",
            "| 13|              Weedle|   Bug|Poison|  195| 40|    35|     30|    20|    20|   50|         1|    false|   Bug|\n",
            "| 14|              Kakuna|   Bug|Poison|  205| 45|    25|     50|    25|    25|   35|         1|    false|   Bug|\n",
            "| 15|            Beedrill|   Bug|Poison|  395| 65|    90|     40|    45|    80|   75|         1|    false|   Bug|\n",
            "| 15|BeedrillMega Beed...|   Bug|Poison|  495| 65|   150|     40|    15|    80|  145|         1|    false|   Bug|\n",
            "+---+--------------------+------+------+-----+---+------+-------+------+------+-----+----------+---------+------+\n",
            "only showing top 20 rows\n",
            "\n"
          ],
          "name": "stdout"
        }
      ]
    },
    {
      "cell_type": "markdown",
      "metadata": {
        "id": "G03hbbrI0mbf",
        "colab_type": "text"
      },
      "source": [
        "**Check if row contains something like /Regex And then filter those columns in next cell**"
      ]
    },
    {
      "cell_type": "code",
      "metadata": {
        "id": "xRrqe3X1v-EL",
        "colab_type": "code",
        "outputId": "21170375-594f-4197-e3f4-2afe50783a43",
        "colab": {
          "base_uri": "https://localhost:8080/",
          "height": 1000
        }
      },
      "source": [
        "tempokDf.withColumn(\n",
        "    \"Type1Column_contains_something_like_tr\",\n",
        "    col(\"Type 1\").rlike(\"tr\")\n",
        "  ).show(800)\n"
      ],
      "execution_count": 0,
      "outputs": [
        {
          "output_type": "stream",
          "text": [
            "+---+--------------------+--------+--------+-----+---+------+-------+------+------+-----+----------+---------+--------+--------------------------------------+\n",
            "|Sno|                Name|  Type 1|  Type 2|Total| HP|Attack|Defense|Sp Atk|Sp Def|Speed|Generation|Legendary|  Type_1|Type1Column_contains_something_like_tr|\n",
            "+---+--------------------+--------+--------+-----+---+------+-------+------+------+-----+----------+---------+--------+--------------------------------------+\n",
            "|  1|           Bulbasaur|   Grass|  Poison|  318| 45|    49|     49|    65|    65|   45|         1|    false|  Grassy|                                 false|\n",
            "|  2|             Ivysaur|   Grass|  Poison|  405| 60|    62|     63|    80|    80|   60|         1|    false|  Grassy|                                 false|\n",
            "|  3|            Venusaur|   Grass|  Poison|  525| 80|    82|     83|   100|   100|   80|         1|    false|  Grassy|                                 false|\n",
            "|  3|VenusaurMega Venu...|   Grass|  Poison|  625| 80|   100|    123|   122|   120|   80|         1|    false|  Grassy|                                 false|\n",
            "|  4|          Charmander|    Fire|    null|  309| 39|    52|     43|    60|    50|   65|         1|    false|    Fire|                                 false|\n",
            "|  5|          Charmeleon|    Fire|    null|  405| 58|    64|     58|    80|    65|   80|         1|    false|    Fire|                                 false|\n",
            "|  6|           Charizard|    Fire|  Flying|  534| 78|    84|     78|   109|    85|  100|         1|    false|    Fire|                                 false|\n",
            "|  6|CharizardMega Cha...|    Fire|  Dragon|  634| 78|   130|    111|   130|    85|  100|         1|    false|    Fire|                                 false|\n",
            "|  6|CharizardMega Cha...|    Fire|  Flying|  634| 78|   104|     78|   159|   115|  100|         1|    false|    Fire|                                 false|\n",
            "|  7|            Squirtle|   Water|    null|  314| 44|    48|     65|    50|    64|   43|         1|    false|   Water|                                 false|\n",
            "|  8|           Wartortle|   Water|    null|  405| 59|    63|     80|    65|    80|   58|         1|    false|   Water|                                 false|\n",
            "|  9|           Blastoise|   Water|    null|  530| 79|    83|    100|    85|   105|   78|         1|    false|   Water|                                 false|\n",
            "|  9|BlastoiseMega Bla...|   Water|    null|  630| 79|   103|    120|   135|   115|   78|         1|    false|   Water|                                 false|\n",
            "| 10|            Caterpie|     Bug|    null|  195| 45|    30|     35|    20|    20|   45|         1|    false|     Bug|                                 false|\n",
            "| 11|             Metapod|     Bug|    null|  205| 50|    20|     55|    25|    25|   30|         1|    false|     Bug|                                 false|\n",
            "| 12|          Butterfree|     Bug|  Flying|  395| 60|    45|     50|    90|    80|   70|         1|    false|     Bug|                                 false|\n",
            "| 13|              Weedle|     Bug|  Poison|  195| 40|    35|     30|    20|    20|   50|         1|    false|     Bug|                                 false|\n",
            "| 14|              Kakuna|     Bug|  Poison|  205| 45|    25|     50|    25|    25|   35|         1|    false|     Bug|                                 false|\n",
            "| 15|            Beedrill|     Bug|  Poison|  395| 65|    90|     40|    45|    80|   75|         1|    false|     Bug|                                 false|\n",
            "| 15|BeedrillMega Beed...|     Bug|  Poison|  495| 65|   150|     40|    15|    80|  145|         1|    false|     Bug|                                 false|\n",
            "| 16|              Pidgey|  Normal|  Flying|  251| 40|    45|     40|    35|    35|   56|         1|    false|  Normal|                                 false|\n",
            "| 17|           Pidgeotto|  Normal|  Flying|  349| 63|    60|     55|    50|    50|   71|         1|    false|  Normal|                                 false|\n",
            "| 18|             Pidgeot|  Normal|  Flying|  479| 83|    80|     75|    70|    70|  101|         1|    false|  Normal|                                 false|\n",
            "| 18| PidgeotMega Pidgeot|  Normal|  Flying|  579| 83|    80|     80|   135|    80|  121|         1|    false|  Normal|                                 false|\n",
            "| 19|             Rattata|  Normal|    null|  253| 30|    56|     35|    25|    35|   72|         1|    false|  Normal|                                 false|\n",
            "| 20|            Raticate|  Normal|    null|  413| 55|    81|     60|    50|    70|   97|         1|    false|  Normal|                                 false|\n",
            "| 21|             Spearow|  Normal|  Flying|  262| 40|    60|     30|    31|    31|   70|         1|    false|  Normal|                                 false|\n",
            "| 22|              Fearow|  Normal|  Flying|  442| 65|    90|     65|    61|    61|  100|         1|    false|  Normal|                                 false|\n",
            "| 23|               Ekans|  Poison|    null|  288| 35|    60|     44|    40|    54|   55|         1|    false|  Poison|                                 false|\n",
            "| 24|               Arbok|  Poison|    null|  438| 60|    85|     69|    65|    79|   80|         1|    false|  Poison|                                 false|\n",
            "| 25|             Pikachu|Electric|    null|  320| 35|    55|     40|    50|    50|   90|         1|    false|Electric|                                  true|\n",
            "| 26|              Raichu|Electric|    null|  485| 60|    90|     55|    90|    80|  110|         1|    false|Electric|                                  true|\n",
            "| 27|           Sandshrew|  Ground|    null|  300| 50|    75|     85|    20|    30|   40|         1|    false|  Ground|                                 false|\n",
            "| 28|           Sandslash|  Ground|    null|  450| 75|   100|    110|    45|    55|   65|         1|    false|  Ground|                                 false|\n",
            "| 29|            Nidoran♀|  Poison|    null|  275| 55|    47|     52|    40|    40|   41|         1|    false|  Poison|                                 false|\n",
            "| 30|            Nidorina|  Poison|    null|  365| 70|    62|     67|    55|    55|   56|         1|    false|  Poison|                                 false|\n",
            "| 31|           Nidoqueen|  Poison|  Ground|  505| 90|    92|     87|    75|    85|   76|         1|    false|  Poison|                                 false|\n",
            "| 32|            Nidoran♂|  Poison|    null|  273| 46|    57|     40|    40|    40|   50|         1|    false|  Poison|                                 false|\n",
            "| 33|            Nidorino|  Poison|    null|  365| 61|    72|     57|    55|    55|   65|         1|    false|  Poison|                                 false|\n",
            "| 34|            Nidoking|  Poison|  Ground|  505| 81|   102|     77|    85|    75|   85|         1|    false|  Poison|                                 false|\n",
            "| 35|            Clefairy|   Fairy|    null|  323| 70|    45|     48|    60|    65|   35|         1|    false|   Fairy|                                 false|\n",
            "| 36|            Clefable|   Fairy|    null|  483| 95|    70|     73|    95|    90|   60|         1|    false|   Fairy|                                 false|\n",
            "| 37|              Vulpix|    Fire|    null|  299| 38|    41|     40|    50|    65|   65|         1|    false|    Fire|                                 false|\n",
            "| 38|           Ninetales|    Fire|    null|  505| 73|    76|     75|    81|   100|  100|         1|    false|    Fire|                                 false|\n",
            "| 39|          Jigglypuff|  Normal|   Fairy|  270|115|    45|     20|    45|    25|   20|         1|    false|  Normal|                                 false|\n",
            "| 40|          Wigglytuff|  Normal|   Fairy|  435|140|    70|     45|    85|    50|   45|         1|    false|  Normal|                                 false|\n",
            "| 41|               Zubat|  Poison|  Flying|  245| 40|    45|     35|    30|    40|   55|         1|    false|  Poison|                                 false|\n",
            "| 42|              Golbat|  Poison|  Flying|  455| 75|    80|     70|    65|    75|   90|         1|    false|  Poison|                                 false|\n",
            "| 43|              Oddish|   Grass|  Poison|  320| 45|    50|     55|    75|    65|   30|         1|    false|  Grassy|                                 false|\n",
            "| 44|               Gloom|   Grass|  Poison|  395| 60|    65|     70|    85|    75|   40|         1|    false|  Grassy|                                 false|\n",
            "| 45|           Vileplume|   Grass|  Poison|  490| 75|    80|     85|   110|    90|   50|         1|    false|  Grassy|                                 false|\n",
            "| 46|               Paras|     Bug|   Grass|  285| 35|    70|     55|    45|    55|   25|         1|    false|     Bug|                                 false|\n",
            "| 47|            Parasect|     Bug|   Grass|  405| 60|    95|     80|    60|    80|   30|         1|    false|     Bug|                                 false|\n",
            "| 48|             Venonat|     Bug|  Poison|  305| 60|    55|     50|    40|    55|   45|         1|    false|     Bug|                                 false|\n",
            "| 49|            Venomoth|     Bug|  Poison|  450| 70|    65|     60|    90|    75|   90|         1|    false|     Bug|                                 false|\n",
            "| 50|             Diglett|  Ground|    null|  265| 10|    55|     25|    35|    45|   95|         1|    false|  Ground|                                 false|\n",
            "| 51|             Dugtrio|  Ground|    null|  405| 35|    80|     50|    50|    70|  120|         1|    false|  Ground|                                 false|\n",
            "| 52|              Meowth|  Normal|    null|  290| 40|    45|     35|    40|    40|   90|         1|    false|  Normal|                                 false|\n",
            "| 53|             Persian|  Normal|    null|  440| 65|    70|     60|    65|    65|  115|         1|    false|  Normal|                                 false|\n",
            "| 54|             Psyduck|   Water|    null|  320| 50|    52|     48|    65|    50|   55|         1|    false|   Water|                                 false|\n",
            "| 55|             Golduck|   Water|    null|  500| 80|    82|     78|    95|    80|   85|         1|    false|   Water|                                 false|\n",
            "| 56|              Mankey|Fighting|    null|  305| 40|    80|     35|    35|    45|   70|         1|    false|Fighting|                                 false|\n",
            "| 57|            Primeape|Fighting|    null|  455| 65|   105|     60|    60|    70|   95|         1|    false|Fighting|                                 false|\n",
            "| 58|           Growlithe|    Fire|    null|  350| 55|    70|     45|    70|    50|   60|         1|    false|    Fire|                                 false|\n",
            "| 59|            Arcanine|    Fire|    null|  555| 90|   110|     80|   100|    80|   95|         1|    false|    Fire|                                 false|\n",
            "| 60|             Poliwag|   Water|    null|  300| 40|    50|     40|    40|    40|   90|         1|    false|   Water|                                 false|\n",
            "| 61|           Poliwhirl|   Water|    null|  385| 65|    65|     65|    50|    50|   90|         1|    false|   Water|                                 false|\n",
            "| 62|           Poliwrath|   Water|Fighting|  510| 90|    95|     95|    70|    90|   70|         1|    false|   Water|                                 false|\n",
            "| 63|                Abra| Psychic|    null|  310| 25|    20|     15|   105|    55|   90|         1|    false| Psychic|                                 false|\n",
            "| 64|             Kadabra| Psychic|    null|  400| 40|    35|     30|   120|    70|  105|         1|    false| Psychic|                                 false|\n",
            "| 65|            Alakazam| Psychic|    null|  500| 55|    50|     45|   135|    95|  120|         1|    false| Psychic|                                 false|\n",
            "| 65|AlakazamMega Alak...| Psychic|    null|  590| 55|    50|     65|   175|    95|  150|         1|    false| Psychic|                                 false|\n",
            "| 66|              Machop|Fighting|    null|  305| 70|    80|     50|    35|    35|   35|         1|    false|Fighting|                                 false|\n",
            "| 67|             Machoke|Fighting|    null|  405| 80|   100|     70|    50|    60|   45|         1|    false|Fighting|                                 false|\n",
            "| 68|             Machamp|Fighting|    null|  505| 90|   130|     80|    65|    85|   55|         1|    false|Fighting|                                 false|\n",
            "| 69|          Bellsprout|   Grass|  Poison|  300| 50|    75|     35|    70|    30|   40|         1|    false|  Grassy|                                 false|\n",
            "| 70|          Weepinbell|   Grass|  Poison|  390| 65|    90|     50|    85|    45|   55|         1|    false|  Grassy|                                 false|\n",
            "| 71|          Victreebel|   Grass|  Poison|  490| 80|   105|     65|   100|    70|   70|         1|    false|  Grassy|                                 false|\n",
            "| 72|           Tentacool|   Water|  Poison|  335| 40|    40|     35|    50|   100|   70|         1|    false|   Water|                                 false|\n",
            "| 73|          Tentacruel|   Water|  Poison|  515| 80|    70|     65|    80|   120|  100|         1|    false|   Water|                                 false|\n",
            "| 74|             Geodude|    Rock|  Ground|  300| 40|    80|    100|    30|    30|   20|         1|    false|    Rock|                                 false|\n",
            "| 75|            Graveler|    Rock|  Ground|  390| 55|    95|    115|    45|    45|   35|         1|    false|    Rock|                                 false|\n",
            "| 76|               Golem|    Rock|  Ground|  495| 80|   120|    130|    55|    65|   45|         1|    false|    Rock|                                 false|\n",
            "| 77|              Ponyta|    Fire|    null|  410| 50|    85|     55|    65|    65|   90|         1|    false|    Fire|                                 false|\n",
            "| 78|            Rapidash|    Fire|    null|  500| 65|   100|     70|    80|    80|  105|         1|    false|    Fire|                                 false|\n",
            "| 79|            Slowpoke|   Water| Psychic|  315| 90|    65|     65|    40|    40|   15|         1|    false|   Water|                                 false|\n",
            "| 80|             Slowbro|   Water| Psychic|  490| 95|    75|    110|   100|    80|   30|         1|    false|   Water|                                 false|\n",
            "| 80| SlowbroMega Slowbro|   Water| Psychic|  590| 95|    75|    180|   130|    80|   30|         1|    false|   Water|                                 false|\n",
            "| 81|           Magnemite|Electric|   Steel|  325| 25|    35|     70|    95|    55|   45|         1|    false|Electric|                                  true|\n",
            "| 82|            Magneton|Electric|   Steel|  465| 50|    60|     95|   120|    70|   70|         1|    false|Electric|                                  true|\n",
            "| 83|          Farfetch'd|  Normal|  Flying|  352| 52|    65|     55|    58|    62|   60|         1|    false|  Normal|                                 false|\n",
            "| 84|               Doduo|  Normal|  Flying|  310| 35|    85|     45|    35|    35|   75|         1|    false|  Normal|                                 false|\n",
            "| 85|              Dodrio|  Normal|  Flying|  460| 60|   110|     70|    60|    60|  100|         1|    false|  Normal|                                 false|\n",
            "| 86|                Seel|   Water|    null|  325| 65|    45|     55|    45|    70|   45|         1|    false|   Water|                                 false|\n",
            "| 87|             Dewgong|   Water|     Ice|  475| 90|    70|     80|    70|    95|   70|         1|    false|   Water|                                 false|\n",
            "| 88|              Grimer|  Poison|    null|  325| 80|    80|     50|    40|    50|   25|         1|    false|  Poison|                                 false|\n",
            "| 89|                 Muk|  Poison|    null|  500|105|   105|     75|    65|   100|   50|         1|    false|  Poison|                                 false|\n",
            "| 90|            Shellder|   Water|    null|  305| 30|    65|    100|    45|    25|   40|         1|    false|   Water|                                 false|\n",
            "| 91|            Cloyster|   Water|     Ice|  525| 50|    95|    180|    85|    45|   70|         1|    false|   Water|                                 false|\n",
            "| 92|              Gastly|   Ghost|  Poison|  310| 30|    35|     30|   100|    35|   80|         1|    false|   Ghost|                                 false|\n",
            "| 93|             Haunter|   Ghost|  Poison|  405| 45|    50|     45|   115|    55|   95|         1|    false|   Ghost|                                 false|\n",
            "| 94|              Gengar|   Ghost|  Poison|  500| 60|    65|     60|   130|    75|  110|         1|    false|   Ghost|                                 false|\n",
            "| 94|   GengarMega Gengar|   Ghost|  Poison|  600| 60|    65|     80|   170|    95|  130|         1|    false|   Ghost|                                 false|\n",
            "| 95|                Onix|    Rock|  Ground|  385| 35|    45|    160|    30|    45|   70|         1|    false|    Rock|                                 false|\n",
            "| 96|             Drowzee| Psychic|    null|  328| 60|    48|     45|    43|    90|   42|         1|    false| Psychic|                                 false|\n",
            "| 97|               Hypno| Psychic|    null|  483| 85|    73|     70|    73|   115|   67|         1|    false| Psychic|                                 false|\n",
            "| 98|              Krabby|   Water|    null|  325| 30|   105|     90|    25|    25|   50|         1|    false|   Water|                                 false|\n",
            "| 99|             Kingler|   Water|    null|  475| 55|   130|    115|    50|    50|   75|         1|    false|   Water|                                 false|\n",
            "|100|             Voltorb|Electric|    null|  330| 40|    30|     50|    55|    55|  100|         1|    false|Electric|                                  true|\n",
            "|101|           Electrode|Electric|    null|  480| 60|    50|     70|    80|    80|  140|         1|    false|Electric|                                  true|\n",
            "|102|           Exeggcute|   Grass| Psychic|  325| 60|    40|     80|    60|    45|   40|         1|    false|  Grassy|                                 false|\n",
            "|103|           Exeggutor|   Grass| Psychic|  520| 95|    95|     85|   125|    65|   55|         1|    false|  Grassy|                                 false|\n",
            "|104|              Cubone|  Ground|    null|  320| 50|    50|     95|    40|    50|   35|         1|    false|  Ground|                                 false|\n",
            "|105|             Marowak|  Ground|    null|  425| 60|    80|    110|    50|    80|   45|         1|    false|  Ground|                                 false|\n",
            "|106|           Hitmonlee|Fighting|    null|  455| 50|   120|     53|    35|   110|   87|         1|    false|Fighting|                                 false|\n",
            "|107|          Hitmonchan|Fighting|    null|  455| 50|   105|     79|    35|   110|   76|         1|    false|Fighting|                                 false|\n",
            "|108|           Lickitung|  Normal|    null|  385| 90|    55|     75|    60|    75|   30|         1|    false|  Normal|                                 false|\n",
            "|109|             Koffing|  Poison|    null|  340| 40|    65|     95|    60|    45|   35|         1|    false|  Poison|                                 false|\n",
            "|110|             Weezing|  Poison|    null|  490| 65|    90|    120|    85|    70|   60|         1|    false|  Poison|                                 false|\n",
            "|111|             Rhyhorn|  Ground|    Rock|  345| 80|    85|     95|    30|    30|   25|         1|    false|  Ground|                                 false|\n",
            "|112|              Rhydon|  Ground|    Rock|  485|105|   130|    120|    45|    45|   40|         1|    false|  Ground|                                 false|\n",
            "|113|             Chansey|  Normal|    null|  450|250|     5|      5|    35|   105|   50|         1|    false|  Normal|                                 false|\n",
            "|114|             Tangela|   Grass|    null|  435| 65|    55|    115|   100|    40|   60|         1|    false|  Grassy|                                 false|\n",
            "|115|          Kangaskhan|  Normal|    null|  490|105|    95|     80|    40|    80|   90|         1|    false|  Normal|                                 false|\n",
            "|115|KangaskhanMega Ka...|  Normal|    null|  590|105|   125|    100|    60|   100|  100|         1|    false|  Normal|                                 false|\n",
            "|116|              Horsea|   Water|    null|  295| 30|    40|     70|    70|    25|   60|         1|    false|   Water|                                 false|\n",
            "|117|              Seadra|   Water|    null|  440| 55|    65|     95|    95|    45|   85|         1|    false|   Water|                                 false|\n",
            "|118|             Goldeen|   Water|    null|  320| 45|    67|     60|    35|    50|   63|         1|    false|   Water|                                 false|\n",
            "|119|             Seaking|   Water|    null|  450| 80|    92|     65|    65|    80|   68|         1|    false|   Water|                                 false|\n",
            "|120|              Staryu|   Water|    null|  340| 30|    45|     55|    70|    55|   85|         1|    false|   Water|                                 false|\n",
            "|121|             Starmie|   Water| Psychic|  520| 60|    75|     85|   100|    85|  115|         1|    false|   Water|                                 false|\n",
            "|122|            Mr. Mime| Psychic|   Fairy|  460| 40|    45|     65|   100|   120|   90|         1|    false| Psychic|                                 false|\n",
            "|123|             Scyther|     Bug|  Flying|  500| 70|   110|     80|    55|    80|  105|         1|    false|     Bug|                                 false|\n",
            "|124|                Jynx|     Ice| Psychic|  455| 65|    50|     35|   115|    95|   95|         1|    false|     Ice|                                 false|\n",
            "|125|          Electabuzz|Electric|    null|  490| 65|    83|     57|    95|    85|  105|         1|    false|Electric|                                  true|\n",
            "|126|              Magmar|    Fire|    null|  495| 65|    95|     57|   100|    85|   93|         1|    false|    Fire|                                 false|\n",
            "|127|              Pinsir|     Bug|    null|  500| 65|   125|    100|    55|    70|   85|         1|    false|     Bug|                                 false|\n",
            "|127|   PinsirMega Pinsir|     Bug|  Flying|  600| 65|   155|    120|    65|    90|  105|         1|    false|     Bug|                                 false|\n",
            "|128|              Tauros|  Normal|    null|  490| 75|   100|     95|    40|    70|  110|         1|    false|  Normal|                                 false|\n",
            "|129|            Magikarp|   Water|    null|  200| 20|    10|     55|    15|    20|   80|         1|    false|   Water|                                 false|\n",
            "|130|            Gyarados|   Water|  Flying|  540| 95|   125|     79|    60|   100|   81|         1|    false|   Water|                                 false|\n",
            "|130|GyaradosMega Gyar...|   Water|    Dark|  640| 95|   155|    109|    70|   130|   81|         1|    false|   Water|                                 false|\n",
            "|131|              Lapras|   Water|     Ice|  535|130|    85|     80|    85|    95|   60|         1|    false|   Water|                                 false|\n",
            "|132|               Ditto|  Normal|    null|  288| 48|    48|     48|    48|    48|   48|         1|    false|  Normal|                                 false|\n",
            "|133|               Eevee|  Normal|    null|  325| 55|    55|     50|    45|    65|   55|         1|    false|  Normal|                                 false|\n",
            "|134|            Vaporeon|   Water|    null|  525|130|    65|     60|   110|    95|   65|         1|    false|   Water|                                 false|\n",
            "|135|             Jolteon|Electric|    null|  525| 65|    65|     60|   110|    95|  130|         1|    false|Electric|                                  true|\n",
            "|136|             Flareon|    Fire|    null|  525| 65|   130|     60|    95|   110|   65|         1|    false|    Fire|                                 false|\n",
            "|137|             Porygon|  Normal|    null|  395| 65|    60|     70|    85|    75|   40|         1|    false|  Normal|                                 false|\n",
            "|138|             Omanyte|    Rock|   Water|  355| 35|    40|    100|    90|    55|   35|         1|    false|    Rock|                                 false|\n",
            "|139|             Omastar|    Rock|   Water|  495| 70|    60|    125|   115|    70|   55|         1|    false|    Rock|                                 false|\n",
            "|140|              Kabuto|    Rock|   Water|  355| 30|    80|     90|    55|    45|   55|         1|    false|    Rock|                                 false|\n",
            "|141|            Kabutops|    Rock|   Water|  495| 60|   115|    105|    65|    70|   80|         1|    false|    Rock|                                 false|\n",
            "|142|          Aerodactyl|    Rock|  Flying|  515| 80|   105|     65|    60|    75|  130|         1|    false|    Rock|                                 false|\n",
            "|142|AerodactylMega Ae...|    Rock|  Flying|  615| 80|   135|     85|    70|    95|  150|         1|    false|    Rock|                                 false|\n",
            "|143|             Snorlax|  Normal|    null|  540|160|   110|     65|    65|   110|   30|         1|    false|  Normal|                                 false|\n",
            "|144|            Articuno|     Ice|  Flying|  580| 90|    85|    100|    95|   125|   85|         1|     true|     Ice|                                 false|\n",
            "|145|              Zapdos|Electric|  Flying|  580| 90|    90|     85|   125|    90|  100|         1|     true|Electric|                                  true|\n",
            "|146|             Moltres|    Fire|  Flying|  580| 90|   100|     90|   125|    85|   90|         1|     true|    Fire|                                 false|\n",
            "|147|             Dratini|  Dragon|    null|  300| 41|    64|     45|    50|    50|   50|         1|    false|  Dragon|                                 false|\n",
            "|148|           Dragonair|  Dragon|    null|  420| 61|    84|     65|    70|    70|   70|         1|    false|  Dragon|                                 false|\n",
            "|149|           Dragonite|  Dragon|  Flying|  600| 91|   134|     95|   100|   100|   80|         1|    false|  Dragon|                                 false|\n",
            "|150|              Mewtwo| Psychic|    null|  680|106|   110|     90|   154|    90|  130|         1|     true| Psychic|                                 false|\n",
            "|150| MewtwoMega Mewtwo X| Psychic|Fighting|  780|106|   190|    100|   154|   100|  130|         1|     true| Psychic|                                 false|\n",
            "|150| MewtwoMega Mewtwo Y| Psychic|    null|  780|106|   150|     70|   194|   120|  140|         1|     true| Psychic|                                 false|\n",
            "|151|                 Mew| Psychic|    null|  600|100|   100|    100|   100|   100|  100|         1|    false| Psychic|                                 false|\n",
            "|152|           Chikorita|   Grass|    null|  318| 45|    49|     65|    49|    65|   45|         2|    false|  Grassy|                                 false|\n",
            "|153|             Bayleef|   Grass|    null|  405| 60|    62|     80|    63|    80|   60|         2|    false|  Grassy|                                 false|\n",
            "|154|            Meganium|   Grass|    null|  525| 80|    82|    100|    83|   100|   80|         2|    false|  Grassy|                                 false|\n",
            "|155|           Cyndaquil|    Fire|    null|  309| 39|    52|     43|    60|    50|   65|         2|    false|    Fire|                                 false|\n",
            "|156|             Quilava|    Fire|    null|  405| 58|    64|     58|    80|    65|   80|         2|    false|    Fire|                                 false|\n",
            "|157|          Typhlosion|    Fire|    null|  534| 78|    84|     78|   109|    85|  100|         2|    false|    Fire|                                 false|\n",
            "|158|            Totodile|   Water|    null|  314| 50|    65|     64|    44|    48|   43|         2|    false|   Water|                                 false|\n",
            "|159|            Croconaw|   Water|    null|  405| 65|    80|     80|    59|    63|   58|         2|    false|   Water|                                 false|\n",
            "|160|          Feraligatr|   Water|    null|  530| 85|   105|    100|    79|    83|   78|         2|    false|   Water|                                 false|\n",
            "|161|             Sentret|  Normal|    null|  215| 35|    46|     34|    35|    45|   20|         2|    false|  Normal|                                 false|\n",
            "|162|              Furret|  Normal|    null|  415| 85|    76|     64|    45|    55|   90|         2|    false|  Normal|                                 false|\n",
            "|163|            Hoothoot|  Normal|  Flying|  262| 60|    30|     30|    36|    56|   50|         2|    false|  Normal|                                 false|\n",
            "|164|             Noctowl|  Normal|  Flying|  442|100|    50|     50|    76|    96|   70|         2|    false|  Normal|                                 false|\n",
            "|165|              Ledyba|     Bug|  Flying|  265| 40|    20|     30|    40|    80|   55|         2|    false|     Bug|                                 false|\n",
            "|166|              Ledian|     Bug|  Flying|  390| 55|    35|     50|    55|   110|   85|         2|    false|     Bug|                                 false|\n",
            "|167|            Spinarak|     Bug|  Poison|  250| 40|    60|     40|    40|    40|   30|         2|    false|     Bug|                                 false|\n",
            "|168|             Ariados|     Bug|  Poison|  390| 70|    90|     70|    60|    60|   40|         2|    false|     Bug|                                 false|\n",
            "|169|              Crobat|  Poison|  Flying|  535| 85|    90|     80|    70|    80|  130|         2|    false|  Poison|                                 false|\n",
            "|170|            Chinchou|   Water|Electric|  330| 75|    38|     38|    56|    56|   67|         2|    false|   Water|                                 false|\n",
            "|171|             Lanturn|   Water|Electric|  460|125|    58|     58|    76|    76|   67|         2|    false|   Water|                                 false|\n",
            "|172|               Pichu|Electric|    null|  205| 20|    40|     15|    35|    35|   60|         2|    false|Electric|                                  true|\n",
            "|173|              Cleffa|   Fairy|    null|  218| 50|    25|     28|    45|    55|   15|         2|    false|   Fairy|                                 false|\n",
            "|174|           Igglybuff|  Normal|   Fairy|  210| 90|    30|     15|    40|    20|   15|         2|    false|  Normal|                                 false|\n",
            "|175|              Togepi|   Fairy|    null|  245| 35|    20|     65|    40|    65|   20|         2|    false|   Fairy|                                 false|\n",
            "|176|             Togetic|   Fairy|  Flying|  405| 55|    40|     85|    80|   105|   40|         2|    false|   Fairy|                                 false|\n",
            "|177|                Natu| Psychic|  Flying|  320| 40|    50|     45|    70|    45|   70|         2|    false| Psychic|                                 false|\n",
            "|178|                Xatu| Psychic|  Flying|  470| 65|    75|     70|    95|    70|   95|         2|    false| Psychic|                                 false|\n",
            "|179|              Mareep|Electric|    null|  280| 55|    40|     40|    65|    45|   35|         2|    false|Electric|                                  true|\n",
            "|180|             Flaaffy|Electric|    null|  365| 70|    55|     55|    80|    60|   45|         2|    false|Electric|                                  true|\n",
            "|181|            Ampharos|Electric|    null|  510| 90|    75|     85|   115|    90|   55|         2|    false|Electric|                                  true|\n",
            "|181|AmpharosMega Amph...|Electric|  Dragon|  610| 90|    95|    105|   165|   110|   45|         2|    false|Electric|                                  true|\n",
            "|182|           Bellossom|   Grass|    null|  490| 75|    80|     95|    90|   100|   50|         2|    false|  Grassy|                                 false|\n",
            "|183|              Marill|   Water|   Fairy|  250| 70|    20|     50|    20|    50|   40|         2|    false|   Water|                                 false|\n",
            "|184|           Azumarill|   Water|   Fairy|  420|100|    50|     80|    60|    80|   50|         2|    false|   Water|                                 false|\n",
            "|185|           Sudowoodo|    Rock|    null|  410| 70|   100|    115|    30|    65|   30|         2|    false|    Rock|                                 false|\n",
            "|186|            Politoed|   Water|    null|  500| 90|    75|     75|    90|   100|   70|         2|    false|   Water|                                 false|\n",
            "|187|              Hoppip|   Grass|  Flying|  250| 35|    35|     40|    35|    55|   50|         2|    false|  Grassy|                                 false|\n",
            "|188|            Skiploom|   Grass|  Flying|  340| 55|    45|     50|    45|    65|   80|         2|    false|  Grassy|                                 false|\n",
            "|189|            Jumpluff|   Grass|  Flying|  460| 75|    55|     70|    55|    95|  110|         2|    false|  Grassy|                                 false|\n",
            "|190|               Aipom|  Normal|    null|  360| 55|    70|     55|    40|    55|   85|         2|    false|  Normal|                                 false|\n",
            "|191|             Sunkern|   Grass|    null|  180| 30|    30|     30|    30|    30|   30|         2|    false|  Grassy|                                 false|\n",
            "|192|            Sunflora|   Grass|    null|  425| 75|    75|     55|   105|    85|   30|         2|    false|  Grassy|                                 false|\n",
            "|193|               Yanma|     Bug|  Flying|  390| 65|    65|     45|    75|    45|   95|         2|    false|     Bug|                                 false|\n",
            "|194|              Wooper|   Water|  Ground|  210| 55|    45|     45|    25|    25|   15|         2|    false|   Water|                                 false|\n",
            "|195|            Quagsire|   Water|  Ground|  430| 95|    85|     85|    65|    65|   35|         2|    false|   Water|                                 false|\n",
            "|196|              Espeon| Psychic|    null|  525| 65|    65|     60|   130|    95|  110|         2|    false| Psychic|                                 false|\n",
            "|197|             Umbreon|    Dark|    null|  525| 95|    65|    110|    60|   130|   65|         2|    false|    Dark|                                 false|\n",
            "|198|             Murkrow|    Dark|  Flying|  405| 60|    85|     42|    85|    42|   91|         2|    false|    Dark|                                 false|\n",
            "|199|            Slowking|   Water| Psychic|  490| 95|    75|     80|   100|   110|   30|         2|    false|   Water|                                 false|\n",
            "|200|          Misdreavus|   Ghost|    null|  435| 60|    60|     60|    85|    85|   85|         2|    false|   Ghost|                                 false|\n",
            "|201|               Unown| Psychic|    null|  336| 48|    72|     48|    72|    48|   48|         2|    false| Psychic|                                 false|\n",
            "|202|           Wobbuffet| Psychic|    null|  405|190|    33|     58|    33|    58|   33|         2|    false| Psychic|                                 false|\n",
            "|203|           Girafarig|  Normal| Psychic|  455| 70|    80|     65|    90|    65|   85|         2|    false|  Normal|                                 false|\n",
            "|204|              Pineco|     Bug|    null|  290| 50|    65|     90|    35|    35|   15|         2|    false|     Bug|                                 false|\n",
            "|205|          Forretress|     Bug|   Steel|  465| 75|    90|    140|    60|    60|   40|         2|    false|     Bug|                                 false|\n",
            "|206|           Dunsparce|  Normal|    null|  415|100|    70|     70|    65|    65|   45|         2|    false|  Normal|                                 false|\n",
            "|207|              Gligar|  Ground|  Flying|  430| 65|    75|    105|    35|    65|   85|         2|    false|  Ground|                                 false|\n",
            "|208|             Steelix|   Steel|  Ground|  510| 75|    85|    200|    55|    65|   30|         2|    false|   Steel|                                 false|\n",
            "|208| SteelixMega Steelix|   Steel|  Ground|  610| 75|   125|    230|    55|    95|   30|         2|    false|   Steel|                                 false|\n",
            "|209|            Snubbull|   Fairy|    null|  300| 60|    80|     50|    40|    40|   30|         2|    false|   Fairy|                                 false|\n",
            "|210|            Granbull|   Fairy|    null|  450| 90|   120|     75|    60|    60|   45|         2|    false|   Fairy|                                 false|\n",
            "|211|            Qwilfish|   Water|  Poison|  430| 65|    95|     75|    55|    55|   85|         2|    false|   Water|                                 false|\n",
            "|212|              Scizor|     Bug|   Steel|  500| 70|   130|    100|    55|    80|   65|         2|    false|     Bug|                                 false|\n",
            "|212|   ScizorMega Scizor|     Bug|   Steel|  600| 70|   150|    140|    65|   100|   75|         2|    false|     Bug|                                 false|\n",
            "|213|             Shuckle|     Bug|    Rock|  505| 20|    10|    230|    10|   230|    5|         2|    false|     Bug|                                 false|\n",
            "|214|           Heracross|     Bug|Fighting|  500| 80|   125|     75|    40|    95|   85|         2|    false|     Bug|                                 false|\n",
            "|214|HeracrossMega Her...|     Bug|Fighting|  600| 80|   185|    115|    40|   105|   75|         2|    false|     Bug|                                 false|\n",
            "|215|             Sneasel|    Dark|     Ice|  430| 55|    95|     55|    35|    75|  115|         2|    false|    Dark|                                 false|\n",
            "|216|           Teddiursa|  Normal|    null|  330| 60|    80|     50|    50|    50|   40|         2|    false|  Normal|                                 false|\n",
            "|217|            Ursaring|  Normal|    null|  500| 90|   130|     75|    75|    75|   55|         2|    false|  Normal|                                 false|\n",
            "|218|              Slugma|    Fire|    null|  250| 40|    40|     40|    70|    40|   20|         2|    false|    Fire|                                 false|\n",
            "|219|            Magcargo|    Fire|    Rock|  410| 50|    50|    120|    80|    80|   30|         2|    false|    Fire|                                 false|\n",
            "|220|              Swinub|     Ice|  Ground|  250| 50|    50|     40|    30|    30|   50|         2|    false|     Ice|                                 false|\n",
            "|221|           Piloswine|     Ice|  Ground|  450|100|   100|     80|    60|    60|   50|         2|    false|     Ice|                                 false|\n",
            "|222|             Corsola|   Water|    Rock|  380| 55|    55|     85|    65|    85|   35|         2|    false|   Water|                                 false|\n",
            "|223|            Remoraid|   Water|    null|  300| 35|    65|     35|    65|    35|   65|         2|    false|   Water|                                 false|\n",
            "|224|           Octillery|   Water|    null|  480| 75|   105|     75|   105|    75|   45|         2|    false|   Water|                                 false|\n",
            "|225|            Delibird|     Ice|  Flying|  330| 45|    55|     45|    65|    45|   75|         2|    false|     Ice|                                 false|\n",
            "|226|             Mantine|   Water|  Flying|  465| 65|    40|     70|    80|   140|   70|         2|    false|   Water|                                 false|\n",
            "|227|            Skarmory|   Steel|  Flying|  465| 65|    80|    140|    40|    70|   70|         2|    false|   Steel|                                 false|\n",
            "|228|            Houndour|    Dark|    Fire|  330| 45|    60|     30|    80|    50|   65|         2|    false|    Dark|                                 false|\n",
            "|229|            Houndoom|    Dark|    Fire|  500| 75|    90|     50|   110|    80|   95|         2|    false|    Dark|                                 false|\n",
            "|229|HoundoomMega Houn...|    Dark|    Fire|  600| 75|    90|     90|   140|    90|  115|         2|    false|    Dark|                                 false|\n",
            "|230|             Kingdra|   Water|  Dragon|  540| 75|    95|     95|    95|    95|   85|         2|    false|   Water|                                 false|\n",
            "|231|              Phanpy|  Ground|    null|  330| 90|    60|     60|    40|    40|   40|         2|    false|  Ground|                                 false|\n",
            "|232|             Donphan|  Ground|    null|  500| 90|   120|    120|    60|    60|   50|         2|    false|  Ground|                                 false|\n",
            "|233|            Porygon2|  Normal|    null|  515| 85|    80|     90|   105|    95|   60|         2|    false|  Normal|                                 false|\n",
            "|234|            Stantler|  Normal|    null|  465| 73|    95|     62|    85|    65|   85|         2|    false|  Normal|                                 false|\n",
            "|235|            Smeargle|  Normal|    null|  250| 55|    20|     35|    20|    45|   75|         2|    false|  Normal|                                 false|\n",
            "|236|             Tyrogue|Fighting|    null|  210| 35|    35|     35|    35|    35|   35|         2|    false|Fighting|                                 false|\n",
            "|237|           Hitmontop|Fighting|    null|  455| 50|    95|     95|    35|   110|   70|         2|    false|Fighting|                                 false|\n",
            "|238|            Smoochum|     Ice| Psychic|  305| 45|    30|     15|    85|    65|   65|         2|    false|     Ice|                                 false|\n",
            "|239|              Elekid|Electric|    null|  360| 45|    63|     37|    65|    55|   95|         2|    false|Electric|                                  true|\n",
            "|240|               Magby|    Fire|    null|  365| 45|    75|     37|    70|    55|   83|         2|    false|    Fire|                                 false|\n",
            "|241|             Miltank|  Normal|    null|  490| 95|    80|    105|    40|    70|  100|         2|    false|  Normal|                                 false|\n",
            "|242|             Blissey|  Normal|    null|  540|255|    10|     10|    75|   135|   55|         2|    false|  Normal|                                 false|\n",
            "|243|              Raikou|Electric|    null|  580| 90|    85|     75|   115|   100|  115|         2|     true|Electric|                                  true|\n",
            "|244|               Entei|    Fire|    null|  580|115|   115|     85|    90|    75|  100|         2|     true|    Fire|                                 false|\n",
            "|245|             Suicune|   Water|    null|  580|100|    75|    115|    90|   115|   85|         2|     true|   Water|                                 false|\n",
            "|246|            Larvitar|    Rock|  Ground|  300| 50|    64|     50|    45|    50|   41|         2|    false|    Rock|                                 false|\n",
            "|247|             Pupitar|    Rock|  Ground|  410| 70|    84|     70|    65|    70|   51|         2|    false|    Rock|                                 false|\n",
            "|248|           Tyranitar|    Rock|    Dark|  600|100|   134|    110|    95|   100|   61|         2|    false|    Rock|                                 false|\n",
            "|248|TyranitarMega Tyr...|    Rock|    Dark|  700|100|   164|    150|    95|   120|   71|         2|    false|    Rock|                                 false|\n",
            "|249|               Lugia| Psychic|  Flying|  680|106|    90|    130|    90|   154|  110|         2|     true| Psychic|                                 false|\n",
            "|250|               Ho-oh|    Fire|  Flying|  680|106|   130|     90|   110|   154|   90|         2|     true|    Fire|                                 false|\n",
            "|251|              Celebi| Psychic|   Grass|  600|100|   100|    100|   100|   100|  100|         2|    false| Psychic|                                 false|\n",
            "|252|             Treecko|   Grass|    null|  310| 40|    45|     35|    65|    55|   70|         3|    false|  Grassy|                                 false|\n",
            "|253|             Grovyle|   Grass|    null|  405| 50|    65|     45|    85|    65|   95|         3|    false|  Grassy|                                 false|\n",
            "|254|            Sceptile|   Grass|    null|  530| 70|    85|     65|   105|    85|  120|         3|    false|  Grassy|                                 false|\n",
            "|254|SceptileMega Scep...|   Grass|  Dragon|  630| 70|   110|     75|   145|    85|  145|         3|    false|  Grassy|                                 false|\n",
            "|255|             Torchic|    Fire|    null|  310| 45|    60|     40|    70|    50|   45|         3|    false|    Fire|                                 false|\n",
            "|256|           Combusken|    Fire|Fighting|  405| 60|    85|     60|    85|    60|   55|         3|    false|    Fire|                                 false|\n",
            "|257|            Blaziken|    Fire|Fighting|  530| 80|   120|     70|   110|    70|   80|         3|    false|    Fire|                                 false|\n",
            "|257|BlazikenMega Blaz...|    Fire|Fighting|  630| 80|   160|     80|   130|    80|  100|         3|    false|    Fire|                                 false|\n",
            "|258|              Mudkip|   Water|    null|  310| 50|    70|     50|    50|    50|   40|         3|    false|   Water|                                 false|\n",
            "|259|           Marshtomp|   Water|  Ground|  405| 70|    85|     70|    60|    70|   50|         3|    false|   Water|                                 false|\n",
            "|260|            Swampert|   Water|  Ground|  535|100|   110|     90|    85|    90|   60|         3|    false|   Water|                                 false|\n",
            "|260|SwampertMega Swam...|   Water|  Ground|  635|100|   150|    110|    95|   110|   70|         3|    false|   Water|                                 false|\n",
            "|261|           Poochyena|    Dark|    null|  220| 35|    55|     35|    30|    30|   35|         3|    false|    Dark|                                 false|\n",
            "|262|           Mightyena|    Dark|    null|  420| 70|    90|     70|    60|    60|   70|         3|    false|    Dark|                                 false|\n",
            "|263|           Zigzagoon|  Normal|    null|  240| 38|    30|     41|    30|    41|   60|         3|    false|  Normal|                                 false|\n",
            "|264|             Linoone|  Normal|    null|  420| 78|    70|     61|    50|    61|  100|         3|    false|  Normal|                                 false|\n",
            "|265|             Wurmple|     Bug|    null|  195| 45|    45|     35|    20|    30|   20|         3|    false|     Bug|                                 false|\n",
            "|266|             Silcoon|     Bug|    null|  205| 50|    35|     55|    25|    25|   15|         3|    false|     Bug|                                 false|\n",
            "|267|           Beautifly|     Bug|  Flying|  395| 60|    70|     50|   100|    50|   65|         3|    false|     Bug|                                 false|\n",
            "|268|             Cascoon|     Bug|    null|  205| 50|    35|     55|    25|    25|   15|         3|    false|     Bug|                                 false|\n",
            "|269|              Dustox|     Bug|  Poison|  385| 60|    50|     70|    50|    90|   65|         3|    false|     Bug|                                 false|\n",
            "|270|               Lotad|   Water|   Grass|  220| 40|    30|     30|    40|    50|   30|         3|    false|   Water|                                 false|\n",
            "|271|              Lombre|   Water|   Grass|  340| 60|    50|     50|    60|    70|   50|         3|    false|   Water|                                 false|\n",
            "|272|            Ludicolo|   Water|   Grass|  480| 80|    70|     70|    90|   100|   70|         3|    false|   Water|                                 false|\n",
            "|273|              Seedot|   Grass|    null|  220| 40|    40|     50|    30|    30|   30|         3|    false|  Grassy|                                 false|\n",
            "|274|             Nuzleaf|   Grass|    Dark|  340| 70|    70|     40|    60|    40|   60|         3|    false|  Grassy|                                 false|\n",
            "|275|             Shiftry|   Grass|    Dark|  480| 90|   100|     60|    90|    60|   80|         3|    false|  Grassy|                                 false|\n",
            "|276|             Taillow|  Normal|  Flying|  270| 40|    55|     30|    30|    30|   85|         3|    false|  Normal|                                 false|\n",
            "|277|             Swellow|  Normal|  Flying|  430| 60|    85|     60|    50|    50|  125|         3|    false|  Normal|                                 false|\n",
            "|278|             Wingull|   Water|  Flying|  270| 40|    30|     30|    55|    30|   85|         3|    false|   Water|                                 false|\n",
            "|279|            Pelipper|   Water|  Flying|  430| 60|    50|    100|    85|    70|   65|         3|    false|   Water|                                 false|\n",
            "|280|               Ralts| Psychic|   Fairy|  198| 28|    25|     25|    45|    35|   40|         3|    false| Psychic|                                 false|\n",
            "|281|              Kirlia| Psychic|   Fairy|  278| 38|    35|     35|    65|    55|   50|         3|    false| Psychic|                                 false|\n",
            "|282|           Gardevoir| Psychic|   Fairy|  518| 68|    65|     65|   125|   115|   80|         3|    false| Psychic|                                 false|\n",
            "|282|GardevoirMega Gar...| Psychic|   Fairy|  618| 68|    85|     65|   165|   135|  100|         3|    false| Psychic|                                 false|\n",
            "|283|             Surskit|     Bug|   Water|  269| 40|    30|     32|    50|    52|   65|         3|    false|     Bug|                                 false|\n",
            "|284|          Masquerain|     Bug|  Flying|  414| 70|    60|     62|    80|    82|   60|         3|    false|     Bug|                                 false|\n",
            "|285|           Shroomish|   Grass|    null|  295| 60|    40|     60|    40|    60|   35|         3|    false|  Grassy|                                 false|\n",
            "|286|             Breloom|   Grass|Fighting|  460| 60|   130|     80|    60|    60|   70|         3|    false|  Grassy|                                 false|\n",
            "|287|             Slakoth|  Normal|    null|  280| 60|    60|     60|    35|    35|   30|         3|    false|  Normal|                                 false|\n",
            "|288|            Vigoroth|  Normal|    null|  440| 80|    80|     80|    55|    55|   90|         3|    false|  Normal|                                 false|\n",
            "|289|             Slaking|  Normal|    null|  670|150|   160|    100|    95|    65|  100|         3|    false|  Normal|                                 false|\n",
            "|290|             Nincada|     Bug|  Ground|  266| 31|    45|     90|    30|    30|   40|         3|    false|     Bug|                                 false|\n",
            "|291|             Ninjask|     Bug|  Flying|  456| 61|    90|     45|    50|    50|  160|         3|    false|     Bug|                                 false|\n",
            "|292|            Shedinja|     Bug|   Ghost|  236|  1|    90|     45|    30|    30|   40|         3|    false|     Bug|                                 false|\n",
            "|293|             Whismur|  Normal|    null|  240| 64|    51|     23|    51|    23|   28|         3|    false|  Normal|                                 false|\n",
            "|294|             Loudred|  Normal|    null|  360| 84|    71|     43|    71|    43|   48|         3|    false|  Normal|                                 false|\n",
            "|295|             Exploud|  Normal|    null|  490|104|    91|     63|    91|    73|   68|         3|    false|  Normal|                                 false|\n",
            "|296|            Makuhita|Fighting|    null|  237| 72|    60|     30|    20|    30|   25|         3|    false|Fighting|                                 false|\n",
            "|297|            Hariyama|Fighting|    null|  474|144|   120|     60|    40|    60|   50|         3|    false|Fighting|                                 false|\n",
            "|298|             Azurill|  Normal|   Fairy|  190| 50|    20|     40|    20|    40|   20|         3|    false|  Normal|                                 false|\n",
            "|299|            Nosepass|    Rock|    null|  375| 30|    45|    135|    45|    90|   30|         3|    false|    Rock|                                 false|\n",
            "|300|              Skitty|  Normal|    null|  260| 50|    45|     45|    35|    35|   50|         3|    false|  Normal|                                 false|\n",
            "|301|            Delcatty|  Normal|    null|  380| 70|    65|     65|    55|    55|   70|         3|    false|  Normal|                                 false|\n",
            "|302|             Sableye|    Dark|   Ghost|  380| 50|    75|     75|    65|    65|   50|         3|    false|    Dark|                                 false|\n",
            "|302| SableyeMega Sableye|    Dark|   Ghost|  480| 50|    85|    125|    85|   115|   20|         3|    false|    Dark|                                 false|\n",
            "|303|              Mawile|   Steel|   Fairy|  380| 50|    85|     85|    55|    55|   50|         3|    false|   Steel|                                 false|\n",
            "|303|   MawileMega Mawile|   Steel|   Fairy|  480| 50|   105|    125|    55|    95|   50|         3|    false|   Steel|                                 false|\n",
            "|304|                Aron|   Steel|    Rock|  330| 50|    70|    100|    40|    40|   30|         3|    false|   Steel|                                 false|\n",
            "|305|              Lairon|   Steel|    Rock|  430| 60|    90|    140|    50|    50|   40|         3|    false|   Steel|                                 false|\n",
            "|306|              Aggron|   Steel|    Rock|  530| 70|   110|    180|    60|    60|   50|         3|    false|   Steel|                                 false|\n",
            "|306|   AggronMega Aggron|   Steel|    null|  630| 70|   140|    230|    60|    80|   50|         3|    false|   Steel|                                 false|\n",
            "|307|            Meditite|Fighting| Psychic|  280| 30|    40|     55|    40|    55|   60|         3|    false|Fighting|                                 false|\n",
            "|308|            Medicham|Fighting| Psychic|  410| 60|    60|     75|    60|    75|   80|         3|    false|Fighting|                                 false|\n",
            "|308|MedichamMega Medi...|Fighting| Psychic|  510| 60|   100|     85|    80|    85|  100|         3|    false|Fighting|                                 false|\n",
            "|309|           Electrike|Electric|    null|  295| 40|    45|     40|    65|    40|   65|         3|    false|Electric|                                  true|\n",
            "|310|           Manectric|Electric|    null|  475| 70|    75|     60|   105|    60|  105|         3|    false|Electric|                                  true|\n",
            "|310|ManectricMega Man...|Electric|    null|  575| 70|    75|     80|   135|    80|  135|         3|    false|Electric|                                  true|\n",
            "|311|              Plusle|Electric|    null|  405| 60|    50|     40|    85|    75|   95|         3|    false|Electric|                                  true|\n",
            "|312|               Minun|Electric|    null|  405| 60|    40|     50|    75|    85|   95|         3|    false|Electric|                                  true|\n",
            "|313|             Volbeat|     Bug|    null|  400| 65|    73|     55|    47|    75|   85|         3|    false|     Bug|                                 false|\n",
            "|314|            Illumise|     Bug|    null|  400| 65|    47|     55|    73|    75|   85|         3|    false|     Bug|                                 false|\n",
            "|315|             Roselia|   Grass|  Poison|  400| 50|    60|     45|   100|    80|   65|         3|    false|  Grassy|                                 false|\n",
            "|316|              Gulpin|  Poison|    null|  302| 70|    43|     53|    43|    53|   40|         3|    false|  Poison|                                 false|\n",
            "|317|              Swalot|  Poison|    null|  467|100|    73|     83|    73|    83|   55|         3|    false|  Poison|                                 false|\n",
            "|318|            Carvanha|   Water|    Dark|  305| 45|    90|     20|    65|    20|   65|         3|    false|   Water|                                 false|\n",
            "|319|            Sharpedo|   Water|    Dark|  460| 70|   120|     40|    95|    40|   95|         3|    false|   Water|                                 false|\n",
            "|319|SharpedoMega Shar...|   Water|    Dark|  560| 70|   140|     70|   110|    65|  105|         3|    false|   Water|                                 false|\n",
            "|320|             Wailmer|   Water|    null|  400|130|    70|     35|    70|    35|   60|         3|    false|   Water|                                 false|\n",
            "|321|             Wailord|   Water|    null|  500|170|    90|     45|    90|    45|   60|         3|    false|   Water|                                 false|\n",
            "|322|               Numel|    Fire|  Ground|  305| 60|    60|     40|    65|    45|   35|         3|    false|    Fire|                                 false|\n",
            "|323|            Camerupt|    Fire|  Ground|  460| 70|   100|     70|   105|    75|   40|         3|    false|    Fire|                                 false|\n",
            "|323|CameruptMega Came...|    Fire|  Ground|  560| 70|   120|    100|   145|   105|   20|         3|    false|    Fire|                                 false|\n",
            "|324|             Torkoal|    Fire|    null|  470| 70|    85|    140|    85|    70|   20|         3|    false|    Fire|                                 false|\n",
            "|325|              Spoink| Psychic|    null|  330| 60|    25|     35|    70|    80|   60|         3|    false| Psychic|                                 false|\n",
            "|326|             Grumpig| Psychic|    null|  470| 80|    45|     65|    90|   110|   80|         3|    false| Psychic|                                 false|\n",
            "|327|              Spinda|  Normal|    null|  360| 60|    60|     60|    60|    60|   60|         3|    false|  Normal|                                 false|\n",
            "|328|            Trapinch|  Ground|    null|  290| 45|   100|     45|    45|    45|   10|         3|    false|  Ground|                                 false|\n",
            "|329|             Vibrava|  Ground|  Dragon|  340| 50|    70|     50|    50|    50|   70|         3|    false|  Ground|                                 false|\n",
            "|330|              Flygon|  Ground|  Dragon|  520| 80|   100|     80|    80|    80|  100|         3|    false|  Ground|                                 false|\n",
            "|331|              Cacnea|   Grass|    null|  335| 50|    85|     40|    85|    40|   35|         3|    false|  Grassy|                                 false|\n",
            "|332|            Cacturne|   Grass|    Dark|  475| 70|   115|     60|   115|    60|   55|         3|    false|  Grassy|                                 false|\n",
            "|333|              Swablu|  Normal|  Flying|  310| 45|    40|     60|    40|    75|   50|         3|    false|  Normal|                                 false|\n",
            "|334|             Altaria|  Dragon|  Flying|  490| 75|    70|     90|    70|   105|   80|         3|    false|  Dragon|                                 false|\n",
            "|334| AltariaMega Altaria|  Dragon|   Fairy|  590| 75|   110|    110|   110|   105|   80|         3|    false|  Dragon|                                 false|\n",
            "|335|            Zangoose|  Normal|    null|  458| 73|   115|     60|    60|    60|   90|         3|    false|  Normal|                                 false|\n",
            "|336|             Seviper|  Poison|    null|  458| 73|   100|     60|   100|    60|   65|         3|    false|  Poison|                                 false|\n",
            "|337|            Lunatone|    Rock| Psychic|  440| 70|    55|     65|    95|    85|   70|         3|    false|    Rock|                                 false|\n",
            "|338|             Solrock|    Rock| Psychic|  440| 70|    95|     85|    55|    65|   70|         3|    false|    Rock|                                 false|\n",
            "|339|            Barboach|   Water|  Ground|  288| 50|    48|     43|    46|    41|   60|         3|    false|   Water|                                 false|\n",
            "|340|            Whiscash|   Water|  Ground|  468|110|    78|     73|    76|    71|   60|         3|    false|   Water|                                 false|\n",
            "|341|            Corphish|   Water|    null|  308| 43|    80|     65|    50|    35|   35|         3|    false|   Water|                                 false|\n",
            "|342|           Crawdaunt|   Water|    Dark|  468| 63|   120|     85|    90|    55|   55|         3|    false|   Water|                                 false|\n",
            "|343|              Baltoy|  Ground| Psychic|  300| 40|    40|     55|    40|    70|   55|         3|    false|  Ground|                                 false|\n",
            "|344|             Claydol|  Ground| Psychic|  500| 60|    70|    105|    70|   120|   75|         3|    false|  Ground|                                 false|\n",
            "|345|              Lileep|    Rock|   Grass|  355| 66|    41|     77|    61|    87|   23|         3|    false|    Rock|                                 false|\n",
            "|346|             Cradily|    Rock|   Grass|  495| 86|    81|     97|    81|   107|   43|         3|    false|    Rock|                                 false|\n",
            "|347|             Anorith|    Rock|     Bug|  355| 45|    95|     50|    40|    50|   75|         3|    false|    Rock|                                 false|\n",
            "|348|             Armaldo|    Rock|     Bug|  495| 75|   125|    100|    70|    80|   45|         3|    false|    Rock|                                 false|\n",
            "|349|              Feebas|   Water|    null|  200| 20|    15|     20|    10|    55|   80|         3|    false|   Water|                                 false|\n",
            "|350|             Milotic|   Water|    null|  540| 95|    60|     79|   100|   125|   81|         3|    false|   Water|                                 false|\n",
            "|351|            Castform|  Normal|    null|  420| 70|    70|     70|    70|    70|   70|         3|    false|  Normal|                                 false|\n",
            "|352|             Kecleon|  Normal|    null|  440| 60|    90|     70|    60|   120|   40|         3|    false|  Normal|                                 false|\n",
            "|353|             Shuppet|   Ghost|    null|  295| 44|    75|     35|    63|    33|   45|         3|    false|   Ghost|                                 false|\n",
            "|354|             Banette|   Ghost|    null|  455| 64|   115|     65|    83|    63|   65|         3|    false|   Ghost|                                 false|\n",
            "|354| BanetteMega Banette|   Ghost|    null|  555| 64|   165|     75|    93|    83|   75|         3|    false|   Ghost|                                 false|\n",
            "|355|             Duskull|   Ghost|    null|  295| 20|    40|     90|    30|    90|   25|         3|    false|   Ghost|                                 false|\n",
            "|356|            Dusclops|   Ghost|    null|  455| 40|    70|    130|    60|   130|   25|         3|    false|   Ghost|                                 false|\n",
            "|357|             Tropius|   Grass|  Flying|  460| 99|    68|     83|    72|    87|   51|         3|    false|  Grassy|                                 false|\n",
            "|358|            Chimecho| Psychic|    null|  425| 65|    50|     70|    95|    80|   65|         3|    false| Psychic|                                 false|\n",
            "|359|               Absol|    Dark|    null|  465| 65|   130|     60|    75|    60|   75|         3|    false|    Dark|                                 false|\n",
            "|359|     AbsolMega Absol|    Dark|    null|  565| 65|   150|     60|   115|    60|  115|         3|    false|    Dark|                                 false|\n",
            "|360|              Wynaut| Psychic|    null|  260| 95|    23|     48|    23|    48|   23|         3|    false| Psychic|                                 false|\n",
            "|361|             Snorunt|     Ice|    null|  300| 50|    50|     50|    50|    50|   50|         3|    false|     Ice|                                 false|\n",
            "|362|              Glalie|     Ice|    null|  480| 80|    80|     80|    80|    80|   80|         3|    false|     Ice|                                 false|\n",
            "|362|   GlalieMega Glalie|     Ice|    null|  580| 80|   120|     80|   120|    80|  100|         3|    false|     Ice|                                 false|\n",
            "|363|              Spheal|     Ice|   Water|  290| 70|    40|     50|    55|    50|   25|         3|    false|     Ice|                                 false|\n",
            "|364|              Sealeo|     Ice|   Water|  410| 90|    60|     70|    75|    70|   45|         3|    false|     Ice|                                 false|\n",
            "|365|             Walrein|     Ice|   Water|  530|110|    80|     90|    95|    90|   65|         3|    false|     Ice|                                 false|\n",
            "|366|            Clamperl|   Water|    null|  345| 35|    64|     85|    74|    55|   32|         3|    false|   Water|                                 false|\n",
            "|367|             Huntail|   Water|    null|  485| 55|   104|    105|    94|    75|   52|         3|    false|   Water|                                 false|\n",
            "|368|            Gorebyss|   Water|    null|  485| 55|    84|    105|   114|    75|   52|         3|    false|   Water|                                 false|\n",
            "|369|           Relicanth|   Water|    Rock|  485|100|    90|    130|    45|    65|   55|         3|    false|   Water|                                 false|\n",
            "|370|             Luvdisc|   Water|    null|  330| 43|    30|     55|    40|    65|   97|         3|    false|   Water|                                 false|\n",
            "|371|               Bagon|  Dragon|    null|  300| 45|    75|     60|    40|    30|   50|         3|    false|  Dragon|                                 false|\n",
            "|372|             Shelgon|  Dragon|    null|  420| 65|    95|    100|    60|    50|   50|         3|    false|  Dragon|                                 false|\n",
            "|373|           Salamence|  Dragon|  Flying|  600| 95|   135|     80|   110|    80|  100|         3|    false|  Dragon|                                 false|\n",
            "|373|SalamenceMega Sal...|  Dragon|  Flying|  700| 95|   145|    130|   120|    90|  120|         3|    false|  Dragon|                                 false|\n",
            "|374|              Beldum|   Steel| Psychic|  300| 40|    55|     80|    35|    60|   30|         3|    false|   Steel|                                 false|\n",
            "|375|              Metang|   Steel| Psychic|  420| 60|    75|    100|    55|    80|   50|         3|    false|   Steel|                                 false|\n",
            "|376|           Metagross|   Steel| Psychic|  600| 80|   135|    130|    95|    90|   70|         3|    false|   Steel|                                 false|\n",
            "|376|MetagrossMega Met...|   Steel| Psychic|  700| 80|   145|    150|   105|   110|  110|         3|    false|   Steel|                                 false|\n",
            "|377|            Regirock|    Rock|    null|  580| 80|   100|    200|    50|   100|   50|         3|     true|    Rock|                                 false|\n",
            "|378|              Regice|     Ice|    null|  580| 80|    50|    100|   100|   200|   50|         3|     true|     Ice|                                 false|\n",
            "|379|           Registeel|   Steel|    null|  580| 80|    75|    150|    75|   150|   50|         3|     true|   Steel|                                 false|\n",
            "|380|              Latias|  Dragon| Psychic|  600| 80|    80|     90|   110|   130|  110|         3|     true|  Dragon|                                 false|\n",
            "|380|   LatiasMega Latias|  Dragon| Psychic|  700| 80|   100|    120|   140|   150|  110|         3|     true|  Dragon|                                 false|\n",
            "|381|              Latios|  Dragon| Psychic|  600| 80|    90|     80|   130|   110|  110|         3|     true|  Dragon|                                 false|\n",
            "|381|   LatiosMega Latios|  Dragon| Psychic|  700| 80|   130|    100|   160|   120|  110|         3|     true|  Dragon|                                 false|\n",
            "|382|              Kyogre|   Water|    null|  670|100|   100|     90|   150|   140|   90|         3|     true|   Water|                                 false|\n",
            "|382| KyogrePrimal Kyogre|   Water|    null|  770|100|   150|     90|   180|   160|   90|         3|     true|   Water|                                 false|\n",
            "|383|             Groudon|  Ground|    null|  670|100|   150|    140|   100|    90|   90|         3|     true|  Ground|                                 false|\n",
            "|383|GroudonPrimal Gro...|  Ground|    Fire|  770|100|   180|    160|   150|    90|   90|         3|     true|  Ground|                                 false|\n",
            "|384|            Rayquaza|  Dragon|  Flying|  680|105|   150|     90|   150|    90|   95|         3|     true|  Dragon|                                 false|\n",
            "|384|RayquazaMega Rayq...|  Dragon|  Flying|  780|105|   180|    100|   180|   100|  115|         3|     true|  Dragon|                                 false|\n",
            "|385|             Jirachi|   Steel| Psychic|  600|100|   100|    100|   100|   100|  100|         3|     true|   Steel|                                 false|\n",
            "|386|  DeoxysNormal Forme| Psychic|    null|  600| 50|   150|     50|   150|    50|  150|         3|     true| Psychic|                                 false|\n",
            "|386|  DeoxysAttack Forme| Psychic|    null|  600| 50|   180|     20|   180|    20|  150|         3|     true| Psychic|                                 false|\n",
            "|386| DeoxysDefense Forme| Psychic|    null|  600| 50|    70|    160|    70|   160|   90|         3|     true| Psychic|                                 false|\n",
            "|386|   DeoxysSpeed Forme| Psychic|    null|  600| 50|    95|     90|    95|    90|  180|         3|     true| Psychic|                                 false|\n",
            "|387|             Turtwig|   Grass|    null|  318| 55|    68|     64|    45|    55|   31|         4|    false|  Grassy|                                 false|\n",
            "|388|              Grotle|   Grass|    null|  405| 75|    89|     85|    55|    65|   36|         4|    false|  Grassy|                                 false|\n",
            "|389|            Torterra|   Grass|  Ground|  525| 95|   109|    105|    75|    85|   56|         4|    false|  Grassy|                                 false|\n",
            "|390|            Chimchar|    Fire|    null|  309| 44|    58|     44|    58|    44|   61|         4|    false|    Fire|                                 false|\n",
            "|391|            Monferno|    Fire|Fighting|  405| 64|    78|     52|    78|    52|   81|         4|    false|    Fire|                                 false|\n",
            "|392|           Infernape|    Fire|Fighting|  534| 76|   104|     71|   104|    71|  108|         4|    false|    Fire|                                 false|\n",
            "|393|              Piplup|   Water|    null|  314| 53|    51|     53|    61|    56|   40|         4|    false|   Water|                                 false|\n",
            "|394|            Prinplup|   Water|    null|  405| 64|    66|     68|    81|    76|   50|         4|    false|   Water|                                 false|\n",
            "|395|            Empoleon|   Water|   Steel|  530| 84|    86|     88|   111|   101|   60|         4|    false|   Water|                                 false|\n",
            "|396|              Starly|  Normal|  Flying|  245| 40|    55|     30|    30|    30|   60|         4|    false|  Normal|                                 false|\n",
            "|397|            Staravia|  Normal|  Flying|  340| 55|    75|     50|    40|    40|   80|         4|    false|  Normal|                                 false|\n",
            "|398|           Staraptor|  Normal|  Flying|  485| 85|   120|     70|    50|    60|  100|         4|    false|  Normal|                                 false|\n",
            "|399|              Bidoof|  Normal|    null|  250| 59|    45|     40|    35|    40|   31|         4|    false|  Normal|                                 false|\n",
            "|400|             Bibarel|  Normal|   Water|  410| 79|    85|     60|    55|    60|   71|         4|    false|  Normal|                                 false|\n",
            "|401|           Kricketot|     Bug|    null|  194| 37|    25|     41|    25|    41|   25|         4|    false|     Bug|                                 false|\n",
            "|402|          Kricketune|     Bug|    null|  384| 77|    85|     51|    55|    51|   65|         4|    false|     Bug|                                 false|\n",
            "|403|               Shinx|Electric|    null|  263| 45|    65|     34|    40|    34|   45|         4|    false|Electric|                                  true|\n",
            "|404|               Luxio|Electric|    null|  363| 60|    85|     49|    60|    49|   60|         4|    false|Electric|                                  true|\n",
            "|405|              Luxray|Electric|    null|  523| 80|   120|     79|    95|    79|   70|         4|    false|Electric|                                  true|\n",
            "|406|               Budew|   Grass|  Poison|  280| 40|    30|     35|    50|    70|   55|         4|    false|  Grassy|                                 false|\n",
            "|407|            Roserade|   Grass|  Poison|  515| 60|    70|     65|   125|   105|   90|         4|    false|  Grassy|                                 false|\n",
            "|408|            Cranidos|    Rock|    null|  350| 67|   125|     40|    30|    30|   58|         4|    false|    Rock|                                 false|\n",
            "|409|           Rampardos|    Rock|    null|  495| 97|   165|     60|    65|    50|   58|         4|    false|    Rock|                                 false|\n",
            "|410|            Shieldon|    Rock|   Steel|  350| 30|    42|    118|    42|    88|   30|         4|    false|    Rock|                                 false|\n",
            "|411|           Bastiodon|    Rock|   Steel|  495| 60|    52|    168|    47|   138|   30|         4|    false|    Rock|                                 false|\n",
            "|412|               Burmy|     Bug|    null|  224| 40|    29|     45|    29|    45|   36|         4|    false|     Bug|                                 false|\n",
            "|413| WormadamPlant Cloak|     Bug|   Grass|  424| 60|    59|     85|    79|   105|   36|         4|    false|     Bug|                                 false|\n",
            "|413| WormadamSandy Cloak|     Bug|  Ground|  424| 60|    79|    105|    59|    85|   36|         4|    false|     Bug|                                 false|\n",
            "|413| WormadamTrash Cloak|     Bug|   Steel|  424| 60|    69|     95|    69|    95|   36|         4|    false|     Bug|                                 false|\n",
            "|414|              Mothim|     Bug|  Flying|  424| 70|    94|     50|    94|    50|   66|         4|    false|     Bug|                                 false|\n",
            "|415|              Combee|     Bug|  Flying|  244| 30|    30|     42|    30|    42|   70|         4|    false|     Bug|                                 false|\n",
            "|416|           Vespiquen|     Bug|  Flying|  474| 70|    80|    102|    80|   102|   40|         4|    false|     Bug|                                 false|\n",
            "|417|           Pachirisu|Electric|    null|  405| 60|    45|     70|    45|    90|   95|         4|    false|Electric|                                  true|\n",
            "|418|              Buizel|   Water|    null|  330| 55|    65|     35|    60|    30|   85|         4|    false|   Water|                                 false|\n",
            "|419|            Floatzel|   Water|    null|  495| 85|   105|     55|    85|    50|  115|         4|    false|   Water|                                 false|\n",
            "|420|             Cherubi|   Grass|    null|  275| 45|    35|     45|    62|    53|   35|         4|    false|  Grassy|                                 false|\n",
            "|421|             Cherrim|   Grass|    null|  450| 70|    60|     70|    87|    78|   85|         4|    false|  Grassy|                                 false|\n",
            "|422|             Shellos|   Water|    null|  325| 76|    48|     48|    57|    62|   34|         4|    false|   Water|                                 false|\n",
            "|423|           Gastrodon|   Water|  Ground|  475|111|    83|     68|    92|    82|   39|         4|    false|   Water|                                 false|\n",
            "|424|             Ambipom|  Normal|    null|  482| 75|   100|     66|    60|    66|  115|         4|    false|  Normal|                                 false|\n",
            "|425|            Drifloon|   Ghost|  Flying|  348| 90|    50|     34|    60|    44|   70|         4|    false|   Ghost|                                 false|\n",
            "|426|            Drifblim|   Ghost|  Flying|  498|150|    80|     44|    90|    54|   80|         4|    false|   Ghost|                                 false|\n",
            "|427|             Buneary|  Normal|    null|  350| 55|    66|     44|    44|    56|   85|         4|    false|  Normal|                                 false|\n",
            "|428|             Lopunny|  Normal|    null|  480| 65|    76|     84|    54|    96|  105|         4|    false|  Normal|                                 false|\n",
            "|428| LopunnyMega Lopunny|  Normal|Fighting|  580| 65|   136|     94|    54|    96|  135|         4|    false|  Normal|                                 false|\n",
            "|429|           Mismagius|   Ghost|    null|  495| 60|    60|     60|   105|   105|  105|         4|    false|   Ghost|                                 false|\n",
            "|430|           Honchkrow|    Dark|  Flying|  505|100|   125|     52|   105|    52|   71|         4|    false|    Dark|                                 false|\n",
            "|431|             Glameow|  Normal|    null|  310| 49|    55|     42|    42|    37|   85|         4|    false|  Normal|                                 false|\n",
            "|432|             Purugly|  Normal|    null|  452| 71|    82|     64|    64|    59|  112|         4|    false|  Normal|                                 false|\n",
            "|433|           Chingling| Psychic|    null|  285| 45|    30|     50|    65|    50|   45|         4|    false| Psychic|                                 false|\n",
            "|434|              Stunky|  Poison|    Dark|  329| 63|    63|     47|    41|    41|   74|         4|    false|  Poison|                                 false|\n",
            "|435|            Skuntank|  Poison|    Dark|  479|103|    93|     67|    71|    61|   84|         4|    false|  Poison|                                 false|\n",
            "|436|             Bronzor|   Steel| Psychic|  300| 57|    24|     86|    24|    86|   23|         4|    false|   Steel|                                 false|\n",
            "|437|            Bronzong|   Steel| Psychic|  500| 67|    89|    116|    79|   116|   33|         4|    false|   Steel|                                 false|\n",
            "|438|              Bonsly|    Rock|    null|  290| 50|    80|     95|    10|    45|   10|         4|    false|    Rock|                                 false|\n",
            "|439|            Mime Jr.| Psychic|   Fairy|  310| 20|    25|     45|    70|    90|   60|         4|    false| Psychic|                                 false|\n",
            "|440|             Happiny|  Normal|    null|  220|100|     5|      5|    15|    65|   30|         4|    false|  Normal|                                 false|\n",
            "|441|              Chatot|  Normal|  Flying|  411| 76|    65|     45|    92|    42|   91|         4|    false|  Normal|                                 false|\n",
            "|442|           Spiritomb|   Ghost|    Dark|  485| 50|    92|    108|    92|   108|   35|         4|    false|   Ghost|                                 false|\n",
            "|443|               Gible|  Dragon|  Ground|  300| 58|    70|     45|    40|    45|   42|         4|    false|  Dragon|                                 false|\n",
            "|444|              Gabite|  Dragon|  Ground|  410| 68|    90|     65|    50|    55|   82|         4|    false|  Dragon|                                 false|\n",
            "|445|            Garchomp|  Dragon|  Ground|  600|108|   130|     95|    80|    85|  102|         4|    false|  Dragon|                                 false|\n",
            "|445|GarchompMega Garc...|  Dragon|  Ground|  700|108|   170|    115|   120|    95|   92|         4|    false|  Dragon|                                 false|\n",
            "|446|            Munchlax|  Normal|    null|  390|135|    85|     40|    40|    85|    5|         4|    false|  Normal|                                 false|\n",
            "|447|               Riolu|Fighting|    null|  285| 40|    70|     40|    35|    40|   60|         4|    false|Fighting|                                 false|\n",
            "|448|             Lucario|Fighting|   Steel|  525| 70|   110|     70|   115|    70|   90|         4|    false|Fighting|                                 false|\n",
            "|448| LucarioMega Lucario|Fighting|   Steel|  625| 70|   145|     88|   140|    70|  112|         4|    false|Fighting|                                 false|\n",
            "|449|          Hippopotas|  Ground|    null|  330| 68|    72|     78|    38|    42|   32|         4|    false|  Ground|                                 false|\n",
            "|450|           Hippowdon|  Ground|    null|  525|108|   112|    118|    68|    72|   47|         4|    false|  Ground|                                 false|\n",
            "|451|             Skorupi|  Poison|     Bug|  330| 40|    50|     90|    30|    55|   65|         4|    false|  Poison|                                 false|\n",
            "|452|             Drapion|  Poison|    Dark|  500| 70|    90|    110|    60|    75|   95|         4|    false|  Poison|                                 false|\n",
            "|453|            Croagunk|  Poison|Fighting|  300| 48|    61|     40|    61|    40|   50|         4|    false|  Poison|                                 false|\n",
            "|454|           Toxicroak|  Poison|Fighting|  490| 83|   106|     65|    86|    65|   85|         4|    false|  Poison|                                 false|\n",
            "|455|           Carnivine|   Grass|    null|  454| 74|   100|     72|    90|    72|   46|         4|    false|  Grassy|                                 false|\n",
            "|456|             Finneon|   Water|    null|  330| 49|    49|     56|    49|    61|   66|         4|    false|   Water|                                 false|\n",
            "|457|            Lumineon|   Water|    null|  460| 69|    69|     76|    69|    86|   91|         4|    false|   Water|                                 false|\n",
            "|458|             Mantyke|   Water|  Flying|  345| 45|    20|     50|    60|   120|   50|         4|    false|   Water|                                 false|\n",
            "|459|              Snover|   Grass|     Ice|  334| 60|    62|     50|    62|    60|   40|         4|    false|  Grassy|                                 false|\n",
            "|460|           Abomasnow|   Grass|     Ice|  494| 90|    92|     75|    92|    85|   60|         4|    false|  Grassy|                                 false|\n",
            "|460|AbomasnowMega Abo...|   Grass|     Ice|  594| 90|   132|    105|   132|   105|   30|         4|    false|  Grassy|                                 false|\n",
            "|461|             Weavile|    Dark|     Ice|  510| 70|   120|     65|    45|    85|  125|         4|    false|    Dark|                                 false|\n",
            "|462|           Magnezone|Electric|   Steel|  535| 70|    70|    115|   130|    90|   60|         4|    false|Electric|                                  true|\n",
            "|463|          Lickilicky|  Normal|    null|  515|110|    85|     95|    80|    95|   50|         4|    false|  Normal|                                 false|\n",
            "|464|           Rhyperior|  Ground|    Rock|  535|115|   140|    130|    55|    55|   40|         4|    false|  Ground|                                 false|\n",
            "|465|           Tangrowth|   Grass|    null|  535|100|   100|    125|   110|    50|   50|         4|    false|  Grassy|                                 false|\n",
            "|466|          Electivire|Electric|    null|  540| 75|   123|     67|    95|    85|   95|         4|    false|Electric|                                  true|\n",
            "|467|           Magmortar|    Fire|    null|  540| 75|    95|     67|   125|    95|   83|         4|    false|    Fire|                                 false|\n",
            "|468|            Togekiss|   Fairy|  Flying|  545| 85|    50|     95|   120|   115|   80|         4|    false|   Fairy|                                 false|\n",
            "|469|             Yanmega|     Bug|  Flying|  515| 86|    76|     86|   116|    56|   95|         4|    false|     Bug|                                 false|\n",
            "|470|             Leafeon|   Grass|    null|  525| 65|   110|    130|    60|    65|   95|         4|    false|  Grassy|                                 false|\n",
            "|471|             Glaceon|     Ice|    null|  525| 65|    60|    110|   130|    95|   65|         4|    false|     Ice|                                 false|\n",
            "|472|             Gliscor|  Ground|  Flying|  510| 75|    95|    125|    45|    75|   95|         4|    false|  Ground|                                 false|\n",
            "|473|           Mamoswine|     Ice|  Ground|  530|110|   130|     80|    70|    60|   80|         4|    false|     Ice|                                 false|\n",
            "|474|           Porygon-Z|  Normal|    null|  535| 85|    80|     70|   135|    75|   90|         4|    false|  Normal|                                 false|\n",
            "|475|             Gallade| Psychic|Fighting|  518| 68|   125|     65|    65|   115|   80|         4|    false| Psychic|                                 false|\n",
            "|475| GalladeMega Gallade| Psychic|Fighting|  618| 68|   165|     95|    65|   115|  110|         4|    false| Psychic|                                 false|\n",
            "|476|           Probopass|    Rock|   Steel|  525| 60|    55|    145|    75|   150|   40|         4|    false|    Rock|                                 false|\n",
            "|477|            Dusknoir|   Ghost|    null|  525| 45|   100|    135|    65|   135|   45|         4|    false|   Ghost|                                 false|\n",
            "|478|            Froslass|     Ice|   Ghost|  480| 70|    80|     70|    80|    70|  110|         4|    false|     Ice|                                 false|\n",
            "|479|               Rotom|Electric|   Ghost|  440| 50|    50|     77|    95|    77|   91|         4|    false|Electric|                                  true|\n",
            "|479|     RotomHeat Rotom|Electric|    Fire|  520| 50|    65|    107|   105|   107|   86|         4|    false|Electric|                                  true|\n",
            "|479|     RotomWash Rotom|Electric|   Water|  520| 50|    65|    107|   105|   107|   86|         4|    false|Electric|                                  true|\n",
            "|479|    RotomFrost Rotom|Electric|     Ice|  520| 50|    65|    107|   105|   107|   86|         4|    false|Electric|                                  true|\n",
            "|479|      RotomFan Rotom|Electric|  Flying|  520| 50|    65|    107|   105|   107|   86|         4|    false|Electric|                                  true|\n",
            "|479|      RotomMow Rotom|Electric|   Grass|  520| 50|    65|    107|   105|   107|   86|         4|    false|Electric|                                  true|\n",
            "|480|                Uxie| Psychic|    null|  580| 75|    75|    130|    75|   130|   95|         4|     true| Psychic|                                 false|\n",
            "|481|             Mesprit| Psychic|    null|  580| 80|   105|    105|   105|   105|   80|         4|     true| Psychic|                                 false|\n",
            "|482|               Azelf| Psychic|    null|  580| 75|   125|     70|   125|    70|  115|         4|     true| Psychic|                                 false|\n",
            "|483|              Dialga|   Steel|  Dragon|  680|100|   120|    120|   150|   100|   90|         4|     true|   Steel|                                 false|\n",
            "|484|              Palkia|   Water|  Dragon|  680| 90|   120|    100|   150|   120|  100|         4|     true|   Water|                                 false|\n",
            "|485|             Heatran|    Fire|   Steel|  600| 91|    90|    106|   130|   106|   77|         4|     true|    Fire|                                 false|\n",
            "|486|           Regigigas|  Normal|    null|  670|110|   160|    110|    80|   110|  100|         4|     true|  Normal|                                 false|\n",
            "|487|GiratinaAltered F...|   Ghost|  Dragon|  680|150|   100|    120|   100|   120|   90|         4|     true|   Ghost|                                 false|\n",
            "|487|GiratinaOrigin Forme|   Ghost|  Dragon|  680|150|   120|    100|   120|   100|   90|         4|     true|   Ghost|                                 false|\n",
            "|488|           Cresselia| Psychic|    null|  600|120|    70|    120|    75|   130|   85|         4|    false| Psychic|                                 false|\n",
            "|489|              Phione|   Water|    null|  480| 80|    80|     80|    80|    80|   80|         4|    false|   Water|                                 false|\n",
            "|490|             Manaphy|   Water|    null|  600|100|   100|    100|   100|   100|  100|         4|    false|   Water|                                 false|\n",
            "|491|             Darkrai|    Dark|    null|  600| 70|    90|     90|   135|    90|  125|         4|     true|    Dark|                                 false|\n",
            "|492|   ShayminLand Forme|   Grass|    null|  600|100|   100|    100|   100|   100|  100|         4|     true|  Grassy|                                 false|\n",
            "|492|    ShayminSky Forme|   Grass|  Flying|  600|100|   103|     75|   120|    75|  127|         4|     true|  Grassy|                                 false|\n",
            "|493|              Arceus|  Normal|    null|  720|120|   120|    120|   120|   120|  120|         4|     true|  Normal|                                 false|\n",
            "|494|             Victini| Psychic|    Fire|  600|100|   100|    100|   100|   100|  100|         5|     true| Psychic|                                 false|\n",
            "|495|               Snivy|   Grass|    null|  308| 45|    45|     55|    45|    55|   63|         5|    false|  Grassy|                                 false|\n",
            "|496|             Servine|   Grass|    null|  413| 60|    60|     75|    60|    75|   83|         5|    false|  Grassy|                                 false|\n",
            "|497|           Serperior|   Grass|    null|  528| 75|    75|     95|    75|    95|  113|         5|    false|  Grassy|                                 false|\n",
            "|498|               Tepig|    Fire|    null|  308| 65|    63|     45|    45|    45|   45|         5|    false|    Fire|                                 false|\n",
            "|499|             Pignite|    Fire|Fighting|  418| 90|    93|     55|    70|    55|   55|         5|    false|    Fire|                                 false|\n",
            "|500|              Emboar|    Fire|Fighting|  528|110|   123|     65|   100|    65|   65|         5|    false|    Fire|                                 false|\n",
            "|501|            Oshawott|   Water|    null|  308| 55|    55|     45|    63|    45|   45|         5|    false|   Water|                                 false|\n",
            "|502|              Dewott|   Water|    null|  413| 75|    75|     60|    83|    60|   60|         5|    false|   Water|                                 false|\n",
            "|503|            Samurott|   Water|    null|  528| 95|   100|     85|   108|    70|   70|         5|    false|   Water|                                 false|\n",
            "|504|              Patrat|  Normal|    null|  255| 45|    55|     39|    35|    39|   42|         5|    false|  Normal|                                 false|\n",
            "|505|             Watchog|  Normal|    null|  420| 60|    85|     69|    60|    69|   77|         5|    false|  Normal|                                 false|\n",
            "|506|            Lillipup|  Normal|    null|  275| 45|    60|     45|    25|    45|   55|         5|    false|  Normal|                                 false|\n",
            "|507|             Herdier|  Normal|    null|  370| 65|    80|     65|    35|    65|   60|         5|    false|  Normal|                                 false|\n",
            "|508|           Stoutland|  Normal|    null|  500| 85|   110|     90|    45|    90|   80|         5|    false|  Normal|                                 false|\n",
            "|509|            Purrloin|    Dark|    null|  281| 41|    50|     37|    50|    37|   66|         5|    false|    Dark|                                 false|\n",
            "|510|             Liepard|    Dark|    null|  446| 64|    88|     50|    88|    50|  106|         5|    false|    Dark|                                 false|\n",
            "|511|             Pansage|   Grass|    null|  316| 50|    53|     48|    53|    48|   64|         5|    false|  Grassy|                                 false|\n",
            "|512|            Simisage|   Grass|    null|  498| 75|    98|     63|    98|    63|  101|         5|    false|  Grassy|                                 false|\n",
            "|513|             Pansear|    Fire|    null|  316| 50|    53|     48|    53|    48|   64|         5|    false|    Fire|                                 false|\n",
            "|514|            Simisear|    Fire|    null|  498| 75|    98|     63|    98|    63|  101|         5|    false|    Fire|                                 false|\n",
            "|515|             Panpour|   Water|    null|  316| 50|    53|     48|    53|    48|   64|         5|    false|   Water|                                 false|\n",
            "|516|            Simipour|   Water|    null|  498| 75|    98|     63|    98|    63|  101|         5|    false|   Water|                                 false|\n",
            "|517|               Munna| Psychic|    null|  292| 76|    25|     45|    67|    55|   24|         5|    false| Psychic|                                 false|\n",
            "|518|            Musharna| Psychic|    null|  487|116|    55|     85|   107|    95|   29|         5|    false| Psychic|                                 false|\n",
            "|519|              Pidove|  Normal|  Flying|  264| 50|    55|     50|    36|    30|   43|         5|    false|  Normal|                                 false|\n",
            "|520|           Tranquill|  Normal|  Flying|  358| 62|    77|     62|    50|    42|   65|         5|    false|  Normal|                                 false|\n",
            "|521|            Unfezant|  Normal|  Flying|  488| 80|   115|     80|    65|    55|   93|         5|    false|  Normal|                                 false|\n",
            "|522|             Blitzle|Electric|    null|  295| 45|    60|     32|    50|    32|   76|         5|    false|Electric|                                  true|\n",
            "|523|           Zebstrika|Electric|    null|  497| 75|   100|     63|    80|    63|  116|         5|    false|Electric|                                  true|\n",
            "|524|          Roggenrola|    Rock|    null|  280| 55|    75|     85|    25|    25|   15|         5|    false|    Rock|                                 false|\n",
            "|525|             Boldore|    Rock|    null|  390| 70|   105|    105|    50|    40|   20|         5|    false|    Rock|                                 false|\n",
            "|526|            Gigalith|    Rock|    null|  515| 85|   135|    130|    60|    80|   25|         5|    false|    Rock|                                 false|\n",
            "|527|              Woobat| Psychic|  Flying|  313| 55|    45|     43|    55|    43|   72|         5|    false| Psychic|                                 false|\n",
            "|528|             Swoobat| Psychic|  Flying|  425| 67|    57|     55|    77|    55|  114|         5|    false| Psychic|                                 false|\n",
            "|529|             Drilbur|  Ground|    null|  328| 60|    85|     40|    30|    45|   68|         5|    false|  Ground|                                 false|\n",
            "|530|           Excadrill|  Ground|   Steel|  508|110|   135|     60|    50|    65|   88|         5|    false|  Ground|                                 false|\n",
            "|531|              Audino|  Normal|    null|  445|103|    60|     86|    60|    86|   50|         5|    false|  Normal|                                 false|\n",
            "|531|   AudinoMega Audino|  Normal|   Fairy|  545|103|    60|    126|    80|   126|   50|         5|    false|  Normal|                                 false|\n",
            "|532|             Timburr|Fighting|    null|  305| 75|    80|     55|    25|    35|   35|         5|    false|Fighting|                                 false|\n",
            "|533|             Gurdurr|Fighting|    null|  405| 85|   105|     85|    40|    50|   40|         5|    false|Fighting|                                 false|\n",
            "|534|          Conkeldurr|Fighting|    null|  505|105|   140|     95|    55|    65|   45|         5|    false|Fighting|                                 false|\n",
            "|535|             Tympole|   Water|    null|  294| 50|    50|     40|    50|    40|   64|         5|    false|   Water|                                 false|\n",
            "|536|           Palpitoad|   Water|  Ground|  384| 75|    65|     55|    65|    55|   69|         5|    false|   Water|                                 false|\n",
            "|537|          Seismitoad|   Water|  Ground|  509|105|    95|     75|    85|    75|   74|         5|    false|   Water|                                 false|\n",
            "|538|               Throh|Fighting|    null|  465|120|   100|     85|    30|    85|   45|         5|    false|Fighting|                                 false|\n",
            "|539|                Sawk|Fighting|    null|  465| 75|   125|     75|    30|    75|   85|         5|    false|Fighting|                                 false|\n",
            "|540|            Sewaddle|     Bug|   Grass|  310| 45|    53|     70|    40|    60|   42|         5|    false|     Bug|                                 false|\n",
            "|541|            Swadloon|     Bug|   Grass|  380| 55|    63|     90|    50|    80|   42|         5|    false|     Bug|                                 false|\n",
            "|542|            Leavanny|     Bug|   Grass|  500| 75|   103|     80|    70|    80|   92|         5|    false|     Bug|                                 false|\n",
            "|543|            Venipede|     Bug|  Poison|  260| 30|    45|     59|    30|    39|   57|         5|    false|     Bug|                                 false|\n",
            "|544|          Whirlipede|     Bug|  Poison|  360| 40|    55|     99|    40|    79|   47|         5|    false|     Bug|                                 false|\n",
            "|545|           Scolipede|     Bug|  Poison|  485| 60|   100|     89|    55|    69|  112|         5|    false|     Bug|                                 false|\n",
            "|546|            Cottonee|   Grass|   Fairy|  280| 40|    27|     60|    37|    50|   66|         5|    false|  Grassy|                                 false|\n",
            "|547|          Whimsicott|   Grass|   Fairy|  480| 60|    67|     85|    77|    75|  116|         5|    false|  Grassy|                                 false|\n",
            "|548|             Petilil|   Grass|    null|  280| 45|    35|     50|    70|    50|   30|         5|    false|  Grassy|                                 false|\n",
            "|549|           Lilligant|   Grass|    null|  480| 70|    60|     75|   110|    75|   90|         5|    false|  Grassy|                                 false|\n",
            "|550|            Basculin|   Water|    null|  460| 70|    92|     65|    80|    55|   98|         5|    false|   Water|                                 false|\n",
            "|551|             Sandile|  Ground|    Dark|  292| 50|    72|     35|    35|    35|   65|         5|    false|  Ground|                                 false|\n",
            "|552|            Krokorok|  Ground|    Dark|  351| 60|    82|     45|    45|    45|   74|         5|    false|  Ground|                                 false|\n",
            "|553|          Krookodile|  Ground|    Dark|  519| 95|   117|     80|    65|    70|   92|         5|    false|  Ground|                                 false|\n",
            "|554|            Darumaka|    Fire|    null|  315| 70|    90|     45|    15|    45|   50|         5|    false|    Fire|                                 false|\n",
            "|555|DarmanitanStandar...|    Fire|    null|  480|105|   140|     55|    30|    55|   95|         5|    false|    Fire|                                 false|\n",
            "|555|  DarmanitanZen Mode|    Fire| Psychic|  540|105|    30|    105|   140|   105|   55|         5|    false|    Fire|                                 false|\n",
            "|556|            Maractus|   Grass|    null|  461| 75|    86|     67|   106|    67|   60|         5|    false|  Grassy|                                 false|\n",
            "|557|             Dwebble|     Bug|    Rock|  325| 50|    65|     85|    35|    35|   55|         5|    false|     Bug|                                 false|\n",
            "|558|             Crustle|     Bug|    Rock|  475| 70|    95|    125|    65|    75|   45|         5|    false|     Bug|                                 false|\n",
            "|559|             Scraggy|    Dark|Fighting|  348| 50|    75|     70|    35|    70|   48|         5|    false|    Dark|                                 false|\n",
            "|560|             Scrafty|    Dark|Fighting|  488| 65|    90|    115|    45|   115|   58|         5|    false|    Dark|                                 false|\n",
            "|561|            Sigilyph| Psychic|  Flying|  490| 72|    58|     80|   103|    80|   97|         5|    false| Psychic|                                 false|\n",
            "|562|              Yamask|   Ghost|    null|  303| 38|    30|     85|    55|    65|   30|         5|    false|   Ghost|                                 false|\n",
            "|563|          Cofagrigus|   Ghost|    null|  483| 58|    50|    145|    95|   105|   30|         5|    false|   Ghost|                                 false|\n",
            "|564|            Tirtouga|   Water|    Rock|  355| 54|    78|    103|    53|    45|   22|         5|    false|   Water|                                 false|\n",
            "|565|          Carracosta|   Water|    Rock|  495| 74|   108|    133|    83|    65|   32|         5|    false|   Water|                                 false|\n",
            "|566|              Archen|    Rock|  Flying|  401| 55|   112|     45|    74|    45|   70|         5|    false|    Rock|                                 false|\n",
            "|567|            Archeops|    Rock|  Flying|  567| 75|   140|     65|   112|    65|  110|         5|    false|    Rock|                                 false|\n",
            "|568|            Trubbish|  Poison|    null|  329| 50|    50|     62|    40|    62|   65|         5|    false|  Poison|                                 false|\n",
            "|569|            Garbodor|  Poison|    null|  474| 80|    95|     82|    60|    82|   75|         5|    false|  Poison|                                 false|\n",
            "|570|               Zorua|    Dark|    null|  330| 40|    65|     40|    80|    40|   65|         5|    false|    Dark|                                 false|\n",
            "|571|             Zoroark|    Dark|    null|  510| 60|   105|     60|   120|    60|  105|         5|    false|    Dark|                                 false|\n",
            "|572|            Minccino|  Normal|    null|  300| 55|    50|     40|    40|    40|   75|         5|    false|  Normal|                                 false|\n",
            "|573|            Cinccino|  Normal|    null|  470| 75|    95|     60|    65|    60|  115|         5|    false|  Normal|                                 false|\n",
            "|574|             Gothita| Psychic|    null|  290| 45|    30|     50|    55|    65|   45|         5|    false| Psychic|                                 false|\n",
            "|575|           Gothorita| Psychic|    null|  390| 60|    45|     70|    75|    85|   55|         5|    false| Psychic|                                 false|\n",
            "|576|          Gothitelle| Psychic|    null|  490| 70|    55|     95|    95|   110|   65|         5|    false| Psychic|                                 false|\n",
            "|577|             Solosis| Psychic|    null|  290| 45|    30|     40|   105|    50|   20|         5|    false| Psychic|                                 false|\n",
            "|578|             Duosion| Psychic|    null|  370| 65|    40|     50|   125|    60|   30|         5|    false| Psychic|                                 false|\n",
            "|579|           Reuniclus| Psychic|    null|  490|110|    65|     75|   125|    85|   30|         5|    false| Psychic|                                 false|\n",
            "|580|            Ducklett|   Water|  Flying|  305| 62|    44|     50|    44|    50|   55|         5|    false|   Water|                                 false|\n",
            "|581|              Swanna|   Water|  Flying|  473| 75|    87|     63|    87|    63|   98|         5|    false|   Water|                                 false|\n",
            "|582|           Vanillite|     Ice|    null|  305| 36|    50|     50|    65|    60|   44|         5|    false|     Ice|                                 false|\n",
            "|583|           Vanillish|     Ice|    null|  395| 51|    65|     65|    80|    75|   59|         5|    false|     Ice|                                 false|\n",
            "|584|           Vanilluxe|     Ice|    null|  535| 71|    95|     85|   110|    95|   79|         5|    false|     Ice|                                 false|\n",
            "|585|            Deerling|  Normal|   Grass|  335| 60|    60|     50|    40|    50|   75|         5|    false|  Normal|                                 false|\n",
            "|586|            Sawsbuck|  Normal|   Grass|  475| 80|   100|     70|    60|    70|   95|         5|    false|  Normal|                                 false|\n",
            "|587|              Emolga|Electric|  Flying|  428| 55|    75|     60|    75|    60|  103|         5|    false|Electric|                                  true|\n",
            "|588|          Karrablast|     Bug|    null|  315| 50|    75|     45|    40|    45|   60|         5|    false|     Bug|                                 false|\n",
            "|589|          Escavalier|     Bug|   Steel|  495| 70|   135|    105|    60|   105|   20|         5|    false|     Bug|                                 false|\n",
            "|590|             Foongus|   Grass|  Poison|  294| 69|    55|     45|    55|    55|   15|         5|    false|  Grassy|                                 false|\n",
            "|591|           Amoonguss|   Grass|  Poison|  464|114|    85|     70|    85|    80|   30|         5|    false|  Grassy|                                 false|\n",
            "|592|            Frillish|   Water|   Ghost|  335| 55|    40|     50|    65|    85|   40|         5|    false|   Water|                                 false|\n",
            "|593|           Jellicent|   Water|   Ghost|  480|100|    60|     70|    85|   105|   60|         5|    false|   Water|                                 false|\n",
            "|594|           Alomomola|   Water|    null|  470|165|    75|     80|    40|    45|   65|         5|    false|   Water|                                 false|\n",
            "|595|              Joltik|     Bug|Electric|  319| 50|    47|     50|    57|    50|   65|         5|    false|     Bug|                                 false|\n",
            "|596|          Galvantula|     Bug|Electric|  472| 70|    77|     60|    97|    60|  108|         5|    false|     Bug|                                 false|\n",
            "|597|           Ferroseed|   Grass|   Steel|  305| 44|    50|     91|    24|    86|   10|         5|    false|  Grassy|                                 false|\n",
            "|598|          Ferrothorn|   Grass|   Steel|  489| 74|    94|    131|    54|   116|   20|         5|    false|  Grassy|                                 false|\n",
            "|599|               Klink|   Steel|    null|  300| 40|    55|     70|    45|    60|   30|         5|    false|   Steel|                                 false|\n",
            "|600|               Klang|   Steel|    null|  440| 60|    80|     95|    70|    85|   50|         5|    false|   Steel|                                 false|\n",
            "|601|           Klinklang|   Steel|    null|  520| 60|   100|    115|    70|    85|   90|         5|    false|   Steel|                                 false|\n",
            "|602|              Tynamo|Electric|    null|  275| 35|    55|     40|    45|    40|   60|         5|    false|Electric|                                  true|\n",
            "|603|           Eelektrik|Electric|    null|  405| 65|    85|     70|    75|    70|   40|         5|    false|Electric|                                  true|\n",
            "|604|          Eelektross|Electric|    null|  515| 85|   115|     80|   105|    80|   50|         5|    false|Electric|                                  true|\n",
            "|605|              Elgyem| Psychic|    null|  335| 55|    55|     55|    85|    55|   30|         5|    false| Psychic|                                 false|\n",
            "|606|            Beheeyem| Psychic|    null|  485| 75|    75|     75|   125|    95|   40|         5|    false| Psychic|                                 false|\n",
            "|607|             Litwick|   Ghost|    Fire|  275| 50|    30|     55|    65|    55|   20|         5|    false|   Ghost|                                 false|\n",
            "|608|             Lampent|   Ghost|    Fire|  370| 60|    40|     60|    95|    60|   55|         5|    false|   Ghost|                                 false|\n",
            "|609|          Chandelure|   Ghost|    Fire|  520| 60|    55|     90|   145|    90|   80|         5|    false|   Ghost|                                 false|\n",
            "|610|                Axew|  Dragon|    null|  320| 46|    87|     60|    30|    40|   57|         5|    false|  Dragon|                                 false|\n",
            "|611|             Fraxure|  Dragon|    null|  410| 66|   117|     70|    40|    50|   67|         5|    false|  Dragon|                                 false|\n",
            "|612|             Haxorus|  Dragon|    null|  540| 76|   147|     90|    60|    70|   97|         5|    false|  Dragon|                                 false|\n",
            "|613|             Cubchoo|     Ice|    null|  305| 55|    70|     40|    60|    40|   40|         5|    false|     Ice|                                 false|\n",
            "|614|             Beartic|     Ice|    null|  485| 95|   110|     80|    70|    80|   50|         5|    false|     Ice|                                 false|\n",
            "|615|           Cryogonal|     Ice|    null|  485| 70|    50|     30|    95|   135|  105|         5|    false|     Ice|                                 false|\n",
            "|616|             Shelmet|     Bug|    null|  305| 50|    40|     85|    40|    65|   25|         5|    false|     Bug|                                 false|\n",
            "|617|            Accelgor|     Bug|    null|  495| 80|    70|     40|   100|    60|  145|         5|    false|     Bug|                                 false|\n",
            "|618|            Stunfisk|  Ground|Electric|  471|109|    66|     84|    81|    99|   32|         5|    false|  Ground|                                 false|\n",
            "|619|             Mienfoo|Fighting|    null|  350| 45|    85|     50|    55|    50|   65|         5|    false|Fighting|                                 false|\n",
            "|620|            Mienshao|Fighting|    null|  510| 65|   125|     60|    95|    60|  105|         5|    false|Fighting|                                 false|\n",
            "|621|           Druddigon|  Dragon|    null|  485| 77|   120|     90|    60|    90|   48|         5|    false|  Dragon|                                 false|\n",
            "|622|              Golett|  Ground|   Ghost|  303| 59|    74|     50|    35|    50|   35|         5|    false|  Ground|                                 false|\n",
            "|623|              Golurk|  Ground|   Ghost|  483| 89|   124|     80|    55|    80|   55|         5|    false|  Ground|                                 false|\n",
            "|624|            Pawniard|    Dark|   Steel|  340| 45|    85|     70|    40|    40|   60|         5|    false|    Dark|                                 false|\n",
            "|625|             Bisharp|    Dark|   Steel|  490| 65|   125|    100|    60|    70|   70|         5|    false|    Dark|                                 false|\n",
            "|626|          Bouffalant|  Normal|    null|  490| 95|   110|     95|    40|    95|   55|         5|    false|  Normal|                                 false|\n",
            "|627|             Rufflet|  Normal|  Flying|  350| 70|    83|     50|    37|    50|   60|         5|    false|  Normal|                                 false|\n",
            "|628|            Braviary|  Normal|  Flying|  510|100|   123|     75|    57|    75|   80|         5|    false|  Normal|                                 false|\n",
            "|629|             Vullaby|    Dark|  Flying|  370| 70|    55|     75|    45|    65|   60|         5|    false|    Dark|                                 false|\n",
            "|630|           Mandibuzz|    Dark|  Flying|  510|110|    65|    105|    55|    95|   80|         5|    false|    Dark|                                 false|\n",
            "|631|             Heatmor|    Fire|    null|  484| 85|    97|     66|   105|    66|   65|         5|    false|    Fire|                                 false|\n",
            "|632|              Durant|     Bug|   Steel|  484| 58|   109|    112|    48|    48|  109|         5|    false|     Bug|                                 false|\n",
            "|633|               Deino|    Dark|  Dragon|  300| 52|    65|     50|    45|    50|   38|         5|    false|    Dark|                                 false|\n",
            "|634|            Zweilous|    Dark|  Dragon|  420| 72|    85|     70|    65|    70|   58|         5|    false|    Dark|                                 false|\n",
            "|635|           Hydreigon|    Dark|  Dragon|  600| 92|   105|     90|   125|    90|   98|         5|    false|    Dark|                                 false|\n",
            "|636|            Larvesta|     Bug|    Fire|  360| 55|    85|     55|    50|    55|   60|         5|    false|     Bug|                                 false|\n",
            "|637|           Volcarona|     Bug|    Fire|  550| 85|    60|     65|   135|   105|  100|         5|    false|     Bug|                                 false|\n",
            "|638|            Cobalion|   Steel|Fighting|  580| 91|    90|    129|    90|    72|  108|         5|     true|   Steel|                                 false|\n",
            "|639|           Terrakion|    Rock|Fighting|  580| 91|   129|     90|    72|    90|  108|         5|     true|    Rock|                                 false|\n",
            "|640|            Virizion|   Grass|Fighting|  580| 91|    90|     72|    90|   129|  108|         5|     true|  Grassy|                                 false|\n",
            "|641|TornadusIncarnate...|  Flying|    null|  580| 79|   115|     70|   125|    80|  111|         5|     true|  Flying|                                 false|\n",
            "|641|TornadusTherian F...|  Flying|    null|  580| 79|   100|     80|   110|    90|  121|         5|     true|  Flying|                                 false|\n",
            "|642|ThundurusIncarnat...|Electric|  Flying|  580| 79|   115|     70|   125|    80|  111|         5|     true|Electric|                                  true|\n",
            "|642|ThundurusTherian ...|Electric|  Flying|  580| 79|   105|     70|   145|    80|  101|         5|     true|Electric|                                  true|\n",
            "|643|            Reshiram|  Dragon|    Fire|  680|100|   120|    100|   150|   120|   90|         5|     true|  Dragon|                                 false|\n",
            "|644|              Zekrom|  Dragon|Electric|  680|100|   150|    120|   120|   100|   90|         5|     true|  Dragon|                                 false|\n",
            "|645|LandorusIncarnate...|  Ground|  Flying|  600| 89|   125|     90|   115|    80|  101|         5|     true|  Ground|                                 false|\n",
            "|645|LandorusTherian F...|  Ground|  Flying|  600| 89|   145|     90|   105|    80|   91|         5|     true|  Ground|                                 false|\n",
            "|646|              Kyurem|  Dragon|     Ice|  660|125|   130|     90|   130|    90|   95|         5|     true|  Dragon|                                 false|\n",
            "|646|  KyuremBlack Kyurem|  Dragon|     Ice|  700|125|   170|    100|   120|    90|   95|         5|     true|  Dragon|                                 false|\n",
            "|646|  KyuremWhite Kyurem|  Dragon|     Ice|  700|125|   120|     90|   170|   100|   95|         5|     true|  Dragon|                                 false|\n",
            "|647|KeldeoOrdinary Forme|   Water|Fighting|  580| 91|    72|     90|   129|    90|  108|         5|    false|   Water|                                 false|\n",
            "|647|KeldeoResolute Forme|   Water|Fighting|  580| 91|    72|     90|   129|    90|  108|         5|    false|   Water|                                 false|\n",
            "|648|  MeloettaAria Forme|  Normal| Psychic|  600|100|    77|     77|   128|   128|   90|         5|    false|  Normal|                                 false|\n",
            "|648|MeloettaPirouette...|  Normal|Fighting|  600|100|   128|     90|    77|    77|  128|         5|    false|  Normal|                                 false|\n",
            "|649|            Genesect|     Bug|   Steel|  600| 71|   120|     95|   120|    95|   99|         5|    false|     Bug|                                 false|\n",
            "|650|             Chespin|   Grass|    null|  313| 56|    61|     65|    48|    45|   38|         6|    false|  Grassy|                                 false|\n",
            "|651|           Quilladin|   Grass|    null|  405| 61|    78|     95|    56|    58|   57|         6|    false|  Grassy|                                 false|\n",
            "|652|          Chesnaught|   Grass|Fighting|  530| 88|   107|    122|    74|    75|   64|         6|    false|  Grassy|                                 false|\n",
            "|653|            Fennekin|    Fire|    null|  307| 40|    45|     40|    62|    60|   60|         6|    false|    Fire|                                 false|\n",
            "|654|             Braixen|    Fire|    null|  409| 59|    59|     58|    90|    70|   73|         6|    false|    Fire|                                 false|\n",
            "|655|             Delphox|    Fire| Psychic|  534| 75|    69|     72|   114|   100|  104|         6|    false|    Fire|                                 false|\n",
            "|656|             Froakie|   Water|    null|  314| 41|    56|     40|    62|    44|   71|         6|    false|   Water|                                 false|\n",
            "|657|           Frogadier|   Water|    null|  405| 54|    63|     52|    83|    56|   97|         6|    false|   Water|                                 false|\n",
            "|658|            Greninja|   Water|    Dark|  530| 72|    95|     67|   103|    71|  122|         6|    false|   Water|                                 false|\n",
            "|659|            Bunnelby|  Normal|    null|  237| 38|    36|     38|    32|    36|   57|         6|    false|  Normal|                                 false|\n",
            "|660|           Diggersby|  Normal|  Ground|  423| 85|    56|     77|    50|    77|   78|         6|    false|  Normal|                                 false|\n",
            "|661|          Fletchling|  Normal|  Flying|  278| 45|    50|     43|    40|    38|   62|         6|    false|  Normal|                                 false|\n",
            "|662|         Fletchinder|    Fire|  Flying|  382| 62|    73|     55|    56|    52|   84|         6|    false|    Fire|                                 false|\n",
            "|663|          Talonflame|    Fire|  Flying|  499| 78|    81|     71|    74|    69|  126|         6|    false|    Fire|                                 false|\n",
            "|664|          Scatterbug|     Bug|    null|  200| 38|    35|     40|    27|    25|   35|         6|    false|     Bug|                                 false|\n",
            "|665|              Spewpa|     Bug|    null|  213| 45|    22|     60|    27|    30|   29|         6|    false|     Bug|                                 false|\n",
            "|666|            Vivillon|     Bug|  Flying|  411| 80|    52|     50|    90|    50|   89|         6|    false|     Bug|                                 false|\n",
            "|667|              Litleo|    Fire|  Normal|  369| 62|    50|     58|    73|    54|   72|         6|    false|    Fire|                                 false|\n",
            "|668|              Pyroar|    Fire|  Normal|  507| 86|    68|     72|   109|    66|  106|         6|    false|    Fire|                                 false|\n",
            "|669|             Flabébé|   Fairy|    null|  303| 44|    38|     39|    61|    79|   42|         6|    false|   Fairy|                                 false|\n",
            "|670|             Floette|   Fairy|    null|  371| 54|    45|     47|    75|    98|   52|         6|    false|   Fairy|                                 false|\n",
            "|671|             Florges|   Fairy|    null|  552| 78|    65|     68|   112|   154|   75|         6|    false|   Fairy|                                 false|\n",
            "|672|              Skiddo|   Grass|    null|  350| 66|    65|     48|    62|    57|   52|         6|    false|  Grassy|                                 false|\n",
            "|673|              Gogoat|   Grass|    null|  531|123|   100|     62|    97|    81|   68|         6|    false|  Grassy|                                 false|\n",
            "|674|             Pancham|Fighting|    null|  348| 67|    82|     62|    46|    48|   43|         6|    false|Fighting|                                 false|\n",
            "|675|             Pangoro|Fighting|    Dark|  495| 95|   124|     78|    69|    71|   58|         6|    false|Fighting|                                 false|\n",
            "|676|             Furfrou|  Normal|    null|  472| 75|    80|     60|    65|    90|  102|         6|    false|  Normal|                                 false|\n",
            "|677|              Espurr| Psychic|    null|  355| 62|    48|     54|    63|    60|   68|         6|    false| Psychic|                                 false|\n",
            "|678|        MeowsticMale| Psychic|    null|  466| 74|    48|     76|    83|    81|  104|         6|    false| Psychic|                                 false|\n",
            "|678|      MeowsticFemale| Psychic|    null|  466| 74|    48|     76|    83|    81|  104|         6|    false| Psychic|                                 false|\n",
            "|679|             Honedge|   Steel|   Ghost|  325| 45|    80|    100|    35|    37|   28|         6|    false|   Steel|                                 false|\n",
            "|680|            Doublade|   Steel|   Ghost|  448| 59|   110|    150|    45|    49|   35|         6|    false|   Steel|                                 false|\n",
            "|681|AegislashBlade Forme|   Steel|   Ghost|  520| 60|   150|     50|   150|    50|   60|         6|    false|   Steel|                                 false|\n",
            "|681|AegislashShield F...|   Steel|   Ghost|  520| 60|    50|    150|    50|   150|   60|         6|    false|   Steel|                                 false|\n",
            "|682|            Spritzee|   Fairy|    null|  341| 78|    52|     60|    63|    65|   23|         6|    false|   Fairy|                                 false|\n",
            "|683|          Aromatisse|   Fairy|    null|  462|101|    72|     72|    99|    89|   29|         6|    false|   Fairy|                                 false|\n",
            "|684|             Swirlix|   Fairy|    null|  341| 62|    48|     66|    59|    57|   49|         6|    false|   Fairy|                                 false|\n",
            "|685|            Slurpuff|   Fairy|    null|  480| 82|    80|     86|    85|    75|   72|         6|    false|   Fairy|                                 false|\n",
            "|686|               Inkay|    Dark| Psychic|  288| 53|    54|     53|    37|    46|   45|         6|    false|    Dark|                                 false|\n",
            "|687|             Malamar|    Dark| Psychic|  482| 86|    92|     88|    68|    75|   73|         6|    false|    Dark|                                 false|\n",
            "|688|             Binacle|    Rock|   Water|  306| 42|    52|     67|    39|    56|   50|         6|    false|    Rock|                                 false|\n",
            "|689|          Barbaracle|    Rock|   Water|  500| 72|   105|    115|    54|    86|   68|         6|    false|    Rock|                                 false|\n",
            "|690|              Skrelp|  Poison|   Water|  320| 50|    60|     60|    60|    60|   30|         6|    false|  Poison|                                 false|\n",
            "|691|            Dragalge|  Poison|  Dragon|  494| 65|    75|     90|    97|   123|   44|         6|    false|  Poison|                                 false|\n",
            "|692|           Clauncher|   Water|    null|  330| 50|    53|     62|    58|    63|   44|         6|    false|   Water|                                 false|\n",
            "|693|           Clawitzer|   Water|    null|  500| 71|    73|     88|   120|    89|   59|         6|    false|   Water|                                 false|\n",
            "|694|          Helioptile|Electric|  Normal|  289| 44|    38|     33|    61|    43|   70|         6|    false|Electric|                                  true|\n",
            "|695|           Heliolisk|Electric|  Normal|  481| 62|    55|     52|   109|    94|  109|         6|    false|Electric|                                  true|\n",
            "|696|              Tyrunt|    Rock|  Dragon|  362| 58|    89|     77|    45|    45|   48|         6|    false|    Rock|                                 false|\n",
            "|697|           Tyrantrum|    Rock|  Dragon|  521| 82|   121|    119|    69|    59|   71|         6|    false|    Rock|                                 false|\n",
            "|698|              Amaura|    Rock|     Ice|  362| 77|    59|     50|    67|    63|   46|         6|    false|    Rock|                                 false|\n",
            "|699|             Aurorus|    Rock|     Ice|  521|123|    77|     72|    99|    92|   58|         6|    false|    Rock|                                 false|\n",
            "|700|             Sylveon|   Fairy|    null|  525| 95|    65|     65|   110|   130|   60|         6|    false|   Fairy|                                 false|\n",
            "|701|            Hawlucha|Fighting|  Flying|  500| 78|    92|     75|    74|    63|  118|         6|    false|Fighting|                                 false|\n",
            "|702|             Dedenne|Electric|   Fairy|  431| 67|    58|     57|    81|    67|  101|         6|    false|Electric|                                  true|\n",
            "|703|             Carbink|    Rock|   Fairy|  500| 50|    50|    150|    50|   150|   50|         6|    false|    Rock|                                 false|\n",
            "|704|               Goomy|  Dragon|    null|  300| 45|    50|     35|    55|    75|   40|         6|    false|  Dragon|                                 false|\n",
            "|705|             Sliggoo|  Dragon|    null|  452| 68|    75|     53|    83|   113|   60|         6|    false|  Dragon|                                 false|\n",
            "|706|              Goodra|  Dragon|    null|  600| 90|   100|     70|   110|   150|   80|         6|    false|  Dragon|                                 false|\n",
            "|707|              Klefki|   Steel|   Fairy|  470| 57|    80|     91|    80|    87|   75|         6|    false|   Steel|                                 false|\n",
            "|708|            Phantump|   Ghost|   Grass|  309| 43|    70|     48|    50|    60|   38|         6|    false|   Ghost|                                 false|\n",
            "|709|           Trevenant|   Ghost|   Grass|  474| 85|   110|     76|    65|    82|   56|         6|    false|   Ghost|                                 false|\n",
            "|710|PumpkabooAverage ...|   Ghost|   Grass|  335| 49|    66|     70|    44|    55|   51|         6|    false|   Ghost|                                 false|\n",
            "|710| PumpkabooSmall Size|   Ghost|   Grass|  335| 44|    66|     70|    44|    55|   56|         6|    false|   Ghost|                                 false|\n",
            "|710| PumpkabooLarge Size|   Ghost|   Grass|  335| 54|    66|     70|    44|    55|   46|         6|    false|   Ghost|                                 false|\n",
            "|710| PumpkabooSuper Size|   Ghost|   Grass|  335| 59|    66|     70|    44|    55|   41|         6|    false|   Ghost|                                 false|\n",
            "|711|GourgeistAverage ...|   Ghost|   Grass|  494| 65|    90|    122|    58|    75|   84|         6|    false|   Ghost|                                 false|\n",
            "|711| GourgeistSmall Size|   Ghost|   Grass|  494| 55|    85|    122|    58|    75|   99|         6|    false|   Ghost|                                 false|\n",
            "|711| GourgeistLarge Size|   Ghost|   Grass|  494| 75|    95|    122|    58|    75|   69|         6|    false|   Ghost|                                 false|\n",
            "|711| GourgeistSuper Size|   Ghost|   Grass|  494| 85|   100|    122|    58|    75|   54|         6|    false|   Ghost|                                 false|\n",
            "|712|            Bergmite|     Ice|    null|  304| 55|    69|     85|    32|    35|   28|         6|    false|     Ice|                                 false|\n",
            "|713|             Avalugg|     Ice|    null|  514| 95|   117|    184|    44|    46|   28|         6|    false|     Ice|                                 false|\n",
            "|714|              Noibat|  Flying|  Dragon|  245| 40|    30|     35|    45|    40|   55|         6|    false|  Flying|                                 false|\n",
            "|715|             Noivern|  Flying|  Dragon|  535| 85|    70|     80|    97|    80|  123|         6|    false|  Flying|                                 false|\n",
            "|716|             Xerneas|   Fairy|    null|  680|126|   131|     95|   131|    98|   99|         6|     true|   Fairy|                                 false|\n",
            "|717|             Yveltal|    Dark|  Flying|  680|126|   131|     95|   131|    98|   99|         6|     true|    Dark|                                 false|\n",
            "|718|    Zygarde50% Forme|  Dragon|  Ground|  600|108|   100|    121|    81|    95|   95|         6|     true|  Dragon|                                 false|\n",
            "|719|             Diancie|    Rock|   Fairy|  600| 50|   100|    150|   100|   150|   50|         6|     true|    Rock|                                 false|\n",
            "|719| DiancieMega Diancie|    Rock|   Fairy|  700| 50|   160|    110|   160|   110|  110|         6|     true|    Rock|                                 false|\n",
            "|720| HoopaHoopa Confined| Psychic|   Ghost|  600| 80|   110|     60|   150|   130|   70|         6|     true| Psychic|                                 false|\n",
            "|720|  HoopaHoopa Unbound| Psychic|    Dark|  680| 80|   160|     60|   170|   130|   80|         6|     true| Psychic|                                 false|\n",
            "|721|           Volcanion|    Fire|   Water|  600| 80|   110|    120|   130|    90|   70|         6|     true|    Fire|                                 false|\n",
            "+---+--------------------+--------+--------+-----+---+------+-------+------+------+-----+----------+---------+--------+--------------------------------------+\n",
            "\n"
          ],
          "name": "stdout"
        }
      ]
    },
    {
      "cell_type": "code",
      "metadata": {
        "id": "509y1CvDxxz9",
        "colab_type": "code",
        "outputId": "76025593-4ead-4b37-8b90-8d957a1ca5a6",
        "colab": {
          "base_uri": "https://localhost:8080/",
          "height": 478
        }
      },
      "source": [
        "tempokDf.filter(col(\"Type 1\").rlike(\"tr\")).show()"
      ],
      "execution_count": 0,
      "outputs": [
        {
          "output_type": "stream",
          "text": [
            "+---+--------------------+--------+------+-----+---+------+-------+------+------+-----+----------+---------+--------+\n",
            "|Sno|                Name|  Type 1|Type 2|Total| HP|Attack|Defense|Sp Atk|Sp Def|Speed|Generation|Legendary|  Type_1|\n",
            "+---+--------------------+--------+------+-----+---+------+-------+------+------+-----+----------+---------+--------+\n",
            "| 25|             Pikachu|Electric|  null|  320| 35|    55|     40|    50|    50|   90|         1|    false|Electric|\n",
            "| 26|              Raichu|Electric|  null|  485| 60|    90|     55|    90|    80|  110|         1|    false|Electric|\n",
            "| 81|           Magnemite|Electric| Steel|  325| 25|    35|     70|    95|    55|   45|         1|    false|Electric|\n",
            "| 82|            Magneton|Electric| Steel|  465| 50|    60|     95|   120|    70|   70|         1|    false|Electric|\n",
            "|100|             Voltorb|Electric|  null|  330| 40|    30|     50|    55|    55|  100|         1|    false|Electric|\n",
            "|101|           Electrode|Electric|  null|  480| 60|    50|     70|    80|    80|  140|         1|    false|Electric|\n",
            "|125|          Electabuzz|Electric|  null|  490| 65|    83|     57|    95|    85|  105|         1|    false|Electric|\n",
            "|135|             Jolteon|Electric|  null|  525| 65|    65|     60|   110|    95|  130|         1|    false|Electric|\n",
            "|145|              Zapdos|Electric|Flying|  580| 90|    90|     85|   125|    90|  100|         1|     true|Electric|\n",
            "|172|               Pichu|Electric|  null|  205| 20|    40|     15|    35|    35|   60|         2|    false|Electric|\n",
            "|179|              Mareep|Electric|  null|  280| 55|    40|     40|    65|    45|   35|         2|    false|Electric|\n",
            "|180|             Flaaffy|Electric|  null|  365| 70|    55|     55|    80|    60|   45|         2|    false|Electric|\n",
            "|181|            Ampharos|Electric|  null|  510| 90|    75|     85|   115|    90|   55|         2|    false|Electric|\n",
            "|181|AmpharosMega Amph...|Electric|Dragon|  610| 90|    95|    105|   165|   110|   45|         2|    false|Electric|\n",
            "|239|              Elekid|Electric|  null|  360| 45|    63|     37|    65|    55|   95|         2|    false|Electric|\n",
            "|243|              Raikou|Electric|  null|  580| 90|    85|     75|   115|   100|  115|         2|     true|Electric|\n",
            "|309|           Electrike|Electric|  null|  295| 40|    45|     40|    65|    40|   65|         3|    false|Electric|\n",
            "|310|           Manectric|Electric|  null|  475| 70|    75|     60|   105|    60|  105|         3|    false|Electric|\n",
            "|310|ManectricMega Man...|Electric|  null|  575| 70|    75|     80|   135|    80|  135|         3|    false|Electric|\n",
            "|311|              Plusle|Electric|  null|  405| 60|    50|     40|    85|    75|   95|         3|    false|Electric|\n",
            "+---+--------------------+--------+------+-----+---+------+-------+------+------+-----+----------+---------+--------+\n",
            "only showing top 20 rows\n",
            "\n"
          ],
          "name": "stdout"
        }
      ]
    },
    {
      "cell_type": "markdown",
      "metadata": {
        "id": "E7DweLKp1rG_",
        "colab_type": "text"
      },
      "source": [
        "**Check if row Contains this or that**"
      ]
    },
    {
      "cell_type": "code",
      "metadata": {
        "id": "KXFrL9zy1P65",
        "colab_type": "code",
        "outputId": "df64c3de-90f0-4726-89ef-465db0bdb6fe",
        "colab": {
          "base_uri": "https://localhost:8080/",
          "height": 478
        }
      },
      "source": [
        "tempokDf.filter(col(\"Type 1\").rlike(\"tr|ir\")).show()"
      ],
      "execution_count": 0,
      "outputs": [
        {
          "output_type": "stream",
          "text": [
            "+---+--------------------+--------+------+-----+---+------+-------+------+------+-----+----------+---------+--------+\n",
            "|Sno|                Name|  Type 1|Type 2|Total| HP|Attack|Defense|Sp Atk|Sp Def|Speed|Generation|Legendary|  Type_1|\n",
            "+---+--------------------+--------+------+-----+---+------+-------+------+------+-----+----------+---------+--------+\n",
            "|  4|          Charmander|    Fire|  null|  309| 39|    52|     43|    60|    50|   65|         1|    false|    Fire|\n",
            "|  5|          Charmeleon|    Fire|  null|  405| 58|    64|     58|    80|    65|   80|         1|    false|    Fire|\n",
            "|  6|           Charizard|    Fire|Flying|  534| 78|    84|     78|   109|    85|  100|         1|    false|    Fire|\n",
            "|  6|CharizardMega Cha...|    Fire|Dragon|  634| 78|   130|    111|   130|    85|  100|         1|    false|    Fire|\n",
            "|  6|CharizardMega Cha...|    Fire|Flying|  634| 78|   104|     78|   159|   115|  100|         1|    false|    Fire|\n",
            "| 25|             Pikachu|Electric|  null|  320| 35|    55|     40|    50|    50|   90|         1|    false|Electric|\n",
            "| 26|              Raichu|Electric|  null|  485| 60|    90|     55|    90|    80|  110|         1|    false|Electric|\n",
            "| 35|            Clefairy|   Fairy|  null|  323| 70|    45|     48|    60|    65|   35|         1|    false|   Fairy|\n",
            "| 36|            Clefable|   Fairy|  null|  483| 95|    70|     73|    95|    90|   60|         1|    false|   Fairy|\n",
            "| 37|              Vulpix|    Fire|  null|  299| 38|    41|     40|    50|    65|   65|         1|    false|    Fire|\n",
            "| 38|           Ninetales|    Fire|  null|  505| 73|    76|     75|    81|   100|  100|         1|    false|    Fire|\n",
            "| 58|           Growlithe|    Fire|  null|  350| 55|    70|     45|    70|    50|   60|         1|    false|    Fire|\n",
            "| 59|            Arcanine|    Fire|  null|  555| 90|   110|     80|   100|    80|   95|         1|    false|    Fire|\n",
            "| 77|              Ponyta|    Fire|  null|  410| 50|    85|     55|    65|    65|   90|         1|    false|    Fire|\n",
            "| 78|            Rapidash|    Fire|  null|  500| 65|   100|     70|    80|    80|  105|         1|    false|    Fire|\n",
            "| 81|           Magnemite|Electric| Steel|  325| 25|    35|     70|    95|    55|   45|         1|    false|Electric|\n",
            "| 82|            Magneton|Electric| Steel|  465| 50|    60|     95|   120|    70|   70|         1|    false|Electric|\n",
            "|100|             Voltorb|Electric|  null|  330| 40|    30|     50|    55|    55|  100|         1|    false|Electric|\n",
            "|101|           Electrode|Electric|  null|  480| 60|    50|     70|    80|    80|  140|         1|    false|Electric|\n",
            "|125|          Electabuzz|Electric|  null|  490| 65|    83|     57|    95|    85|  105|         1|    false|Electric|\n",
            "+---+--------------------+--------+------+-----+---+------+-------+------+------+-----+----------+---------+--------+\n",
            "only showing top 20 rows\n",
            "\n"
          ],
          "name": "stdout"
        }
      ]
    },
    {
      "cell_type": "code",
      "metadata": {
        "id": "Dpx8Y2c31ovY",
        "colab_type": "code",
        "colab": {}
      },
      "source": [
        ""
      ],
      "execution_count": 0,
      "outputs": []
    },
    {
      "cell_type": "markdown",
      "metadata": {
        "id": "klTtvNvn2LXO",
        "colab_type": "text"
      },
      "source": [
        "**Check if row starts with this or that**"
      ]
    },
    {
      "cell_type": "code",
      "metadata": {
        "id": "Zb1l19X02QSB",
        "colab_type": "code",
        "outputId": "4fdbd634-cb84-4696-e0f6-b79b36d08c3e",
        "colab": {
          "base_uri": "https://localhost:8080/",
          "height": 478
        }
      },
      "source": [
        "tempokDf.filter(col(\"Type 1\").rlike(\"^Wa|^Fi\")).show()"
      ],
      "execution_count": 0,
      "outputs": [
        {
          "output_type": "stream",
          "text": [
            "+---+--------------------+--------+--------+-----+---+------+-------+------+------+-----+----------+---------+--------+\n",
            "|Sno|                Name|  Type 1|  Type 2|Total| HP|Attack|Defense|Sp Atk|Sp Def|Speed|Generation|Legendary|  Type_1|\n",
            "+---+--------------------+--------+--------+-----+---+------+-------+------+------+-----+----------+---------+--------+\n",
            "|  4|          Charmander|    Fire|    null|  309| 39|    52|     43|    60|    50|   65|         1|    false|    Fire|\n",
            "|  5|          Charmeleon|    Fire|    null|  405| 58|    64|     58|    80|    65|   80|         1|    false|    Fire|\n",
            "|  6|           Charizard|    Fire|  Flying|  534| 78|    84|     78|   109|    85|  100|         1|    false|    Fire|\n",
            "|  6|CharizardMega Cha...|    Fire|  Dragon|  634| 78|   130|    111|   130|    85|  100|         1|    false|    Fire|\n",
            "|  6|CharizardMega Cha...|    Fire|  Flying|  634| 78|   104|     78|   159|   115|  100|         1|    false|    Fire|\n",
            "|  7|            Squirtle|   Water|    null|  314| 44|    48|     65|    50|    64|   43|         1|    false|   Water|\n",
            "|  8|           Wartortle|   Water|    null|  405| 59|    63|     80|    65|    80|   58|         1|    false|   Water|\n",
            "|  9|           Blastoise|   Water|    null|  530| 79|    83|    100|    85|   105|   78|         1|    false|   Water|\n",
            "|  9|BlastoiseMega Bla...|   Water|    null|  630| 79|   103|    120|   135|   115|   78|         1|    false|   Water|\n",
            "| 37|              Vulpix|    Fire|    null|  299| 38|    41|     40|    50|    65|   65|         1|    false|    Fire|\n",
            "| 38|           Ninetales|    Fire|    null|  505| 73|    76|     75|    81|   100|  100|         1|    false|    Fire|\n",
            "| 54|             Psyduck|   Water|    null|  320| 50|    52|     48|    65|    50|   55|         1|    false|   Water|\n",
            "| 55|             Golduck|   Water|    null|  500| 80|    82|     78|    95|    80|   85|         1|    false|   Water|\n",
            "| 56|              Mankey|Fighting|    null|  305| 40|    80|     35|    35|    45|   70|         1|    false|Fighting|\n",
            "| 57|            Primeape|Fighting|    null|  455| 65|   105|     60|    60|    70|   95|         1|    false|Fighting|\n",
            "| 58|           Growlithe|    Fire|    null|  350| 55|    70|     45|    70|    50|   60|         1|    false|    Fire|\n",
            "| 59|            Arcanine|    Fire|    null|  555| 90|   110|     80|   100|    80|   95|         1|    false|    Fire|\n",
            "| 60|             Poliwag|   Water|    null|  300| 40|    50|     40|    40|    40|   90|         1|    false|   Water|\n",
            "| 61|           Poliwhirl|   Water|    null|  385| 65|    65|     65|    50|    50|   90|         1|    false|   Water|\n",
            "| 62|           Poliwrath|   Water|Fighting|  510| 90|    95|     95|    70|    90|   70|         1|    false|   Water|\n",
            "+---+--------------------+--------+--------+-----+---+------+-------+------+------+-----+----------+---------+--------+\n",
            "only showing top 20 rows\n",
            "\n"
          ],
          "name": "stdout"
        }
      ]
    },
    {
      "cell_type": "code",
      "metadata": {
        "id": "v97er_I63T8S",
        "colab_type": "code",
        "outputId": "f0fd9c85-3b09-4648-834f-60965dfedced",
        "colab": {
          "base_uri": "https://localhost:8080/",
          "height": 478
        }
      },
      "source": [
        "tempokDf.filter(col(\"Type 1\").rlike(\"ir.*\")).show()"
      ],
      "execution_count": 0,
      "outputs": [
        {
          "output_type": "stream",
          "text": [
            "+---+--------------------+------+------+-----+---+------+-------+------+------+-----+----------+---------+------+\n",
            "|Sno|                Name|Type 1|Type 2|Total| HP|Attack|Defense|Sp Atk|Sp Def|Speed|Generation|Legendary|Type_1|\n",
            "+---+--------------------+------+------+-----+---+------+-------+------+------+-----+----------+---------+------+\n",
            "|  4|          Charmander|  Fire|  null|  309| 39|    52|     43|    60|    50|   65|         1|    false|  Fire|\n",
            "|  5|          Charmeleon|  Fire|  null|  405| 58|    64|     58|    80|    65|   80|         1|    false|  Fire|\n",
            "|  6|           Charizard|  Fire|Flying|  534| 78|    84|     78|   109|    85|  100|         1|    false|  Fire|\n",
            "|  6|CharizardMega Cha...|  Fire|Dragon|  634| 78|   130|    111|   130|    85|  100|         1|    false|  Fire|\n",
            "|  6|CharizardMega Cha...|  Fire|Flying|  634| 78|   104|     78|   159|   115|  100|         1|    false|  Fire|\n",
            "| 35|            Clefairy| Fairy|  null|  323| 70|    45|     48|    60|    65|   35|         1|    false| Fairy|\n",
            "| 36|            Clefable| Fairy|  null|  483| 95|    70|     73|    95|    90|   60|         1|    false| Fairy|\n",
            "| 37|              Vulpix|  Fire|  null|  299| 38|    41|     40|    50|    65|   65|         1|    false|  Fire|\n",
            "| 38|           Ninetales|  Fire|  null|  505| 73|    76|     75|    81|   100|  100|         1|    false|  Fire|\n",
            "| 58|           Growlithe|  Fire|  null|  350| 55|    70|     45|    70|    50|   60|         1|    false|  Fire|\n",
            "| 59|            Arcanine|  Fire|  null|  555| 90|   110|     80|   100|    80|   95|         1|    false|  Fire|\n",
            "| 77|              Ponyta|  Fire|  null|  410| 50|    85|     55|    65|    65|   90|         1|    false|  Fire|\n",
            "| 78|            Rapidash|  Fire|  null|  500| 65|   100|     70|    80|    80|  105|         1|    false|  Fire|\n",
            "|126|              Magmar|  Fire|  null|  495| 65|    95|     57|   100|    85|   93|         1|    false|  Fire|\n",
            "|136|             Flareon|  Fire|  null|  525| 65|   130|     60|    95|   110|   65|         1|    false|  Fire|\n",
            "|146|             Moltres|  Fire|Flying|  580| 90|   100|     90|   125|    85|   90|         1|     true|  Fire|\n",
            "|155|           Cyndaquil|  Fire|  null|  309| 39|    52|     43|    60|    50|   65|         2|    false|  Fire|\n",
            "|156|             Quilava|  Fire|  null|  405| 58|    64|     58|    80|    65|   80|         2|    false|  Fire|\n",
            "|157|          Typhlosion|  Fire|  null|  534| 78|    84|     78|   109|    85|  100|         2|    false|  Fire|\n",
            "|173|              Cleffa| Fairy|  null|  218| 50|    25|     28|    45|    55|   15|         2|    false| Fairy|\n",
            "+---+--------------------+------+------+-----+---+------+-------+------+------+-----+----------+---------+------+\n",
            "only showing top 20 rows\n",
            "\n"
          ],
          "name": "stdout"
        }
      ]
    },
    {
      "cell_type": "markdown",
      "metadata": {
        "id": "Uob-o8qd5pqg",
        "colab_type": "text"
      },
      "source": [
        "**Check if particular cell ends with**"
      ]
    },
    {
      "cell_type": "code",
      "metadata": {
        "id": "59nCV8ZT2a8C",
        "colab_type": "code",
        "outputId": "d9379908-e2f9-4f68-b988-42b1118445a4",
        "colab": {
          "base_uri": "https://localhost:8080/",
          "height": 478
        }
      },
      "source": [
        "tempokDf.filter(col(\"Type 1\").rlike(\"e$\")).show()"
      ],
      "execution_count": 0,
      "outputs": [
        {
          "output_type": "stream",
          "text": [
            "+---+--------------------+------+-------+-----+---+------+-------+------+------+-----+----------+---------+------+\n",
            "|Sno|                Name|Type 1| Type 2|Total| HP|Attack|Defense|Sp Atk|Sp Def|Speed|Generation|Legendary|Type_1|\n",
            "+---+--------------------+------+-------+-----+---+------+-------+------+------+-----+----------+---------+------+\n",
            "|  4|          Charmander|  Fire|   null|  309| 39|    52|     43|    60|    50|   65|         1|    false|  Fire|\n",
            "|  5|          Charmeleon|  Fire|   null|  405| 58|    64|     58|    80|    65|   80|         1|    false|  Fire|\n",
            "|  6|           Charizard|  Fire| Flying|  534| 78|    84|     78|   109|    85|  100|         1|    false|  Fire|\n",
            "|  6|CharizardMega Cha...|  Fire| Dragon|  634| 78|   130|    111|   130|    85|  100|         1|    false|  Fire|\n",
            "|  6|CharizardMega Cha...|  Fire| Flying|  634| 78|   104|     78|   159|   115|  100|         1|    false|  Fire|\n",
            "| 37|              Vulpix|  Fire|   null|  299| 38|    41|     40|    50|    65|   65|         1|    false|  Fire|\n",
            "| 38|           Ninetales|  Fire|   null|  505| 73|    76|     75|    81|   100|  100|         1|    false|  Fire|\n",
            "| 58|           Growlithe|  Fire|   null|  350| 55|    70|     45|    70|    50|   60|         1|    false|  Fire|\n",
            "| 59|            Arcanine|  Fire|   null|  555| 90|   110|     80|   100|    80|   95|         1|    false|  Fire|\n",
            "| 77|              Ponyta|  Fire|   null|  410| 50|    85|     55|    65|    65|   90|         1|    false|  Fire|\n",
            "| 78|            Rapidash|  Fire|   null|  500| 65|   100|     70|    80|    80|  105|         1|    false|  Fire|\n",
            "|124|                Jynx|   Ice|Psychic|  455| 65|    50|     35|   115|    95|   95|         1|    false|   Ice|\n",
            "|126|              Magmar|  Fire|   null|  495| 65|    95|     57|   100|    85|   93|         1|    false|  Fire|\n",
            "|136|             Flareon|  Fire|   null|  525| 65|   130|     60|    95|   110|   65|         1|    false|  Fire|\n",
            "|144|            Articuno|   Ice| Flying|  580| 90|    85|    100|    95|   125|   85|         1|     true|   Ice|\n",
            "|146|             Moltres|  Fire| Flying|  580| 90|   100|     90|   125|    85|   90|         1|     true|  Fire|\n",
            "|155|           Cyndaquil|  Fire|   null|  309| 39|    52|     43|    60|    50|   65|         2|    false|  Fire|\n",
            "|156|             Quilava|  Fire|   null|  405| 58|    64|     58|    80|    65|   80|         2|    false|  Fire|\n",
            "|157|          Typhlosion|  Fire|   null|  534| 78|    84|     78|   109|    85|  100|         2|    false|  Fire|\n",
            "|218|              Slugma|  Fire|   null|  250| 40|    40|     40|    70|    40|   20|         2|    false|  Fire|\n",
            "+---+--------------------+------+-------+-----+---+------+-------+------+------+-----+----------+---------+------+\n",
            "only showing top 20 rows\n",
            "\n"
          ],
          "name": "stdout"
        }
      ]
    },
    {
      "cell_type": "markdown",
      "metadata": {
        "id": "F4f1tHMDULzI",
        "colab_type": "text"
      },
      "source": [
        "**Isin Method**"
      ]
    },
    {
      "cell_type": "code",
      "metadata": {
        "id": "B40rkalI3JQD",
        "colab_type": "code",
        "colab": {}
      },
      "source": [
        "a=[\"Fire\",\"Ice\"]"
      ],
      "execution_count": 0,
      "outputs": []
    },
    {
      "cell_type": "code",
      "metadata": {
        "id": "HtqvrbodTROF",
        "colab_type": "code",
        "outputId": "bcf348fb-7bb6-4ec2-df65-3c46423545f8",
        "colab": {
          "base_uri": "https://localhost:8080/",
          "height": 478
        }
      },
      "source": [
        "tempokDf.filter(col(\"Type_1\").isin(a)).show()"
      ],
      "execution_count": 0,
      "outputs": [
        {
          "output_type": "stream",
          "text": [
            "+---+--------------------+------+-------+-----+---+------+-------+------+------+-----+----------+---------+------+\n",
            "|Sno|                Name|Type 1| Type 2|Total| HP|Attack|Defense|Sp Atk|Sp Def|Speed|Generation|Legendary|Type_1|\n",
            "+---+--------------------+------+-------+-----+---+------+-------+------+------+-----+----------+---------+------+\n",
            "|  4|          Charmander|  Fire|   null|  309| 39|    52|     43|    60|    50|   65|         1|    false|  Fire|\n",
            "|  5|          Charmeleon|  Fire|   null|  405| 58|    64|     58|    80|    65|   80|         1|    false|  Fire|\n",
            "|  6|           Charizard|  Fire| Flying|  534| 78|    84|     78|   109|    85|  100|         1|    false|  Fire|\n",
            "|  6|CharizardMega Cha...|  Fire| Dragon|  634| 78|   130|    111|   130|    85|  100|         1|    false|  Fire|\n",
            "|  6|CharizardMega Cha...|  Fire| Flying|  634| 78|   104|     78|   159|   115|  100|         1|    false|  Fire|\n",
            "| 37|              Vulpix|  Fire|   null|  299| 38|    41|     40|    50|    65|   65|         1|    false|  Fire|\n",
            "| 38|           Ninetales|  Fire|   null|  505| 73|    76|     75|    81|   100|  100|         1|    false|  Fire|\n",
            "| 58|           Growlithe|  Fire|   null|  350| 55|    70|     45|    70|    50|   60|         1|    false|  Fire|\n",
            "| 59|            Arcanine|  Fire|   null|  555| 90|   110|     80|   100|    80|   95|         1|    false|  Fire|\n",
            "| 77|              Ponyta|  Fire|   null|  410| 50|    85|     55|    65|    65|   90|         1|    false|  Fire|\n",
            "| 78|            Rapidash|  Fire|   null|  500| 65|   100|     70|    80|    80|  105|         1|    false|  Fire|\n",
            "|124|                Jynx|   Ice|Psychic|  455| 65|    50|     35|   115|    95|   95|         1|    false|   Ice|\n",
            "|126|              Magmar|  Fire|   null|  495| 65|    95|     57|   100|    85|   93|         1|    false|  Fire|\n",
            "|136|             Flareon|  Fire|   null|  525| 65|   130|     60|    95|   110|   65|         1|    false|  Fire|\n",
            "|144|            Articuno|   Ice| Flying|  580| 90|    85|    100|    95|   125|   85|         1|     true|   Ice|\n",
            "|146|             Moltres|  Fire| Flying|  580| 90|   100|     90|   125|    85|   90|         1|     true|  Fire|\n",
            "|155|           Cyndaquil|  Fire|   null|  309| 39|    52|     43|    60|    50|   65|         2|    false|  Fire|\n",
            "|156|             Quilava|  Fire|   null|  405| 58|    64|     58|    80|    65|   80|         2|    false|  Fire|\n",
            "|157|          Typhlosion|  Fire|   null|  534| 78|    84|     78|   109|    85|  100|         2|    false|  Fire|\n",
            "|218|              Slugma|  Fire|   null|  250| 40|    40|     40|    70|    40|   20|         2|    false|  Fire|\n",
            "+---+--------------------+------+-------+-----+---+------+-------+------+------+-----+----------+---------+------+\n",
            "only showing top 20 rows\n",
            "\n"
          ],
          "name": "stdout"
        }
      ]
    },
    {
      "cell_type": "code",
      "metadata": {
        "id": "_dpzUNGHTofY",
        "colab_type": "code",
        "colab": {}
      },
      "source": [
        ""
      ],
      "execution_count": 0,
      "outputs": []
    }
  ]
}