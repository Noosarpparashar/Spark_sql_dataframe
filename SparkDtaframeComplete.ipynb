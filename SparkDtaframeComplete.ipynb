{
  "nbformat": 4,
  "nbformat_minor": 0,
  "metadata": {
    "colab": {
      "name": "SparkDtaframeComplete.ipynb",
      "provenance": [],
      "collapsed_sections": []
    },
    "kernelspec": {
      "name": "python3",
      "display_name": "Python 3"
    },
    "accelerator": "GPU"
  },
  "cells": [
    {
      "cell_type": "code",
      "metadata": {
        "id": "eDBB6UGbWbM2",
        "colab_type": "code",
        "outputId": "4ee9347d-f869-435f-f2a1-6a42781f011e",
        "colab": {
          "base_uri": "https://localhost:8080/",
          "height": 274
        }
      },
      "source": [
        "!pip install pyspark"
      ],
      "execution_count": 1,
      "outputs": [
        {
          "output_type": "stream",
          "text": [
            "Collecting pyspark\n",
            "\u001b[?25l  Downloading https://files.pythonhosted.org/packages/87/21/f05c186f4ddb01d15d0ddc36ef4b7e3cedbeb6412274a41f26b55a650ee5/pyspark-2.4.4.tar.gz (215.7MB)\n",
            "\u001b[K     |████████████████████████████████| 215.7MB 65kB/s \n",
            "\u001b[?25hCollecting py4j==0.10.7\n",
            "\u001b[?25l  Downloading https://files.pythonhosted.org/packages/e3/53/c737818eb9a7dc32a7cd4f1396e787bd94200c3997c72c1dbe028587bd76/py4j-0.10.7-py2.py3-none-any.whl (197kB)\n",
            "\u001b[K     |████████████████████████████████| 204kB 44.7MB/s \n",
            "\u001b[?25hBuilding wheels for collected packages: pyspark\n",
            "  Building wheel for pyspark (setup.py) ... \u001b[?25l\u001b[?25hdone\n",
            "  Created wheel for pyspark: filename=pyspark-2.4.4-py2.py3-none-any.whl size=216130387 sha256=3d285b8cb84b80a5f66368c1d82fc1be02ff28909f92532c01aefb7e6ddd9e44\n",
            "  Stored in directory: /root/.cache/pip/wheels/ab/09/4d/0d184230058e654eb1b04467dbc1292f00eaa186544604b471\n",
            "Successfully built pyspark\n",
            "Installing collected packages: py4j, pyspark\n",
            "Successfully installed py4j-0.10.7 pyspark-2.4.4\n"
          ],
          "name": "stdout"
        }
      ]
    },
    {
      "cell_type": "code",
      "metadata": {
        "id": "KIO3ksXQWg6m",
        "colab_type": "code",
        "colab": {}
      },
      "source": [
        "from pyspark.context import SparkContext\n",
        "from pyspark.sql.session import SparkSession\n",
        "sc = SparkContext('local')\n",
        "spark = SparkSession(sc)"
      ],
      "execution_count": 0,
      "outputs": []
    },
    {
      "cell_type": "code",
      "metadata": {
        "id": "O4FXwcGyXulS",
        "colab_type": "code",
        "colab": {}
      },
      "source": [
        ""
      ],
      "execution_count": 0,
      "outputs": []
    },
    {
      "cell_type": "code",
      "metadata": {
        "id": "4v180GQ0_pwj",
        "colab_type": "code",
        "outputId": "be350b92-d9ee-4e8b-b9e0-f6b60c375dbe",
        "colab": {
          "base_uri": "https://localhost:8080/",
          "height": 55
        }
      },
      "source": [
        "from google.colab import drive\n",
        "drive.mount('/content/drive')"
      ],
      "execution_count": 7,
      "outputs": [
        {
          "output_type": "stream",
          "text": [
            "Drive already mounted at /content/drive; to attempt to forcibly remount, call drive.mount(\"/content/drive\", force_remount=True).\n"
          ],
          "name": "stdout"
        }
      ]
    },
    {
      "cell_type": "markdown",
      "metadata": {
        "id": "HpSS2EVeXwTh",
        "colab_type": "text"
      },
      "source": [
        " **Read file, Infer Schema, Get Header**"
      ]
    },
    {
      "cell_type": "code",
      "metadata": {
        "id": "CyB8QC4BWycU",
        "colab_type": "code",
        "colab": {}
      },
      "source": [
        "df=spark.read.format('csv').options(header='true', inferSchema='true').load('/content/drive/My Drive/top50.csv')\n",
        "#/content/drive/My Drive/top50.csv"
      ],
      "execution_count": 0,
      "outputs": []
    },
    {
      "cell_type": "code",
      "metadata": {
        "id": "Zpzl2T49Xf6T",
        "colab_type": "code",
        "outputId": "959ae32d-0197-4ad9-de53-dfc079690a2c",
        "colab": {
          "base_uri": "https://localhost:8080/",
          "height": 55
        }
      },
      "source": [
        "df.head"
      ],
      "execution_count": 9,
      "outputs": [
        {
          "output_type": "execute_result",
          "data": {
            "text/plain": [
              "<bound method DataFrame.head of DataFrame[Sno: int, Track.Name: string, Artist.Name: string, Genre: string, Beats.Per.Minute: int, Energy: int, Danceability: int, Loudness..dB..: int, Liveness: int, Valence.: int, Length.: int, Acousticness..: int, Speechiness.: int, Popularity: int]>"
            ]
          },
          "metadata": {
            "tags": []
          },
          "execution_count": 9
        }
      ]
    },
    {
      "cell_type": "code",
      "metadata": {
        "id": "bB6oJzGrXjJ8",
        "colab_type": "code",
        "outputId": "99ad1a35-b88c-4aef-d47d-bceed7465898",
        "colab": {
          "base_uri": "https://localhost:8080/",
          "height": 219
        }
      },
      "source": [
        "df.take(10)"
      ],
      "execution_count": 10,
      "outputs": [
        {
          "output_type": "execute_result",
          "data": {
            "text/plain": [
              "[Row(Sno=1, Track.Name='Se�orita', Artist.Name='Shawn Mendes', Genre='canadian pop', Beats.Per.Minute=117, Energy=55, Danceability=76, Loudness..dB..=-6, Liveness=8, Valence.=75, Length.=191, Acousticness..=4, Speechiness.=3, Popularity=79),\n",
              " Row(Sno=2, Track.Name='China', Artist.Name='Anuel AA', Genre='reggaeton flow', Beats.Per.Minute=105, Energy=81, Danceability=79, Loudness..dB..=-4, Liveness=8, Valence.=61, Length.=302, Acousticness..=8, Speechiness.=9, Popularity=92),\n",
              " Row(Sno=3, Track.Name='boyfriend (with Social House)', Artist.Name='Ariana Grande', Genre='dance pop', Beats.Per.Minute=190, Energy=80, Danceability=40, Loudness..dB..=-4, Liveness=16, Valence.=70, Length.=186, Acousticness..=12, Speechiness.=46, Popularity=85),\n",
              " Row(Sno=4, Track.Name='Beautiful People (feat. Khalid)', Artist.Name='Ed Sheeran', Genre='pop', Beats.Per.Minute=93, Energy=65, Danceability=64, Loudness..dB..=-8, Liveness=8, Valence.=55, Length.=198, Acousticness..=12, Speechiness.=19, Popularity=86),\n",
              " Row(Sno=5, Track.Name='Goodbyes (Feat. Young Thug)', Artist.Name='Post Malone', Genre='dfw rap', Beats.Per.Minute=150, Energy=65, Danceability=58, Loudness..dB..=-4, Liveness=11, Valence.=18, Length.=175, Acousticness..=45, Speechiness.=7, Popularity=94),\n",
              " Row(Sno=6, Track.Name=\"I Don't Care (with Justin Bieber)\", Artist.Name='Ed Sheeran', Genre='pop', Beats.Per.Minute=102, Energy=68, Danceability=80, Loudness..dB..=-5, Liveness=9, Valence.=84, Length.=220, Acousticness..=9, Speechiness.=4, Popularity=84),\n",
              " Row(Sno=7, Track.Name='Ransom', Artist.Name='Lil Tecca', Genre='trap music', Beats.Per.Minute=180, Energy=64, Danceability=75, Loudness..dB..=-6, Liveness=7, Valence.=23, Length.=131, Acousticness..=2, Speechiness.=29, Popularity=92),\n",
              " Row(Sno=8, Track.Name='How Do You Sleep?', Artist.Name='Sam Smith', Genre='pop', Beats.Per.Minute=111, Energy=68, Danceability=48, Loudness..dB..=-5, Liveness=8, Valence.=35, Length.=202, Acousticness..=15, Speechiness.=9, Popularity=90),\n",
              " Row(Sno=9, Track.Name='Old Town Road - Remix', Artist.Name='Lil Nas X', Genre='country rap', Beats.Per.Minute=136, Energy=62, Danceability=88, Loudness..dB..=-6, Liveness=11, Valence.=64, Length.=157, Acousticness..=5, Speechiness.=10, Popularity=87),\n",
              " Row(Sno=10, Track.Name='bad guy', Artist.Name='Billie Eilish', Genre='electropop', Beats.Per.Minute=135, Energy=43, Danceability=70, Loudness..dB..=-11, Liveness=10, Valence.=56, Length.=194, Acousticness..=33, Speechiness.=38, Popularity=95)]"
            ]
          },
          "metadata": {
            "tags": []
          },
          "execution_count": 10
        }
      ]
    },
    {
      "cell_type": "code",
      "metadata": {
        "id": "ZqzGvvo6YYoL",
        "colab_type": "code",
        "outputId": "b9f93d2f-acbe-401b-db9c-b9b12e2c9de8",
        "colab": {
          "base_uri": "https://localhost:8080/",
          "height": 55
        }
      },
      "source": [
        "df.show"
      ],
      "execution_count": 11,
      "outputs": [
        {
          "output_type": "execute_result",
          "data": {
            "text/plain": [
              "<bound method DataFrame.show of DataFrame[Sno: int, Track.Name: string, Artist.Name: string, Genre: string, Beats.Per.Minute: int, Energy: int, Danceability: int, Loudness..dB..: int, Liveness: int, Valence.: int, Length.: int, Acousticness..: int, Speechiness.: int, Popularity: int]>"
            ]
          },
          "metadata": {
            "tags": []
          },
          "execution_count": 11
        }
      ]
    },
    {
      "cell_type": "code",
      "metadata": {
        "id": "9lV3htcUYbUt",
        "colab_type": "code",
        "outputId": "1ef51bed-eaa9-4992-aa35-31e025334f1d",
        "colab": {
          "base_uri": "https://localhost:8080/",
          "height": 35
        }
      },
      "source": [
        "df.count()"
      ],
      "execution_count": 12,
      "outputs": [
        {
          "output_type": "execute_result",
          "data": {
            "text/plain": [
              "50"
            ]
          },
          "metadata": {
            "tags": []
          },
          "execution_count": 12
        }
      ]
    },
    {
      "cell_type": "markdown",
      "metadata": {
        "id": "OL_3EeWqYiVj",
        "colab_type": "text"
      },
      "source": [
        ""
      ]
    },
    {
      "cell_type": "code",
      "metadata": {
        "id": "T_Q_v01aZJ9s",
        "colab_type": "code",
        "outputId": "337f4b2f-556c-41f2-bc1a-e5d51ea92a62",
        "colab": {
          "base_uri": "https://localhost:8080/",
          "height": 55
        }
      },
      "source": [
        "df.head"
      ],
      "execution_count": 13,
      "outputs": [
        {
          "output_type": "execute_result",
          "data": {
            "text/plain": [
              "<bound method DataFrame.head of DataFrame[Sno: int, Track.Name: string, Artist.Name: string, Genre: string, Beats.Per.Minute: int, Energy: int, Danceability: int, Loudness..dB..: int, Liveness: int, Valence.: int, Length.: int, Acousticness..: int, Speechiness.: int, Popularity: int]>"
            ]
          },
          "metadata": {
            "tags": []
          },
          "execution_count": 13
        }
      ]
    },
    {
      "cell_type": "code",
      "metadata": {
        "id": "ccRyx9cZZMG7",
        "colab_type": "code",
        "outputId": "ec64595d-eb76-4265-c691-a07a692b0c87",
        "colab": {
          "base_uri": "https://localhost:8080/",
          "height": 55
        }
      },
      "source": [
        "df.describe"
      ],
      "execution_count": 14,
      "outputs": [
        {
          "output_type": "execute_result",
          "data": {
            "text/plain": [
              "<bound method DataFrame.describe of DataFrame[Sno: int, Track.Name: string, Artist.Name: string, Genre: string, Beats.Per.Minute: int, Energy: int, Danceability: int, Loudness..dB..: int, Liveness: int, Valence.: int, Length.: int, Acousticness..: int, Speechiness.: int, Popularity: int]>"
            ]
          },
          "metadata": {
            "tags": []
          },
          "execution_count": 14
        }
      ]
    },
    {
      "cell_type": "code",
      "metadata": {
        "id": "XhqxxKEwZh6L",
        "colab_type": "code",
        "outputId": "20db80ca-09c6-4b76-bb42-8af532edb622",
        "colab": {
          "base_uri": "https://localhost:8080/",
          "height": 272
        }
      },
      "source": [
        "df.columns"
      ],
      "execution_count": 15,
      "outputs": [
        {
          "output_type": "execute_result",
          "data": {
            "text/plain": [
              "['Sno',\n",
              " 'Track.Name',\n",
              " 'Artist.Name',\n",
              " 'Genre',\n",
              " 'Beats.Per.Minute',\n",
              " 'Energy',\n",
              " 'Danceability',\n",
              " 'Loudness..dB..',\n",
              " 'Liveness',\n",
              " 'Valence.',\n",
              " 'Length.',\n",
              " 'Acousticness..',\n",
              " 'Speechiness.',\n",
              " 'Popularity']"
            ]
          },
          "metadata": {
            "tags": []
          },
          "execution_count": 15
        }
      ]
    },
    {
      "cell_type": "code",
      "metadata": {
        "id": "IDkS1w2MZzG8",
        "colab_type": "code",
        "outputId": "4b42d87b-b496-44ff-e7ab-3a49ed446c80",
        "colab": {
          "base_uri": "https://localhost:8080/",
          "height": 35
        }
      },
      "source": [
        "len(df.columns)"
      ],
      "execution_count": 16,
      "outputs": [
        {
          "output_type": "execute_result",
          "data": {
            "text/plain": [
              "14"
            ]
          },
          "metadata": {
            "tags": []
          },
          "execution_count": 16
        }
      ]
    },
    {
      "cell_type": "code",
      "metadata": {
        "id": "ihhh3syvaD83",
        "colab_type": "code",
        "outputId": "dfb1bcdd-aa2e-4927-c60a-c43afa84bd7a",
        "colab": {
          "base_uri": "https://localhost:8080/",
          "height": 55
        }
      },
      "source": [
        "df.show"
      ],
      "execution_count": 0,
      "outputs": [
        {
          "output_type": "execute_result",
          "data": {
            "text/plain": [
              "<bound method DataFrame.show of DataFrame[Sno: int, Track.Name: string, Artist.Name: string, Genre: string, Beats.Per.Minute: int, Energy: int, Danceability: int, Loudness..dB..: int, Liveness: int, Valence.: int, Length.: int, Acousticness..: int, Speechiness.: int, Popularity: int]>"
            ]
          },
          "metadata": {
            "tags": []
          },
          "execution_count": 21
        }
      ]
    },
    {
      "cell_type": "markdown",
      "metadata": {
        "id": "QsyMZqZXaLeW",
        "colab_type": "text"
      },
      "source": [
        "**See top 20 rows**"
      ]
    },
    {
      "cell_type": "code",
      "metadata": {
        "id": "NJzOuGWlaHGe",
        "colab_type": "code",
        "outputId": "93e55f17-244a-47e2-c9dd-89b44bd10815",
        "colab": {
          "base_uri": "https://localhost:8080/",
          "height": 510
        }
      },
      "source": [
        "df.show()"
      ],
      "execution_count": 17,
      "outputs": [
        {
          "output_type": "stream",
          "text": [
            "+---+--------------------+-------------+----------------+----------------+------+------------+--------------+--------+--------+-------+--------------+------------+----------+\n",
            "|Sno|          Track.Name|  Artist.Name|           Genre|Beats.Per.Minute|Energy|Danceability|Loudness..dB..|Liveness|Valence.|Length.|Acousticness..|Speechiness.|Popularity|\n",
            "+---+--------------------+-------------+----------------+----------------+------+------------+--------------+--------+--------+-------+--------------+------------+----------+\n",
            "|  1|            Se�orita| Shawn Mendes|    canadian pop|             117|    55|          76|            -6|       8|      75|    191|             4|           3|        79|\n",
            "|  2|               China|     Anuel AA|  reggaeton flow|             105|    81|          79|            -4|       8|      61|    302|             8|           9|        92|\n",
            "|  3|boyfriend (with S...|Ariana Grande|       dance pop|             190|    80|          40|            -4|      16|      70|    186|            12|          46|        85|\n",
            "|  4|Beautiful People ...|   Ed Sheeran|             pop|              93|    65|          64|            -8|       8|      55|    198|            12|          19|        86|\n",
            "|  5|Goodbyes (Feat. Y...|  Post Malone|         dfw rap|             150|    65|          58|            -4|      11|      18|    175|            45|           7|        94|\n",
            "|  6|I Don't Care (wit...|   Ed Sheeran|             pop|             102|    68|          80|            -5|       9|      84|    220|             9|           4|        84|\n",
            "|  7|              Ransom|    Lil Tecca|      trap music|             180|    64|          75|            -6|       7|      23|    131|             2|          29|        92|\n",
            "|  8|   How Do You Sleep?|    Sam Smith|             pop|             111|    68|          48|            -5|       8|      35|    202|            15|           9|        90|\n",
            "|  9|Old Town Road - R...|    Lil Nas X|     country rap|             136|    62|          88|            -6|      11|      64|    157|             5|          10|        87|\n",
            "| 10|             bad guy|Billie Eilish|      electropop|             135|    43|          70|           -11|      10|      56|    194|            33|          38|        95|\n",
            "| 11|            Callaita|    Bad Bunny|       reggaeton|             176|    62|          61|            -5|      24|      24|    251|            60|          31|        93|\n",
            "| 12|Loco Contigo (fea...|     DJ Snake|       dance pop|              96|    71|          82|            -4|      15|      38|    185|            28|           7|        86|\n",
            "| 13|   Someone You Loved|Lewis Capaldi|             pop|             110|    41|          50|            -6|      11|      45|    182|            75|           3|        88|\n",
            "| 14|  Otro Trago - Remix|         Sech|  panamanian pop|             176|    79|          73|            -2|       6|      76|    288|             7|          20|        87|\n",
            "| 15|Money In The Grav...|        Drake|canadian hip hop|             101|    50|          83|            -4|      12|      10|    205|            10|           5|        92|\n",
            "| 16|No Guidance (feat...|  Chris Brown|       dance pop|              93|    45|          70|            -7|      16|      14|    261|            12|          15|        82|\n",
            "| 17|          LA CANCI�N|     J Balvin|           latin|             176|    65|          75|            -6|      11|      43|    243|            15|          32|        90|\n",
            "| 18|Sunflower - Spide...|  Post Malone|         dfw rap|              90|    48|          76|            -6|       7|      91|    158|            56|           5|        91|\n",
            "| 19|              Lalala|          Y2K|canadian hip hop|             130|    39|          84|            -8|      14|      50|    161|            18|           8|        88|\n",
            "| 20|         Truth Hurts|        Lizzo|     escape room|             158|    62|          72|            -3|      12|      41|    173|            11|          11|        91|\n",
            "+---+--------------------+-------------+----------------+----------------+------+------------+--------------+--------+--------+-------+--------------+------------+----------+\n",
            "only showing top 20 rows\n",
            "\n"
          ],
          "name": "stdout"
        }
      ]
    },
    {
      "cell_type": "code",
      "metadata": {
        "id": "o9Uc6qQ7Z2Vs",
        "colab_type": "code",
        "outputId": "f6a7b99f-4dc0-497f-be95-d8e3c5ca7574",
        "colab": {
          "base_uri": "https://localhost:8080/",
          "height": 335
        }
      },
      "source": [
        "\n",
        "\n",
        "df.select([count(when(isnull(c), c)).alias(c) for c in df.columns]).show()\n",
        "\n"
      ],
      "execution_count": 18,
      "outputs": [
        {
          "output_type": "error",
          "ename": "NameError",
          "evalue": "ignored",
          "traceback": [
            "\u001b[0;31m---------------------------------------------------------------------------\u001b[0m",
            "\u001b[0;31mNameError\u001b[0m                                 Traceback (most recent call last)",
            "\u001b[0;32m<ipython-input-18-bbc05f360272>\u001b[0m in \u001b[0;36m<module>\u001b[0;34m()\u001b[0m\n\u001b[1;32m      1\u001b[0m \u001b[0;34m\u001b[0m\u001b[0m\n\u001b[1;32m      2\u001b[0m \u001b[0;34m\u001b[0m\u001b[0m\n\u001b[0;32m----> 3\u001b[0;31m \u001b[0mdf\u001b[0m\u001b[0;34m.\u001b[0m\u001b[0mselect\u001b[0m\u001b[0;34m(\u001b[0m\u001b[0;34m[\u001b[0m\u001b[0mcount\u001b[0m\u001b[0;34m(\u001b[0m\u001b[0mwhen\u001b[0m\u001b[0;34m(\u001b[0m\u001b[0misnull\u001b[0m\u001b[0;34m(\u001b[0m\u001b[0mc\u001b[0m\u001b[0;34m)\u001b[0m\u001b[0;34m,\u001b[0m \u001b[0mc\u001b[0m\u001b[0;34m)\u001b[0m\u001b[0;34m)\u001b[0m\u001b[0;34m.\u001b[0m\u001b[0malias\u001b[0m\u001b[0;34m(\u001b[0m\u001b[0mc\u001b[0m\u001b[0;34m)\u001b[0m \u001b[0;32mfor\u001b[0m \u001b[0mc\u001b[0m \u001b[0;32min\u001b[0m \u001b[0mdf\u001b[0m\u001b[0;34m.\u001b[0m\u001b[0mcolumns\u001b[0m\u001b[0;34m]\u001b[0m\u001b[0;34m)\u001b[0m\u001b[0;34m.\u001b[0m\u001b[0mshow\u001b[0m\u001b[0;34m(\u001b[0m\u001b[0;34m)\u001b[0m\u001b[0;34m\u001b[0m\u001b[0;34m\u001b[0m\u001b[0m\n\u001b[0m\u001b[1;32m      4\u001b[0m \u001b[0;34m\u001b[0m\u001b[0m\n",
            "\u001b[0;32m<ipython-input-18-bbc05f360272>\u001b[0m in \u001b[0;36m<listcomp>\u001b[0;34m(.0)\u001b[0m\n\u001b[1;32m      1\u001b[0m \u001b[0;34m\u001b[0m\u001b[0m\n\u001b[1;32m      2\u001b[0m \u001b[0;34m\u001b[0m\u001b[0m\n\u001b[0;32m----> 3\u001b[0;31m \u001b[0mdf\u001b[0m\u001b[0;34m.\u001b[0m\u001b[0mselect\u001b[0m\u001b[0;34m(\u001b[0m\u001b[0;34m[\u001b[0m\u001b[0mcount\u001b[0m\u001b[0;34m(\u001b[0m\u001b[0mwhen\u001b[0m\u001b[0;34m(\u001b[0m\u001b[0misnull\u001b[0m\u001b[0;34m(\u001b[0m\u001b[0mc\u001b[0m\u001b[0;34m)\u001b[0m\u001b[0;34m,\u001b[0m \u001b[0mc\u001b[0m\u001b[0;34m)\u001b[0m\u001b[0;34m)\u001b[0m\u001b[0;34m.\u001b[0m\u001b[0malias\u001b[0m\u001b[0;34m(\u001b[0m\u001b[0mc\u001b[0m\u001b[0;34m)\u001b[0m \u001b[0;32mfor\u001b[0m \u001b[0mc\u001b[0m \u001b[0;32min\u001b[0m \u001b[0mdf\u001b[0m\u001b[0;34m.\u001b[0m\u001b[0mcolumns\u001b[0m\u001b[0;34m]\u001b[0m\u001b[0;34m)\u001b[0m\u001b[0;34m.\u001b[0m\u001b[0mshow\u001b[0m\u001b[0;34m(\u001b[0m\u001b[0;34m)\u001b[0m\u001b[0;34m\u001b[0m\u001b[0;34m\u001b[0m\u001b[0m\n\u001b[0m\u001b[1;32m      4\u001b[0m \u001b[0;34m\u001b[0m\u001b[0m\n",
            "\u001b[0;31mNameError\u001b[0m: name 'count' is not defined"
          ]
        }
      ]
    },
    {
      "cell_type": "code",
      "metadata": {
        "id": "MDnQg6e6Z6XU",
        "colab_type": "code",
        "colab": {}
      },
      "source": [
        "a=[i.replace(\".\",\"\") for i in df.columns]"
      ],
      "execution_count": 0,
      "outputs": []
    },
    {
      "cell_type": "code",
      "metadata": {
        "id": "TbYtmcuPbiXc",
        "colab_type": "code",
        "outputId": "97f37881-d82a-46dd-efe8-a95560aefa71",
        "colab": {
          "base_uri": "https://localhost:8080/",
          "height": 272
        }
      },
      "source": [
        "a"
      ],
      "execution_count": 20,
      "outputs": [
        {
          "output_type": "execute_result",
          "data": {
            "text/plain": [
              "['Sno',\n",
              " 'TrackName',\n",
              " 'ArtistName',\n",
              " 'Genre',\n",
              " 'BeatsPerMinute',\n",
              " 'Energy',\n",
              " 'Danceability',\n",
              " 'LoudnessdB',\n",
              " 'Liveness',\n",
              " 'Valence',\n",
              " 'Length',\n",
              " 'Acousticness',\n",
              " 'Speechiness',\n",
              " 'Popularity']"
            ]
          },
          "metadata": {
            "tags": []
          },
          "execution_count": 20
        }
      ]
    },
    {
      "cell_type": "markdown",
      "metadata": {
        "id": "0PfGzvofdu2v",
        "colab_type": "text"
      },
      "source": [
        "**Change to new column names**"
      ]
    },
    {
      "cell_type": "code",
      "metadata": {
        "id": "TKdFOjIDcIv1",
        "colab_type": "code",
        "colab": {}
      },
      "source": [
        "df=df.toDF(*a)"
      ],
      "execution_count": 0,
      "outputs": []
    },
    {
      "cell_type": "code",
      "metadata": {
        "id": "vn_6V5a8dUQk",
        "colab_type": "code",
        "outputId": "0496b69a-29f6-4c6e-e526-81e9595c2b5f",
        "colab": {
          "base_uri": "https://localhost:8080/",
          "height": 510
        }
      },
      "source": [
        "df.show()"
      ],
      "execution_count": 22,
      "outputs": [
        {
          "output_type": "stream",
          "text": [
            "+---+--------------------+-------------+----------------+--------------+------+------------+----------+--------+-------+------+------------+-----------+----------+\n",
            "|Sno|           TrackName|   ArtistName|           Genre|BeatsPerMinute|Energy|Danceability|LoudnessdB|Liveness|Valence|Length|Acousticness|Speechiness|Popularity|\n",
            "+---+--------------------+-------------+----------------+--------------+------+------------+----------+--------+-------+------+------------+-----------+----------+\n",
            "|  1|            Se�orita| Shawn Mendes|    canadian pop|           117|    55|          76|        -6|       8|     75|   191|           4|          3|        79|\n",
            "|  2|               China|     Anuel AA|  reggaeton flow|           105|    81|          79|        -4|       8|     61|   302|           8|          9|        92|\n",
            "|  3|boyfriend (with S...|Ariana Grande|       dance pop|           190|    80|          40|        -4|      16|     70|   186|          12|         46|        85|\n",
            "|  4|Beautiful People ...|   Ed Sheeran|             pop|            93|    65|          64|        -8|       8|     55|   198|          12|         19|        86|\n",
            "|  5|Goodbyes (Feat. Y...|  Post Malone|         dfw rap|           150|    65|          58|        -4|      11|     18|   175|          45|          7|        94|\n",
            "|  6|I Don't Care (wit...|   Ed Sheeran|             pop|           102|    68|          80|        -5|       9|     84|   220|           9|          4|        84|\n",
            "|  7|              Ransom|    Lil Tecca|      trap music|           180|    64|          75|        -6|       7|     23|   131|           2|         29|        92|\n",
            "|  8|   How Do You Sleep?|    Sam Smith|             pop|           111|    68|          48|        -5|       8|     35|   202|          15|          9|        90|\n",
            "|  9|Old Town Road - R...|    Lil Nas X|     country rap|           136|    62|          88|        -6|      11|     64|   157|           5|         10|        87|\n",
            "| 10|             bad guy|Billie Eilish|      electropop|           135|    43|          70|       -11|      10|     56|   194|          33|         38|        95|\n",
            "| 11|            Callaita|    Bad Bunny|       reggaeton|           176|    62|          61|        -5|      24|     24|   251|          60|         31|        93|\n",
            "| 12|Loco Contigo (fea...|     DJ Snake|       dance pop|            96|    71|          82|        -4|      15|     38|   185|          28|          7|        86|\n",
            "| 13|   Someone You Loved|Lewis Capaldi|             pop|           110|    41|          50|        -6|      11|     45|   182|          75|          3|        88|\n",
            "| 14|  Otro Trago - Remix|         Sech|  panamanian pop|           176|    79|          73|        -2|       6|     76|   288|           7|         20|        87|\n",
            "| 15|Money In The Grav...|        Drake|canadian hip hop|           101|    50|          83|        -4|      12|     10|   205|          10|          5|        92|\n",
            "| 16|No Guidance (feat...|  Chris Brown|       dance pop|            93|    45|          70|        -7|      16|     14|   261|          12|         15|        82|\n",
            "| 17|          LA CANCI�N|     J Balvin|           latin|           176|    65|          75|        -6|      11|     43|   243|          15|         32|        90|\n",
            "| 18|Sunflower - Spide...|  Post Malone|         dfw rap|            90|    48|          76|        -6|       7|     91|   158|          56|          5|        91|\n",
            "| 19|              Lalala|          Y2K|canadian hip hop|           130|    39|          84|        -8|      14|     50|   161|          18|          8|        88|\n",
            "| 20|         Truth Hurts|        Lizzo|     escape room|           158|    62|          72|        -3|      12|     41|   173|          11|         11|        91|\n",
            "+---+--------------------+-------------+----------------+--------------+------+------------+----------+--------+-------+------+------------+-----------+----------+\n",
            "only showing top 20 rows\n",
            "\n"
          ],
          "name": "stdout"
        }
      ]
    },
    {
      "cell_type": "code",
      "metadata": {
        "id": "i1FzMVUABeHF",
        "colab_type": "code",
        "colab": {}
      },
      "source": [
        "from pyspark.sql.functions import *"
      ],
      "execution_count": 0,
      "outputs": []
    },
    {
      "cell_type": "markdown",
      "metadata": {
        "id": "um6i-wPqetCo",
        "colab_type": "text"
      },
      "source": [
        "**Count no. of null values in each column**"
      ]
    },
    {
      "cell_type": "code",
      "metadata": {
        "id": "rfwT3XTmdVsN",
        "colab_type": "code",
        "outputId": "89400b47-1ef8-4007-ef7b-9123c74a130b",
        "colab": {
          "base_uri": "https://localhost:8080/",
          "height": 146
        }
      },
      "source": [
        "df.select([count(when(isnull(c), c)).alias(c) for c in df.columns]).show()"
      ],
      "execution_count": 24,
      "outputs": [
        {
          "output_type": "stream",
          "text": [
            "+---+---------+----------+-----+--------------+------+------------+----------+--------+-------+------+------------+-----------+----------+\n",
            "|Sno|TrackName|ArtistName|Genre|BeatsPerMinute|Energy|Danceability|LoudnessdB|Liveness|Valence|Length|Acousticness|Speechiness|Popularity|\n",
            "+---+---------+----------+-----+--------------+------+------------+----------+--------+-------+------+------------+-----------+----------+\n",
            "|  0|        0|         0|    0|             0|     0|           0|         0|       0|      0|     0|           0|          0|         0|\n",
            "+---+---------+----------+-----+--------------+------+------------+----------+--------+-------+------+------------+-----------+----------+\n",
            "\n"
          ],
          "name": "stdout"
        }
      ]
    },
    {
      "cell_type": "markdown",
      "metadata": {
        "id": "0zXKphlEjCqv",
        "colab_type": "text"
      },
      "source": [
        "**Show distict values in this column**"
      ]
    },
    {
      "cell_type": "code",
      "metadata": {
        "id": "BjQfPOD5eAKV",
        "colab_type": "code",
        "outputId": "f56a01fe-c9a5-4706-808c-417a34b67e0c",
        "colab": {
          "base_uri": "https://localhost:8080/",
          "height": 490
        }
      },
      "source": [
        "df.select(\"ArtistName\").distinct().show()"
      ],
      "execution_count": 25,
      "outputs": [
        {
          "output_type": "stream",
          "text": [
            "+----------------+\n",
            "|      ArtistName|\n",
            "+----------------+\n",
            "|       Lil Nas X|\n",
            "|       Ali Gatie|\n",
            "|The Chainsmokers|\n",
            "|     Tones and I|\n",
            "|       Lil Tecca|\n",
            "|    Taylor Swift|\n",
            "|          Maluma|\n",
            "|       Sam Smith|\n",
            "|            Kygo|\n",
            "|         ROSAL�A|\n",
            "|          Khalid|\n",
            "|      Marshmello|\n",
            "|   Ariana Grande|\n",
            "|   Billie Eilish|\n",
            "|    Shawn Mendes|\n",
            "|            Sech|\n",
            "|            Lauv|\n",
            "|       Bad Bunny|\n",
            "|   Lewis Capaldi|\n",
            "|     Jhay Cortez|\n",
            "+----------------+\n",
            "only showing top 20 rows\n",
            "\n"
          ],
          "name": "stdout"
        }
      ]
    },
    {
      "cell_type": "code",
      "metadata": {
        "id": "8KCzqHKlfDsV",
        "colab_type": "code",
        "colab": {}
      },
      "source": [
        "from pyspark.sql.functions import col"
      ],
      "execution_count": 0,
      "outputs": []
    },
    {
      "cell_type": "markdown",
      "metadata": {
        "id": "itZZZVDxjact",
        "colab_type": "text"
      },
      "source": [
        "**Alias/Rename/Change Column Name just for this**"
      ]
    },
    {
      "cell_type": "code",
      "metadata": {
        "id": "atfkQc1PfzYl",
        "colab_type": "code",
        "outputId": "4eb35b58-2c63-467c-fc03-42e90e403d61",
        "colab": {
          "base_uri": "https://localhost:8080/",
          "height": 490
        }
      },
      "source": [
        "\n",
        "df.select(col(\"ArtistName\").alias(\"Distinct_Artists\")).distinct().show()"
      ],
      "execution_count": 27,
      "outputs": [
        {
          "output_type": "stream",
          "text": [
            "+----------------+\n",
            "|Distinct_Artists|\n",
            "+----------------+\n",
            "|       Lil Nas X|\n",
            "|       Ali Gatie|\n",
            "|The Chainsmokers|\n",
            "|     Tones and I|\n",
            "|       Lil Tecca|\n",
            "|    Taylor Swift|\n",
            "|          Maluma|\n",
            "|       Sam Smith|\n",
            "|            Kygo|\n",
            "|         ROSAL�A|\n",
            "|          Khalid|\n",
            "|      Marshmello|\n",
            "|   Ariana Grande|\n",
            "|   Billie Eilish|\n",
            "|    Shawn Mendes|\n",
            "|            Sech|\n",
            "|            Lauv|\n",
            "|       Bad Bunny|\n",
            "|   Lewis Capaldi|\n",
            "|     Jhay Cortez|\n",
            "+----------------+\n",
            "only showing top 20 rows\n",
            "\n"
          ],
          "name": "stdout"
        }
      ]
    },
    {
      "cell_type": "code",
      "metadata": {
        "id": "NHAe8OzPiItP",
        "colab_type": "code",
        "outputId": "26618673-e831-421a-dfa5-41e210ea4797",
        "colab": {
          "base_uri": "https://localhost:8080/",
          "height": 55
        }
      },
      "source": [
        "df.withColumnRenamed('Genre', 'TypeOfMusic')"
      ],
      "execution_count": 28,
      "outputs": [
        {
          "output_type": "execute_result",
          "data": {
            "text/plain": [
              "DataFrame[Sno: int, TrackName: string, ArtistName: string, TypeOfMusic: string, BeatsPerMinute: int, Energy: int, Danceability: int, LoudnessdB: int, Liveness: int, Valence: int, Length: int, Acousticness: int, Speechiness: int, Popularity: int]"
            ]
          },
          "metadata": {
            "tags": []
          },
          "execution_count": 28
        }
      ]
    },
    {
      "cell_type": "code",
      "metadata": {
        "id": "GEFDsoDlil22",
        "colab_type": "code",
        "outputId": "ffcf0ed7-b2ed-4eb1-a598-5b98e96898e1",
        "colab": {
          "base_uri": "https://localhost:8080/",
          "height": 510
        }
      },
      "source": [
        "df.show()"
      ],
      "execution_count": 29,
      "outputs": [
        {
          "output_type": "stream",
          "text": [
            "+---+--------------------+-------------+----------------+--------------+------+------------+----------+--------+-------+------+------------+-----------+----------+\n",
            "|Sno|           TrackName|   ArtistName|           Genre|BeatsPerMinute|Energy|Danceability|LoudnessdB|Liveness|Valence|Length|Acousticness|Speechiness|Popularity|\n",
            "+---+--------------------+-------------+----------------+--------------+------+------------+----------+--------+-------+------+------------+-----------+----------+\n",
            "|  1|            Se�orita| Shawn Mendes|    canadian pop|           117|    55|          76|        -6|       8|     75|   191|           4|          3|        79|\n",
            "|  2|               China|     Anuel AA|  reggaeton flow|           105|    81|          79|        -4|       8|     61|   302|           8|          9|        92|\n",
            "|  3|boyfriend (with S...|Ariana Grande|       dance pop|           190|    80|          40|        -4|      16|     70|   186|          12|         46|        85|\n",
            "|  4|Beautiful People ...|   Ed Sheeran|             pop|            93|    65|          64|        -8|       8|     55|   198|          12|         19|        86|\n",
            "|  5|Goodbyes (Feat. Y...|  Post Malone|         dfw rap|           150|    65|          58|        -4|      11|     18|   175|          45|          7|        94|\n",
            "|  6|I Don't Care (wit...|   Ed Sheeran|             pop|           102|    68|          80|        -5|       9|     84|   220|           9|          4|        84|\n",
            "|  7|              Ransom|    Lil Tecca|      trap music|           180|    64|          75|        -6|       7|     23|   131|           2|         29|        92|\n",
            "|  8|   How Do You Sleep?|    Sam Smith|             pop|           111|    68|          48|        -5|       8|     35|   202|          15|          9|        90|\n",
            "|  9|Old Town Road - R...|    Lil Nas X|     country rap|           136|    62|          88|        -6|      11|     64|   157|           5|         10|        87|\n",
            "| 10|             bad guy|Billie Eilish|      electropop|           135|    43|          70|       -11|      10|     56|   194|          33|         38|        95|\n",
            "| 11|            Callaita|    Bad Bunny|       reggaeton|           176|    62|          61|        -5|      24|     24|   251|          60|         31|        93|\n",
            "| 12|Loco Contigo (fea...|     DJ Snake|       dance pop|            96|    71|          82|        -4|      15|     38|   185|          28|          7|        86|\n",
            "| 13|   Someone You Loved|Lewis Capaldi|             pop|           110|    41|          50|        -6|      11|     45|   182|          75|          3|        88|\n",
            "| 14|  Otro Trago - Remix|         Sech|  panamanian pop|           176|    79|          73|        -2|       6|     76|   288|           7|         20|        87|\n",
            "| 15|Money In The Grav...|        Drake|canadian hip hop|           101|    50|          83|        -4|      12|     10|   205|          10|          5|        92|\n",
            "| 16|No Guidance (feat...|  Chris Brown|       dance pop|            93|    45|          70|        -7|      16|     14|   261|          12|         15|        82|\n",
            "| 17|          LA CANCI�N|     J Balvin|           latin|           176|    65|          75|        -6|      11|     43|   243|          15|         32|        90|\n",
            "| 18|Sunflower - Spide...|  Post Malone|         dfw rap|            90|    48|          76|        -6|       7|     91|   158|          56|          5|        91|\n",
            "| 19|              Lalala|          Y2K|canadian hip hop|           130|    39|          84|        -8|      14|     50|   161|          18|          8|        88|\n",
            "| 20|         Truth Hurts|        Lizzo|     escape room|           158|    62|          72|        -3|      12|     41|   173|          11|         11|        91|\n",
            "+---+--------------------+-------------+----------------+--------------+------+------------+----------+--------+-------+------+------------+-----------+----------+\n",
            "only showing top 20 rows\n",
            "\n"
          ],
          "name": "stdout"
        }
      ]
    },
    {
      "cell_type": "code",
      "metadata": {
        "id": "ivr8TZmVioI2",
        "colab_type": "code",
        "outputId": "7ad33657-7127-4be0-83f7-2c67d0531f23",
        "colab": {
          "base_uri": "https://localhost:8080/",
          "height": 510
        }
      },
      "source": [
        "df.withColumnRenamed('Genre', 'TypeOfMusic').show()"
      ],
      "execution_count": 30,
      "outputs": [
        {
          "output_type": "stream",
          "text": [
            "+---+--------------------+-------------+----------------+--------------+------+------------+----------+--------+-------+------+------------+-----------+----------+\n",
            "|Sno|           TrackName|   ArtistName|     TypeOfMusic|BeatsPerMinute|Energy|Danceability|LoudnessdB|Liveness|Valence|Length|Acousticness|Speechiness|Popularity|\n",
            "+---+--------------------+-------------+----------------+--------------+------+------------+----------+--------+-------+------+------------+-----------+----------+\n",
            "|  1|            Se�orita| Shawn Mendes|    canadian pop|           117|    55|          76|        -6|       8|     75|   191|           4|          3|        79|\n",
            "|  2|               China|     Anuel AA|  reggaeton flow|           105|    81|          79|        -4|       8|     61|   302|           8|          9|        92|\n",
            "|  3|boyfriend (with S...|Ariana Grande|       dance pop|           190|    80|          40|        -4|      16|     70|   186|          12|         46|        85|\n",
            "|  4|Beautiful People ...|   Ed Sheeran|             pop|            93|    65|          64|        -8|       8|     55|   198|          12|         19|        86|\n",
            "|  5|Goodbyes (Feat. Y...|  Post Malone|         dfw rap|           150|    65|          58|        -4|      11|     18|   175|          45|          7|        94|\n",
            "|  6|I Don't Care (wit...|   Ed Sheeran|             pop|           102|    68|          80|        -5|       9|     84|   220|           9|          4|        84|\n",
            "|  7|              Ransom|    Lil Tecca|      trap music|           180|    64|          75|        -6|       7|     23|   131|           2|         29|        92|\n",
            "|  8|   How Do You Sleep?|    Sam Smith|             pop|           111|    68|          48|        -5|       8|     35|   202|          15|          9|        90|\n",
            "|  9|Old Town Road - R...|    Lil Nas X|     country rap|           136|    62|          88|        -6|      11|     64|   157|           5|         10|        87|\n",
            "| 10|             bad guy|Billie Eilish|      electropop|           135|    43|          70|       -11|      10|     56|   194|          33|         38|        95|\n",
            "| 11|            Callaita|    Bad Bunny|       reggaeton|           176|    62|          61|        -5|      24|     24|   251|          60|         31|        93|\n",
            "| 12|Loco Contigo (fea...|     DJ Snake|       dance pop|            96|    71|          82|        -4|      15|     38|   185|          28|          7|        86|\n",
            "| 13|   Someone You Loved|Lewis Capaldi|             pop|           110|    41|          50|        -6|      11|     45|   182|          75|          3|        88|\n",
            "| 14|  Otro Trago - Remix|         Sech|  panamanian pop|           176|    79|          73|        -2|       6|     76|   288|           7|         20|        87|\n",
            "| 15|Money In The Grav...|        Drake|canadian hip hop|           101|    50|          83|        -4|      12|     10|   205|          10|          5|        92|\n",
            "| 16|No Guidance (feat...|  Chris Brown|       dance pop|            93|    45|          70|        -7|      16|     14|   261|          12|         15|        82|\n",
            "| 17|          LA CANCI�N|     J Balvin|           latin|           176|    65|          75|        -6|      11|     43|   243|          15|         32|        90|\n",
            "| 18|Sunflower - Spide...|  Post Malone|         dfw rap|            90|    48|          76|        -6|       7|     91|   158|          56|          5|        91|\n",
            "| 19|              Lalala|          Y2K|canadian hip hop|           130|    39|          84|        -8|      14|     50|   161|          18|          8|        88|\n",
            "| 20|         Truth Hurts|        Lizzo|     escape room|           158|    62|          72|        -3|      12|     41|   173|          11|         11|        91|\n",
            "+---+--------------------+-------------+----------------+--------------+------+------------+----------+--------+-------+------+------------+-----------+----------+\n",
            "only showing top 20 rows\n",
            "\n"
          ],
          "name": "stdout"
        }
      ]
    },
    {
      "cell_type": "code",
      "metadata": {
        "id": "a1u7g0ZkiwK1",
        "colab_type": "code",
        "outputId": "2424094c-7006-47de-cd14-6305a53dacfd",
        "colab": {
          "base_uri": "https://localhost:8080/",
          "height": 510
        }
      },
      "source": [
        "df.show()"
      ],
      "execution_count": 31,
      "outputs": [
        {
          "output_type": "stream",
          "text": [
            "+---+--------------------+-------------+----------------+--------------+------+------------+----------+--------+-------+------+------------+-----------+----------+\n",
            "|Sno|           TrackName|   ArtistName|           Genre|BeatsPerMinute|Energy|Danceability|LoudnessdB|Liveness|Valence|Length|Acousticness|Speechiness|Popularity|\n",
            "+---+--------------------+-------------+----------------+--------------+------+------------+----------+--------+-------+------+------------+-----------+----------+\n",
            "|  1|            Se�orita| Shawn Mendes|    canadian pop|           117|    55|          76|        -6|       8|     75|   191|           4|          3|        79|\n",
            "|  2|               China|     Anuel AA|  reggaeton flow|           105|    81|          79|        -4|       8|     61|   302|           8|          9|        92|\n",
            "|  3|boyfriend (with S...|Ariana Grande|       dance pop|           190|    80|          40|        -4|      16|     70|   186|          12|         46|        85|\n",
            "|  4|Beautiful People ...|   Ed Sheeran|             pop|            93|    65|          64|        -8|       8|     55|   198|          12|         19|        86|\n",
            "|  5|Goodbyes (Feat. Y...|  Post Malone|         dfw rap|           150|    65|          58|        -4|      11|     18|   175|          45|          7|        94|\n",
            "|  6|I Don't Care (wit...|   Ed Sheeran|             pop|           102|    68|          80|        -5|       9|     84|   220|           9|          4|        84|\n",
            "|  7|              Ransom|    Lil Tecca|      trap music|           180|    64|          75|        -6|       7|     23|   131|           2|         29|        92|\n",
            "|  8|   How Do You Sleep?|    Sam Smith|             pop|           111|    68|          48|        -5|       8|     35|   202|          15|          9|        90|\n",
            "|  9|Old Town Road - R...|    Lil Nas X|     country rap|           136|    62|          88|        -6|      11|     64|   157|           5|         10|        87|\n",
            "| 10|             bad guy|Billie Eilish|      electropop|           135|    43|          70|       -11|      10|     56|   194|          33|         38|        95|\n",
            "| 11|            Callaita|    Bad Bunny|       reggaeton|           176|    62|          61|        -5|      24|     24|   251|          60|         31|        93|\n",
            "| 12|Loco Contigo (fea...|     DJ Snake|       dance pop|            96|    71|          82|        -4|      15|     38|   185|          28|          7|        86|\n",
            "| 13|   Someone You Loved|Lewis Capaldi|             pop|           110|    41|          50|        -6|      11|     45|   182|          75|          3|        88|\n",
            "| 14|  Otro Trago - Remix|         Sech|  panamanian pop|           176|    79|          73|        -2|       6|     76|   288|           7|         20|        87|\n",
            "| 15|Money In The Grav...|        Drake|canadian hip hop|           101|    50|          83|        -4|      12|     10|   205|          10|          5|        92|\n",
            "| 16|No Guidance (feat...|  Chris Brown|       dance pop|            93|    45|          70|        -7|      16|     14|   261|          12|         15|        82|\n",
            "| 17|          LA CANCI�N|     J Balvin|           latin|           176|    65|          75|        -6|      11|     43|   243|          15|         32|        90|\n",
            "| 18|Sunflower - Spide...|  Post Malone|         dfw rap|            90|    48|          76|        -6|       7|     91|   158|          56|          5|        91|\n",
            "| 19|              Lalala|          Y2K|canadian hip hop|           130|    39|          84|        -8|      14|     50|   161|          18|          8|        88|\n",
            "| 20|         Truth Hurts|        Lizzo|     escape room|           158|    62|          72|        -3|      12|     41|   173|          11|         11|        91|\n",
            "+---+--------------------+-------------+----------------+--------------+------+------------+----------+--------+-------+------+------------+-----------+----------+\n",
            "only showing top 20 rows\n",
            "\n"
          ],
          "name": "stdout"
        }
      ]
    },
    {
      "cell_type": "markdown",
      "metadata": {
        "id": "0deXwY9ojlrP",
        "colab_type": "text"
      },
      "source": [
        "**Change Column name permanently**"
      ]
    },
    {
      "cell_type": "code",
      "metadata": {
        "id": "K7jjwMFCi1RE",
        "colab_type": "code",
        "colab": {}
      },
      "source": [
        "df=df.withColumnRenamed('Genre', 'TypeOfMusic')"
      ],
      "execution_count": 0,
      "outputs": []
    },
    {
      "cell_type": "code",
      "metadata": {
        "id": "oM5fCDRui3vW",
        "colab_type": "code",
        "outputId": "f0fc69d0-bf4b-4ce6-8eae-f61b60e7784c",
        "colab": {
          "base_uri": "https://localhost:8080/",
          "height": 510
        }
      },
      "source": [
        "df.show()"
      ],
      "execution_count": 33,
      "outputs": [
        {
          "output_type": "stream",
          "text": [
            "+---+--------------------+-------------+----------------+--------------+------+------------+----------+--------+-------+------+------------+-----------+----------+\n",
            "|Sno|           TrackName|   ArtistName|     TypeOfMusic|BeatsPerMinute|Energy|Danceability|LoudnessdB|Liveness|Valence|Length|Acousticness|Speechiness|Popularity|\n",
            "+---+--------------------+-------------+----------------+--------------+------+------------+----------+--------+-------+------+------------+-----------+----------+\n",
            "|  1|            Se�orita| Shawn Mendes|    canadian pop|           117|    55|          76|        -6|       8|     75|   191|           4|          3|        79|\n",
            "|  2|               China|     Anuel AA|  reggaeton flow|           105|    81|          79|        -4|       8|     61|   302|           8|          9|        92|\n",
            "|  3|boyfriend (with S...|Ariana Grande|       dance pop|           190|    80|          40|        -4|      16|     70|   186|          12|         46|        85|\n",
            "|  4|Beautiful People ...|   Ed Sheeran|             pop|            93|    65|          64|        -8|       8|     55|   198|          12|         19|        86|\n",
            "|  5|Goodbyes (Feat. Y...|  Post Malone|         dfw rap|           150|    65|          58|        -4|      11|     18|   175|          45|          7|        94|\n",
            "|  6|I Don't Care (wit...|   Ed Sheeran|             pop|           102|    68|          80|        -5|       9|     84|   220|           9|          4|        84|\n",
            "|  7|              Ransom|    Lil Tecca|      trap music|           180|    64|          75|        -6|       7|     23|   131|           2|         29|        92|\n",
            "|  8|   How Do You Sleep?|    Sam Smith|             pop|           111|    68|          48|        -5|       8|     35|   202|          15|          9|        90|\n",
            "|  9|Old Town Road - R...|    Lil Nas X|     country rap|           136|    62|          88|        -6|      11|     64|   157|           5|         10|        87|\n",
            "| 10|             bad guy|Billie Eilish|      electropop|           135|    43|          70|       -11|      10|     56|   194|          33|         38|        95|\n",
            "| 11|            Callaita|    Bad Bunny|       reggaeton|           176|    62|          61|        -5|      24|     24|   251|          60|         31|        93|\n",
            "| 12|Loco Contigo (fea...|     DJ Snake|       dance pop|            96|    71|          82|        -4|      15|     38|   185|          28|          7|        86|\n",
            "| 13|   Someone You Loved|Lewis Capaldi|             pop|           110|    41|          50|        -6|      11|     45|   182|          75|          3|        88|\n",
            "| 14|  Otro Trago - Remix|         Sech|  panamanian pop|           176|    79|          73|        -2|       6|     76|   288|           7|         20|        87|\n",
            "| 15|Money In The Grav...|        Drake|canadian hip hop|           101|    50|          83|        -4|      12|     10|   205|          10|          5|        92|\n",
            "| 16|No Guidance (feat...|  Chris Brown|       dance pop|            93|    45|          70|        -7|      16|     14|   261|          12|         15|        82|\n",
            "| 17|          LA CANCI�N|     J Balvin|           latin|           176|    65|          75|        -6|      11|     43|   243|          15|         32|        90|\n",
            "| 18|Sunflower - Spide...|  Post Malone|         dfw rap|            90|    48|          76|        -6|       7|     91|   158|          56|          5|        91|\n",
            "| 19|              Lalala|          Y2K|canadian hip hop|           130|    39|          84|        -8|      14|     50|   161|          18|          8|        88|\n",
            "| 20|         Truth Hurts|        Lizzo|     escape room|           158|    62|          72|        -3|      12|     41|   173|          11|         11|        91|\n",
            "+---+--------------------+-------------+----------------+--------------+------+------------+----------+--------+-------+------+------------+-----------+----------+\n",
            "only showing top 20 rows\n",
            "\n"
          ],
          "name": "stdout"
        }
      ]
    },
    {
      "cell_type": "code",
      "metadata": {
        "id": "P0G-zV3foWhd",
        "colab_type": "code",
        "outputId": "5bcd1c98-5c0c-4bb5-9955-d78b527dd8c8",
        "colab": {
          "base_uri": "https://localhost:8080/",
          "height": 308
        }
      },
      "source": [
        "df.printSchema()"
      ],
      "execution_count": 34,
      "outputs": [
        {
          "output_type": "stream",
          "text": [
            "root\n",
            " |-- Sno: integer (nullable = true)\n",
            " |-- TrackName: string (nullable = true)\n",
            " |-- ArtistName: string (nullable = true)\n",
            " |-- TypeOfMusic: string (nullable = true)\n",
            " |-- BeatsPerMinute: integer (nullable = true)\n",
            " |-- Energy: integer (nullable = true)\n",
            " |-- Danceability: integer (nullable = true)\n",
            " |-- LoudnessdB: integer (nullable = true)\n",
            " |-- Liveness: integer (nullable = true)\n",
            " |-- Valence: integer (nullable = true)\n",
            " |-- Length: integer (nullable = true)\n",
            " |-- Acousticness: integer (nullable = true)\n",
            " |-- Speechiness: integer (nullable = true)\n",
            " |-- Popularity: integer (nullable = true)\n",
            "\n"
          ],
          "name": "stdout"
        }
      ]
    },
    {
      "cell_type": "markdown",
      "metadata": {
        "id": "BmFJ3nHVmtz6",
        "colab_type": "text"
      },
      "source": [
        "**Group By/  With Coumn Renamed**"
      ]
    },
    {
      "cell_type": "code",
      "metadata": {
        "id": "7FFuPsAHi5UF",
        "colab_type": "code",
        "colab": {}
      },
      "source": [
        "df1=df.groupBy(\"ArtistName\").count()"
      ],
      "execution_count": 0,
      "outputs": []
    },
    {
      "cell_type": "code",
      "metadata": {
        "id": "Sr4r-ErLj16m",
        "colab_type": "code",
        "colab": {}
      },
      "source": [
        "df1=df1.withColumnRenamed(\"count\",\"Count\")"
      ],
      "execution_count": 0,
      "outputs": []
    },
    {
      "cell_type": "code",
      "metadata": {
        "id": "y61eZdhslUGG",
        "colab_type": "code",
        "colab": {}
      },
      "source": [
        "from pyspark.sql.functions import *"
      ],
      "execution_count": 0,
      "outputs": []
    },
    {
      "cell_type": "code",
      "metadata": {
        "id": "4I6QRL3vlsAn",
        "colab_type": "code",
        "outputId": "05bc65df-541e-4268-84d7-31ce7a7fb46f",
        "colab": {
          "base_uri": "https://localhost:8080/",
          "height": 490
        }
      },
      "source": [
        "df1.show()"
      ],
      "execution_count": 38,
      "outputs": [
        {
          "output_type": "stream",
          "text": [
            "+----------------+-----+\n",
            "|      ArtistName|Count|\n",
            "+----------------+-----+\n",
            "|       Lil Nas X|    2|\n",
            "|       Ali Gatie|    1|\n",
            "|The Chainsmokers|    2|\n",
            "|     Tones and I|    1|\n",
            "|       Lil Tecca|    1|\n",
            "|    Taylor Swift|    1|\n",
            "|          Maluma|    1|\n",
            "|       Sam Smith|    1|\n",
            "|            Kygo|    1|\n",
            "|         ROSAL�A|    1|\n",
            "|          Khalid|    1|\n",
            "|      Marshmello|    2|\n",
            "|   Ariana Grande|    2|\n",
            "|   Billie Eilish|    2|\n",
            "|    Shawn Mendes|    2|\n",
            "|            Sech|    2|\n",
            "|            Lauv|    1|\n",
            "|       Bad Bunny|    1|\n",
            "|   Lewis Capaldi|    1|\n",
            "|     Jhay Cortez|    1|\n",
            "+----------------+-----+\n",
            "only showing top 20 rows\n",
            "\n"
          ],
          "name": "stdout"
        }
      ]
    },
    {
      "cell_type": "markdown",
      "metadata": {
        "id": "PPIWdZN3po6h",
        "colab_type": "text"
      },
      "source": [
        "**Filter/ Where/ Condition /Multiple Condition**"
      ]
    },
    {
      "cell_type": "code",
      "metadata": {
        "id": "NEAS4WdmluiO",
        "colab_type": "code",
        "outputId": "fa199c34-0d5f-4eb5-b9ba-fad8b3f7e8d7",
        "colab": {
          "base_uri": "https://localhost:8080/",
          "height": 510
        }
      },
      "source": [
        "df.where((col(\"Danceability\") >50) & (col(\"Danceability\") <75)).show()"
      ],
      "execution_count": 39,
      "outputs": [
        {
          "output_type": "stream",
          "text": [
            "+---+--------------------+-------------+----------------+--------------+------+------------+----------+--------+-------+------+------------+-----------+----------+\n",
            "|Sno|           TrackName|   ArtistName|     TypeOfMusic|BeatsPerMinute|Energy|Danceability|LoudnessdB|Liveness|Valence|Length|Acousticness|Speechiness|Popularity|\n",
            "+---+--------------------+-------------+----------------+--------------+------+------------+----------+--------+-------+------+------------+-----------+----------+\n",
            "|  4|Beautiful People ...|   Ed Sheeran|             pop|            93|    65|          64|        -8|       8|     55|   198|          12|         19|        86|\n",
            "|  5|Goodbyes (Feat. Y...|  Post Malone|         dfw rap|           150|    65|          58|        -4|      11|     18|   175|          45|          7|        94|\n",
            "| 10|             bad guy|Billie Eilish|      electropop|           135|    43|          70|       -11|      10|     56|   194|          33|         38|        95|\n",
            "| 11|            Callaita|    Bad Bunny|       reggaeton|           176|    62|          61|        -5|      24|     24|   251|          60|         31|        93|\n",
            "| 14|  Otro Trago - Remix|         Sech|  panamanian pop|           176|    79|          73|        -2|       6|     76|   288|           7|         20|        87|\n",
            "| 16|No Guidance (feat...|  Chris Brown|       dance pop|            93|    45|          70|        -7|      16|     14|   261|          12|         15|        82|\n",
            "| 20|         Truth Hurts|        Lizzo|     escape room|           158|    62|          72|        -3|      12|     41|   173|          11|         11|        91|\n",
            "| 21| Piece Of Your Heart|       MEDUZA|       pop house|           124|    74|          68|        -7|       7|     63|   153|           4|          3|        91|\n",
            "| 22|              Panini|    Lil Nas X|     country rap|           154|    59|          70|        -6|      12|     48|   115|          34|          8|        91|\n",
            "| 25|bad guy (with Jus...|Billie Eilish|      electropop|           135|    45|          67|       -11|      12|     68|   195|          25|         30|        89|\n",
            "| 26| If I Can't Have You| Shawn Mendes|    canadian pop|           124|    82|          69|        -4|      13|     87|   191|          49|          6|        70|\n",
            "| 28|            It's You|    Ali Gatie|canadian hip hop|            96|    46|          73|        -7|      19|     40|   213|          37|          3|        89|\n",
            "| 29|           Con Calma| Daddy Yankee|           latin|            94|    86|          74|        -3|       6|     66|   193|          11|          6|        91|\n",
            "| 30|       QUE PRETENDES|     J Balvin|           latin|            93|    79|          64|        -4|      36|     94|   222|           3|         25|        89|\n",
            "| 36|Summer Days (feat...|Martin Garrix|        big room|           114|    72|          66|        -7|      14|     32|   164|          18|          6|        89|\n",
            "| 38|Antisocial (with ...|   Ed Sheeran|             pop|           152|    82|          72|        -5|      36|     91|   162|          13|          5|        87|\n",
            "| 41|         Higher Love|         Kygo|             edm|           104|    68|          69|        -7|      10|     40|   228|           2|          3|        88|\n",
            "| 43|             Shallow|    Lady Gaga|       dance pop|            96|    39|          57|        -6|      23|     32|   216|          37|          3|        87|\n",
            "| 46|     One Thing Right|   Marshmello|         brostep|            88|    62|          66|        -2|      58|     44|   182|           7|          5|        88|\n",
            "| 47|           Te Robar�|    Nicky Jam|           latin|           176|    75|          67|        -4|       8|     80|   202|          24|          6|        88|\n",
            "+---+--------------------+-------------+----------------+--------------+------+------------+----------+--------+-------+------+------------+-----------+----------+\n",
            "only showing top 20 rows\n",
            "\n"
          ],
          "name": "stdout"
        }
      ]
    },
    {
      "cell_type": "markdown",
      "metadata": {
        "id": "OogF0no2rWN8",
        "colab_type": "text"
      },
      "source": [
        "**Filter Condition**"
      ]
    },
    {
      "cell_type": "code",
      "metadata": {
        "id": "33XsHm3lp68R",
        "colab_type": "code",
        "outputId": "f62ebac7-5c6f-4472-8224-932bce082b8a",
        "colab": {
          "base_uri": "https://localhost:8080/",
          "height": 219
        }
      },
      "source": [
        "df.filter((col(\"TypeOfMusic\")==\"latin\")).show()"
      ],
      "execution_count": 40,
      "outputs": [
        {
          "output_type": "stream",
          "text": [
            "+---+---------------+------------+-----------+--------------+------+------------+----------+--------+-------+------+------------+-----------+----------+\n",
            "|Sno|      TrackName|  ArtistName|TypeOfMusic|BeatsPerMinute|Energy|Danceability|LoudnessdB|Liveness|Valence|Length|Acousticness|Speechiness|Popularity|\n",
            "+---+---------------+------------+-----------+--------------+------+------------+----------+--------+-------+------+------------+-----------+----------+\n",
            "| 17|     LA CANCI�N|    J Balvin|      latin|           176|    65|          75|        -6|      11|     43|   243|          15|         32|        90|\n",
            "| 24|Soltera - Remix|       Lunay|      latin|            92|    78|          80|        -4|      44|     80|   266|          36|          4|        91|\n",
            "| 29|      Con Calma|Daddy Yankee|      latin|            94|    86|          74|        -3|       6|     66|   193|          11|          6|        91|\n",
            "| 30|  QUE PRETENDES|    J Balvin|      latin|            93|    79|          64|        -4|      36|     94|   222|           3|         25|        89|\n",
            "| 47|      Te Robar�|   Nicky Jam|      latin|           176|    75|          67|        -4|       8|     80|   202|          24|          6|        88|\n",
            "+---+---------------+------------+-----------+--------------+------+------------+----------+--------+-------+------+------------+-----------+----------+\n",
            "\n"
          ],
          "name": "stdout"
        }
      ]
    },
    {
      "cell_type": "markdown",
      "metadata": {
        "id": "qStpJ190r3fP",
        "colab_type": "text"
      },
      "source": [
        "**Filter Multiple Condition**"
      ]
    },
    {
      "cell_type": "code",
      "metadata": {
        "id": "NSfsTRBvq36o",
        "colab_type": "code",
        "outputId": "0077399a-f63d-4faa-f4e0-39a894843181",
        "colab": {
          "base_uri": "https://localhost:8080/",
          "height": 165
        }
      },
      "source": [
        "df.filter((col(\"TypeOfMusic\")==\"latin\")&(col(\"Speechiness\")==6)).show()"
      ],
      "execution_count": 41,
      "outputs": [
        {
          "output_type": "stream",
          "text": [
            "+---+---------+------------+-----------+--------------+------+------------+----------+--------+-------+------+------------+-----------+----------+\n",
            "|Sno|TrackName|  ArtistName|TypeOfMusic|BeatsPerMinute|Energy|Danceability|LoudnessdB|Liveness|Valence|Length|Acousticness|Speechiness|Popularity|\n",
            "+---+---------+------------+-----------+--------------+------+------------+----------+--------+-------+------+------------+-----------+----------+\n",
            "| 29|Con Calma|Daddy Yankee|      latin|            94|    86|          74|        -3|       6|     66|   193|          11|          6|        91|\n",
            "| 47|Te Robar�|   Nicky Jam|      latin|           176|    75|          67|        -4|       8|     80|   202|          24|          6|        88|\n",
            "+---+---------+------------+-----------+--------------+------+------------+----------+--------+-------+------+------------+-----------+----------+\n",
            "\n"
          ],
          "name": "stdout"
        }
      ]
    },
    {
      "cell_type": "code",
      "metadata": {
        "id": "PlQXV-zyrzkB",
        "colab_type": "code",
        "outputId": "61d54075-ee55-46ce-b3e6-bcaa247defa9",
        "colab": {
          "base_uri": "https://localhost:8080/",
          "height": 510
        }
      },
      "source": [
        "df.filter((col(\"Danceability\") >50) & (col(\"Danceability\") <75)).show()"
      ],
      "execution_count": 42,
      "outputs": [
        {
          "output_type": "stream",
          "text": [
            "+---+--------------------+-------------+----------------+--------------+------+------------+----------+--------+-------+------+------------+-----------+----------+\n",
            "|Sno|           TrackName|   ArtistName|     TypeOfMusic|BeatsPerMinute|Energy|Danceability|LoudnessdB|Liveness|Valence|Length|Acousticness|Speechiness|Popularity|\n",
            "+---+--------------------+-------------+----------------+--------------+------+------------+----------+--------+-------+------+------------+-----------+----------+\n",
            "|  4|Beautiful People ...|   Ed Sheeran|             pop|            93|    65|          64|        -8|       8|     55|   198|          12|         19|        86|\n",
            "|  5|Goodbyes (Feat. Y...|  Post Malone|         dfw rap|           150|    65|          58|        -4|      11|     18|   175|          45|          7|        94|\n",
            "| 10|             bad guy|Billie Eilish|      electropop|           135|    43|          70|       -11|      10|     56|   194|          33|         38|        95|\n",
            "| 11|            Callaita|    Bad Bunny|       reggaeton|           176|    62|          61|        -5|      24|     24|   251|          60|         31|        93|\n",
            "| 14|  Otro Trago - Remix|         Sech|  panamanian pop|           176|    79|          73|        -2|       6|     76|   288|           7|         20|        87|\n",
            "| 16|No Guidance (feat...|  Chris Brown|       dance pop|            93|    45|          70|        -7|      16|     14|   261|          12|         15|        82|\n",
            "| 20|         Truth Hurts|        Lizzo|     escape room|           158|    62|          72|        -3|      12|     41|   173|          11|         11|        91|\n",
            "| 21| Piece Of Your Heart|       MEDUZA|       pop house|           124|    74|          68|        -7|       7|     63|   153|           4|          3|        91|\n",
            "| 22|              Panini|    Lil Nas X|     country rap|           154|    59|          70|        -6|      12|     48|   115|          34|          8|        91|\n",
            "| 25|bad guy (with Jus...|Billie Eilish|      electropop|           135|    45|          67|       -11|      12|     68|   195|          25|         30|        89|\n",
            "| 26| If I Can't Have You| Shawn Mendes|    canadian pop|           124|    82|          69|        -4|      13|     87|   191|          49|          6|        70|\n",
            "| 28|            It's You|    Ali Gatie|canadian hip hop|            96|    46|          73|        -7|      19|     40|   213|          37|          3|        89|\n",
            "| 29|           Con Calma| Daddy Yankee|           latin|            94|    86|          74|        -3|       6|     66|   193|          11|          6|        91|\n",
            "| 30|       QUE PRETENDES|     J Balvin|           latin|            93|    79|          64|        -4|      36|     94|   222|           3|         25|        89|\n",
            "| 36|Summer Days (feat...|Martin Garrix|        big room|           114|    72|          66|        -7|      14|     32|   164|          18|          6|        89|\n",
            "| 38|Antisocial (with ...|   Ed Sheeran|             pop|           152|    82|          72|        -5|      36|     91|   162|          13|          5|        87|\n",
            "| 41|         Higher Love|         Kygo|             edm|           104|    68|          69|        -7|      10|     40|   228|           2|          3|        88|\n",
            "| 43|             Shallow|    Lady Gaga|       dance pop|            96|    39|          57|        -6|      23|     32|   216|          37|          3|        87|\n",
            "| 46|     One Thing Right|   Marshmello|         brostep|            88|    62|          66|        -2|      58|     44|   182|           7|          5|        88|\n",
            "| 47|           Te Robar�|    Nicky Jam|           latin|           176|    75|          67|        -4|       8|     80|   202|          24|          6|        88|\n",
            "+---+--------------------+-------------+----------------+--------------+------+------------+----------+--------+-------+------+------------+-----------+----------+\n",
            "only showing top 20 rows\n",
            "\n"
          ],
          "name": "stdout"
        }
      ]
    },
    {
      "cell_type": "markdown",
      "metadata": {
        "id": "2MoajiMPsaR0",
        "colab_type": "text"
      },
      "source": [
        "**Filter without using col**"
      ]
    },
    {
      "cell_type": "code",
      "metadata": {
        "id": "F3xxGgLasC_3",
        "colab_type": "code",
        "outputId": "db9357c0-1be6-42af-baad-480e3646afc1",
        "colab": {
          "base_uri": "https://localhost:8080/",
          "height": 219
        }
      },
      "source": [
        "df.filter((df.TypeOfMusic==\"latin\")).show()"
      ],
      "execution_count": 43,
      "outputs": [
        {
          "output_type": "stream",
          "text": [
            "+---+---------------+------------+-----------+--------------+------+------------+----------+--------+-------+------+------------+-----------+----------+\n",
            "|Sno|      TrackName|  ArtistName|TypeOfMusic|BeatsPerMinute|Energy|Danceability|LoudnessdB|Liveness|Valence|Length|Acousticness|Speechiness|Popularity|\n",
            "+---+---------------+------------+-----------+--------------+------+------------+----------+--------+-------+------+------------+-----------+----------+\n",
            "| 17|     LA CANCI�N|    J Balvin|      latin|           176|    65|          75|        -6|      11|     43|   243|          15|         32|        90|\n",
            "| 24|Soltera - Remix|       Lunay|      latin|            92|    78|          80|        -4|      44|     80|   266|          36|          4|        91|\n",
            "| 29|      Con Calma|Daddy Yankee|      latin|            94|    86|          74|        -3|       6|     66|   193|          11|          6|        91|\n",
            "| 30|  QUE PRETENDES|    J Balvin|      latin|            93|    79|          64|        -4|      36|     94|   222|           3|         25|        89|\n",
            "| 47|      Te Robar�|   Nicky Jam|      latin|           176|    75|          67|        -4|       8|     80|   202|          24|          6|        88|\n",
            "+---+---------------+------------+-----------+--------------+------+------------+----------+--------+-------+------+------------+-----------+----------+\n",
            "\n"
          ],
          "name": "stdout"
        }
      ]
    },
    {
      "cell_type": "markdown",
      "metadata": {
        "id": "ETuT4l0musld",
        "colab_type": "text"
      },
      "source": [
        "**Group By/ Average**"
      ]
    },
    {
      "cell_type": "code",
      "metadata": {
        "id": "mqiovbLysUjP",
        "colab_type": "code",
        "outputId": "deb66af1-06bd-44e9-a25c-3861caa79b83",
        "colab": {
          "base_uri": "https://localhost:8080/",
          "height": 490
        }
      },
      "source": [
        "df.groupby(\"TypeOfMusic\").avg(\"Length\").show()"
      ],
      "execution_count": 44,
      "outputs": [
        {
          "output_type": "stream",
          "text": [
            "+----------------+------------------+\n",
            "|     TypeOfMusic|       avg(Length)|\n",
            "+----------------+------------------+\n",
            "|        boy band|             181.0|\n",
            "|      electropop|             194.5|\n",
            "|             pop|195.42857142857142|\n",
            "|         brostep|             198.0|\n",
            "|        big room|             164.0|\n",
            "|       pop house|             153.0|\n",
            "|  australian pop|             210.0|\n",
            "|             edm|218.66666666666666|\n",
            "|  r&b en espanol|             162.0|\n",
            "|       dance pop|           202.625|\n",
            "|       reggaeton|             213.5|\n",
            "|    canadian pop|             191.0|\n",
            "|      trap music|             131.0|\n",
            "|     escape room|             173.0|\n",
            "|  reggaeton flow|             305.5|\n",
            "|  panamanian pop|             257.0|\n",
            "|     atl hip hop|             200.0|\n",
            "|     country rap|             136.0|\n",
            "|canadian hip hop|             193.0|\n",
            "|         dfw rap|             166.5|\n",
            "+----------------+------------------+\n",
            "only showing top 20 rows\n",
            "\n"
          ],
          "name": "stdout"
        }
      ]
    },
    {
      "cell_type": "code",
      "metadata": {
        "id": "KimV54sLtwLI",
        "colab_type": "code",
        "colab": {}
      },
      "source": [
        "from pyspark.sql.functions import countDistinct"
      ],
      "execution_count": 0,
      "outputs": []
    },
    {
      "cell_type": "markdown",
      "metadata": {
        "id": "BWjReSWLxHQl",
        "colab_type": "text"
      },
      "source": [
        "**Group By/ Count Distinct/ (Below) Count**"
      ]
    },
    {
      "cell_type": "code",
      "metadata": {
        "id": "vZ0Wo51jvvbA",
        "colab_type": "code",
        "outputId": "1146b768-44bd-4e2a-89dd-f4e0b5d4610f",
        "colab": {
          "base_uri": "https://localhost:8080/",
          "height": 490
        }
      },
      "source": [
        "df.groupBy(\"TypeOfMusic\").agg(countDistinct(\"ArtistName\")).show()"
      ],
      "execution_count": 46,
      "outputs": [
        {
          "output_type": "stream",
          "text": [
            "+----------------+--------------------------+\n",
            "|     TypeOfMusic|count(DISTINCT ArtistName)|\n",
            "+----------------+--------------------------+\n",
            "|        boy band|                         1|\n",
            "|      electropop|                         1|\n",
            "|             pop|                         4|\n",
            "|         brostep|                         1|\n",
            "|        big room|                         1|\n",
            "|       pop house|                         1|\n",
            "|  australian pop|                         1|\n",
            "|             edm|                         2|\n",
            "|  r&b en espanol|                         1|\n",
            "|       dance pop|                         7|\n",
            "|       reggaeton|                         2|\n",
            "|    canadian pop|                         1|\n",
            "|      trap music|                         1|\n",
            "|     escape room|                         1|\n",
            "|  reggaeton flow|                         2|\n",
            "|  panamanian pop|                         1|\n",
            "|     atl hip hop|                         1|\n",
            "|     country rap|                         1|\n",
            "|canadian hip hop|                         3|\n",
            "|         dfw rap|                         1|\n",
            "+----------------+--------------------------+\n",
            "only showing top 20 rows\n",
            "\n"
          ],
          "name": "stdout"
        }
      ]
    },
    {
      "cell_type": "code",
      "metadata": {
        "id": "iTPtRBfqwLZK",
        "colab_type": "code",
        "outputId": "45e4bd9d-2a6d-41fe-887d-2232420b8a6f",
        "colab": {
          "base_uri": "https://localhost:8080/",
          "height": 490
        }
      },
      "source": [
        "df.groupBy(\"TypeOfMusic\").agg(count(\"ArtistName\")).show()"
      ],
      "execution_count": 47,
      "outputs": [
        {
          "output_type": "stream",
          "text": [
            "+----------------+-----------------+\n",
            "|     TypeOfMusic|count(ArtistName)|\n",
            "+----------------+-----------------+\n",
            "|        boy band|                1|\n",
            "|      electropop|                2|\n",
            "|             pop|                7|\n",
            "|         brostep|                2|\n",
            "|        big room|                1|\n",
            "|       pop house|                1|\n",
            "|  australian pop|                1|\n",
            "|             edm|                3|\n",
            "|  r&b en espanol|                1|\n",
            "|       dance pop|                8|\n",
            "|       reggaeton|                2|\n",
            "|    canadian pop|                2|\n",
            "|      trap music|                1|\n",
            "|     escape room|                1|\n",
            "|  reggaeton flow|                2|\n",
            "|  panamanian pop|                2|\n",
            "|     atl hip hop|                1|\n",
            "|     country rap|                2|\n",
            "|canadian hip hop|                3|\n",
            "|         dfw rap|                2|\n",
            "+----------------+-----------------+\n",
            "only showing top 20 rows\n",
            "\n"
          ],
          "name": "stdout"
        }
      ]
    },
    {
      "cell_type": "markdown",
      "metadata": {
        "id": "x-1aLRtwx6hD",
        "colab_type": "text"
      },
      "source": [
        "**Alias in group by**"
      ]
    },
    {
      "cell_type": "code",
      "metadata": {
        "id": "qhZ-S4Mnwp3h",
        "colab_type": "code",
        "outputId": "a9a9b597-506a-496d-aa21-bc19b62f1df2",
        "colab": {
          "base_uri": "https://localhost:8080/",
          "height": 490
        }
      },
      "source": [
        "df.groupBy(\"TypeOfMusic\").agg(count(\"ArtistName\").alias(\"Count\")).show()"
      ],
      "execution_count": 48,
      "outputs": [
        {
          "output_type": "stream",
          "text": [
            "+----------------+-----+\n",
            "|     TypeOfMusic|Count|\n",
            "+----------------+-----+\n",
            "|        boy band|    1|\n",
            "|      electropop|    2|\n",
            "|             pop|    7|\n",
            "|         brostep|    2|\n",
            "|        big room|    1|\n",
            "|       pop house|    1|\n",
            "|  australian pop|    1|\n",
            "|             edm|    3|\n",
            "|  r&b en espanol|    1|\n",
            "|       dance pop|    8|\n",
            "|       reggaeton|    2|\n",
            "|    canadian pop|    2|\n",
            "|      trap music|    1|\n",
            "|     escape room|    1|\n",
            "|  reggaeton flow|    2|\n",
            "|  panamanian pop|    2|\n",
            "|     atl hip hop|    1|\n",
            "|     country rap|    2|\n",
            "|canadian hip hop|    3|\n",
            "|         dfw rap|    2|\n",
            "+----------------+-----+\n",
            "only showing top 20 rows\n",
            "\n"
          ],
          "name": "stdout"
        }
      ]
    },
    {
      "cell_type": "markdown",
      "metadata": {
        "id": "QWtMWvEBHoVE",
        "colab_type": "text"
      },
      "source": [
        "**Group By Having/ Filter**"
      ]
    },
    {
      "cell_type": "code",
      "metadata": {
        "id": "bjseKhQvCiOt",
        "colab_type": "code",
        "outputId": "173d3626-9fb8-4095-e344-a5f34be42856",
        "colab": {
          "base_uri": "https://localhost:8080/",
          "height": 199
        }
      },
      "source": [
        "df.groupBy(\"TypeOfMusic\").agg(count(\"ArtistName\").alias(\"Count\")).filter(col(\"Count\")>2).show()"
      ],
      "execution_count": 49,
      "outputs": [
        {
          "output_type": "stream",
          "text": [
            "+----------------+-----+\n",
            "|     TypeOfMusic|Count|\n",
            "+----------------+-----+\n",
            "|             pop|    7|\n",
            "|             edm|    3|\n",
            "|       dance pop|    8|\n",
            "|canadian hip hop|    3|\n",
            "|           latin|    5|\n",
            "+----------------+-----+\n",
            "\n"
          ],
          "name": "stdout"
        }
      ]
    },
    {
      "cell_type": "markdown",
      "metadata": {
        "id": "n-LF7QZ6yhtm",
        "colab_type": "text"
      },
      "source": [
        "**Arrange in ascending/descending order /order by**"
      ]
    },
    {
      "cell_type": "code",
      "metadata": {
        "id": "1tD1K9YZxhXI",
        "colab_type": "code",
        "outputId": "4250bcdf-b89c-4df5-8273-9b0e3f0290bd",
        "colab": {
          "base_uri": "https://localhost:8080/",
          "height": 490
        }
      },
      "source": [
        "df.groupBy(\"TypeOfMusic\").agg(count(\"ArtistName\").alias(\"Count\")).orderBy('Count').show()"
      ],
      "execution_count": 50,
      "outputs": [
        {
          "output_type": "stream",
          "text": [
            "+----------------+-----+\n",
            "|     TypeOfMusic|Count|\n",
            "+----------------+-----+\n",
            "|       pop house|    1|\n",
            "|      trap music|    1|\n",
            "|     escape room|    1|\n",
            "|  australian pop|    1|\n",
            "|        boy band|    1|\n",
            "|     atl hip hop|    1|\n",
            "|  r&b en espanol|    1|\n",
            "|        big room|    1|\n",
            "|      electropop|    2|\n",
            "|    canadian pop|    2|\n",
            "|  reggaeton flow|    2|\n",
            "|  panamanian pop|    2|\n",
            "|         brostep|    2|\n",
            "|       reggaeton|    2|\n",
            "|     country rap|    2|\n",
            "|         dfw rap|    2|\n",
            "|canadian hip hop|    3|\n",
            "|             edm|    3|\n",
            "|           latin|    5|\n",
            "|             pop|    7|\n",
            "+----------------+-----+\n",
            "only showing top 20 rows\n",
            "\n"
          ],
          "name": "stdout"
        }
      ]
    },
    {
      "cell_type": "code",
      "metadata": {
        "id": "4kVkQhnXyPFY",
        "colab_type": "code",
        "outputId": "45aa6be5-9c17-453a-d56a-a84d0b110f82",
        "colab": {
          "base_uri": "https://localhost:8080/",
          "height": 490
        }
      },
      "source": [
        "df.groupBy(\"TypeOfMusic\").agg(count(\"ArtistName\").alias(\"Count\")).orderBy(desc('Count')).show()"
      ],
      "execution_count": 51,
      "outputs": [
        {
          "output_type": "stream",
          "text": [
            "+----------------+-----+\n",
            "|     TypeOfMusic|Count|\n",
            "+----------------+-----+\n",
            "|       dance pop|    8|\n",
            "|             pop|    7|\n",
            "|           latin|    5|\n",
            "|             edm|    3|\n",
            "|canadian hip hop|    3|\n",
            "|      electropop|    2|\n",
            "|         brostep|    2|\n",
            "|         dfw rap|    2|\n",
            "|       reggaeton|    2|\n",
            "|    canadian pop|    2|\n",
            "|  reggaeton flow|    2|\n",
            "|  panamanian pop|    2|\n",
            "|     country rap|    2|\n",
            "|        boy band|    1|\n",
            "|        big room|    1|\n",
            "|       pop house|    1|\n",
            "|  r&b en espanol|    1|\n",
            "|      trap music|    1|\n",
            "|  australian pop|    1|\n",
            "|     atl hip hop|    1|\n",
            "+----------------+-----+\n",
            "only showing top 20 rows\n",
            "\n"
          ],
          "name": "stdout"
        }
      ]
    },
    {
      "cell_type": "code",
      "metadata": {
        "id": "UrIROVqQyc16",
        "colab_type": "code",
        "outputId": "59a00945-c4e5-4e23-a897-d6d3648c9708",
        "colab": {
          "base_uri": "https://localhost:8080/",
          "height": 490
        }
      },
      "source": [
        "df.groupBy(\"TypeOfMusic\").agg((max(\"Danceability\")-min(\"Danceability\")).alias(\"max-min\")).show()"
      ],
      "execution_count": 52,
      "outputs": [
        {
          "output_type": "stream",
          "text": [
            "+----------------+-------+\n",
            "|     TypeOfMusic|max-min|\n",
            "+----------------+-------+\n",
            "|        boy band|      0|\n",
            "|      electropop|      3|\n",
            "|             pop|     42|\n",
            "|         brostep|      3|\n",
            "|        big room|      0|\n",
            "|       pop house|      0|\n",
            "|  australian pop|      0|\n",
            "|             edm|     40|\n",
            "|  r&b en espanol|      0|\n",
            "|       dance pop|     42|\n",
            "|       reggaeton|     17|\n",
            "|    canadian pop|      7|\n",
            "|      trap music|      0|\n",
            "|     escape room|      0|\n",
            "|  reggaeton flow|      2|\n",
            "|  panamanian pop|      2|\n",
            "|     atl hip hop|      0|\n",
            "|     country rap|     18|\n",
            "|canadian hip hop|     11|\n",
            "|         dfw rap|     18|\n",
            "+----------------+-------+\n",
            "only showing top 20 rows\n",
            "\n"
          ],
          "name": "stdout"
        }
      ]
    },
    {
      "cell_type": "code",
      "metadata": {
        "id": "1xP2cWcc0JL5",
        "colab_type": "code",
        "outputId": "9ca4c45e-f984-4bed-cc3d-2488dee48075",
        "colab": {
          "base_uri": "https://localhost:8080/",
          "height": 365
        }
      },
      "source": [
        "dataset1 = [\n",
        "\n",
        "  {\n",
        "\n",
        "  'key' : 'abc',\n",
        "\n",
        "  'val11' : 1.1,\n",
        "\n",
        "  'val12' : 1.2\n",
        "\n",
        "  },\n",
        "\n",
        "  {\n",
        "\n",
        "  'key' : 'def',\n",
        "\n",
        "  'val11' : 3.0,\n",
        "\n",
        "  'val12' : 3.4\n",
        "\n",
        "  }\n",
        "\n",
        "]\n",
        "\n",
        "dataset2 = [\n",
        "\n",
        "  {\n",
        "\n",
        "  'key' : 'abc',\n",
        "\n",
        "  'val21' : 2.1,\n",
        "\n",
        "  'val22' : 2.2\n",
        "\n",
        "  },\n",
        "\n",
        "  {\n",
        "\n",
        "  'key' : 'xyz',\n",
        "\n",
        "  'val21' : 3.1,\n",
        "\n",
        "  'val22' : 3.2\n",
        "\n",
        "  }\n",
        "\n",
        "]\n",
        "\n",
        "rdd1 = sc.parallelize(dataset1)\n",
        "\n",
        "df1 = spark.createDataFrame(rdd1)\n",
        "\n",
        "print('df1')\n",
        "\n",
        "df1.show()\n",
        "\n",
        "rdd2 = sc.parallelize(dataset2)\n",
        "\n",
        "df2 = spark.createDataFrame(rdd2)\n",
        "\n",
        "print('df2')\n",
        "\n",
        "df2.show()"
      ],
      "execution_count": 53,
      "outputs": [
        {
          "output_type": "stream",
          "text": [
            "/usr/local/lib/python3.6/dist-packages/pyspark/sql/session.py:366: UserWarning: Using RDD of dict to inferSchema is deprecated. Use pyspark.sql.Row instead\n",
            "  warnings.warn(\"Using RDD of dict to inferSchema is deprecated. \"\n"
          ],
          "name": "stderr"
        },
        {
          "output_type": "stream",
          "text": [
            "df1\n",
            "+---+-----+-----+\n",
            "|key|val11|val12|\n",
            "+---+-----+-----+\n",
            "|abc|  1.1|  1.2|\n",
            "|def|  3.0|  3.4|\n",
            "+---+-----+-----+\n",
            "\n",
            "df2\n",
            "+---+-----+-----+\n",
            "|key|val21|val22|\n",
            "+---+-----+-----+\n",
            "|abc|  2.1|  2.2|\n",
            "|xyz|  3.1|  3.2|\n",
            "+---+-----+-----+\n",
            "\n"
          ],
          "name": "stdout"
        }
      ]
    },
    {
      "cell_type": "markdown",
      "metadata": {
        "id": "nT230EeBGkFa",
        "colab_type": "text"
      },
      "source": [
        "**Join works with jdk 1.8**"
      ]
    },
    {
      "cell_type": "code",
      "metadata": {
        "id": "m_CqRNTU1JiJ",
        "colab_type": "code",
        "colab": {}
      },
      "source": [
        "\n",
        "df3=df1.join(df2,on=['key'],how='inner')"
      ],
      "execution_count": 0,
      "outputs": []
    },
    {
      "cell_type": "code",
      "metadata": {
        "id": "2YAxdMN0Gvxn",
        "colab_type": "code",
        "outputId": "af071c39-768a-4030-fa4d-6d0d92999bad",
        "colab": {
          "base_uri": "https://localhost:8080/",
          "height": 145
        }
      },
      "source": [
        "df1.join(df2,on=['key'],how='left_outer').show()"
      ],
      "execution_count": 55,
      "outputs": [
        {
          "output_type": "stream",
          "text": [
            "+---+-----+-----+-----+-----+\n",
            "|key|val11|val12|val21|val22|\n",
            "+---+-----+-----+-----+-----+\n",
            "|abc|  1.1|  1.2|  2.1|  2.2|\n",
            "|def|  3.0|  3.4| null| null|\n",
            "+---+-----+-----+-----+-----+\n",
            "\n"
          ],
          "name": "stdout"
        }
      ]
    },
    {
      "cell_type": "code",
      "metadata": {
        "id": "XA2ImHA91lQB",
        "colab_type": "code",
        "outputId": "a2ce6b26-659c-402a-cf5a-1e0d3b11ef6d",
        "colab": {
          "base_uri": "https://localhost:8080/",
          "height": 126
        }
      },
      "source": [
        "df3.show()"
      ],
      "execution_count": 56,
      "outputs": [
        {
          "output_type": "stream",
          "text": [
            "+---+-----+-----+-----+-----+\n",
            "|key|val11|val12|val21|val22|\n",
            "+---+-----+-----+-----+-----+\n",
            "|abc|  1.1|  1.2|  2.1|  2.2|\n",
            "+---+-----+-----+-----+-----+\n",
            "\n"
          ],
          "name": "stdout"
        }
      ]
    },
    {
      "cell_type": "code",
      "metadata": {
        "id": "MDK_dmUz1wKB",
        "colab_type": "code",
        "outputId": "f663100f-a84e-4780-e676-cc4299e3254f",
        "colab": {
          "base_uri": "https://localhost:8080/",
          "height": 181
        }
      },
      "source": [
        "df1.crossJoin(df2.select(\"key\")).show()"
      ],
      "execution_count": 57,
      "outputs": [
        {
          "output_type": "stream",
          "text": [
            "+---+-----+-----+---+\n",
            "|key|val11|val12|key|\n",
            "+---+-----+-----+---+\n",
            "|abc|  1.1|  1.2|abc|\n",
            "|abc|  1.1|  1.2|xyz|\n",
            "|def|  3.0|  3.4|abc|\n",
            "|def|  3.0|  3.4|xyz|\n",
            "+---+-----+-----+---+\n",
            "\n"
          ],
          "name": "stdout"
        }
      ]
    },
    {
      "cell_type": "code",
      "metadata": {
        "id": "jUpcRRyx390h",
        "colab_type": "code",
        "colab": {}
      },
      "source": [
        "df1.createOrReplaceTempView(\"df1\")"
      ],
      "execution_count": 0,
      "outputs": []
    },
    {
      "cell_type": "code",
      "metadata": {
        "id": "2cliIvrt9ILb",
        "colab_type": "code",
        "colab": {}
      },
      "source": [
        "df2.createOrReplaceTempView(\"df2\")"
      ],
      "execution_count": 0,
      "outputs": []
    },
    {
      "cell_type": "code",
      "metadata": {
        "id": "TLq3ga3Q4UhJ",
        "colab_type": "code",
        "colab": {}
      },
      "source": [
        "df3=spark.sql(\"SELECT df1.key,df1.val11,df2.val21 FROM df1 LEFT JOIN df2 on df1.key==df2.key\")"
      ],
      "execution_count": 0,
      "outputs": []
    },
    {
      "cell_type": "code",
      "metadata": {
        "id": "7pCF9anD6Uni",
        "colab_type": "code",
        "outputId": "51fc0d01-111b-4188-fa9c-68d0a81f2e84",
        "colab": {
          "base_uri": "https://localhost:8080/",
          "height": 145
        }
      },
      "source": [
        "df3.show()"
      ],
      "execution_count": 61,
      "outputs": [
        {
          "output_type": "stream",
          "text": [
            "+---+-----+-----+\n",
            "|key|val11|val21|\n",
            "+---+-----+-----+\n",
            "|abc|  1.1|  2.1|\n",
            "|def|  3.0| null|\n",
            "+---+-----+-----+\n",
            "\n"
          ],
          "name": "stdout"
        }
      ]
    },
    {
      "cell_type": "code",
      "metadata": {
        "id": "4AEHK4vG61z6",
        "colab_type": "code",
        "outputId": "ca67ce05-21ab-431a-8b50-836e6b91d1e3",
        "colab": {
          "base_uri": "https://localhost:8080/",
          "height": 172
        }
      },
      "source": [
        "df4.show()"
      ],
      "execution_count": 0,
      "outputs": [
        {
          "output_type": "error",
          "ename": "NameError",
          "evalue": "ignored",
          "traceback": [
            "\u001b[0;31m---------------------------------------------------------------------------\u001b[0m",
            "\u001b[0;31mNameError\u001b[0m                                 Traceback (most recent call last)",
            "\u001b[0;32m<ipython-input-67-4d37eba09562>\u001b[0m in \u001b[0;36m<module>\u001b[0;34m()\u001b[0m\n\u001b[0;32m----> 1\u001b[0;31m \u001b[0mdf4\u001b[0m\u001b[0;34m.\u001b[0m\u001b[0mshow\u001b[0m\u001b[0;34m(\u001b[0m\u001b[0;34m)\u001b[0m\u001b[0;34m\u001b[0m\u001b[0;34m\u001b[0m\u001b[0m\n\u001b[0m",
            "\u001b[0;31mNameError\u001b[0m: name 'df4' is not defined"
          ]
        }
      ]
    },
    {
      "cell_type": "code",
      "metadata": {
        "id": "qf5gcpjj7xiQ",
        "colab_type": "code",
        "outputId": "27839af0-425e-4063-9832-f553263b8d5a",
        "colab": {
          "base_uri": "https://localhost:8080/",
          "height": 110
        }
      },
      "source": [
        "!apt-get install openjdk-8-jdk-headless -qq > /dev/null\n",
        "import os\n",
        "os.environ[\"JAVA_HOME\"] = \"/usr/lib/jvm/java-8-openjdk-amd64\"\n",
        "!update-alternatives --set java /usr/lib/jvm/java-11-openjdk-amd64/jre/bin/java\n",
        "!java -version"
      ],
      "execution_count": 1,
      "outputs": [
        {
          "output_type": "stream",
          "text": [
            "update-alternatives: error: alternative /usr/lib/jvm/java-11-openjdk-amd64/jre/bin/java for java not registered; not setting\n",
            "openjdk version \"11.0.5\" 2019-10-15\n",
            "OpenJDK Runtime Environment (build 11.0.5+10-post-Ubuntu-0ubuntu1.118.04)\n",
            "OpenJDK 64-Bit Server VM (build 11.0.5+10-post-Ubuntu-0ubuntu1.118.04, mixed mode, sharing)\n"
          ],
          "name": "stdout"
        }
      ]
    },
    {
      "cell_type": "code",
      "metadata": {
        "id": "mKecqn4cDpT9",
        "colab_type": "code",
        "outputId": "f95f235b-89d3-437e-d2bc-be17ea3f6ea7",
        "colab": {
          "base_uri": "https://localhost:8080/",
          "height": 135
        }
      },
      "source": [
        "export JAVA_HOME=$(/usr/libexec/java_home -v 1.8)"
      ],
      "execution_count": 0,
      "outputs": [
        {
          "output_type": "error",
          "ename": "SyntaxError",
          "evalue": "ignored",
          "traceback": [
            "\u001b[0;36m  File \u001b[0;32m\"<ipython-input-225-3e2e08e55610>\"\u001b[0;36m, line \u001b[0;32m1\u001b[0m\n\u001b[0;31m    export JAVA_HOME=$(/usr/libexec/java_home -v 1.8)\u001b[0m\n\u001b[0m                   ^\u001b[0m\n\u001b[0;31mSyntaxError\u001b[0m\u001b[0;31m:\u001b[0m invalid syntax\n"
          ]
        }
      ]
    },
    {
      "cell_type": "code",
      "metadata": {
        "id": "sldGNtPBEiac",
        "colab_type": "code",
        "colab": {}
      },
      "source": [
        "import subprocess"
      ],
      "execution_count": 0,
      "outputs": []
    },
    {
      "cell_type": "code",
      "metadata": {
        "id": "cmhxBe_oFHlz",
        "colab_type": "code",
        "colab": {}
      },
      "source": [
        "\n",
        "version = subprocess.check_output(['java', '-version'], stderr=subprocess.STDOUT)"
      ],
      "execution_count": 0,
      "outputs": []
    },
    {
      "cell_type": "code",
      "metadata": {
        "id": "QfoisD05FKPt",
        "colab_type": "code",
        "outputId": "c4fffdf1-8886-4b9b-e2b6-9915eeec3d1a",
        "colab": {
          "base_uri": "https://localhost:8080/",
          "height": 55
        }
      },
      "source": [
        "print(version)"
      ],
      "execution_count": 4,
      "outputs": [
        {
          "output_type": "stream",
          "text": [
            "b'openjdk version \"11.0.5\" 2019-10-15\\nOpenJDK Runtime Environment (build 11.0.5+10-post-Ubuntu-0ubuntu1.118.04)\\nOpenJDK 64-Bit Server VM (build 11.0.5+10-post-Ubuntu-0ubuntu1.118.04, mixed mode, sharing)\\n'\n"
          ],
          "name": "stdout"
        }
      ]
    },
    {
      "cell_type": "code",
      "metadata": {
        "id": "tN2mMNGeFMyz",
        "colab_type": "code",
        "colab": {}
      },
      "source": [
        ""
      ],
      "execution_count": 0,
      "outputs": []
    },
    {
      "cell_type": "markdown",
      "metadata": {
        "id": "FxxK0bXeIQJp",
        "colab_type": "text"
      },
      "source": [
        "**User Define Function /UDF/lambda**"
      ]
    },
    {
      "cell_type": "code",
      "metadata": {
        "id": "K1jwyQJAIWaL",
        "colab_type": "code",
        "colab": {}
      },
      "source": [
        "func=udf(lambda x:x*5)"
      ],
      "execution_count": 0,
      "outputs": []
    },
    {
      "cell_type": "code",
      "metadata": {
        "id": "NwcJFgPeIh2s",
        "colab_type": "code",
        "outputId": "775adde5-c060-4bef-f90f-08613a61c09a",
        "colab": {
          "base_uri": "https://localhost:8080/",
          "height": 510
        }
      },
      "source": [
        "df.show()"
      ],
      "execution_count": 63,
      "outputs": [
        {
          "output_type": "stream",
          "text": [
            "+---+--------------------+-------------+----------------+--------------+------+------------+----------+--------+-------+------+------------+-----------+----------+\n",
            "|Sno|           TrackName|   ArtistName|     TypeOfMusic|BeatsPerMinute|Energy|Danceability|LoudnessdB|Liveness|Valence|Length|Acousticness|Speechiness|Popularity|\n",
            "+---+--------------------+-------------+----------------+--------------+------+------------+----------+--------+-------+------+------------+-----------+----------+\n",
            "|  1|            Se�orita| Shawn Mendes|    canadian pop|           117|    55|          76|        -6|       8|     75|   191|           4|          3|        79|\n",
            "|  2|               China|     Anuel AA|  reggaeton flow|           105|    81|          79|        -4|       8|     61|   302|           8|          9|        92|\n",
            "|  3|boyfriend (with S...|Ariana Grande|       dance pop|           190|    80|          40|        -4|      16|     70|   186|          12|         46|        85|\n",
            "|  4|Beautiful People ...|   Ed Sheeran|             pop|            93|    65|          64|        -8|       8|     55|   198|          12|         19|        86|\n",
            "|  5|Goodbyes (Feat. Y...|  Post Malone|         dfw rap|           150|    65|          58|        -4|      11|     18|   175|          45|          7|        94|\n",
            "|  6|I Don't Care (wit...|   Ed Sheeran|             pop|           102|    68|          80|        -5|       9|     84|   220|           9|          4|        84|\n",
            "|  7|              Ransom|    Lil Tecca|      trap music|           180|    64|          75|        -6|       7|     23|   131|           2|         29|        92|\n",
            "|  8|   How Do You Sleep?|    Sam Smith|             pop|           111|    68|          48|        -5|       8|     35|   202|          15|          9|        90|\n",
            "|  9|Old Town Road - R...|    Lil Nas X|     country rap|           136|    62|          88|        -6|      11|     64|   157|           5|         10|        87|\n",
            "| 10|             bad guy|Billie Eilish|      electropop|           135|    43|          70|       -11|      10|     56|   194|          33|         38|        95|\n",
            "| 11|            Callaita|    Bad Bunny|       reggaeton|           176|    62|          61|        -5|      24|     24|   251|          60|         31|        93|\n",
            "| 12|Loco Contigo (fea...|     DJ Snake|       dance pop|            96|    71|          82|        -4|      15|     38|   185|          28|          7|        86|\n",
            "| 13|   Someone You Loved|Lewis Capaldi|             pop|           110|    41|          50|        -6|      11|     45|   182|          75|          3|        88|\n",
            "| 14|  Otro Trago - Remix|         Sech|  panamanian pop|           176|    79|          73|        -2|       6|     76|   288|           7|         20|        87|\n",
            "| 15|Money In The Grav...|        Drake|canadian hip hop|           101|    50|          83|        -4|      12|     10|   205|          10|          5|        92|\n",
            "| 16|No Guidance (feat...|  Chris Brown|       dance pop|            93|    45|          70|        -7|      16|     14|   261|          12|         15|        82|\n",
            "| 17|          LA CANCI�N|     J Balvin|           latin|           176|    65|          75|        -6|      11|     43|   243|          15|         32|        90|\n",
            "| 18|Sunflower - Spide...|  Post Malone|         dfw rap|            90|    48|          76|        -6|       7|     91|   158|          56|          5|        91|\n",
            "| 19|              Lalala|          Y2K|canadian hip hop|           130|    39|          84|        -8|      14|     50|   161|          18|          8|        88|\n",
            "| 20|         Truth Hurts|        Lizzo|     escape room|           158|    62|          72|        -3|      12|     41|   173|          11|         11|        91|\n",
            "+---+--------------------+-------------+----------------+--------------+------+------------+----------+--------+-------+------+------------+-----------+----------+\n",
            "only showing top 20 rows\n",
            "\n"
          ],
          "name": "stdout"
        }
      ]
    },
    {
      "cell_type": "code",
      "metadata": {
        "id": "mCdkLLttInBt",
        "colab_type": "code",
        "outputId": "e607a635-3b39-4fd4-945e-18691d40851e",
        "colab": {
          "base_uri": "https://localhost:8080/",
          "height": 510
        }
      },
      "source": [
        "df.withColumn(\"BeatsPerMinute\",func(\"BeatsPerMinute\")).show()"
      ],
      "execution_count": 64,
      "outputs": [
        {
          "output_type": "stream",
          "text": [
            "+---+--------------------+-------------+----------------+--------------+------+------------+----------+--------+-------+------+------------+-----------+----------+\n",
            "|Sno|           TrackName|   ArtistName|     TypeOfMusic|BeatsPerMinute|Energy|Danceability|LoudnessdB|Liveness|Valence|Length|Acousticness|Speechiness|Popularity|\n",
            "+---+--------------------+-------------+----------------+--------------+------+------------+----------+--------+-------+------+------------+-----------+----------+\n",
            "|  1|            Se�orita| Shawn Mendes|    canadian pop|           585|    55|          76|        -6|       8|     75|   191|           4|          3|        79|\n",
            "|  2|               China|     Anuel AA|  reggaeton flow|           525|    81|          79|        -4|       8|     61|   302|           8|          9|        92|\n",
            "|  3|boyfriend (with S...|Ariana Grande|       dance pop|           950|    80|          40|        -4|      16|     70|   186|          12|         46|        85|\n",
            "|  4|Beautiful People ...|   Ed Sheeran|             pop|           465|    65|          64|        -8|       8|     55|   198|          12|         19|        86|\n",
            "|  5|Goodbyes (Feat. Y...|  Post Malone|         dfw rap|           750|    65|          58|        -4|      11|     18|   175|          45|          7|        94|\n",
            "|  6|I Don't Care (wit...|   Ed Sheeran|             pop|           510|    68|          80|        -5|       9|     84|   220|           9|          4|        84|\n",
            "|  7|              Ransom|    Lil Tecca|      trap music|           900|    64|          75|        -6|       7|     23|   131|           2|         29|        92|\n",
            "|  8|   How Do You Sleep?|    Sam Smith|             pop|           555|    68|          48|        -5|       8|     35|   202|          15|          9|        90|\n",
            "|  9|Old Town Road - R...|    Lil Nas X|     country rap|           680|    62|          88|        -6|      11|     64|   157|           5|         10|        87|\n",
            "| 10|             bad guy|Billie Eilish|      electropop|           675|    43|          70|       -11|      10|     56|   194|          33|         38|        95|\n",
            "| 11|            Callaita|    Bad Bunny|       reggaeton|           880|    62|          61|        -5|      24|     24|   251|          60|         31|        93|\n",
            "| 12|Loco Contigo (fea...|     DJ Snake|       dance pop|           480|    71|          82|        -4|      15|     38|   185|          28|          7|        86|\n",
            "| 13|   Someone You Loved|Lewis Capaldi|             pop|           550|    41|          50|        -6|      11|     45|   182|          75|          3|        88|\n",
            "| 14|  Otro Trago - Remix|         Sech|  panamanian pop|           880|    79|          73|        -2|       6|     76|   288|           7|         20|        87|\n",
            "| 15|Money In The Grav...|        Drake|canadian hip hop|           505|    50|          83|        -4|      12|     10|   205|          10|          5|        92|\n",
            "| 16|No Guidance (feat...|  Chris Brown|       dance pop|           465|    45|          70|        -7|      16|     14|   261|          12|         15|        82|\n",
            "| 17|          LA CANCI�N|     J Balvin|           latin|           880|    65|          75|        -6|      11|     43|   243|          15|         32|        90|\n",
            "| 18|Sunflower - Spide...|  Post Malone|         dfw rap|           450|    48|          76|        -6|       7|     91|   158|          56|          5|        91|\n",
            "| 19|              Lalala|          Y2K|canadian hip hop|           650|    39|          84|        -8|      14|     50|   161|          18|          8|        88|\n",
            "| 20|         Truth Hurts|        Lizzo|     escape room|           790|    62|          72|        -3|      12|     41|   173|          11|         11|        91|\n",
            "+---+--------------------+-------------+----------------+--------------+------+------------+----------+--------+-------+------+------------+-----------+----------+\n",
            "only showing top 20 rows\n",
            "\n"
          ],
          "name": "stdout"
        }
      ]
    },
    {
      "cell_type": "code",
      "metadata": {
        "id": "go3YwfjmI2UD",
        "colab_type": "code",
        "colab": {}
      },
      "source": [
        "df5=spark.read.format(\"csv\").options(header='true',inferschema='true').load('/content/drive/My Drive/Datasets/employees.csv')\n",
        "\n",
        "#/content/drive/My Drive/top50.csv"
      ],
      "execution_count": 0,
      "outputs": []
    },
    {
      "cell_type": "code",
      "metadata": {
        "id": "aH4iAfM1vA7T",
        "colab_type": "code",
        "colab": {
          "base_uri": "https://localhost:8080/",
          "height": 1000
        },
        "outputId": "f3a8a894-0591-4e8a-c849-78023701279a"
      },
      "source": [
        "df5.show(50)"
      ],
      "execution_count": 67,
      "outputs": [
        {
          "output_type": "stream",
          "text": [
            "+----------+------+----------+---------------+------+-------+-----------------+--------------------+\n",
            "|First Name|Gender|Start Date|Last Login Time|Salary|Bonus %|Senior Management|                Team|\n",
            "+----------+------+----------+---------------+------+-------+-----------------+--------------------+\n",
            "|   Douglas|  Male|  8/6/1993|       12:42 PM| 97308|  6.945|             true|           Marketing|\n",
            "|    Thomas|  Male| 3/31/1996|        6:53 AM| 61933|   4.17|             true|                null|\n",
            "|     Maria|Female| 4/23/1993|       11:17 AM|130590| 11.858|            false|             Finance|\n",
            "|     Jerry|  Male|  3/4/2005|        1:00 PM|138705|   9.34|             true|             Finance|\n",
            "|     Larry|  Male| 1/24/1998|        4:47 PM|101004|  1.389|             true|     Client Services|\n",
            "|    Dennis|  Male| 4/18/1987|        1:35 AM|115163| 10.125|            false|               Legal|\n",
            "|      Ruby|Female| 8/17/1987|        4:20 PM| 65476| 10.012|             true|             Product|\n",
            "|      null|Female| 7/20/2015|       10:43 AM| 45906| 11.598|             null|             Finance|\n",
            "|    Angela|Female|11/22/2005|        6:29 AM| 95570| 18.523|             true|         Engineering|\n",
            "|   Frances|Female|  8/8/2002|        6:51 AM|139852|  7.524|             true|Business Development|\n",
            "|    Louise|Female| 8/12/1980|        9:01 AM| 63241| 15.132|             true|                null|\n",
            "|     Julie|Female|10/26/1997|        3:19 PM|102508| 12.637|             true|               Legal|\n",
            "|   Brandon|  Male| 12/1/1980|        1:08 AM|112807| 17.492|             true|     Human Resources|\n",
            "|      Gary|  Male| 1/27/2008|       11:40 PM|109831|  5.831|            false|               Sales|\n",
            "|  Kimberly|Female| 1/14/1999|        7:13 AM| 41426| 14.543|             true|             Finance|\n",
            "|   Lillian|Female|  6/5/2016|        6:09 AM| 59414|  1.256|            false|             Product|\n",
            "|    Jeremy|  Male| 9/21/2010|        5:56 AM| 90370|  7.369|            false|     Human Resources|\n",
            "|     Shawn|  Male| 12/7/1986|        7:45 PM|111737|  6.414|            false|             Product|\n",
            "|     Diana|Female|10/23/1981|       10:27 AM|132940| 19.082|            false|     Client Services|\n",
            "|     Donna|Female| 7/22/2010|        3:48 AM| 81014|  1.894|            false|             Product|\n",
            "|      Lois|  null| 4/22/1995|        7:18 PM| 64714|  4.934|             true|               Legal|\n",
            "|   Matthew|  Male|  9/5/1995|        2:12 AM|100612| 13.645|            false|           Marketing|\n",
            "|    Joshua|  null|  3/8/2012|        1:58 AM| 90816| 18.816|             true|     Client Services|\n",
            "|      null|  Male| 6/14/2012|        4:19 PM|125792|  5.042|             null|                null|\n",
            "|      John|  Male|  7/1/1992|       10:08 PM| 97950| 13.873|            false|     Client Services|\n",
            "|      null|  Male| 10/8/2012|        1:12 AM| 37076| 18.576|             null|     Client Services|\n",
            "|     Craig|  Male| 2/27/2000|        7:45 AM| 37598|  7.757|             true|           Marketing|\n",
            "|     Scott|  null| 7/11/1991|        6:58 PM|122367|  5.218|            false|               Legal|\n",
            "|     Terry|  Male|11/27/1981|        6:30 PM|124008| 13.464|             true|     Client Services|\n",
            "|  Benjamin|  Male| 1/26/2005|       10:06 PM| 79529|  7.008|             true|               Legal|\n",
            "| Christina|Female|  8/6/2002|        1:19 PM|118780|  9.096|             true|         Engineering|\n",
            "|     Joyce|  null| 2/20/2005|        2:40 PM| 88657| 12.752|            false|             Product|\n",
            "|      null|  Male| 8/21/1998|        2:27 PM|122340|  6.417|             null|                null|\n",
            "|      Jean|Female|12/18/1993|        9:07 AM|119082|  16.18|            false|Business Development|\n",
            "|     Jerry|  Male| 1/10/2004|       12:56 PM| 95734| 19.096|            false|     Client Services|\n",
            "|   Theresa|Female|10/10/2006|        1:12 AM| 85182| 16.675|            false|               Sales|\n",
            "|    Rachel|Female| 2/16/2009|        8:47 PM|142032| 12.599|            false|Business Development|\n",
            "|     Linda|Female|10/19/1981|        8:49 PM| 57427|  9.557|             true|     Client Services|\n",
            "| Stephanie|Female| 9/13/1986|        1:52 AM| 36844|  5.574|             true|Business Development|\n",
            "|      null|  Male| 1/29/2016|        2:33 AM|122173|  7.797|             null|     Client Services|\n",
            "|   Michael|  Male|10/10/2008|       11:25 AM| 99283|  2.665|             true|        Distribution|\n",
            "| Christine|  null| 6/28/2015|        1:08 AM| 66582| 11.308|             true|Business Development|\n",
            "|   Beverly|Female|  9/9/1998|        8:26 PM|121918| 15.835|            false|               Legal|\n",
            "|   Marilyn|Female| 12/7/1980|        3:16 AM| 73524|  5.207|             true|           Marketing|\n",
            "|   Cynthia|Female|11/16/1988|        6:54 PM|145146|  7.482|             true|             Product|\n",
            "|     Roger|  Male| 4/17/1980|       11:32 AM| 88010| 13.886|             true|               Sales|\n",
            "|     Bruce|  Male|11/28/2009|       10:47 PM|114796|  6.796|            false|             Finance|\n",
            "|     Kathy|Female| 6/22/2005|        4:51 AM| 66820|    9.0|             true|     Client Services|\n",
            "|  Clarence|  Male| 3/26/1996|        5:57 AM| 93581|  6.083|             true|Business Development|\n",
            "|     Chris|  null| 1/24/1980|       12:13 PM|113590|  3.055|            false|               Sales|\n",
            "+----------+------+----------+---------------+------+-------+-----------------+--------------------+\n",
            "only showing top 50 rows\n",
            "\n"
          ],
          "name": "stdout"
        }
      ]
    },
    {
      "cell_type": "markdown",
      "metadata": {
        "id": "glKNj-o5yKoU",
        "colab_type": "text"
      },
      "source": [
        "**Drop rows which has null values**"
      ]
    },
    {
      "cell_type": "code",
      "metadata": {
        "id": "go28wfxcvCog",
        "colab_type": "code",
        "colab": {
          "base_uri": "https://localhost:8080/",
          "height": 490
        },
        "outputId": "4914c62f-c6ff-4474-b4e7-7b327086baae"
      },
      "source": [
        "\n",
        "#df.filter(df.col_X.isNotNull())\n",
        "#df.select([count(when(isnull(c), c)).alias(c) for c in df.columns]).show()\n",
        "df5.na.drop(subset=[i for i in df5.columns]).show()"
      ],
      "execution_count": 71,
      "outputs": [
        {
          "output_type": "stream",
          "text": [
            "+----------+------+----------+---------------+------+-------+-----------------+--------------------+\n",
            "|First Name|Gender|Start Date|Last Login Time|Salary|Bonus %|Senior Management|                Team|\n",
            "+----------+------+----------+---------------+------+-------+-----------------+--------------------+\n",
            "|   Douglas|  Male|  8/6/1993|       12:42 PM| 97308|  6.945|             true|           Marketing|\n",
            "|     Maria|Female| 4/23/1993|       11:17 AM|130590| 11.858|            false|             Finance|\n",
            "|     Jerry|  Male|  3/4/2005|        1:00 PM|138705|   9.34|             true|             Finance|\n",
            "|     Larry|  Male| 1/24/1998|        4:47 PM|101004|  1.389|             true|     Client Services|\n",
            "|    Dennis|  Male| 4/18/1987|        1:35 AM|115163| 10.125|            false|               Legal|\n",
            "|      Ruby|Female| 8/17/1987|        4:20 PM| 65476| 10.012|             true|             Product|\n",
            "|    Angela|Female|11/22/2005|        6:29 AM| 95570| 18.523|             true|         Engineering|\n",
            "|   Frances|Female|  8/8/2002|        6:51 AM|139852|  7.524|             true|Business Development|\n",
            "|     Julie|Female|10/26/1997|        3:19 PM|102508| 12.637|             true|               Legal|\n",
            "|   Brandon|  Male| 12/1/1980|        1:08 AM|112807| 17.492|             true|     Human Resources|\n",
            "|      Gary|  Male| 1/27/2008|       11:40 PM|109831|  5.831|            false|               Sales|\n",
            "|  Kimberly|Female| 1/14/1999|        7:13 AM| 41426| 14.543|             true|             Finance|\n",
            "|   Lillian|Female|  6/5/2016|        6:09 AM| 59414|  1.256|            false|             Product|\n",
            "|    Jeremy|  Male| 9/21/2010|        5:56 AM| 90370|  7.369|            false|     Human Resources|\n",
            "|     Shawn|  Male| 12/7/1986|        7:45 PM|111737|  6.414|            false|             Product|\n",
            "|     Diana|Female|10/23/1981|       10:27 AM|132940| 19.082|            false|     Client Services|\n",
            "|     Donna|Female| 7/22/2010|        3:48 AM| 81014|  1.894|            false|             Product|\n",
            "|   Matthew|  Male|  9/5/1995|        2:12 AM|100612| 13.645|            false|           Marketing|\n",
            "|      John|  Male|  7/1/1992|       10:08 PM| 97950| 13.873|            false|     Client Services|\n",
            "|     Craig|  Male| 2/27/2000|        7:45 AM| 37598|  7.757|             true|           Marketing|\n",
            "+----------+------+----------+---------------+------+-------+-----------------+--------------------+\n",
            "only showing top 20 rows\n",
            "\n"
          ],
          "name": "stdout"
        }
      ]
    },
    {
      "cell_type": "markdown",
      "metadata": {
        "id": "GznfHJPDzA1W",
        "colab_type": "text"
      },
      "source": [
        "**Drop rows if particular colummn has got null values**"
      ]
    },
    {
      "cell_type": "code",
      "metadata": {
        "id": "nPIW0jopxUGU",
        "colab_type": "code",
        "colab": {
          "base_uri": "https://localhost:8080/",
          "height": 490
        },
        "outputId": "359190d5-3160-4acf-9679-8893b3be772f"
      },
      "source": [
        "df5.na.drop(subset=[\"Team\"]).show()"
      ],
      "execution_count": 73,
      "outputs": [
        {
          "output_type": "stream",
          "text": [
            "+----------+------+----------+---------------+------+-------+-----------------+--------------------+\n",
            "|First Name|Gender|Start Date|Last Login Time|Salary|Bonus %|Senior Management|                Team|\n",
            "+----------+------+----------+---------------+------+-------+-----------------+--------------------+\n",
            "|   Douglas|  Male|  8/6/1993|       12:42 PM| 97308|  6.945|             true|           Marketing|\n",
            "|     Maria|Female| 4/23/1993|       11:17 AM|130590| 11.858|            false|             Finance|\n",
            "|     Jerry|  Male|  3/4/2005|        1:00 PM|138705|   9.34|             true|             Finance|\n",
            "|     Larry|  Male| 1/24/1998|        4:47 PM|101004|  1.389|             true|     Client Services|\n",
            "|    Dennis|  Male| 4/18/1987|        1:35 AM|115163| 10.125|            false|               Legal|\n",
            "|      Ruby|Female| 8/17/1987|        4:20 PM| 65476| 10.012|             true|             Product|\n",
            "|      null|Female| 7/20/2015|       10:43 AM| 45906| 11.598|             null|             Finance|\n",
            "|    Angela|Female|11/22/2005|        6:29 AM| 95570| 18.523|             true|         Engineering|\n",
            "|   Frances|Female|  8/8/2002|        6:51 AM|139852|  7.524|             true|Business Development|\n",
            "|     Julie|Female|10/26/1997|        3:19 PM|102508| 12.637|             true|               Legal|\n",
            "|   Brandon|  Male| 12/1/1980|        1:08 AM|112807| 17.492|             true|     Human Resources|\n",
            "|      Gary|  Male| 1/27/2008|       11:40 PM|109831|  5.831|            false|               Sales|\n",
            "|  Kimberly|Female| 1/14/1999|        7:13 AM| 41426| 14.543|             true|             Finance|\n",
            "|   Lillian|Female|  6/5/2016|        6:09 AM| 59414|  1.256|            false|             Product|\n",
            "|    Jeremy|  Male| 9/21/2010|        5:56 AM| 90370|  7.369|            false|     Human Resources|\n",
            "|     Shawn|  Male| 12/7/1986|        7:45 PM|111737|  6.414|            false|             Product|\n",
            "|     Diana|Female|10/23/1981|       10:27 AM|132940| 19.082|            false|     Client Services|\n",
            "|     Donna|Female| 7/22/2010|        3:48 AM| 81014|  1.894|            false|             Product|\n",
            "|      Lois|  null| 4/22/1995|        7:18 PM| 64714|  4.934|             true|               Legal|\n",
            "|   Matthew|  Male|  9/5/1995|        2:12 AM|100612| 13.645|            false|           Marketing|\n",
            "+----------+------+----------+---------------+------+-------+-----------------+--------------------+\n",
            "only showing top 20 rows\n",
            "\n"
          ],
          "name": "stdout"
        }
      ]
    },
    {
      "cell_type": "code",
      "metadata": {
        "id": "mC5Cv90Zylq4",
        "colab_type": "code",
        "colab": {}
      },
      "source": [
        "df5.na.drop(subset=[\"Team\"])"
      ],
      "execution_count": 0,
      "outputs": []
    }
  ]
}